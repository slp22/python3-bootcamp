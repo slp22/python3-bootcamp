{
 "cells": [
  {
   "cell_type": "markdown",
   "id": "0d2fe04f",
   "metadata": {},
   "source": [
    "# https://www.hackerrank.com/domains/python?filters%5Bsubdomains%5D%5B%5D=py-basic-data-types"
   ]
  },
  {
   "cell_type": "markdown",
   "id": "e6ecb4a2",
   "metadata": {},
   "source": [
    "https://www.hackerrank.com/challenges/python-print/problem?isFullScreen=true\n"
   ]
  },
  {
   "cell_type": "code",
   "execution_count": null,
   "id": "46a0b63d",
   "metadata": {},
   "outputs": [],
   "source": [
    "\n",
    "# # n=5\n",
    "n=3\n",
    "# nums = ''\n",
    "\n",
    "# for n in range(1,n+1):\n",
    "#     nums += str(n)\n",
    "# print(nums)\n",
    "\n",
    "from __future__ import print_function\n",
    "N = int(input())\n",
    "print(*range(1,N+1), sep='')"
   ]
  },
  {
   "cell_type": "markdown",
   "id": "59e05524",
   "metadata": {},
   "source": [
    "https://www.hackerrank.com/challenges/find-second-maximum-number-in-a-list/problem?isFullScreen=true"
   ]
  },
  {
   "cell_type": "code",
   "execution_count": null,
   "id": "6b097f2d",
   "metadata": {},
   "outputs": [],
   "source": [
    "n = int(input())\n",
    "arr = map(int, input().split())"
   ]
  },
  {
   "cell_type": "code",
   "execution_count": null,
   "id": "47b45464",
   "metadata": {},
   "outputs": [],
   "source": [
    "score_list = list(arr)"
   ]
  },
  {
   "cell_type": "code",
   "execution_count": null,
   "id": "a9646b6f",
   "metadata": {},
   "outputs": [],
   "source": [
    "score_list"
   ]
  },
  {
   "cell_type": "code",
   "execution_count": null,
   "id": "6edfc8ed",
   "metadata": {},
   "outputs": [],
   "source": [
    "sorted_score_list = sorted(score_list)\n",
    "sorted_score_list"
   ]
  },
  {
   "cell_type": "code",
   "execution_count": null,
   "id": "f652a97d",
   "metadata": {},
   "outputs": [],
   "source": [
    "max_score = max(sorted_score_list)\n",
    "max_index = sorted_score_list.index(max_score)\n",
    "max_index"
   ]
  },
  {
   "cell_type": "code",
   "execution_count": null,
   "id": "6dc05d7e",
   "metadata": {},
   "outputs": [],
   "source": [
    "print(sorted_score_list[max_index-1])"
   ]
  },
  {
   "cell_type": "markdown",
   "id": "9efd5645",
   "metadata": {},
   "source": [
    "https://www.hackerrank.com/challenges/finding-the-percentage/problem?isFullScreen=true"
   ]
  },
  {
   "cell_type": "code",
   "execution_count": null,
   "id": "e3c27fbd",
   "metadata": {},
   "outputs": [],
   "source": [
    "# attempt 1\n",
    "# if __name__ == '__main__':\n",
    "#     n = int(input())\n",
    "#     student_marks = {}\n",
    "#     for _ in range(n):\n",
    "#         name, *line = input().split()\n",
    "#         scores = list(map(float, line))\n",
    "#         student_marks[name] = scores\n",
    "#     query_name = input()"
   ]
  },
  {
   "cell_type": "code",
   "execution_count": null,
   "id": "eea2a330",
   "metadata": {},
   "outputs": [],
   "source": [
    "# Print the average of the marks array for the student name provided, \n",
    "# showing 2 places after the decimal.\n",
    "# expected output 56.00 "
   ]
  },
  {
   "cell_type": "code",
   "execution_count": null,
   "id": "a10c51b7",
   "metadata": {},
   "outputs": [],
   "source": [
    "type(scores)"
   ]
  },
  {
   "cell_type": "code",
   "execution_count": null,
   "id": "48467c23",
   "metadata": {},
   "outputs": [],
   "source": [
    "avg_malika = (sum(scores)/len(scores))\n",
    "print('%.2f'%avg_malika)\n"
   ]
  },
  {
   "cell_type": "code",
   "execution_count": null,
   "id": "83d50ff7",
   "metadata": {},
   "outputs": [],
   "source": [
    "# attempt 2\n",
    "\n",
    "if __name__ == '__main__':\n",
    "    n = int(input())\n",
    "    student_marks = {}\n",
    "    for _ in range(n):\n",
    "        name, *line = input().split()\n",
    "        scores = list(map(float, line))\n",
    "        student_marks[name] = scores\n",
    "    query_name = input()\n",
    "\n",
    "# expected output 26.50"
   ]
  },
  {
   "cell_type": "code",
   "execution_count": null,
   "id": "4542fda2",
   "metadata": {},
   "outputs": [],
   "source": [
    "student_marks[name] # doesn't query right name"
   ]
  },
  {
   "cell_type": "code",
   "execution_count": null,
   "id": "95f2097b",
   "metadata": {},
   "outputs": [],
   "source": [
    "student_marks[query_name] #confirm querying the right name"
   ]
  },
  {
   "cell_type": "code",
   "execution_count": null,
   "id": "3c0f9ee6",
   "metadata": {
    "scrolled": true
   },
   "outputs": [],
   "source": [
    "avg_query_name = (sum(student_marks[query_name])/\n",
    "                  len(student_marks[query_name]))\n",
    "print('%.2f'%avg_query_name)"
   ]
  },
  {
   "cell_type": "markdown",
   "id": "ab8be4b4",
   "metadata": {},
   "source": [
    "https://www.hackerrank.com/challenges/python-lists/problem?isFullScreen=true"
   ]
  },
  {
   "cell_type": "code",
   "execution_count": null,
   "id": "6c3ba597",
   "metadata": {},
   "outputs": [],
   "source": [
    "if __name__ == '__main__':\n",
    "    N = int(input())\n",
    "    arr = list()\n",
    "    for _ in range(N):\n",
    "        command = list(input().split())\n",
    "\n",
    "        if command[0] == 'append':\n",
    "            arr.append(int(command[1]))\n",
    "        elif command[0] == 'insert':\n",
    "            arr.insert(int(command[1]), int(command[2]))\n",
    "        elif command[0] == 'remove':\n",
    "            arr.remove(int(command[1]))\n",
    "        elif command[0] == 'sort':\n",
    "            arr.sort()\n",
    "        elif command[0] == 'pop':\n",
    "            arr.pop()\n",
    "        elif command[0] == 'reverse':\n",
    "            arr.reverse()\n",
    "        elif command[0] == 'print':\n",
    "            print(arr)\n"
   ]
  },
  {
   "cell_type": "markdown",
   "id": "043f2997",
   "metadata": {},
   "source": [
    "https://www.hackerrank.com/challenges/python-tuples/problem?isFullScreen=true"
   ]
  },
  {
   "cell_type": "code",
   "execution_count": 1,
   "id": "c196bdf8",
   "metadata": {},
   "outputs": [
    {
     "name": "stdout",
     "output_type": "stream",
     "text": [
      "2\n",
      "1 2\n",
      "-3550055125485641917\n"
     ]
    }
   ],
   "source": [
    "if __name__ == '__main__':\n",
    "    n = int(input())\n",
    "    integer_list = map(int, input().split())\n",
    "    t = tuple(integer_list)\n",
    "    print(hash(t))"
   ]
  },
  {
   "cell_type": "code",
   "execution_count": null,
   "id": "6adfb3c1",
   "metadata": {},
   "outputs": [],
   "source": [
    "# 2\n",
    "# 1 2"
   ]
  },
  {
   "cell_type": "markdown",
   "id": "049858f1",
   "metadata": {},
   "source": [
    "https://www.hackerrank.com/challenges/nested-list/problem?isFullScreen=true"
   ]
  },
  {
   "cell_type": "code",
   "execution_count": 140,
   "id": "6d8451e5",
   "metadata": {},
   "outputs": [
    {
     "name": "stdout",
     "output_type": "stream",
     "text": [
      "5\n",
      "Akriti\n",
      "41\n",
      "Harsh\n",
      "39\n",
      "Tina\n",
      "37.2\n",
      "Berry\n",
      "37.21\n",
      "Harry\n",
      "37.21\n",
      "winner is Akriti\n",
      "winner is Berry\n"
     ]
    }
   ],
   "source": [
    "if __name__ == '__main__':\n",
    "    n = int(input())\n",
    "    nested_list = []\n",
    "    for _ in range(n):\n",
    "        name = input()\n",
    "        score = float(input())\n",
    "        nested_list.append([name, score])\n",
    "        n = 5\n",
    "    highest = 0\n",
    "    for m in range(n):\n",
    "        if nested_list[m][1] > nested_list[m-1][1]:\n",
    "            print('winner is', nested_list[m][0])"
   ]
  },
  {
   "cell_type": "code",
   "execution_count": 141,
   "id": "2ce2b830",
   "metadata": {},
   "outputs": [
    {
     "data": {
      "text/plain": [
       "[['Akriti', 41.0],\n",
       " ['Harsh', 39.0],\n",
       " ['Tina', 37.2],\n",
       " ['Berry', 37.21],\n",
       " ['Harry', 37.21]]"
      ]
     },
     "execution_count": 141,
     "metadata": {},
     "output_type": "execute_result"
    }
   ],
   "source": [
    "nested_list"
   ]
  },
  {
   "cell_type": "code",
   "execution_count": 150,
   "id": "7f4fda78",
   "metadata": {},
   "outputs": [
    {
     "name": "stdout",
     "output_type": "stream",
     "text": [
      "highest score 41.0\n",
      "winner is 0 Akriti 41.0\n",
      "highest score 39.0\n",
      "highest score 37.2\n",
      "highest score 37.21\n",
      "winner is 3 Berry 37.21\n",
      "highest score 37.21\n"
     ]
    }
   ],
   "source": [
    "n = 5\n",
    "highest = 0\n",
    "\n",
    "for m in range(n):\n",
    "    print('highest score', nested_list[m][1])\n",
    "    if nested_list[m][1] > nested_list[m-1][1]:\n",
    "        print('winner is', m, nested_list[m][0], nested_list[m][1])\n",
    "#         print(nested_list[m][0])"
   ]
  },
  {
   "cell_type": "markdown",
   "id": "2446bdda",
   "metadata": {},
   "source": [
    "# 🔖🔖🔖🔖🔖🔖🔖🔖🔖🔖"
   ]
  },
  {
   "cell_type": "code",
   "execution_count": null,
   "id": "695d6485",
   "metadata": {},
   "outputs": [],
   "source": []
  }
 ],
 "metadata": {
  "kernelspec": {
   "display_name": "Python 3 (ipykernel)",
   "language": "python",
   "name": "python3"
  },
  "language_info": {
   "codemirror_mode": {
    "name": "ipython",
    "version": 3
   },
   "file_extension": ".py",
   "mimetype": "text/x-python",
   "name": "python",
   "nbconvert_exporter": "python",
   "pygments_lexer": "ipython3",
   "version": "3.8.12"
  }
 },
 "nbformat": 4,
 "nbformat_minor": 5
}

{
 "cells": [
  {
   "cell_type": "markdown",
   "id": "0d2fe04f",
   "metadata": {},
   "source": [
    "# https://www.hackerrank.com/domains/python?filters%5Bsubdomains%5D%5B%5D=py-basic-data-types"
   ]
  },
  {
   "cell_type": "markdown",
   "id": "e6ecb4a2",
   "metadata": {},
   "source": [
    "https://www.hackerrank.com/challenges/python-print/problem?isFullScreen=true\n"
   ]
  },
  {
   "cell_type": "code",
   "execution_count": null,
   "id": "46a0b63d",
   "metadata": {},
   "outputs": [],
   "source": [
    "\n",
    "# # n=5\n",
    "n=3\n",
    "# nums = ''\n",
    "\n",
    "# for n in range(1,n+1):\n",
    "#     nums += str(n)\n",
    "# print(nums)\n",
    "\n",
    "from __future__ import print_function\n",
    "N = int(input())\n",
    "print(*range(1,N+1), sep='')"
   ]
  },
  {
   "cell_type": "markdown",
   "id": "59e05524",
   "metadata": {},
   "source": [
    "https://www.hackerrank.com/challenges/find-second-maximum-number-in-a-list/problem?isFullScreen=true"
   ]
  },
  {
   "cell_type": "code",
   "execution_count": null,
   "id": "6b097f2d",
   "metadata": {},
   "outputs": [],
   "source": [
    "n = int(input())\n",
    "arr = map(int, input().split())"
   ]
  },
  {
   "cell_type": "code",
   "execution_count": null,
   "id": "47b45464",
   "metadata": {},
   "outputs": [],
   "source": [
    "score_list = list(arr)"
   ]
  },
  {
   "cell_type": "code",
   "execution_count": null,
   "id": "a9646b6f",
   "metadata": {},
   "outputs": [],
   "source": [
    "score_list"
   ]
  },
  {
   "cell_type": "code",
   "execution_count": null,
   "id": "6edfc8ed",
   "metadata": {},
   "outputs": [],
   "source": [
    "sorted_score_list = sorted(score_list)\n",
    "sorted_score_list"
   ]
  },
  {
   "cell_type": "code",
   "execution_count": null,
   "id": "f652a97d",
   "metadata": {},
   "outputs": [],
   "source": [
    "max_score = max(sorted_score_list)\n",
    "max_index = sorted_score_list.index(max_score)\n",
    "max_index"
   ]
  },
  {
   "cell_type": "code",
   "execution_count": null,
   "id": "6dc05d7e",
   "metadata": {},
   "outputs": [],
   "source": [
    "print(sorted_score_list[max_index-1])"
   ]
  },
  {
   "cell_type": "markdown",
   "id": "9efd5645",
   "metadata": {},
   "source": [
    "https://www.hackerrank.com/challenges/finding-the-percentage/problem?isFullScreen=true"
   ]
  },
  {
   "cell_type": "code",
   "execution_count": null,
   "id": "e3c27fbd",
   "metadata": {},
   "outputs": [],
   "source": [
    "# attempt 1\n",
    "# if __name__ == '__main__':\n",
    "#     n = int(input())\n",
    "#     student_marks = {}\n",
    "#     for _ in range(n):\n",
    "#         name, *line = input().split()\n",
    "#         scores = list(map(float, line))\n",
    "#         student_marks[name] = scores\n",
    "#     query_name = input()"
   ]
  },
  {
   "cell_type": "code",
   "execution_count": null,
   "id": "eea2a330",
   "metadata": {},
   "outputs": [],
   "source": [
    "# Print the average of the marks array for the student name provided, \n",
    "# showing 2 places after the decimal.\n",
    "# expected output 56.00 "
   ]
  },
  {
   "cell_type": "code",
   "execution_count": null,
   "id": "a10c51b7",
   "metadata": {},
   "outputs": [],
   "source": [
    "type(scores)"
   ]
  },
  {
   "cell_type": "code",
   "execution_count": null,
   "id": "48467c23",
   "metadata": {},
   "outputs": [],
   "source": [
    "avg_malika = (sum(scores)/len(scores))\n",
    "print('%.2f'%avg_malika)\n"
   ]
  },
  {
   "cell_type": "code",
   "execution_count": null,
   "id": "83d50ff7",
   "metadata": {},
   "outputs": [],
   "source": [
    "# attempt 2\n",
    "\n",
    "if __name__ == '__main__':\n",
    "    n = int(input())\n",
    "    student_marks = {}\n",
    "    for _ in range(n):\n",
    "        name, *line = input().split()\n",
    "        scores = list(map(float, line))\n",
    "        student_marks[name] = scores\n",
    "    query_name = input()\n",
    "\n",
    "# expected output 26.50"
   ]
  },
  {
   "cell_type": "code",
   "execution_count": null,
   "id": "4542fda2",
   "metadata": {},
   "outputs": [],
   "source": [
    "student_marks[name] # doesn't query right name"
   ]
  },
  {
   "cell_type": "code",
   "execution_count": null,
   "id": "95f2097b",
   "metadata": {},
   "outputs": [],
   "source": [
    "student_marks[query_name] #confirm querying the right name"
   ]
  },
  {
   "cell_type": "code",
   "execution_count": null,
   "id": "3c0f9ee6",
   "metadata": {
    "scrolled": true
   },
   "outputs": [],
   "source": [
    "avg_query_name = (sum(student_marks[query_name])/\n",
    "                  len(student_marks[query_name]))\n",
    "print('%.2f'%avg_query_name)"
   ]
  },
  {
   "cell_type": "markdown",
   "id": "ab8be4b4",
   "metadata": {},
   "source": [
    "https://www.hackerrank.com/challenges/python-lists/problem?isFullScreen=true"
   ]
  },
  {
   "cell_type": "code",
   "execution_count": null,
   "id": "6c3ba597",
   "metadata": {},
   "outputs": [],
   "source": [
    "if __name__ == '__main__':\n",
    "    N = int(input())\n",
    "    arr = list()\n",
    "    for _ in range(N):\n",
    "        command = list(input().split())\n",
    "\n",
    "        if command[0] == 'append':\n",
    "            arr.append(int(command[1]))\n",
    "        elif command[0] == 'insert':\n",
    "            arr.insert(int(command[1]), int(command[2]))\n",
    "        elif command[0] == 'remove':\n",
    "            arr.remove(int(command[1]))\n",
    "        elif command[0] == 'sort':\n",
    "            arr.sort()\n",
    "        elif command[0] == 'pop':\n",
    "            arr.pop()\n",
    "        elif command[0] == 'reverse':\n",
    "            arr.reverse()\n",
    "        elif command[0] == 'print':\n",
    "            print(arr)\n"
   ]
  },
  {
   "cell_type": "markdown",
   "id": "c618fc07",
   "metadata": {},
   "source": [
    "https://www.hackerrank.com/challenges/python-tuples/problem?isFullScreen=true"
   ]
  },
  {
   "cell_type": "code",
   "execution_count": 1,
   "id": "a607ba7c",
   "metadata": {},
   "outputs": [
    {
     "name": "stdout",
     "output_type": "stream",
     "text": [
      "2\n",
      "1 2\n",
      "-3550055125485641917\n"
     ]
    }
   ],
   "source": [
    "if __name__ == '__main__':\n",
    "    n = int(input())\n",
    "    integer_list = map(int, input().split())\n",
    "    t = tuple(integer_list)\n",
    "    print(hash(t))"
   ]
  },
  {
   "cell_type": "code",
   "execution_count": null,
   "id": "25502eb6",
   "metadata": {},
   "outputs": [],
   "source": [
    "# 2\n",
    "# 1 2"
   ]
  },
  {
   "cell_type": "markdown",
   "id": "2446bdda",
   "metadata": {},
   "source": [
    "# 🔖🔖🔖🔖🔖🔖🔖🔖🔖🔖"
   ]
  },
  {
   "cell_type": "markdown",
   "id": "0a2f8432",
   "metadata": {},
   "source": [
    "https://www.hackerrank.com/challenges/nested-list/problem?isFullScreen=true"
   ]
  },
  {
   "cell_type": "code",
   "execution_count": 178,
   "id": "f11723a2",
   "metadata": {},
   "outputs": [
    {
     "name": "stdout",
     "output_type": "stream",
     "text": [
      "5\n",
      "Harry\n",
      "37.21\n",
      "Akriti\n",
      "41\n",
      "Tina\n",
      "37.2\n",
      "Berry\n",
      "37.21\n",
      "Harsh\n",
      "39\n",
      "lowest is Tina\n"
     ]
    }
   ],
   "source": [
    "if __name__ == '__main__':\n",
    "    n = int(input())\n",
    "    nested_list = []\n",
    "    for _ in range(n):\n",
    "        name = input()\n",
    "        score = float(input())\n",
    "        nested_list.append([name, score])\n",
    "        nested_list.sort(key = lambda x: x[1])\n",
    "        n = 5\n",
    "#     lowest = 0\n",
    "    for m in range(n):\n",
    "        if nested_list[m][1] < nested_list[m-1][1]:\n",
    "            print('lowest is', nested_list[m][0])"
   ]
  },
  {
   "cell_type": "code",
   "execution_count": 196,
   "id": "995a6078",
   "metadata": {},
   "outputs": [
    {
     "data": {
      "text/plain": [
       "[['Akriti', 41.0],\n",
       " ['Berry', 37.21],\n",
       " ['Harry', 37.21],\n",
       " ['Harsh', 39.0],\n",
       " ['Tina', 37.2]]"
      ]
     },
     "execution_count": 196,
     "metadata": {},
     "output_type": "execute_result"
    }
   ],
   "source": [
    "nested_list"
   ]
  },
  {
   "cell_type": "code",
   "execution_count": 199,
   "id": "974521f8",
   "metadata": {},
   "outputs": [
    {
     "data": {
      "text/plain": [
       "[['Tina', 37.2],\n",
       " ['Berry', 37.21],\n",
       " ['Harry', 37.21],\n",
       " ['Harsh', 39.0],\n",
       " ['Akriti', 41.0]]"
      ]
     },
     "execution_count": 199,
     "metadata": {},
     "output_type": "execute_result"
    }
   ],
   "source": [
    "nested_list.sort(key = lambda x: x[1])\n",
    "nested_list"
   ]
  },
  {
   "cell_type": "code",
   "execution_count": 247,
   "id": "486a75a5",
   "metadata": {},
   "outputs": [
    {
     "name": "stdout",
     "output_type": "stream",
     "text": [
      "37.2\n",
      "37.21\n"
     ]
    }
   ],
   "source": [
    "n = 5\n",
    "lowest = 0\n",
    "second_lowest = 0\n",
    "\n",
    "for m in range(n):\n",
    "    if nested_list[m][1] > lowest:\n",
    "        lowest += nested_list[m][1]\n",
    "        print(nested_list[m][1])\n",
    "#         print('lowest', lowest)\n",
    "#     elif nested_list[m][1] > lowest:\n",
    "#         second_lowest += nested_list[m][1]\n",
    "#         print('second_lowest', second_lowest)\n"
   ]
  },
  {
   "cell_type": "markdown",
   "id": "ef565954",
   "metadata": {},
   "source": [
    "https://www.hackerrank.com/challenges/list-comprehensions/problem?isFullScreen=true"
   ]
  },
  {
   "cell_type": "code",
   "execution_count": null,
   "id": "4e4d0568",
   "metadata": {},
   "outputs": [],
   "source": [
    "# Given 3 integers, x y z (represent dimensions of cuboid) and an integer n\n",
    "# Print all possible coordinates given by (i,j,k) on a 3D grid where the sum = i+j+k != n\n",
    "# 0 <i< x; 0 <j<y; 0<k<z\n",
    "# Use list comprehension, not loops"
   ]
  },
  {
   "cell_type": "code",
   "execution_count": 248,
   "id": "2083bc75",
   "metadata": {},
   "outputs": [
    {
     "name": "stdout",
     "output_type": "stream",
     "text": [
      "1\n",
      "1\n",
      "1\n",
      "2\n"
     ]
    }
   ],
   "source": [
    "if __name__ == '__main__':\n",
    "    x = int(input())\n",
    "    y = int(input())\n",
    "    z = int(input())\n",
    "    n = int(input())"
   ]
  },
  {
   "cell_type": "code",
   "execution_count": null,
   "id": "40ce4f2d",
   "metadata": {},
   "outputs": [],
   "source": [
    "# input\n",
    "1\n",
    "1\n",
    "2\n",
    "3 #n\n",
    "\n",
    "# output\n",
    "# [[0,0,0], [0,0,1], [0,0,2], [0,1,0], [1,1,1], [1,0,0], [1,0,1], [1,1,0], [1,1,2]]\n",
    "# removed all permutations that summed n=3"
   ]
  },
  {
   "cell_type": "code",
   "execution_count": null,
   "id": "826c6802",
   "metadata": {},
   "outputs": [],
   "source": [
    "# input\n",
    "1\n",
    "1\n",
    "1\n",
    "2 #n\n",
    "\n",
    "# output\n",
    "# [[0, 0, 0], [0, 0, 1], [0, 1, 0], [1, 0, 0], [1, 1, 1]]\n",
    "# explanation\n",
    "# each variable x xy z has values of 0 or 1\n",
    "# all permutations of lists in the form [i,j,k] = [[0,0,0],[0,0,1], [0,1,0], ...  ]\n",
    "# remove all arrays that sum to n=2 to leave only valid permutations. "
   ]
  },
  {
   "cell_type": "code",
   "execution_count": null,
   "id": "73008263",
   "metadata": {},
   "outputs": [],
   "source": [
    "# input\n",
    "2\n",
    "2\n",
    "2\n",
    "2 #n\n",
    "\n",
    "# output\n",
    "# [[0, 0, 0], [0, 0, 1], [0, 1, 0], [0, 1, 2], [0, 2, 1], [0, 2, 2], [1, 0, 0], [1, 0, 2], [1, 1, 1], [1, 1, 2], [1, 2, 0], [1, 2, 1], [1, 2, 2], [2, 0, 1], [2, 0, 2], [2, 1, 0], [2, 1, 1], [2, 1, 2], [2, 2, 0], [2, 2, 1], [2, 2, 2]]\n"
   ]
  },
  {
   "cell_type": "code",
   "execution_count": null,
   "id": "93c8b46e",
   "metadata": {},
   "outputs": [],
   "source": []
  },
  {
   "cell_type": "code",
   "execution_count": null,
   "id": "52cb9fd2",
   "metadata": {},
   "outputs": [],
   "source": []
  },
  {
   "cell_type": "code",
   "execution_count": null,
   "id": "d3136b10",
   "metadata": {},
   "outputs": [],
   "source": []
  }
 ],
 "metadata": {
  "kernelspec": {
   "display_name": "Python 3 (ipykernel)",
   "language": "python",
   "name": "python3"
  },
  "language_info": {
   "codemirror_mode": {
    "name": "ipython",
    "version": 3
   },
   "file_extension": ".py",
   "mimetype": "text/x-python",
   "name": "python",
   "nbconvert_exporter": "python",
   "pygments_lexer": "ipython3",
   "version": "3.8.12"
  }
 },
 "nbformat": 4,
 "nbformat_minor": 5
}

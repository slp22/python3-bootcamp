{
 "cells": [
  {
   "cell_type": "markdown",
   "id": "77bbe132",
   "metadata": {},
   "source": [
    "# [CodingBat code practice](https://codingbat.com/python)"
   ]
  },
  {
   "cell_type": "code",
   "execution_count": null,
   "id": "039666ef",
   "metadata": {},
   "outputs": [],
   "source": [
    "#https://codingbat.com/prob/p129981\n",
    "\n",
    "def make_out_word(out, word):\n",
    "    l_out = len(out)/2 #2\n",
    "    l_word = out[:int(l_out):]\n",
    "    l_word_2 = out[int(l_out)::]\n",
    "    word = l_word + word + l_word_2\n",
    "    return word "
   ]
  },
  {
   "cell_type": "code",
   "execution_count": null,
   "id": "6bc9a557",
   "metadata": {},
   "outputs": [],
   "source": [
    "make_out_word('booo', 'hello')"
   ]
  },
  {
   "cell_type": "code",
   "execution_count": null,
   "id": "858b4fd6",
   "metadata": {},
   "outputs": [],
   "source": [
    "# https://codingbat.com/prob/p194053\n",
    "# Given 2 strings, a and b, return a string of the form short+long+short, \n",
    "# with the shorter string on the outside and the longer string on the inside. \n",
    "# The strings will not be the same length, but they may be empty (length 0).\n",
    "\n",
    "def combo_string(a, b):\n",
    "    len_a, len_b = len(a), len(b)\n",
    "    if len_a < len_b:\n",
    "        return a + b + a\n",
    "    else:\n",
    "        return b + a + b"
   ]
  },
  {
   "cell_type": "code",
   "execution_count": null,
   "id": "581ef5cd",
   "metadata": {},
   "outputs": [],
   "source": [
    "combo_string('Hello', 'hi')"
   ]
  },
  {
   "cell_type": "code",
   "execution_count": null,
   "id": "ecc4539a",
   "metadata": {},
   "outputs": [],
   "source": [
    "# https://codingbat.com/prob/p160545\n",
    "# Given a string, return a \"rotated left 2\" version \n",
    "# where the first 2 chars are moved to the end. \n",
    "# The string length will be at least 2.\n",
    "\n",
    "def left2(stg):\n",
    "    left = stg[:2:]\n",
    "#     print('left', left)\n",
    "    stg = stg[2::]\n",
    "#     print('stg', stg)\n",
    "    return stg + left"
   ]
  },
  {
   "cell_type": "code",
   "execution_count": null,
   "id": "0929017a",
   "metadata": {},
   "outputs": [],
   "source": [
    "print(left2('Hello'))\n",
    "print(left2('java'))"
   ]
  },
  {
   "cell_type": "code",
   "execution_count": null,
   "id": "e29ebed3",
   "metadata": {},
   "outputs": [],
   "source": [
    "# https://codingbat.com/prob/p195669\n",
    "\n",
    "# When squirrels get together for a party, they like to have cigars. \n",
    "# A squirrel party is successful when the number of cigars is between 40 and 60, inclusive. \n",
    "# Unless it is the weekend, in which case there is no upper bound on the number of cigars. \n",
    "# Return True if the party with the given values is successful, or False otherwise.\n",
    "\n",
    "def cigar_party(cigars, is_weekend):\n",
    "    if is_weekend == True:\n",
    "        if cigars >= 40:\n",
    "            return True\n",
    "        else:\n",
    "            return False\n",
    "    if is_weekend == False:\n",
    "        if cigars >= 40 and cigars <= 60:\n",
    "            return True\n",
    "        else:\n",
    "            return False"
   ]
  },
  {
   "cell_type": "code",
   "execution_count": null,
   "id": "f156427a",
   "metadata": {},
   "outputs": [],
   "source": [
    "print(cigar_party(30, False)) # expect False\n",
    "print(cigar_party(50, False)) # expect True\n",
    "print(cigar_party(60, False)) # expect True"
   ]
  },
  {
   "cell_type": "code",
   "execution_count": null,
   "id": "a84844f7",
   "metadata": {},
   "outputs": [],
   "source": [
    "# Logic-1 > date_fashion\n",
    "# https://codingbat.com/prob/p129125\n",
    "\n",
    "# You and your date are trying to get a table at a restaurant. \n",
    "# The parameter \"you\" is the stylishness of your clothes, in the range 0..10, and \n",
    "# \"date\" is the stylishness of your date's clothes. \n",
    "# The result getting the table is encoded as an int value with 0=no, 1=maybe, 2=yes. \n",
    "# If either of you is very stylish, 8 or more, then the result is 2 (yes). \n",
    "# With the exception that if either of you has style of 2 or less, then the result is 0 (no). \n",
    "# Otherwise the result is 1 (maybe).\n",
    "\n",
    "# you & date range(0,10)\n",
    "# if you = date <= 2 > then 0\n",
    "#  result:  0 = no, 1 = maybe, 2 = yes\n",
    "# if you or date >= 8 > then 2\n",
    "\n",
    "def date_fashion(you, date):\n",
    "    if you <= 2 or date <=2:\n",
    "        return(0)\n",
    "    elif you >= 8 or date >= 8:\n",
    "        return(2)\n",
    "    else:\n",
    "        return(1)"
   ]
  },
  {
   "cell_type": "code",
   "execution_count": null,
   "id": "4462ab0f",
   "metadata": {},
   "outputs": [],
   "source": [
    "print(date_fashion(5, 10))\n",
    "print(date_fashion(5, 2))\n",
    "print(date_fashion(5, 5))"
   ]
  },
  {
   "cell_type": "code",
   "execution_count": null,
   "id": "502d2c96",
   "metadata": {},
   "outputs": [],
   "source": [
    "# Logic-1 > squirrel_play\n",
    "# https://codingbat.com/prob/p135815\n",
    "\n",
    "# def squirrel_play(temp, is_summer):\n",
    "#     if is_summer == False:\n",
    "#         if temp >= 60 and temp <= 90:\n",
    "#             return True\n",
    "#         else:\n",
    "#             return False\n",
    "#     if is_summer == True:\n",
    "#         if temp >= 60 and temp <= 100:\n",
    "#             return True\n",
    "#         else:\n",
    "#             return False\n",
    "        \n",
    "def squirrel_play(temp, is_summer):\n",
    "    upper_limit = 100 if is_summer else 90\n",
    "    if temp >= 60 and temp <= upper_limit:\n",
    "            return True\n",
    "    else:\n",
    "        return False"
   ]
  },
  {
   "cell_type": "code",
   "execution_count": null,
   "id": "8e639322",
   "metadata": {},
   "outputs": [],
   "source": [
    "print(squirrel_play(70, False)) # expect True\n",
    "print(squirrel_play(95, False)) # expect False\n",
    "print(squirrel_play(95, True))  # expect True"
   ]
  },
  {
   "cell_type": "code",
   "execution_count": null,
   "id": "12495c62",
   "metadata": {},
   "outputs": [],
   "source": [
    "# Logic-1 > caught_speeding\n",
    "# https://codingbat.com/prob/p137202\n",
    "\n",
    "#You are driving a little too fast, and a police officer stops you. \n",
    "# Write code to compute the result, encoded as an int value: \n",
    "# 0=no ticket, 1=small ticket, 2=big ticket. \n",
    "# If speed is 60 or less, the result is 0. \n",
    "# If speed is between 61 and 80 inclusive, the result is 1. \n",
    "# If speed is 81 or more, the result is 2. \n",
    "# Unless it is your birthday -- on that day, your speed can be 5 higher in all cases.\n",
    "\n",
    "def caught_speeding(speed, is_birthday):\n",
    "# 0=no ticket, 1=small ticket, 2=big ticket. \n",
    "    if is_birthday == False:\n",
    "        if speed <= 60:\n",
    "            return 0\n",
    "        elif speed >= 61 and speed <= 81:\n",
    "            return 1\n",
    "        elif speed >= 81:\n",
    "            return 2\n",
    "    if is_birthday == True:\n",
    "        if speed <= 65:\n",
    "            return 0\n",
    "        elif speed >= 65 and speed <= 86:\n",
    "            return 1\n",
    "        elif speed >= 86:\n",
    "            return 2"
   ]
  },
  {
   "cell_type": "code",
   "execution_count": null,
   "id": "a72b1a85",
   "metadata": {},
   "outputs": [],
   "source": [
    "print(caught_speeding(60, False)) # → 0\n",
    "print(caught_speeding(65, False)) # → 1\n",
    "print(caught_speeding(65, True)) # → 0"
   ]
  },
  {
   "cell_type": "code",
   "execution_count": null,
   "id": "66689067",
   "metadata": {},
   "outputs": [],
   "source": [
    "# Logic-1 > sorta_sum\n",
    "# https://codingbat.com/prob/p116620\n",
    "\n",
    "# Given 2 ints, a and b, return their sum. \n",
    "# However, sums in the range 10..19 inclusive, are forbidden, so in that case just return 20.\n",
    "\n",
    "def sorta_sum(a, b):\n",
    "    f_sum = a + b\n",
    "    if 10 <= f_sum <= 20:\n",
    "        return 20\n",
    "    else:\n",
    "        return f_sum"
   ]
  },
  {
   "cell_type": "code",
   "execution_count": null,
   "id": "6cee5e94",
   "metadata": {},
   "outputs": [],
   "source": [
    "print(sorta_sum(3, 4)) # → 7\n",
    "print(sorta_sum(9, 4)) # → 20\n",
    "print(sorta_sum(10, 11)) # → 21"
   ]
  },
  {
   "cell_type": "code",
   "execution_count": null,
   "id": "1e13ebe3",
   "metadata": {},
   "outputs": [],
   "source": [
    "# Logic-1 > alarm_clock\n",
    "# https://codingbat.com/prob/p119867\n",
    "\n",
    "# Given a day of the week encoded as 0=Sun, 1=Mon, 2=Tue, ...6=Sat, and a \n",
    "# boolean indicating if we are on vacation, \n",
    "# return a string of the form \"7:00\" indicating when the alarm clock should ring. \n",
    "\n",
    "# Weekdays, the alarm should be \"7:00\" and on the weekend it should be \"10:00\". \n",
    "\n",
    "# Unless we are on vacation -- then on weekdays it should be \"10:00\" and \n",
    "# weekends it should be \"off\".\n",
    "\n",
    "# 0=Sun, 1=Mon, 2=Tue, ...6=Sat and vacation == T/F\n",
    "\n",
    "def alarm_clock(day, vacation):\n",
    "    if day == 0 or day == 6:\n",
    "        if vacation == False:\n",
    "            return('10:00')\n",
    "        else:\n",
    "            return('off')\n",
    "    else:\n",
    "        if vacation == False:\n",
    "            return('7:00')\n",
    "        else:\n",
    "            return('10:00')"
   ]
  },
  {
   "cell_type": "code",
   "execution_count": null,
   "id": "ea63d9e8",
   "metadata": {},
   "outputs": [],
   "source": [
    "print(alarm_clock(1, False))# → '7:00'\n",
    "print(alarm_clock(5, False)) # → '7:00'\n",
    "print(alarm_clock(0, False)) # → '10:00'\n",
    "print(alarm_clock(0, True))# → 'off'\n",
    "print(alarm_clock(6, False))# → '10:00'\n",
    "print(alarm_clock(1, False)) # → '7:00'\n",
    "print(alarm_clock(6, True)) # → 'off'"
   ]
  },
  {
   "cell_type": "code",
   "execution_count": null,
   "id": "437746b3",
   "metadata": {},
   "outputs": [],
   "source": [
    "# Logic-1 > love6\n",
    "# https://codingbat.com/prob/p100958\n",
    "\n",
    "# The number 6 is a truly great number. \n",
    "# Given two int values, a and b, return True if either one is 6. \n",
    "# Or if their sum or difference is 6. \n",
    "# Note: the function abs(num) computes the absolute value of a number.\n",
    "\n",
    "def love6(a, b):\n",
    "    if a == 6 or b == 6:\n",
    "            return True\n",
    "    if (a + b) == 6 or abs(a-b)== 6:\n",
    "            return True\n",
    "    else:\n",
    "        return False"
   ]
  },
  {
   "cell_type": "code",
   "execution_count": null,
   "id": "957ae877",
   "metadata": {},
   "outputs": [],
   "source": [
    "print(love6(6, 4))# → True\n",
    "print(love6(4, 5))# → False\n",
    "print(love6(1, 5)) # → True"
   ]
  },
  {
   "cell_type": "code",
   "execution_count": null,
   "id": "a7bbbcfa",
   "metadata": {},
   "outputs": [],
   "source": [
    "# Logic-1 > in1to10\n",
    "# https://codingbat.com/prob/p158497\n",
    "\n",
    "# Given a number n, return True if n is in the range 1..10, inclusive. \n",
    "# Unless outside_mode is True, in which case return True \n",
    "# if the number is less or equal to 1, or greater or equal to 10.\n",
    "\n",
    "def in1to10(n, outside_mode):\n",
    "    if outside_mode == False:\n",
    "        if n in range(1,11):\n",
    "            return True\n",
    "    if outside_mode == True:\n",
    "        if n <= 1 or n >=10:\n",
    "            return True\n",
    "        else:\n",
    "            return False\n",
    "    else:\n",
    "        return False"
   ]
  },
  {
   "cell_type": "code",
   "execution_count": null,
   "id": "64bb43de",
   "metadata": {},
   "outputs": [],
   "source": [
    "print(in1to10(5, False))# → True\n",
    "print(in1to10(11, False)) # → False\n",
    "print(in1to10(11, True)) # → True\n",
    "print(in1to10(9, True)) # → False"
   ]
  },
  {
   "cell_type": "code",
   "execution_count": null,
   "id": "eff0b3a8",
   "metadata": {},
   "outputs": [],
   "source": [
    "# Logic-1 > near_ten \n",
    "# https://codingbat.com/prob/p165321\n",
    "\n",
    "# Given a non-negative number \"num\", \n",
    "# return True if num is within 2 of a multiple of 10. \n",
    "# Note: (a % b) is the remainder of dividing a by b, so (7 % 5) is 2. \n",
    "# See also: Introduction to Mod\n",
    "\n",
    "# take num and divide by 10\n",
    "# 21/10 = 2 r 1 True\n",
    "# 22/10 = 2 r 2 True\n",
    "# 23/10 = 2 r 3 False \n",
    "# 19/10 = 1 r 9\n",
    "# if remainder is 2 or less\n",
    "# return True\n",
    "# if remainder is 8 or more\n",
    "# return True\n",
    "# if remainder is 3 or more\n",
    "# return False\n",
    "\n",
    "def near_ten(num):\n",
    "    if num % 10 <= 2 or num % 10 >= 8:\n",
    "        return True\n",
    "    else: \n",
    "        return False"
   ]
  },
  {
   "cell_type": "code",
   "execution_count": null,
   "id": "9300c613",
   "metadata": {},
   "outputs": [],
   "source": [
    "print(near_ten(12)) # → True\n",
    "print(near_ten(17)) # → False\n",
    "print(near_ten(19)) # → True"
   ]
  },
  {
   "cell_type": "code",
   "execution_count": null,
   "id": "05e94ebd",
   "metadata": {},
   "outputs": [],
   "source": [
    "# List-1 > first_last6\n",
    "# https://codingbat.com/prob/p181624\n",
    "\n",
    "# Given an array of ints, \n",
    "# return True if 6 appears as either the first or last element in the array. \n",
    "# The array will be length 1 or more.\n",
    "\n",
    "def first_last6(nums):\n",
    "    if nums[0] == 6:\n",
    "        return True\n",
    "    if nums[-1] == 6:\n",
    "        return True\n",
    "    else:\n",
    "        return False"
   ]
  },
  {
   "cell_type": "code",
   "execution_count": null,
   "id": "94c571f5",
   "metadata": {},
   "outputs": [],
   "source": [
    "print(first_last6([1, 2, 6])) # → True\n",
    "print(first_last6([6, 1, 2, 3])) # → True\n",
    "print(first_last6([13, 6, 1, 2, 3])) # → False"
   ]
  },
  {
   "cell_type": "code",
   "execution_count": null,
   "id": "cba91051",
   "metadata": {},
   "outputs": [],
   "source": [
    "# List-1 > same_first_last\n",
    "\n",
    "# Given an array of ints, \n",
    "# return True if the array is length 1 or more, \n",
    "# and the first element and the last element are equal.\n",
    "\n",
    "def same_first_last(nums):    \n",
    "    if len(nums) >= 1 and nums[0] == nums[-1]:\n",
    "        return True\n",
    "    else:\n",
    "        return False"
   ]
  },
  {
   "cell_type": "code",
   "execution_count": null,
   "id": "c1af5c2e",
   "metadata": {},
   "outputs": [],
   "source": [
    "print(same_first_last([1, 2, 3])) #→ False\n",
    "print(same_first_last([1, 2, 3, 1])) #→ True\n",
    "print(same_first_last([1, 2, 1])) #→ True\n"
   ]
  },
  {
   "cell_type": "code",
   "execution_count": null,
   "id": "f90068ea",
   "metadata": {},
   "outputs": [],
   "source": [
    "# List-1 > make_pi\n",
    "\n",
    "# Return an int array length 3 containing the first 3 digits of pi, {3, 1, 4}.\n",
    "# x = [int(a) for a in str(num)]\n",
    "\n",
    "def make_pi():\n",
    "    pi = 3.14\n",
    "    pi = str(pi)\n",
    "    pi = pi.replace('.', '')\n",
    "    pi_l = [int(p) for p in str(pi)]\n",
    "    return pi_l"
   ]
  },
  {
   "cell_type": "code",
   "execution_count": null,
   "id": "6a99110a",
   "metadata": {},
   "outputs": [],
   "source": [
    "make_pi() #→ [3, 1, 4]"
   ]
  },
  {
   "cell_type": "code",
   "execution_count": null,
   "id": "a79b420a",
   "metadata": {},
   "outputs": [],
   "source": [
    "# List-1 > common_end\n",
    "\n",
    "# Given 2 arrays of ints, a and b, \n",
    "# return True if they have the same first element \n",
    "# or they have the same last element. \n",
    "# Both arrays will be length 1 or more.\n",
    "\n",
    "def common_end(a, b):\n",
    "    if a[0] == b[0] or a[-1] == b[-1]:\n",
    "        return True\n",
    "    else:\n",
    "        return False"
   ]
  },
  {
   "cell_type": "code",
   "execution_count": null,
   "id": "d55b5140",
   "metadata": {},
   "outputs": [],
   "source": [
    "print(common_end([1, 2, 3], [7, 3])) # → True\n",
    "print(common_end([1, 2, 3], [7, 3, 2])) # → False\n",
    "print(common_end([1, 2, 3], [1, 3])) # → True"
   ]
  },
  {
   "cell_type": "code",
   "execution_count": null,
   "id": "e428933f",
   "metadata": {},
   "outputs": [],
   "source": [
    "# List-1 > sum3\n",
    "\n",
    "# Given an array of ints length 3, return the sum of all the elements.\n",
    "\n",
    "def sum3(nums):\n",
    "    total = nums[0] + nums[1] + nums[2]\n",
    "    return total"
   ]
  },
  {
   "cell_type": "code",
   "execution_count": null,
   "id": "5fc7664d",
   "metadata": {},
   "outputs": [],
   "source": [
    "print(sum3([1, 2, 3])) # → 6\n",
    "print(sum3([5, 11, 2])) # → 18\n",
    "print(sum3([7, 0, 0])) # → 7"
   ]
  },
  {
   "cell_type": "code",
   "execution_count": null,
   "id": "df91af2f",
   "metadata": {},
   "outputs": [],
   "source": [
    "# List-1 > rotate_left3\n",
    "\n",
    "# Given an array of ints length 3, \n",
    "# return an array with the elements \"rotated left\" \n",
    "# so {1, 2, 3} yields {2, 3, 1}.\n",
    "\n",
    "def rotate_left3(nums):\n",
    "    rest = nums[1:3]\n",
    "#     print(rest)\n",
    "#     print(type(rest))\n",
    "    left = [nums[0]]\n",
    "#     print(left)\n",
    "#     print(type(left))\n",
    "    rest_2 = rest + left\n",
    "    return rest_2"
   ]
  },
  {
   "cell_type": "code",
   "execution_count": null,
   "id": "c6dd36bd",
   "metadata": {},
   "outputs": [],
   "source": [
    "print(rotate_left3([1, 2, 3])) # → [2, 3, 1]\n",
    "print(rotate_left3([5, 11, 9])) # → [11, 9, 5]\n",
    "print(rotate_left3([7, 0, 0])) # → [0, 0, 7]"
   ]
  },
  {
   "cell_type": "code",
   "execution_count": null,
   "id": "404c6528",
   "metadata": {},
   "outputs": [],
   "source": [
    "# List-1 > reverse3\n",
    "\n",
    "# Given an array of ints length 3, \n",
    "# return a new array with the elements in reverse order, \n",
    "# so {1, 2, 3} becomes {3, 2, 1}.\n",
    "\n",
    "def reverse3(nums):\n",
    "    return nums[::-1]"
   ]
  },
  {
   "cell_type": "code",
   "execution_count": null,
   "id": "7051e8e1",
   "metadata": {},
   "outputs": [],
   "source": [
    "print(reverse3([1, 2, 3])) # → [3, 2, 1]\n",
    "print(reverse3([5, 11, 9])) # → [9, 11, 5]\n",
    "print(reverse3([7, 0, 0])) # → [0, 0, 7]"
   ]
  },
  {
   "cell_type": "code",
   "execution_count": null,
   "id": "de5eab49",
   "metadata": {},
   "outputs": [],
   "source": [
    "# List-1 > max_end3\n",
    "\n",
    "# Given an array of ints length 3, figure out which is larger, \n",
    "# the first or last element in the array, \n",
    "# and set all the other elements to be that value. \n",
    "# Return the changed array.\n",
    "\n",
    "def max_end3(nums):\n",
    "    if nums[0] > nums[-1]:\n",
    "        big = nums[0]\n",
    "    elif nums[0] < nums[-1]:\n",
    "        big = nums[-1]\n",
    "    else:\n",
    "        big = nums[0]\n",
    "    for i in range(len(nums)):\n",
    "        if nums[i] != big:\n",
    "            nums[i] = big\n",
    "    return nums"
   ]
  },
  {
   "cell_type": "code",
   "execution_count": null,
   "id": "566d04a0",
   "metadata": {},
   "outputs": [],
   "source": [
    "print(max_end3([1, 2, 3])) # → [3, 3, 3]\n",
    "print(max_end3([11, 5, 9])) # → [11, 11, 11]\n",
    "print(max_end3([2, 11, 3])) # → [3, 3, 3]\n",
    "print(max_end3([2, 2, 2])) # → [2, 2, 2])"
   ]
  },
  {
   "cell_type": "code",
   "execution_count": null,
   "id": "ec2d8489",
   "metadata": {},
   "outputs": [],
   "source": [
    "# List-1 > sum2\n",
    "\n",
    "# Given an array of ints, \n",
    "# return the sum of the first 2 elements in the array. \n",
    "# If the array length is less than 2, just sum up the elements that \n",
    "# exist, returning 0 if the array is length 0.\n",
    "\n",
    "def sum2(nums):\n",
    "    if len(nums) == 0:\n",
    "        return(0)\n",
    "    elif len(nums) == 1:\n",
    "        return(nums[0])\n",
    "    else:\n",
    "        total = nums[0] + nums[1]\n",
    "        return total"
   ]
  },
  {
   "cell_type": "code",
   "execution_count": null,
   "id": "8015fdf0",
   "metadata": {},
   "outputs": [],
   "source": [
    "print(sum2([1, 2, 3])) #→ 3\n",
    "print(sum2([1, 1])) #→ 2\n",
    "print(sum2([1, 1, 1, 1])) #→ 2\n",
    "print(sum2([0])) #→ 2\n",
    "print(sum2([8])) #→ 2"
   ]
  },
  {
   "cell_type": "code",
   "execution_count": null,
   "id": "480f1d2c",
   "metadata": {},
   "outputs": [],
   "source": [
    "# List-1 > middle_way\n",
    "\n",
    "# Given 2 int arrays, a and b, each length 3, \n",
    "# return a new array length 2 containing their middle elements.\n",
    "\n",
    "def middle_way(a, b):\n",
    "    middle = [a[1], b[1]]\n",
    "    return middle"
   ]
  },
  {
   "cell_type": "code",
   "execution_count": null,
   "id": "bf9e6fbf",
   "metadata": {},
   "outputs": [],
   "source": [
    "print(middle_way([1, 2, 3], [4, 5, 6])) # → [2, 5]\n",
    "print(middle_way([7, 7, 7], [3, 8, 0])) # → [7, 8]\n",
    "print(middle_way([5, 2, 9], [1, 4, 5])) # → [2, 4]"
   ]
  },
  {
   "cell_type": "code",
   "execution_count": null,
   "id": "2a33c3e2",
   "metadata": {},
   "outputs": [],
   "source": [
    "# List-1 > make_ends\n",
    "\n",
    "# Given an array of ints, \n",
    "# return a new array length 2 containing the first and last elements \n",
    "# from the original array. \n",
    "# The original array will be length 1 or more.\n",
    "\n",
    "def make_ends(nums):\n",
    "    ends = [nums[0], nums[-1]]\n",
    "    return ends"
   ]
  },
  {
   "cell_type": "code",
   "execution_count": null,
   "id": "1388e0d2",
   "metadata": {},
   "outputs": [],
   "source": [
    "print(make_ends([1, 2, 3])) # → [1, 3]\n",
    "print(make_ends([1, 2, 3, 4])) # → [1, 4]\n",
    "print(make_ends([7, 4, 6, 2])) # → [7, 2]"
   ]
  },
  {
   "cell_type": "code",
   "execution_count": null,
   "id": "4c84e5cb",
   "metadata": {},
   "outputs": [],
   "source": [
    "# List-1 > has23\n",
    "\n",
    "# Given an int array length 2, return True if it contains a 2 or a 3.\n",
    "\n",
    "def has23(nums):\n",
    "    if 2 in nums or 3 in nums:\n",
    "        return True\n",
    "    else:\n",
    "        return False"
   ]
  },
  {
   "cell_type": "code",
   "execution_count": null,
   "id": "aa2e6539",
   "metadata": {},
   "outputs": [],
   "source": [
    "print(has23([2, 5])) # → True\n",
    "print(has23([4, 3])) # → True\n",
    "print(has23([4, 5])) # → False"
   ]
  },
  {
   "cell_type": "code",
   "execution_count": null,
   "id": "473265a4",
   "metadata": {},
   "outputs": [],
   "source": [
    "# Logic-2 > make_bricks\n",
    "\n",
    "# We want to make a row of bricks that is goal inches long. \n",
    "# We have a number of small bricks (1 inch each) and big bricks \n",
    "# (5 inches each). \n",
    "# Return True if it is possible to make the goal by choosing from the \n",
    "# given bricks. \n",
    "# This is a little harder than it looks and can be done without any \n",
    "# loops. See also: Introduction to MakeBricks\n",
    "\n",
    "#  small = 1; big = 5 \n",
    "\n",
    "def make_bricks(small, big, goal):\n",
    "    max_big = big * 5\n",
    "    remainder = goal % 5\n",
    "    if remainder:\n",
    "        if remainder <= small and small + max_big >= goal:\n",
    "            return True\n",
    "        else:\n",
    "            return False\n",
    "    return goal <= max_big + small"
   ]
  },
  {
   "cell_type": "code",
   "execution_count": null,
   "id": "7004a40e",
   "metadata": {},
   "outputs": [],
   "source": [
    "print(make_bricks(6, 0, 11)) # → False\n",
    "print(make_bricks(1, 4, 11)) # → True\n",
    "print(make_bricks(3, 2, 10)) # → True\n",
    "print(make_bricks(3, 1, 7)) # → True\n",
    "print(make_bricks(0, 3, 10)) # → True\n",
    "print(make_bricks(3, 1, 8)) # → True\n",
    "print(make_bricks(3, 1, 9)) # → False\n",
    "print(make_bricks(3, 2, 9)) # → False\n",
    "print(make_bricks(1, 4, 12)) # → False\n",
    "print(make_bricks(3, 2, 8)) # → True"
   ]
  },
  {
   "cell_type": "code",
   "execution_count": null,
   "id": "8dca4a0c",
   "metadata": {},
   "outputs": [],
   "source": [
    "# Logic-2 > lone_sum\n",
    "\n",
    "# Given 3 int values, a b c, return their sum. \n",
    "# However, if one of the values is the same as another of the values, \n",
    "# it does not count towards the sum.\n",
    "\n",
    "def lone_sum(a, b, c):\n",
    "    total = a + b + c\n",
    "    if a == b and b == c:\n",
    "        return 0\n",
    "    if a == b :\n",
    "        return c\n",
    "    if a == c:\n",
    "        return b\n",
    "    if b == c:\n",
    "        return a\n",
    "    else:\n",
    "        return total"
   ]
  },
  {
   "cell_type": "code",
   "execution_count": null,
   "id": "cd42af0f",
   "metadata": {},
   "outputs": [],
   "source": [
    "print(lone_sum(1, 2, 3)) # → 6\n",
    "print(lone_sum(3, 2, 3)) # → 2\n",
    "print(lone_sum(3, 3, 3)) # → 0"
   ]
  },
  {
   "cell_type": "code",
   "execution_count": null,
   "id": "fd4d2560",
   "metadata": {},
   "outputs": [],
   "source": [
    "# Logic-2 > lucky_sum\n",
    "\n",
    "# Given 3 int values, a b c, return their sum. \n",
    "# However, if one of the values is 13 then it does not count towards \n",
    "# the sum and values to its right do not count. \n",
    "# So for example, if b is 13, then both b and c do not count.\n",
    "\n",
    "def lucky_sum(a, b, c):\n",
    "    arg = [a, b, c]\n",
    "  \n",
    "    if arg[0] == 13:\n",
    "        return 0    \n",
    "    elif arg[1] == 13:\n",
    "        return arg[0]\n",
    "    elif arg[2] == 13:\n",
    "        return arg[0] + arg[1]\n",
    "    else:\n",
    "        return sum(arg)"
   ]
  },
  {
   "cell_type": "code",
   "execution_count": null,
   "id": "bbc2025e",
   "metadata": {
    "scrolled": false
   },
   "outputs": [],
   "source": [
    "print(lucky_sum(1, 2, 3)) # → 6\n",
    "print(lucky_sum(1, 2, 13)) # → 3\n",
    "print(lucky_sum(1, 13, 3)) # → 1\n",
    "print(lucky_sum(13, 2, 3)) # → 0"
   ]
  },
  {
   "cell_type": "code",
   "execution_count": null,
   "id": "7b35693f",
   "metadata": {},
   "outputs": [],
   "source": [
    "# Logic-2 > no_teen_sum\n",
    "\n",
    "# Given 3 int values, a b c, return their sum. \n",
    "# However, if any of the values is a teen -- in the range 13..19 \n",
    "# inclusive -- then that value counts as 0, except 15 and 16 do not count as a teens. \n",
    "# Write a separate helper \"def fix_teen(n):\"that takes in an int value and returns that \n",
    "# value fixed for the teen rule. \n",
    "# In this way, you avoid repeating the teen code 3 times (i.e. \"decomposition\"). \n",
    "# Define the helper below and at the same indent level as the main no_teen_sum().\n",
    "\n",
    "def fix_teen(n):\n",
    "    teen = [13, 14, 17, 18, 19]\n",
    "    if n in teen:\n",
    "        return 0\n",
    "    else: \n",
    "        return n\n",
    "        \n",
    "def no_teen_sum(a, b, c):\n",
    "    org_num = [a,b,c]\n",
    "    non_teen_nums = []\n",
    "    for n in org_num:\n",
    "        result = fix_teen(n)\n",
    "        non_teen_nums.append(result)\n",
    "    return sum(non_teen_nums)       "
   ]
  },
  {
   "cell_type": "code",
   "execution_count": null,
   "id": "ec1b6f1a",
   "metadata": {},
   "outputs": [],
   "source": [
    "print(no_teen_sum(1, 2, 3)) # → 6\n",
    "print(no_teen_sum(2, 13, 1)) # → 3\n",
    "print(no_teen_sum(2, 1, 14)) # → 3"
   ]
  },
  {
   "cell_type": "code",
   "execution_count": null,
   "id": "9015afff",
   "metadata": {},
   "outputs": [],
   "source": [
    "# Logic-2 > round_sum\n",
    "# https://codingbat.com/prob/p179960\n",
    "\n",
    "# For this problem, we'll round an int value up to the next multiple of 10\n",
    "# if its rightmost digit is 5 or more, so 15 rounds up to 20. \n",
    "# Alternately, round down to the previous multiple of 10 if its rightmost \n",
    "# digit is less than 5, so 12 rounds down to 10. \n",
    "\n",
    "# Given 3 ints, a b c, return the sum of their rounded values. \n",
    "# To avoid code repetition, write a separate helper \"def round10(num):\" \n",
    "# and call it 3 times. \n",
    "# Write the helper entirely below and at the same indent level as \n",
    "# round_sum().\n",
    "\n",
    "# if digit next is >= 5 –> round num up to next multiple of 10 (15 => 20)\n",
    "# if digit next is < 5 –> round down to previous multiple of 10 ( 12 => 10)\n",
    "# return sum of 3 ints, a,b,c"
   ]
  },
  {
   "cell_type": "code",
   "execution_count": null,
   "id": "f8eb55a6",
   "metadata": {},
   "outputs": [],
   "source": [
    "def round_sum(a,b,c):\n",
    "    nums = [a,b,c]\n",
    "    new_nums = []\n",
    "    for i in nums:\n",
    "        new_nums.append(round(i, -1))\n",
    "        total = int(sum(new_nums))\n",
    "    return total\n",
    "\n",
    "#Solution:\n",
    "\n",
    "# def round_sum(a, b, c):\n",
    "#   return round10(a) + round10(b) + round10(c)\n",
    "  \n",
    "# def round10(num):\n",
    "#   mod = num % 10\n",
    "#   num -= mod\n",
    "#   if mod >= 5: num += 10\n",
    "#   return num"
   ]
  },
  {
   "cell_type": "code",
   "execution_count": null,
   "id": "7845d993",
   "metadata": {},
   "outputs": [],
   "source": [
    "# my_list = [11,25,33]\n",
    "# new_list = []\n",
    "# for i in my_list:\n",
    "#     new_list.append(round(i,-1))\n",
    "#     print(new_list)\n",
    "#     print(sum(new_list))"
   ]
  },
  {
   "cell_type": "code",
   "execution_count": null,
   "id": "c5216c24",
   "metadata": {},
   "outputs": [],
   "source": [
    "print(round_sum(4, 6, 5)) # → 20\n",
    "print(round_sum(45, 21, 30)) # → 100\n",
    "print(round_sum(23, 24, 25)) # → 70\n",
    "print(round_sum(45, 21, 30)) # → 100 = 50 + 20 + 30\n",
    "\n",
    "print(round_sum(16, 17, 18)) # → 60\n",
    "print(round_sum(12, 13, 14)) # → 30\n",
    "print(round_sum(6, 4, 4)) # → 10\n",
    "\n",
    "print(round_sum(0, 9, 0)) # → 10\n",
    "print(round_sum(9, 4, 4)) # → 10\n",
    "print(round_sum(4, 4, 6)) # → 10"
   ]
  },
  {
   "cell_type": "code",
   "execution_count": null,
   "id": "f985be26",
   "metadata": {},
   "outputs": [],
   "source": [
    "# Logic-2 > close_far\n",
    "\n",
    "# Given three ints, a b c, return True if one of b or c is \"close\" \n",
    "# (differing from a by at most 1), while the other is \"far\", \n",
    "# differing from both other values by 2 or more. \n",
    "# Note: abs(num) computes the absolute value of a number.\n",
    "\n",
    "\n",
    "def close_far(a, b, c):\n",
    "    a_m_b = abs(a-b)\n",
    "    a_m_c = abs(a-c)\n",
    "    b_m_c = abs(b-c)\n",
    "    vals = [a_m_b, a_m_c, b_m_c]\n",
    "#     print(vals)\n",
    "    for n in vals:\n",
    "        if vals.count(1) == 1 or vals.count(0) == 1:\n",
    "            if n >= 2:\n",
    "                return True\n",
    "        else:\n",
    "            return False"
   ]
  },
  {
   "cell_type": "code",
   "execution_count": null,
   "id": "003b2de9",
   "metadata": {},
   "outputs": [],
   "source": [
    "print(close_far(1, 2, 10)) # → True\n",
    "print(close_far(4, 5, 3)) # → False\n",
    "print(close_far(4, 1, 3)) # → True\n",
    "print(close_far(4, 3, 5)) # → False\n",
    "print(close_far(10, 10, 8)) # → True"
   ]
  },
  {
   "cell_type": "code",
   "execution_count": null,
   "id": "e23b2562",
   "metadata": {},
   "outputs": [],
   "source": [
    "# Logic-2 > make_chocolate\n",
    "\n",
    "# We want make a package of goal kilos of chocolate. \n",
    "# We have small bars (1 kilo each) and big bars (5 kilos each). \n",
    "# Return the number of small bars to use, \n",
    "# assuming we always use big bars before small bars. \n",
    "# Return -1 if it can't be done.\n",
    "\n",
    "def make_chocolate(small, big, goal):\n",
    "    b_kg = big * 5 \n",
    "    if goal < 5:\n",
    "        need_small = goal - small\n",
    "        if need_small == 0:\n",
    "            return small\n",
    "        else:\n",
    "            return need_small\n",
    "    else:\n",
    "        need_small = goal - b_kg\n",
    "\n",
    "    if need_small < 0:\n",
    "        need_small = goal - 5\n",
    "    if need_small <= small:\n",
    "        return need_small\n",
    "    elif need_small <= small and need_small >= 0:\n",
    "        return need_small\n",
    "    else:\n",
    "        return -1"
   ]
  },
  {
   "cell_type": "code",
   "execution_count": null,
   "id": "819009c4",
   "metadata": {},
   "outputs": [],
   "source": [
    "print(make_chocolate(6, 1, 11)) # → 6\n",
    "print(make_chocolate(6, 1, 12)) # → -1\n",
    "print(make_chocolate(4, 1, 9)) # → 4\n",
    "print(make_chocolate(4, 1, 7)) # → 2\n",
    "print(make_chocolate(4, 1, 5)) # → 0\n",
    "\n",
    "print(make_chocolate(6, 2, 7)) # → 2\n",
    "print(make_chocolate(4, 1, 10)) # → -1\n",
    "print(make_chocolate(6, 1, 10)) # → 5\n",
    "print(make_chocolate(6, 2, 7)) # → 2\n",
    "print(make_chocolate(4, 1, 10)) # → -1"
   ]
  },
  {
   "cell_type": "code",
   "execution_count": null,
   "id": "2fbc397a",
   "metadata": {},
   "outputs": [],
   "source": [
    "# String-2 > double_char\n",
    "\n",
    "# Given a string, return a string where for every char in the original, \n",
    "# there are two chars.\n",
    "\n",
    "def double_char(str):\n",
    "    new_str = ''\n",
    "    for i in str:\n",
    "        new_str += i*2\n",
    "    return new_str"
   ]
  },
  {
   "cell_type": "code",
   "execution_count": null,
   "id": "8f72e9ad",
   "metadata": {},
   "outputs": [],
   "source": [
    "print(double_char('The')) #→ 'TThhee'\n",
    "print(double_char('AAbb')) #→ 'AAAAbbbb'\n",
    "print(double_char('Hi-There')) #→ 'HHii--TThheerree'"
   ]
  },
  {
   "cell_type": "code",
   "execution_count": null,
   "id": "ea9d6b37",
   "metadata": {},
   "outputs": [],
   "source": [
    "# String-2 > count_hi\n",
    "\n",
    "# Return the number of times that the string \"hi\" appears anywhere in the given string.\n",
    "\n",
    "def count_hi(s):\n",
    "    return s.count(\"hi\")"
   ]
  },
  {
   "cell_type": "code",
   "execution_count": null,
   "id": "2998bed7",
   "metadata": {},
   "outputs": [],
   "source": [
    "print(count_hi('abc hi ho')) # → 1\n",
    "print(count_hi('ABChi hi')) # → 2\n",
    "print(count_hi('hihi')) # → 2"
   ]
  },
  {
   "cell_type": "code",
   "execution_count": null,
   "id": "c3efc0c7",
   "metadata": {},
   "outputs": [],
   "source": [
    "# String-2 > cat_dog\n",
    "\n",
    "# Return True if the string \"cat\" & \"dog\" appear the same number of times in the given string.\n",
    "\n",
    "def cat_dog(str):\n",
    "    cat = 0\n",
    "    dog = 0\n",
    "    cat += str.count('cat')\n",
    "    dog += str.count('dog')\n",
    "    return cat == dog"
   ]
  },
  {
   "cell_type": "code",
   "execution_count": null,
   "id": "69fe5700",
   "metadata": {},
   "outputs": [],
   "source": [
    "print(cat_dog('catdog')) # → True\n",
    "print(cat_dog('catcat')) # → False\n",
    "print(cat_dog('1cat1cadodog')) # → True"
   ]
  },
  {
   "cell_type": "code",
   "execution_count": null,
   "id": "4ccf0793",
   "metadata": {},
   "outputs": [],
   "source": [
    "# String-2 > count_code\n",
    "\n",
    "# Return the number of times that the string \"code\" appears anywhere \n",
    "# in the given string, \n",
    "# except we'll accept any letter for the 'd', so \"cope\" and \"cooe\" count.\n",
    "\n",
    "# Solution https://stackoverflow.com/a/65605549\n",
    "\n",
    "def count_code(str):\n",
    "    count = 0\n",
    "    for i in range(len(str)):\n",
    "        if str[i:i+2] == \"co\" and str[i+3:i+4] == \"e\":\n",
    "            count+=1\n",
    "    return count    "
   ]
  },
  {
   "cell_type": "code",
   "execution_count": null,
   "id": "4e36a969",
   "metadata": {},
   "outputs": [],
   "source": [
    "print(count_code('aaacodebbb')) # → 1\n",
    "print(count_code('codexxcode')) # → 2\n",
    "print(count_code('cozexxcope')) # → 2"
   ]
  },
  {
   "cell_type": "code",
   "execution_count": null,
   "id": "f00e5402",
   "metadata": {},
   "outputs": [],
   "source": [
    "# String-2 > end_other\n",
    "\n",
    "# Given two strings, return True if either of the strings appears \n",
    "# at the very end of the other string, \n",
    "# ignoring upper/lower case differences (in other words, the computation \n",
    "# should not be \"case sensitive\"). \n",
    "# Note: s.lower() returns the lowercase version of a string.\n",
    "\n",
    "def end_other(a, b):\n",
    "    return a.lower().endswith(b.lower()) or b.lower().endswith(a.lower())"
   ]
  },
  {
   "cell_type": "code",
   "execution_count": null,
   "id": "0ebd0494",
   "metadata": {},
   "outputs": [],
   "source": [
    "print(end_other('Hiabc', 'abc')) # → True\n",
    "print(end_other('AbC', 'HiaBc')) # → True\n",
    "print(end_other('abc', 'abXabc')) # → True"
   ]
  },
  {
   "cell_type": "code",
   "execution_count": 7,
   "id": "d723ee36",
   "metadata": {},
   "outputs": [],
   "source": [
    "# String-2 > xyz_there\n",
    "\n",
    "# Return True if the given string contains an appearance of \"xyz\" \n",
    "# where the xyz is not directly preceeded by a period (.). \n",
    "# So \"xxyz\" counts but \"x.xyz\" does not.\n",
    "\n",
    "def xyz_there(s):    \n",
    "    if '.' in s: \n",
    "        s = s.split('.')   \n",
    "        if s[0] == 'xyz':\n",
    "            return True\n",
    "        elif s[1][0] == 'x':\n",
    "            t = s[1][1::]\n",
    "            if 'xyz' in t:\n",
    "                return True\n",
    "            else:\n",
    "                return False\n",
    "        else:\n",
    "            return False\n",
    "    else:\n",
    "        if 'xyz' in s:\n",
    "            return True\n",
    "        else:\n",
    "            return False"
   ]
  },
  {
   "cell_type": "markdown",
   "id": "d2f0d11a",
   "metadata": {},
   "source": [
    "❗️ doesn't pass \"other test\" not visible"
   ]
  },
  {
   "cell_type": "code",
   "execution_count": 8,
   "id": "c5848259",
   "metadata": {},
   "outputs": [
    {
     "name": "stdout",
     "output_type": "stream",
     "text": [
      "True\n",
      "False\n",
      "True\n",
      "True\n",
      "True\n",
      "False\n"
     ]
    }
   ],
   "source": [
    "print(xyz_there('abcxyz')) # → True\n",
    "print(xyz_there('abc.xyz')) # → False\n",
    "print(xyz_there('xyz.abc')) # → True\n",
    "print(xyz_there('abc.xyzxyz')) # → True\t\n",
    "print(xyz_there('abc.xxyz')) #→ True\t\n",
    "print(xyz_there('abcxy')) #→ False"
   ]
  },
  {
   "cell_type": "code",
   "execution_count": 5,
   "id": "783d5ec1",
   "metadata": {},
   "outputs": [],
   "source": [
    "# List-2 > count_evens\n",
    "\n",
    "# Return the number of even ints in the given array. \n",
    "# Note: the % \"mod\" operator computes the remainder, e.g. 5 % 2 is 1.\n",
    "\n",
    "def count_evens(nums):\n",
    "    evens = []\n",
    "    for i in nums:\n",
    "        if i%2 == 0:\n",
    "            evens.append(i)\n",
    "        else:\n",
    "            continue\n",
    "    return len(evens)"
   ]
  },
  {
   "cell_type": "code",
   "execution_count": 6,
   "id": "fae50f96",
   "metadata": {},
   "outputs": [
    {
     "name": "stdout",
     "output_type": "stream",
     "text": [
      "3\n",
      "3\n",
      "0\n"
     ]
    }
   ],
   "source": [
    "print(count_evens([2, 1, 2, 3, 4])) # → 3\n",
    "print(count_evens([2, 2, 0])) # → 3\n",
    "print(count_evens([1, 3, 5])) # → 0"
   ]
  },
  {
   "cell_type": "code",
   "execution_count": 1,
   "id": "a509742a",
   "metadata": {},
   "outputs": [],
   "source": [
    "# List-2 > big_diff\n",
    "\n",
    "# Given an array length 1 or more of ints, \n",
    "# return the difference between the largest and smallest values in \n",
    "# the array. \n",
    "# Note: the built-in min(v1, v2) and max(v1, v2) functions return \n",
    "# the smaller or larger of two values.\n",
    "\n",
    "def big_diff(nums):\n",
    "    if len(nums) >= 1:\n",
    "        high = min(nums)\n",
    "        low = max(nums)\n",
    "    return abs(high-low)"
   ]
  },
  {
   "cell_type": "code",
   "execution_count": 2,
   "id": "aefca2b8",
   "metadata": {},
   "outputs": [
    {
     "name": "stdout",
     "output_type": "stream",
     "text": [
      "7\n",
      "8\n",
      "8\n"
     ]
    }
   ],
   "source": [
    "print(big_diff([10, 3, 5, 6])) # → 7\n",
    "print(big_diff([7, 2, 10, 9])) # → 8\n",
    "print(big_diff([2, 10, 7, 2])) # → 8"
   ]
  },
  {
   "cell_type": "code",
   "execution_count": 3,
   "id": "5618d92e",
   "metadata": {},
   "outputs": [],
   "source": [
    "# List-2 > centered_average\n",
    "\n",
    "# Return the \"centered\" average of an array of ints, which we'll say is the mean \n",
    "# average of the values, except ignoring the largest and smallest values in the array. \n",
    "# If there are multiple copies of the smallest value, ignore just one copy, and \n",
    "# likewise for the largest value. Use int division to produce the final average. \n",
    "# You may assume that the array is length 3 or more.\n",
    "\n",
    "def centered_average(nums):\n",
    "    nums.remove(max(nums))\n",
    "    nums.remove(min(nums))\n",
    "    return (sum(nums))//(len(nums)) "
   ]
  },
  {
   "cell_type": "code",
   "execution_count": 4,
   "id": "d9318d5a",
   "metadata": {},
   "outputs": [
    {
     "name": "stdout",
     "output_type": "stream",
     "text": [
      "3\n",
      "5\n",
      "-3\n"
     ]
    }
   ],
   "source": [
    "print(centered_average([1, 2, 3, 4, 100])) # → 3\n",
    "print(centered_average([1, 1, 5, 5, 10, 8, 7])) # → 5\n",
    "print(centered_average([-10, -4, -2, -4, -2, 0])) # → -3"
   ]
  },
  {
   "cell_type": "markdown",
   "id": "d20665d8",
   "metadata": {},
   "source": [
    "# ❗️🔖 [list-2 >sum13](https://codingbat.com/prob/p167025)"
   ]
  },
  {
   "cell_type": "code",
   "execution_count": 196,
   "id": "3ef4912f",
   "metadata": {},
   "outputs": [],
   "source": [
    "# List-2 > sum13\n",
    "\n",
    "# Return the sum of the numbers in the array, returning 0 for an empty array. \n",
    "# Except the number 13 is very unlucky, so it does not count and numbers that come \n",
    "# immediately after a 13 also do not count.\n",
    "\n",
    "# def sum13(nums):\n",
    "#     for i in range(len(nums)):\n",
    "#         if nums[i] == 13:\n",
    "#             nums[i] = 0\n",
    "#             nums[i+1] = 0\n",
    "#         return sum(nums)\n",
    "\n",
    "def sum13(nums):\n",
    "    count = nums.count(13)\n",
    "    print('count', count)\n",
    "#     print('nums', nums)\n",
    "    index = 0\n",
    "    for i in nums:\n",
    "        if i == 13:\n",
    "            index = nums.index(i)\n",
    "            nums.pop(index)\n",
    "            count = nums.count(13)\n",
    "            return count    \n",
    "\n",
    "        \n"
   ]
  },
  {
   "cell_type": "code",
   "execution_count": 197,
   "id": "05999f70",
   "metadata": {},
   "outputs": [
    {
     "name": "stdout",
     "output_type": "stream",
     "text": [
      "count 2\n",
      "1\n"
     ]
    }
   ],
   "source": [
    "print(sum13([1, 2, 13, 2, 1, 13])) #  → 4\n",
    "# print(sum13([13, 1, 2, 13, 2, 1, 13])) #  → 3\n",
    "# print(sum13([13, 13])) #  → 0\n",
    "# print(sum13([13, 0, 13])) #  → 0\n",
    "# print(sum13([13, 1, 13])) #  → 0\n",
    "# print(sum13([5, 13, 2])) #  → 5\n",
    "# print(sum13([1, 2, 2, 1])) # → 6\n",
    "# print(sum13([1, 1])) # → 2\n",
    "# print(sum13([1, 2, 2, 1, 13])) # → 6\n"
   ]
  },
  {
   "cell_type": "code",
   "execution_count": 202,
   "id": "82fe09ee",
   "metadata": {},
   "outputs": [
    {
     "data": {
      "text/plain": [
       "[1, 11, 2, 2, 13]"
      ]
     },
     "execution_count": 202,
     "metadata": {},
     "output_type": "execute_result"
    }
   ],
   "source": [
    "nums = [1, 11, 2, 13, 2, 1, 13]\n",
    "\n",
    "index = 3\n",
    "\n",
    "nums.pop(index)\n",
    "nums.pop(index+1)\n",
    "nums"
   ]
  },
  {
   "cell_type": "code",
   "execution_count": 103,
   "id": "02e13121",
   "metadata": {},
   "outputs": [],
   "source": [
    "# List-2 > sum67\n",
    "\n",
    "# Return the sum of the numbers in the array, except ignore sections of numbers starting with a \n",
    "# 6 and extending to the next 7 (every 6 will be followed by at least one 7). Return 0 for no numbers.\n",
    "\n",
    "def sum67(nums):\n",
    "    x = list(enumerate(nums))\n",
    "    for i in x:\n",
    "        if i[1] == 6:\n",
    "            i[1] == 0            "
   ]
  },
  {
   "cell_type": "code",
   "execution_count": 184,
   "id": "186e1361",
   "metadata": {},
   "outputs": [
    {
     "name": "stdout",
     "output_type": "stream",
     "text": [
      "None\n",
      "(3, 6)\n",
      "(2, 6)\n"
     ]
    }
   ],
   "source": [
    "print(sum67([1, 2, 2])) # → 5\n",
    "print(sum67([1, 2, 2, 6, 99, 99, 7])) # → 5\n",
    "print(sum67([1, 1, 6, 7, 2])) # → 4\n"
   ]
  },
  {
   "cell_type": "code",
   "execution_count": 186,
   "id": "3d6967f2",
   "metadata": {},
   "outputs": [],
   "source": [
    "# List-2 > has22\n",
    "\n",
    "# Given an array of ints, return True if the array contains a 2 next to a 2 somewhere.\n",
    "\n",
    "def has22(nums):\n"
   ]
  },
  {
   "cell_type": "code",
   "execution_count": null,
   "id": "424ff9c1",
   "metadata": {},
   "outputs": [],
   "source": []
  },
  {
   "cell_type": "code",
   "execution_count": null,
   "id": "35c809d1",
   "metadata": {},
   "outputs": [],
   "source": [
    "print(has22([1, 2, 2])) # → True\n",
    "print(has22([1, 2, 1, 2])) # → False\n",
    "print(has22([2, 1, 2])) # → False"
   ]
  }
 ],
 "metadata": {
  "kernelspec": {
   "display_name": "Python 3 (ipykernel)",
   "language": "python",
   "name": "python3"
  },
  "language_info": {
   "codemirror_mode": {
    "name": "ipython",
    "version": 3
   },
   "file_extension": ".py",
   "mimetype": "text/x-python",
   "name": "python",
   "nbconvert_exporter": "python",
   "pygments_lexer": "ipython3",
   "version": "3.8.12"
  }
 },
 "nbformat": 4,
 "nbformat_minor": 5
}

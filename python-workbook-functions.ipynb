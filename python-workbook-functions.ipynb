{
 "cells": [
  {
   "cell_type": "markdown",
   "id": "5dead951",
   "metadata": {},
   "source": [
    "[The Python Workbook: A Brief Introduction with Exercises and Solutions](https://link.springer.com/book/10.1007/978-3-319-14240-1) by Ben Stephenson"
   ]
  },
  {
   "cell_type": "markdown",
   "id": "8d5e93dd",
   "metadata": {},
   "source": [
    "# functions (p 39) "
   ]
  },
  {
   "attachments": {
    "image.png": {
     "image/png": "[encoded data removed]"
    }
   },
   "cell_type": "markdown",
   "id": "7d81682f",
   "metadata": {},
   "source": [
    "## #81 compute the hypotenuse\n",
    "\n",
    "Write function that takes lengths of two shorter sides of right triangle as parameters. \n",
    "Return hypotenuse of triangle using Pythagorean theorem, as function's result. \n",
    "Include main program that reads the lengths of shorter sides from the user, uses funtion to compute the hypotenuse. \n",
    "\n",
    "![image.png](attachment:image.png)"
   ]
  },
  {
   "cell_type": "code",
   "execution_count": 15,
   "id": "bb69fe27",
   "metadata": {},
   "outputs": [
    {
     "name": "stdout",
     "output_type": "stream",
     "text": [
      "Short side 1:2\n",
      "Short side 2:3\n",
      "The hypotenuse length is: 13\n"
     ]
    }
   ],
   "source": [
    "def hypotenuse(a, b):\n",
    "    return a**2 + b**2\n",
    "     \n",
    "def main():\n",
    "    a = int(input('Short side 1:'))\n",
    "    b = int(input('Short side 2:'))\n",
    "    \n",
    "    print('The hypotenuse length is:', hypotenuse(a, b))\n",
    "main()"
   ]
  },
  {
   "cell_type": "markdown",
   "id": "f079eb40",
   "metadata": {},
   "source": [
    "### "
   ]
  }
 ],
 "metadata": {
  "kernelspec": {
   "display_name": "Python 3 (unsupervised)",
   "language": "python",
   "name": "unsupervised"
  },
  "language_info": {
   "codemirror_mode": {
    "name": "ipython",
    "version": 3
   },
   "file_extension": ".py",
   "mimetype": "text/x-python",
   "name": "python",
   "nbconvert_exporter": "python",
   "pygments_lexer": "ipython3",
   "version": "3.8.12"
  }
 },
 "nbformat": 4,
 "nbformat_minor": 5
}

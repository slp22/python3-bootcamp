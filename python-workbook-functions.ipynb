{
 "cells": [
  {
   "cell_type": "markdown",
   "id": "5dead951",
   "metadata": {},
   "source": [
    "[The Python Workbook: A Brief Introduction with Exercises and Solutions](https://link.springer.com/book/10.1007/978-3-319-14240-1) by Ben Stephenson"
   ]
  },
  {
   "cell_type": "markdown",
   "id": "8d5e93dd",
   "metadata": {},
   "source": [
    "# functions (p 39) "
   ]
  },
  {
   "attachments": {},
   "cell_type": "markdown",
   "id": "7d81682f",
   "metadata": {},
   "source": [
    "## #81 compute the hypotenuse "
   ]
  },
  {
   "cell_type": "code",
   "execution_count": null,
   "id": "9d7e480c",
   "metadata": {},
   "outputs": [],
   "source": [
    "def hypotenuse(a, b):\n",
    "    return a**2 + b**2\n",
    "     \n",
    "def main():\n",
    "    a = int(input('Short side 1:'))\n",
    "    b = int(input('Short side 2:'))\n",
    "    print('The hypotenuse length is:', hypotenuse(a, b))\n",
    "main()"
   ]
  },
  {
   "cell_type": "markdown",
   "id": "26623d6b",
   "metadata": {},
   "source": [
    "## #82 taxi fare"
   ]
  },
  {
   "cell_type": "code",
   "execution_count": null,
   "id": "ac0d1b51",
   "metadata": {},
   "outputs": [],
   "source": [
    "def taxi_fare(dist):\n",
    "    km_to_m = dist*1000\n",
    "    base_fare = 4\n",
    "    meter_fare = (km_to_m/140)*0.25\n",
    "    total_fare = base_fare + meter_fare\n",
    "    return round(total_fare, 2)\n",
    "\n",
    "def main():\n",
    "    dist = int(input('Enter the number if kilometers traveled: '))\n",
    "    print('Your fare for traveling', dist, 'km is $', taxi_fare(dist))\n",
    "main()"
   ]
  },
  {
   "cell_type": "markdown",
   "id": "060a3156",
   "metadata": {},
   "source": [
    "## #83 shipping calculator"
   ]
  },
  {
   "cell_type": "code",
   "execution_count": 2,
   "id": "ba658a37",
   "metadata": {},
   "outputs": [
    {
     "name": "stdout",
     "output_type": "stream",
     "text": [
      "Enter the number of items to ship: 2\n",
      "Your charge for shipping 2 items is $ 13.9\n"
     ]
    }
   ],
   "source": [
    "def shipping_charge(num):\n",
    "    additional_items = num-1\n",
    "    additional_price = additional_items * 2.95\n",
    "    base_shipping = 10.95\n",
    "    total_shipping = round(base_shipping + additional_price, 2)\n",
    "    return total_shipping\n",
    "\n",
    "def main():\n",
    "    num = int(input('Enter the number of items to ship: '))\n",
    "    print('Your charge for shipping', num, 'items is $', shipping_charge(num))\n",
    "main()"
   ]
  },
  {
   "cell_type": "markdown",
   "id": "6d895d8a",
   "metadata": {},
   "source": [
    "## #84 median three values"
   ]
  },
  {
   "cell_type": "code",
   "execution_count": null,
   "id": "956bbd47",
   "metadata": {},
   "outputs": [],
   "source": [
    "def median(a,b,c):\n",
    "    sorted_values = sorted([a,b,c])\n",
    "    print('sorted_values', sorted_values)\n",
    "    return sorted_values[1]\n",
    "\n",
    "def main():\n",
    "    a = float(input('Enter first value: '))\n",
    "    b = float(input('Enter second value: '))\n",
    "    c = float(input('Enter third value: '))\n",
    "    print('The median is', median(a,b,c))\n",
    "main()  "
   ]
  },
  {
   "cell_type": "markdown",
   "id": "ff4c2d81",
   "metadata": {},
   "source": [
    "# #85 convert int to ordinal num"
   ]
  },
  {
   "cell_type": "code",
   "execution_count": null,
   "id": "b7feddce",
   "metadata": {},
   "outputs": [],
   "source": [
    "def int_to_ordinal(num):\n",
    "    ordinals = {1:'first', 2:'second', 3:'third', 4:'fourth', 5:'fifth', \n",
    "                6:'sixth', 7:'seventh', 8:'eighth', 9:'ninth', 10:'tenth', \n",
    "                11:'eleventh', 12:'twelveth'}\n",
    "    if num > 12:\n",
    "        return ('empty string')\n",
    "    else:\n",
    "        ordinal = ordinals.get(num)\n",
    "        return ordinal\n",
    "    \n",
    "def main():\n",
    "    num = int(input('Enter a number betwen 1 and 12: '))\n",
    "    print(int_to_ordinal(num))\n",
    "main()"
   ]
  },
  {
   "cell_type": "markdown",
   "id": "e1d5a514",
   "metadata": {},
   "source": [
    "## #86 12 days of christmas"
   ]
  },
  {
   "cell_type": "code",
   "execution_count": 1,
   "id": "2c340828",
   "metadata": {},
   "outputs": [
    {
     "ename": "NameError",
     "evalue": "name 'int_to_ordinal' is not defined",
     "output_type": "error",
     "traceback": [
      "\u001b[0;31m---------------------------------------------------------------------------\u001b[0m",
      "\u001b[0;31mNameError\u001b[0m                                 Traceback (most recent call last)",
      "Cell \u001b[0;32mIn[1], line 36\u001b[0m\n\u001b[1;32m     34\u001b[0m     \u001b[38;5;28;01mfor\u001b[39;00m verse \u001b[38;5;129;01min\u001b[39;00m \u001b[38;5;28mrange\u001b[39m(\u001b[38;5;241m1\u001b[39m,\u001b[38;5;241m13\u001b[39m):\n\u001b[1;32m     35\u001b[0m         displayVerse(verse)\n\u001b[0;32m---> 36\u001b[0m \u001b[43mmain\u001b[49m\u001b[43m(\u001b[49m\u001b[43m)\u001b[49m\n",
      "Cell \u001b[0;32mIn[1], line 35\u001b[0m, in \u001b[0;36mmain\u001b[0;34m()\u001b[0m\n\u001b[1;32m     33\u001b[0m \u001b[38;5;28;01mdef\u001b[39;00m \u001b[38;5;21mmain\u001b[39m():\n\u001b[1;32m     34\u001b[0m     \u001b[38;5;28;01mfor\u001b[39;00m verse \u001b[38;5;129;01min\u001b[39;00m \u001b[38;5;28mrange\u001b[39m(\u001b[38;5;241m1\u001b[39m,\u001b[38;5;241m13\u001b[39m):\n\u001b[0;32m---> 35\u001b[0m         \u001b[43mdisplayVerse\u001b[49m\u001b[43m(\u001b[49m\u001b[43mverse\u001b[49m\u001b[43m)\u001b[49m\n",
      "Cell \u001b[0;32mIn[1], line 4\u001b[0m, in \u001b[0;36mdisplayVerse\u001b[0;34m(num)\u001b[0m\n\u001b[1;32m      3\u001b[0m \u001b[38;5;28;01mdef\u001b[39;00m \u001b[38;5;21mdisplayVerse\u001b[39m(num):\n\u001b[0;32m----> 4\u001b[0m     \u001b[38;5;28mprint\u001b[39m(\u001b[38;5;124m'\u001b[39m\u001b[38;5;124mOn the\u001b[39m\u001b[38;5;124m'\u001b[39m, \u001b[43mint_to_ordinal\u001b[49m(num), \u001b[38;5;124m'\u001b[39m\u001b[38;5;124mday of Christmas my true love sent to me:\u001b[39m\u001b[38;5;124m'\u001b[39m)\n\u001b[1;32m      5\u001b[0m     \u001b[38;5;28;01mif\u001b[39;00m num \u001b[38;5;241m>\u001b[39m\u001b[38;5;241m=\u001b[39m\u001b[38;5;241m12\u001b[39m:\n\u001b[1;32m      6\u001b[0m         \u001b[38;5;28mprint\u001b[39m(\u001b[38;5;124m'\u001b[39m\u001b[38;5;124m12 drummers drumming\u001b[39m\u001b[38;5;124m'\u001b[39m)\n",
      "\u001b[0;31mNameError\u001b[0m: name 'int_to_ordinal' is not defined"
     ]
    }
   ],
   "source": [
    "# int_to_ordinal\n",
    "\n",
    "def displayVerse(num):\n",
    "    print('On the', int_to_ordinal(num), 'day of Christmas my true love sent to me:')\n",
    "    if num >=12:\n",
    "        print('12 drummers drumming')\n",
    "    if num >= 11:\n",
    "        print('11 pipers piping')\n",
    "    if num >= 10:\n",
    "        print('10 lords a leaping')\n",
    "    if num >= 9:\n",
    "        print('9 ladies dancing')\n",
    "    if num >= 8:\n",
    "        print('8 maids a milking')\n",
    "    if num >= 7:\n",
    "        print('7 swans a swimming')\n",
    "    if num >= 6:\n",
    "        print('6 geese a laying')\n",
    "    if num >= 5:\n",
    "        print('5 golden rings')\n",
    "    if num >= 4 :\n",
    "        print('4 calling brids')\n",
    "    if num >= 3:\n",
    "        print('3 French hens ')\n",
    "    if num >= 2:\n",
    "        print('2 turtle doves')\n",
    "    if num == 1:\n",
    "        print('And s', end=\" \")\n",
    "    else:\n",
    "        print('And a', end=\" \")\n",
    "    print('partridge in a pear tree')\n",
    "    \n",
    "def main():\n",
    "    for verse in range(1,13):\n",
    "        displayVerse(verse)\n",
    "main()"
   ]
  },
  {
   "cell_type": "markdown",
   "id": "01aa5ed6",
   "metadata": {},
   "source": [
    "## #87 center a string in the terminal"
   ]
  },
  {
   "cell_type": "code",
   "execution_count": null,
   "id": "1588a360",
   "metadata": {},
   "outputs": [],
   "source": [
    "WIDTH = 80\n",
    "\n",
    "def center(s, width):\n",
    "    spaces = (width - len(s))//2\n",
    "    result = ' '* spaces +s\n",
    "    return result\n",
    "\n",
    "def main():\n",
    "    print(center('A Famous Story', WIDTH))\n",
    "    print(center('by:', WIDTH))\n",
    "    print(center('Someone Famous', WIDTH))\n",
    "    print()\n",
    "    print('Once up on a time...')\n",
    "main()"
   ]
  },
  {
   "cell_type": "markdown",
   "id": "14065dc5",
   "metadata": {},
   "source": [
    "## #87 valid triangle"
   ]
  },
  {
   "cell_type": "code",
   "execution_count": null,
   "id": "6cdc6f16",
   "metadata": {
    "scrolled": true
   },
   "outputs": [],
   "source": [
    "def triangle(a,b,c):\n",
    "    return a**2 + b**2 == c**2 or b**2 + c**2 == a**2 or a**2 + c**2 == b**2\n",
    "def main():\n",
    "    a = int(input('length a:'))\n",
    "    b = int(input('length b:'))\n",
    "    c = int(input('lentgh c:'))\n",
    "    print(triangle(a,b,c))\n",
    "main()"
   ]
  },
  {
   "cell_type": "markdown",
   "id": "ca2b5f06",
   "metadata": {},
   "source": [
    "##  <span style=\"color:red;\"> #89 capitalize it</span>\n",
    "\n",
    "write fx that capitalizes the appropriate chac in string\n",
    "lower i = I if space before and after\n",
    "first letter of sentence capitalize\n",
    "and first non-space chac after . , ? !\n",
    "incl main prg reads string from user and cap\n"
   ]
  },
  {
   "cell_type": "code",
   "execution_count": null,
   "id": "1ffce88b",
   "metadata": {},
   "outputs": [],
   "source": [
    "def capitalize(s):\n",
    "    result = s.replace(' i ', ' I ') \n",
    "    return result\n",
    "#     if len(s) > 0:\n",
    "#         result = result[0].upper() + \\\n",
    "#                     result[1  : len(result)]\n",
    "        \n",
    "def main():\n",
    "    s = input('Enter a string: ')\n",
    "    capitalized = capitalize(s)\n",
    "    print(capitalized)\n",
    "main()"
   ]
  },
  {
   "cell_type": "markdown",
   "id": "7d7a3224",
   "metadata": {},
   "source": [
    "## <span style=\"color:red;\"> #90 does a string represent an integer?</span>\n",
    "\n",
    "\n",
    "fx isInteger determines if chac in string represent a valid integer <br/>\n",
    "ignore leading or trailing white space <br/>\n",
    "a string represents an int is its length is at least 1 and only has digits <br/>\n",
    "or if the first chac is + or - <br/>\n",
    "and the first chac is followed by 1+ chac, all of which are digits <br/>\n"
   ]
  },
  {
   "cell_type": "code",
   "execution_count": null,
   "id": "937dc59a",
   "metadata": {},
   "outputs": [],
   "source": [
    "def isInteger(s):\n",
    "    clean_s = s.strip()\n",
    "    if clean_s \n",
    "    return clean_s\n",
    "\n",
    "def main():\n",
    "    s = input('Enter a string: ')\n",
    "    return isInteger(s)\n",
    "main()\n",
    "    "
   ]
  },
  {
   "cell_type": "markdown",
   "id": "f71d79f9",
   "metadata": {},
   "source": [
    "## #91 operator precedence"
   ]
  },
  {
   "cell_type": "code",
   "execution_count": null,
   "id": "c05d897e",
   "metadata": {},
   "outputs": [],
   "source": [
    "def precedence(s):\n",
    "    if '**' in s:\n",
    "        return 3\n",
    "    elif '*' in s:\n",
    "        return 2\n",
    "    elif '/' in s:\n",
    "        return 2\n",
    "    elif '+' in s:\n",
    "        return 1\n",
    "    elif '-' in s:\n",
    "        return 1\n",
    "    else:\n",
    "        return -1\n",
    "\n",
    "def main():\n",
    "    s = input('Enter an operator: ')\n",
    "    print(precedence(s))\n",
    "main()"
   ]
  },
  {
   "cell_type": "markdown",
   "id": "f8914382",
   "metadata": {},
   "source": [
    "## #92 is a num a prime"
   ]
  },
  {
   "cell_type": "code",
   "execution_count": null,
   "id": "8c4a6fa9",
   "metadata": {},
   "outputs": [],
   "source": [
    "def isPrime(n):\n",
    "    if n <= 1:\n",
    "        return False\n",
    "    for i in range(2,n):\n",
    "        if n % i == 0:\n",
    "            return False\n",
    "    return True\n",
    "\n",
    "def main():\n",
    "    n = int(input('Enter a number greater than 1:'))\n",
    "    if isPrime(n):\n",
    "        print(n, 'is a prime.')\n",
    "    else:\n",
    "        print(n, 'is not a prime.')\n",
    "\n",
    "# call the main function if they file has not been imported\n",
    "if __name__ == '__main__':\n",
    "    main()"
   ]
  },
  {
   "cell_type": "markdown",
   "id": "f7714afc",
   "metadata": {},
   "source": [
    "## #93 next prime"
   ]
  },
  {
   "cell_type": "code",
   "execution_count": null,
   "id": "70acec7a",
   "metadata": {},
   "outputs": [],
   "source": [
    "def nextPrime(n):\n",
    "    next_prime = n\n",
    "    while isPrime(n) == False:\n",
    "        next_prime = n+1\n",
    "        if isPrime(next_prime) == True:\n",
    "            return next_prime\n",
    "    return next_prime\n",
    "nextPrime(3)   \n",
    "# Solved with help from www.geeksforgeeks.org/program-to-find-the-next-prime-number/"
   ]
  },
  {
   "cell_type": "markdown",
   "id": "af8bce1a",
   "metadata": {},
   "source": [
    "## #94 random password"
   ]
  },
  {
   "cell_type": "code",
   "execution_count": 1,
   "id": "470e7232",
   "metadata": {},
   "outputs": [],
   "source": [
    "from random import randint, randrange\n",
    "import random"
   ]
  },
  {
   "cell_type": "code",
   "execution_count": 392,
   "id": "f9bbf9de",
   "metadata": {},
   "outputs": [
    {
     "name": "stdout",
     "output_type": "stream",
     "text": [
      "Your random password is: Ywp@>I_rn\n"
     ]
    }
   ],
   "source": [
    "length_range = randint(8,12)\n",
    "# length_range = randint(1,10)\n",
    "min_ascii = 48 #33\n",
    "max_ascii = 122 #126\n",
    "\n",
    "# ASCII alphabet characters 0-9 : 48-57\n",
    "# ASCII alphabet characters A-Z : 65-90 \n",
    "# ASCII alphabet characters a-z : 97-122\n",
    "\n",
    "\n",
    "def randomPassword():\n",
    "    password = ''\n",
    "    if len(password) <= 10:\n",
    "        for i in range(length_range):\n",
    "            x = randrange(min_ascii, max_ascii)\n",
    "            password = password + chr(x)\n",
    "#         return 'password:', password, 'length =', length_range\n",
    "        return password\n",
    "def main():\n",
    "    print('Your random password is:', randomPassword())\n",
    "\n",
    "if __name__ == '__main__':\n",
    "    main()"
   ]
  },
  {
   "cell_type": "markdown",
   "id": "d2118bd4",
   "metadata": {},
   "source": [
    "## #95 random license plate"
   ]
  },
  {
   "cell_type": "code",
   "execution_count": 397,
   "id": "b106ef93",
   "metadata": {},
   "outputs": [
    {
     "name": "stdout",
     "output_type": "stream",
     "text": [
      "Your license plate is: 1006 RJD\n"
     ]
    }
   ],
   "source": [
    "# from random import randint\n",
    "\n",
    "#   old format 123 ABC\n",
    "#   new format 1234 ABC\n",
    "# ASCII alphabet characters A-Z : 65-90 \n",
    "# ASCII alphabet characters 0-9 : 48-57\n",
    "\n",
    "def licensePlate():\n",
    "    license_plate = ''\n",
    "\n",
    "#     nums generator\n",
    "    nums_range = randint(3,4)\n",
    "    \n",
    "    for i in range(nums_range):\n",
    "        num = random.randrange(48,57)\n",
    "        license_plate = license_plate + chr(num)\n",
    "    license_plate = license_plate + ' '\n",
    "        \n",
    "#     alpha generator\n",
    "    alpha = 3\n",
    "    \n",
    "    for i in range(alpha):\n",
    "        alpha = random.randrange(65,90)\n",
    "        license_plate = license_plate + chr(alpha)\n",
    "    \n",
    "    return license_plate\n",
    "    \n",
    "def main():\n",
    "    print('Your license plate is:', licensePlate())\n",
    "\n",
    "if __name__ == '__main__':\n",
    "    main()"
   ]
  },
  {
   "cell_type": "markdown",
   "id": "ac1ff7aa",
   "metadata": {},
   "source": [
    "## #96 check a password"
   ]
  },
  {
   "cell_type": "code",
   "execution_count": 16,
   "id": "c962ef80",
   "metadata": {},
   "outputs": [
    {
     "name": "stdout",
     "output_type": "stream",
     "text": [
      "Enter a password: 123\n",
      "That is not a good password.\n"
     ]
    }
   ],
   "source": [
    "# def checkPassword(s):\n",
    "\n",
    "#     #capture the result of each password test\n",
    "#     upper_test = 'fail'\n",
    "#     lower_test = 'fail'\n",
    "#     num_test = 'fail'\n",
    "    \n",
    "#     #test length\n",
    "#     if len(s) >= 8:\n",
    "#         #test each requirement\n",
    "#         for i in s:\n",
    "#             if i.isupper()==True:\n",
    "#                 upper_test = 'pass'\n",
    "#             elif i.islower()==True:\n",
    "#                 lower_test = 'pass'\n",
    "#             elif i.isnumeric()==True:\n",
    "#                 num_test = 'pass'\n",
    "    \n",
    "#     #evaluate results of all password tests\n",
    "#     if (upper_test == 'pass') and (lower_test == 'pass') and (num_test == 'pass'):\n",
    "#          return True\n",
    "#     else:\n",
    "#         return False\n",
    "\n",
    "# def main():\n",
    "#     s = str(input('Enter a password: '))\n",
    "#     if checkPassword(s):\n",
    "#         print('That is a good password.')\n",
    "#     else:\n",
    "#         print('That is not a good password.')\n",
    "\n",
    "# if __name__ == \"__main__\":\n",
    "#     main()"
   ]
  },
  {
   "cell_type": "code",
   "execution_count": null,
   "id": "6699fcbe",
   "metadata": {},
   "outputs": [],
   "source": [
    "# 2nd version that tells user what password is missing\n",
    "# missing main program  \n",
    "\n",
    "def checkPassword(s):\n",
    "    evaluation = ''\n",
    "\n",
    "    #capture the result of each password test\n",
    "    upper_test = 'Missing an upper case letter. '\n",
    "    lower_test = 'Missing a lower case letter. '\n",
    "    num_test = 'Missing a number. '\n",
    "    \n",
    "\n",
    "    #test length\n",
    "    if len(s) >= 8: \n",
    "        #test each criteria\n",
    "        for i in s:\n",
    "            if i.isupper()==True:\n",
    "                upper_test = 'pass'\n",
    "            if i.islower()==True:\n",
    "                lower_test = 'pass'\n",
    "            if i.isnumeric()==True:\n",
    "                num_test = 'pass'\n",
    "    else:\n",
    "        evaluation = 'Not long enough.'\n",
    "        return evaluation \n",
    "        \n",
    "    #evaluate results of all password tests\n",
    "    if (upper_test == 'pass') and (lower_test == 'pass') and (num_test == 'pass'):\n",
    "        evaluation = 'Your password matches all the criteria.'\n",
    "        return evaluation\n",
    "\n",
    "    #tell user what the password is missing\n",
    "    if (upper_test != 'pass'):\n",
    "        evaluation += upper_test\n",
    "    if (lower_test != 'pass'):\n",
    "        evaluation += lower_test\n",
    "    if (num_test != 'pass'):\n",
    "        evaluation += num_test\n",
    "    return evaluation\n",
    "\n",
    "def main():\n",
    "    s = str(input('Enter a password with 1 capital letter, 1 lower case, and 1 number: '))\n",
    "    while checkPassword(s) != 'Your password matches all the criteria.':\n",
    "        s = str(input('Try another password: '))\n",
    "    else:\n",
    "        print(checkPassword(s))\n",
    "\n",
    "if __name__ == \"__main__\":\n",
    "    main()"
   ]
  },
  {
   "cell_type": "markdown",
   "id": "f1c20dd7",
   "metadata": {},
   "source": [
    "## #97 random good password"
   ]
  },
  {
   "cell_type": "code",
   "execution_count": 259,
   "id": "f5465c13",
   "metadata": {},
   "outputs": [
    {
     "name": "stdout",
     "output_type": "stream",
     "text": [
      "Missing a number.  `y=y?dK_ZSfD\n",
      "Your password is gkMv4hsTuEXC\n",
      "It took 1 attempt(s).\n"
     ]
    }
   ],
   "source": [
    "# from random import randint, randrange\n",
    "# import random\n",
    "\n",
    "def main():\n",
    "    s = randomPassword() # tomato\n",
    "#     print(\"Password is \", s)\n",
    "    counter = 0\n",
    "    while checkPassword(s) != 'Your password matches all the criteria.':\n",
    "        counter += 1\n",
    "        print(checkPassword(s), s)\n",
    "        s = randomPassword()\n",
    "    print('Your password is', s)\n",
    "    print('It took',counter,'attempt(s).')\n",
    "    \n",
    "if __name__ == '__main__':\n",
    "    main()"
   ]
  },
  {
   "cell_type": "markdown",
   "id": "6a48d698",
   "metadata": {},
   "source": [
    "## <span style=\"color:red;\"> #98 hexadecimal and decimal digits</span>"
   ]
  },
  {
   "cell_type": "code",
   "execution_count": null,
   "id": "2ade0f5f",
   "metadata": {},
   "outputs": [],
   "source": [
    "# convert between hexadecimal digits (0, 1, 2, 3, 4, 5, 6, 7, 8, 9, A, B, C, D, E and F) \n",
    "# and base 10 integers. \n",
    "\n",
    "def hex2int():\n",
    "# hex2int function is responsible for converting a string containing a single hexadec- imal digit to a base 10 integer, \n",
    "    \n",
    "def int2hex():\n",
    "# int2hex function is responsible for converting an integer between 0 and 15 to a single hexadecimal digit. \n",
    "    "
   ]
  },
  {
   "cell_type": "markdown",
   "id": "f00880fb",
   "metadata": {},
   "source": [
    "## <span style=\"color:red;\"> #99 arbitrary base conversions</span>\n",
    "\n",
    "- Write a program that allows the user to convert a number from one base to another. \n",
    "- Your program should support bases between 2 and 16 for both the input number and the result number. \n",
    "- If the user chooses a base outside of this range then an appropriate error message should be displayed and the program should exit. \n",
    "- Divide your program into several functions, including a function that converts from an arbitrary base to base 10, a function that converts from base 10 to an arbitrary base, and a main program that reads the bases and input number from the user. \n",
    "- You may find your solutions to Exercises 77, 78 and 98 helpful when completing this exercise."
   ]
  },
  {
   "cell_type": "code",
   "execution_count": null,
   "id": "c5a71d99",
   "metadata": {},
   "outputs": [],
   "source": []
  },
  {
   "cell_type": "markdown",
   "id": "093d3b29",
   "metadata": {},
   "source": [
    "## #100 days in a month"
   ]
  },
  {
   "cell_type": "code",
   "execution_count": 385,
   "id": "c073101d",
   "metadata": {},
   "outputs": [
    {
     "name": "stdout",
     "output_type": "stream",
     "text": [
      "Enter a month by number (1-12): 2\n",
      "Enter a year: 2024\n",
      "Number of days in: 29\n"
     ]
    }
   ],
   "source": [
    "def daysMonth(month, year):\n",
    "    month_dict = {1:31, 2:28, 3:31,4:30, \n",
    "                  5:31, 6:30, 7:31, 8:31,\n",
    "                 9:30, 10:31, 11:30, 12:31,\n",
    "                 13:29}\n",
    "    #check if leap year\n",
    "    if year % 4 ==0:\n",
    "        month = 13\n",
    "        num = month_dict.get(month)\n",
    "        print('Number of days in:',num)\n",
    "\n",
    "    #if not leap year\n",
    "    else:\n",
    "        num = month_dict.get(month)\n",
    "        print('Number of days:',num)\n",
    "\n",
    "def main():\n",
    "    month = int(input('Enter a month by number (1-12): '))\n",
    "    year = int(input('Enter a year: '))\n",
    "    return daysMonth(month, year)\n",
    "\n",
    "if __name__ == '__main__':\n",
    "    main()"
   ]
  },
  {
   "cell_type": "markdown",
   "id": "3552dbf2",
   "metadata": {},
   "source": [
    "## #101 reduce fraction to lowest terms"
   ]
  },
  {
   "cell_type": "code",
   "execution_count": 3,
   "id": "316f7d38",
   "metadata": {},
   "outputs": [
    {
     "name": "stdout",
     "output_type": "stream",
     "text": [
      "n: 6\n",
      "m: 63\n",
      "new_fraction (2, 21)\n"
     ]
    }
   ],
   "source": [
    "def greatestCommonDivisor(n,m):\n",
    "    d = min(n,m)\n",
    "    while m % d != 0 or n % d !=0:\n",
    "        d = d-1\n",
    "    return d\n",
    "\n",
    "def fractionLowest(n,m):\n",
    "    d = greatestCommonDivisor(n,m)\n",
    "    new_fraction = (n//d),(m//d)\n",
    "    print('new_fraction', new_fraction)\n",
    "    \n",
    "def main():\n",
    "    n = int(input('n: '))\n",
    "    m = int(input('m: '))\n",
    "    return fractionLowest(n,m)\n",
    "\n",
    "if __name__ == '__main__':\n",
    "    main()"
   ]
  },
  {
   "cell_type": "markdown",
   "id": "7a9da696",
   "metadata": {},
   "source": [
    "## <span style=\"color:red;\"> #102 reduce measures</span>\n",
    "\n",
    "- Many recipe books still use cups, tablespoons and teaspoons to describe the volumes of ingredients used when cooking or baking. \n",
    "- While such recipes are easy enough to follow if you have the appropriate measuring cups and spoons, they can be difficult to double, triple or quadruple when cooking Christmas dinner for the entire extended family. \n",
    "- For example, a recipe that calls for 4 tablespoons of an ingredient requires 16 tablespoons when quadrupled. \n",
    "- However, 16 tablespoons would be better expressed (and easier to measure) as 1 cup.\n",
    "- Write a function that expresses an imperial volume using the largest units possible. \n",
    "- The function will take the number of units as its first parameter, and the unit of measure (cup, tablespoon or teaspoon) as its second parameter. \n",
    "- Return a string representing the measure using the largest possible units as the function’s only result.\n",
    "- For example, if the function is provided with parameters representing 59 teaspoons then it should return the string “1 cup, 3 tablespoons, 2 teaspoons”.\n",
    "\n",
    "Hint: \n",
    "- 1 cup = 16 tablespoons\n",
    "- 1 tablespoon = 3 teaspoons"
   ]
  },
  {
   "cell_type": "code",
   "execution_count": 1,
   "id": "21396aa4",
   "metadata": {},
   "outputs": [],
   "source": [
    "# 48 teaspoons = 16 tablespoons = 1 cup\n",
    "#  3 teaspoons = 1 tablespoon \n",
    "\n",
    "# representing 59 teaspoons, return the string \n",
    "# “1 cup, 3 tablespoons, 2 teaspoons”.\n",
    "\n",
    "\n",
    "def reduceMeasures(teaspoon):\n",
    "    measure = 0\n",
    "    if teaspoon >= 48:\n",
    "#         teaspoons > tablespoons > cup\n",
    "        tablespoons = teaspoon// 3 #tablespoons\n",
    "        measure += tablespoons\n",
    "#     if tablespoons >=\n",
    "    print(tablespoons, 'tablespoons') \n",
    "    "
   ]
  },
  {
   "cell_type": "code",
   "execution_count": 2,
   "id": "ec375854",
   "metadata": {},
   "outputs": [
    {
     "name": "stdout",
     "output_type": "stream",
     "text": [
      "19 tablespoons\n"
     ]
    }
   ],
   "source": [
    "reduceMeasures(59)"
   ]
  },
  {
   "cell_type": "markdown",
   "id": "766b710a",
   "metadata": {},
   "source": [
    "## #103 magic dates"
   ]
  },
  {
   "cell_type": "code",
   "execution_count": 46,
   "id": "333ea7e2",
   "metadata": {},
   "outputs": [
    {
     "name": "stdout",
     "output_type": "stream",
     "text": [
      "Enter a four digit year: 1960\n",
      "Enter a month in number form: 6\n",
      "Enter a date: 10\n",
      "It's a magic date.\n"
     ]
    }
   ],
   "source": [
    "# 6 10 1960\n",
    "# 6*10 = 60\n",
    "\n",
    "def magicDates(month, date, year):\n",
    "    magic = 'Not a magic date.'\n",
    "    year_str = str(1960)\n",
    "    year_int = int(year_str[2:])\n",
    "    if month * date == year_int:\n",
    "        magic = \"It's a magic date.\"\n",
    "    print(magic)\n",
    "\n",
    "\n",
    "def main():\n",
    "    year = str(int(input('Enter a four digit year: ')))\n",
    "    month = int(input('Enter a month in number form: '))\n",
    "    date = int(input('Enter a date: '))\n",
    "    return magicDates(month, date, year)\n",
    "\n",
    "\n",
    "if __name__ == '__main__':\n",
    "    main()"
   ]
  }
 ],
 "metadata": {
  "kernelspec": {
   "display_name": "Python 3 (ipykernel)",
   "language": "python",
   "name": "python3"
  },
  "language_info": {
   "codemirror_mode": {
    "name": "ipython",
    "version": 3
   },
   "file_extension": ".py",
   "mimetype": "text/x-python",
   "name": "python",
   "nbconvert_exporter": "python",
   "pygments_lexer": "ipython3",
   "version": "3.10.9"
  }
 },
 "nbformat": 4,
 "nbformat_minor": 5
}

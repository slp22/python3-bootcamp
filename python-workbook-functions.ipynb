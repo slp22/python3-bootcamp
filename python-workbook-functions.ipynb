{
 "cells": [
  {
   "cell_type": "markdown",
   "id": "bc12fb8a",
   "metadata": {},
   "source": [
    "[The Python Workbook: A Brief Introduction with Exercises and Solutions](https://link.springer.com/book/10.1007/978-3-319-14240-1) by Ben Stephenson"
   ]
  },
  {
   "cell_type": "markdown",
   "id": "b3580f29",
   "metadata": {},
   "source": [
    "# functions (p 39) "
   ]
  },
  {
   "cell_type": "markdown",
   "id": "f8a37cb4",
   "metadata": {},
   "source": [
    "## #81 compute the hypotenuse\n",
    "\n",
    "Write function that takes lengths of two shorter sides of right triangle as parameters. \n",
    "Return hypotenuse of triangle using Pythagorean theorem, as function's result. \n",
    "Include main program that reads the lengths of shorter sides from the user, uses funtion to compute the hypotenuse. "
   ]
  },
  {
   "cell_type": "code",
   "execution_count": 10,
   "id": "c0d15d2a",
   "metadata": {},
   "outputs": [
    {
     "name": "stdout",
     "output_type": "stream",
     "text": [
      "Short side 1:2\n",
      "Short side 2:3\n",
      "side_1: 2 \n",
      " side_2: 3\n"
     ]
    }
   ],
   "source": [
    "side_1 = int(input('Short side 1:'))\n",
    "side_2 = int(input('Short side 2:'))\n",
    "print('side_1:', side_1,'\\n','side_2:',side_2)"
   ]
  },
  {
   "cell_type": "markdown",
   "id": "852d1f49",
   "metadata": {},
   "source": [
    "### "
   ]
  }
 ],
 "metadata": {
  "kernelspec": {
   "display_name": "Python 3 (unsupervised)",
   "language": "python",
   "name": "unsupervised"
  },
  "language_info": {
   "codemirror_mode": {
    "name": "ipython",
    "version": 3
   },
   "file_extension": ".py",
   "mimetype": "text/x-python",
   "name": "python",
   "nbconvert_exporter": "python",
   "pygments_lexer": "ipython3",
   "version": "3.8.12"
  }
 },
 "nbformat": 4,
 "nbformat_minor": 5
}

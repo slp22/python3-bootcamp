{
 "cells": [
  {
   "cell_type": "markdown",
   "id": "5dead951",
   "metadata": {},
   "source": [
    "[The Python Workbook: A Brief Introduction with Exercises and Solutions](https://link.springer.com/book/10.1007/978-3-319-14240-1) by Ben Stephenson"
   ]
  },
  {
   "cell_type": "markdown",
   "id": "8d5e93dd",
   "metadata": {},
   "source": [
    "# functions (p 39) "
   ]
  },
  {
   "attachments": {
    "image.png": {
     "image/png": "[encoded data removed]"
    }
   },
   "cell_type": "markdown",
   "id": "7d81682f",
   "metadata": {},
   "source": [
    "## #81 compute the hypotenuse\n",
    "\n",
    "Write function that takes lengths of two shorter sides of right triangle as parameters. \n",
    "Return hypotenuse of triangle using Pythagorean theorem, as function's result. \n",
    "Include main program that reads the lengths of shorter sides from the user, uses funtion to compute the hypotenuse. \n",
    "\n",
    "![image.png](attachment:image.png)"
   ]
  },
  {
   "cell_type": "code",
   "execution_count": 101,
   "id": "9d7e480c",
   "metadata": {},
   "outputs": [
    {
     "name": "stdout",
     "output_type": "stream",
     "text": [
      "Short side 1:2\n",
      "Short side 2:2\n",
      "The hypotenuse length is: 8\n"
     ]
    }
   ],
   "source": [
    "def hypotenuse(a, b):\n",
    "    return a**2 + b**2\n",
    "     \n",
    "def main():\n",
    "    a = int(input('Short side 1:'))\n",
    "    b = int(input('Short side 2:'))\n",
    "    \n",
    "    print('The hypotenuse length is:', hypotenuse(a, b))\n",
    "main()"
   ]
  },
  {
   "cell_type": "markdown",
   "id": "26623d6b",
   "metadata": {},
   "source": [
    "## #82 taxi fare\n",
    "\n",
    "taxi $4 base fare\n",
    "+ 0.25 per 140 meters\n",
    "\n",
    "Write fx takes distance travled (km) and\n",
    "returns total fare.\n",
    "Write main program that demonstrates the fx\n",
    "\n"
   ]
  },
  {
   "cell_type": "code",
   "execution_count": null,
   "id": "ac0d1b51",
   "metadata": {},
   "outputs": [],
   "source": [
    "def taxi_fare(dist):\n",
    "    km_to_m = dist*1000\n",
    "    base_fare = 4\n",
    "    meter_fare = (km_to_m/140)*0.25\n",
    "    total_fare = base_fare + meter_fare\n",
    "    return round(total_fare, 2)\n",
    "\n",
    "def main():\n",
    "    dist = int(input('Enter the number if kilometers traveled: '))\n",
    "    print('Your fare for traveling', dist, 'km is $', taxi_fare(dist))\n",
    "main()"
   ]
  },
  {
   "cell_type": "markdown",
   "id": "060a3156",
   "metadata": {},
   "source": [
    "## #83 shipping calculator\n",
    "\n",
    "express shipping rate of `$`10.95 first item\n",
    "+ `$`2.95 each subsuquent item\n",
    "\n",
    "Write function takes num of items only param\n",
    "Return shipping charge\n",
    "Include main program that reads the num of items purchased and displays shipping charge.\n"
   ]
  },
  {
   "cell_type": "code",
   "execution_count": null,
   "id": "ba658a37",
   "metadata": {},
   "outputs": [],
   "source": [
    "def shipping_charge(num):\n",
    "    additional_items = num-1\n",
    "    additional_price = additional_items * 2.95\n",
    "    base_shipping = 10.95\n",
    "    total_shipping = round(base_shipping + additional_price, 2)\n",
    "    return total_shipping\n",
    "\n",
    "def main():\n",
    "    num = int(input('Enter the number of items to ship: '))\n",
    "    print('Your charge for shipping', num, 'items is $', shipping_charge(num))\n",
    "main()"
   ]
  },
  {
   "cell_type": "code",
   "execution_count": null,
   "id": "ae986ab9",
   "metadata": {},
   "outputs": [],
   "source": [
    "shipping_charge(5)"
   ]
  },
  {
   "cell_type": "markdown",
   "id": "6d895d8a",
   "metadata": {},
   "source": [
    "## #84 median three values\n",
    "\n",
    "Write fx takes 3 nums as params\n",
    "returns median value\n"
   ]
  },
  {
   "cell_type": "code",
   "execution_count": null,
   "id": "956bbd47",
   "metadata": {},
   "outputs": [],
   "source": [
    "def median(a,b,c):\n",
    "    sorted_values = sorted([a,b,c])\n",
    "    print('sorted_values', sorted_values)\n",
    "    return sorted_values[1]\n",
    "\n",
    "def main():\n",
    "    a = float(input('Enter first value: '))\n",
    "    b = float(input('Enter second value: '))\n",
    "    c = float(input('Enter third value: '))\n",
    "    print('The median is', median(a,b,c))\n",
    "main()  "
   ]
  },
  {
   "cell_type": "markdown",
   "id": "ff4c2d81",
   "metadata": {},
   "source": [
    "# #85 convert int to ordinal num\n",
    "\n",
    "ordinal = first, second, thrid\n",
    "write fx takes int \n",
    "returns string with ordinal num\n",
    "Fx must handle int 1-12\n",
    "return empty string if outside param"
   ]
  },
  {
   "cell_type": "code",
   "execution_count": 46,
   "id": "b7feddce",
   "metadata": {},
   "outputs": [
    {
     "name": "stdout",
     "output_type": "stream",
     "text": [
      "Enter a number betwen 1 and 12: 1\n",
      "first\n"
     ]
    }
   ],
   "source": [
    "def int_to_ordinal(num):\n",
    "    ordinals = {1:'first', 2:'second', 3:'third', 4:'fourth', 5:'fifth', \n",
    "                6:'sixth', 7:'seventh', 8:'eighth', 9:'ninth', 10:'tenth', \n",
    "                11:'eleventh', 12:'twelveth'}\n",
    "    if num > 12:\n",
    "        return ('empty string')\n",
    "    else:\n",
    "        ordinal = ordinals.get(num)\n",
    "        return ordinal\n",
    "    \n",
    "def main():\n",
    "    num = int(input('Enter a number betwen 1 and 12: '))\n",
    "    print(int_to_ordinal(num))\n",
    "main()"
   ]
  },
  {
   "cell_type": "markdown",
   "id": "e1d5a514",
   "metadata": {},
   "source": [
    "## #86 12 days of christmas\n",
    "\n",
    "Write a program displays the lyrics. \n",
    "Write fx takes the verse num as param, displays the specified verse. \n",
    "Then call that fx 12 times with int that increase from 1 to 12. \n"
   ]
  },
  {
   "cell_type": "code",
   "execution_count": 47,
   "id": "2c340828",
   "metadata": {},
   "outputs": [
    {
     "name": "stdout",
     "output_type": "stream",
     "text": [
      "On the first day of Christmas my true love sent to me:\n",
      "And s partridge in a pear tree\n",
      "On the second day of Christmas my true love sent to me:\n",
      "2 turtle doves\n",
      "And a partridge in a pear tree\n",
      "On the third day of Christmas my true love sent to me:\n",
      "3 French hens \n",
      "2 turtle doves\n",
      "And a partridge in a pear tree\n",
      "On the fourth day of Christmas my true love sent to me:\n",
      "4 calling brids\n",
      "3 French hens \n",
      "2 turtle doves\n",
      "And a partridge in a pear tree\n",
      "On the fifth day of Christmas my true love sent to me:\n",
      "5 golden rings\n",
      "4 calling brids\n",
      "3 French hens \n",
      "2 turtle doves\n",
      "And a partridge in a pear tree\n",
      "On the sixth day of Christmas my true love sent to me:\n",
      "6 geese a laying\n",
      "5 golden rings\n",
      "4 calling brids\n",
      "3 French hens \n",
      "2 turtle doves\n",
      "And a partridge in a pear tree\n",
      "On the seventh day of Christmas my true love sent to me:\n",
      "7 swans a swimming\n",
      "6 geese a laying\n",
      "5 golden rings\n",
      "4 calling brids\n",
      "3 French hens \n",
      "2 turtle doves\n",
      "And a partridge in a pear tree\n",
      "On the eighth day of Christmas my true love sent to me:\n",
      "8 maids a milking\n",
      "7 swans a swimming\n",
      "6 geese a laying\n",
      "5 golden rings\n",
      "4 calling brids\n",
      "3 French hens \n",
      "2 turtle doves\n",
      "And a partridge in a pear tree\n",
      "On the ninth day of Christmas my true love sent to me:\n",
      "9 ladies dancing\n",
      "8 maids a milking\n",
      "7 swans a swimming\n",
      "6 geese a laying\n",
      "5 golden rings\n",
      "4 calling brids\n",
      "3 French hens \n",
      "2 turtle doves\n",
      "And a partridge in a pear tree\n",
      "On the tenth day of Christmas my true love sent to me:\n",
      "10 lords a leaping\n",
      "9 ladies dancing\n",
      "8 maids a milking\n",
      "7 swans a swimming\n",
      "6 geese a laying\n",
      "5 golden rings\n",
      "4 calling brids\n",
      "3 French hens \n",
      "2 turtle doves\n",
      "And a partridge in a pear tree\n",
      "On the eleventh day of Christmas my true love sent to me:\n",
      "11 pipers piping\n",
      "10 lords a leaping\n",
      "9 ladies dancing\n",
      "8 maids a milking\n",
      "7 swans a swimming\n",
      "6 geese a laying\n",
      "5 golden rings\n",
      "4 calling brids\n",
      "3 French hens \n",
      "2 turtle doves\n",
      "And a partridge in a pear tree\n",
      "On the twelveth day of Christmas my true love sent to me:\n",
      "12 drummers drumming\n",
      "11 pipers piping\n",
      "10 lords a leaping\n",
      "9 ladies dancing\n",
      "8 maids a milking\n",
      "7 swans a swimming\n",
      "6 geese a laying\n",
      "5 golden rings\n",
      "4 calling brids\n",
      "3 French hens \n",
      "2 turtle doves\n",
      "And a partridge in a pear tree\n"
     ]
    }
   ],
   "source": [
    "# int_to_ordinal\n",
    "\n",
    "def displayVerse(num):\n",
    "    print('On the', int_to_ordinal(num), 'day of Christmas my true love sent to me:')\n",
    "    if num >=12:\n",
    "        print('12 drummers drumming')\n",
    "    if num >= 11:\n",
    "        print('11 pipers piping')\n",
    "    if num >= 10:\n",
    "        print('10 lords a leaping')\n",
    "    if num >= 9:\n",
    "        print('9 ladies dancing')\n",
    "    if num >= 8:\n",
    "        print('8 maids a milking')\n",
    "    if num >= 7:\n",
    "        print('7 swans a swimming')\n",
    "    if num >= 6:\n",
    "        print('6 geese a laying')\n",
    "    if num >= 5:\n",
    "        print('5 golden rings')\n",
    "    if num >= 4 :\n",
    "        print('4 calling brids')\n",
    "    if num >= 3:\n",
    "        print('3 French hens ')\n",
    "    if num >= 2:\n",
    "        print('2 turtle doves')\n",
    "    if num == 1:\n",
    "        print('And s', end=\" \")\n",
    "    else:\n",
    "        print('And a', end=\" \")\n",
    "    print('partridge in a pear tree')\n",
    "    \n",
    "def main():\n",
    "    for verse in range(1,13):\n",
    "        displayVerse(verse)\n",
    "main()"
   ]
  },
  {
   "cell_type": "markdown",
   "id": "01aa5ed6",
   "metadata": {},
   "source": [
    "## #87 center a string in the terminal\n",
    "\n",
    "write fx 1st args string, 2nd arg width of terminal in characters\n",
    "return new string incl orignal string and correct num leading spaces so org string centered when printed\n",
    "do not add chac to end string\n",
    "incl main prg to demo fx"
   ]
  },
  {
   "cell_type": "code",
   "execution_count": 79,
   "id": "1588a360",
   "metadata": {},
   "outputs": [
    {
     "name": "stdout",
     "output_type": "stream",
     "text": [
      "                                 A Famous Story\n",
      "                                      by:\n",
      "                                 Someone Famous\n",
      "\n",
      "Once up on a time...\n"
     ]
    }
   ],
   "source": [
    "WIDTH = 80\n",
    "\n",
    "def center(s, width):\n",
    "    spaces = (width - len(s))//2\n",
    "    result = ' '* spaces +s\n",
    "    return result\n",
    "\n",
    "def main():\n",
    "    print(center('A Famous Story', WIDTH))\n",
    "    print(center('by:', WIDTH))\n",
    "    print(center('Someone Famous', WIDTH))\n",
    "    print()\n",
    "    print('Once up on a time...')\n",
    "main()"
   ]
  },
  {
   "cell_type": "markdown",
   "id": "14065dc5",
   "metadata": {},
   "source": [
    "## #87 is it a valid triangle?\n",
    "\n",
    "write fx to determine if 3 lengths can form a triangle\n",
    "fx takes 3 params\n",
    "returns Boolean results\n",
    "write prg that reads 3 lengths from user to demo fx"
   ]
  },
  {
   "cell_type": "code",
   "execution_count": 110,
   "id": "6cdc6f16",
   "metadata": {
    "scrolled": true
   },
   "outputs": [
    {
     "name": "stdout",
     "output_type": "stream",
     "text": [
      "length a:9\n",
      "length b:12\n",
      "lentgh c:15\n",
      "True\n"
     ]
    }
   ],
   "source": [
    "def triangle(a,b,c):\n",
    "    return a**2 + b**2 == c**2 or b**2 + c**2 == a**2 or a**2 + c**2 == b**2\n",
    "def main():\n",
    "    a = int(input('length a:'))\n",
    "    b = int(input('length b:'))\n",
    "    c = int(input('lentgh c:'))\n",
    "    print(triangle(a,b,c))\n",
    "main()\n"
   ]
  },
  {
   "cell_type": "markdown",
   "id": "ca2b5f06",
   "metadata": {},
   "source": [
    "## #89 🔺 capitalize it\n",
    "\n",
    "write fx that capitalizes the appropriate chac in string\n",
    "lower i = I if space before and after\n",
    "first letter of sentence capitalize\n",
    "and first non-space chac after . , ? !\n",
    "incl main prg reads string from user and cap\n"
   ]
  },
  {
   "cell_type": "code",
   "execution_count": 125,
   "id": "1ffce88b",
   "metadata": {},
   "outputs": [
    {
     "name": "stdout",
     "output_type": "stream",
     "text": [
      "Enter a string:  i love i \n",
      " I love I \n"
     ]
    }
   ],
   "source": [
    "def capitalize(s):\n",
    "    result = s.replace(' i ', ' I ') \n",
    "    return result\n",
    "#     if len(s) > 0:\n",
    "#         result = result[0].upper() + \\\n",
    "#                     result[1  : len(result)]\n",
    "        \n",
    "def main():\n",
    "    s = input('Enter a string: ')\n",
    "    capitalized = capitalize(s)\n",
    "    print(capitalized)\n",
    "main()"
   ]
  },
  {
   "cell_type": "markdown",
   "id": "7d7a3224",
   "metadata": {},
   "source": [
    "## #90 🔺 does a string represent an integer?\n",
    "\n",
    "fx isInteger determines if chac in string represent a valid integer <br/>\n",
    "ignore leading or trailing white space <br/>\n",
    "a string represents an int is its length is at least 1 and only has digits <br/>\n",
    "or if the first chac is + or - <br/>\n",
    "and the first chac is followed by 1+ chac, all of which are digits <br/>\n"
   ]
  },
  {
   "cell_type": "code",
   "execution_count": 132,
   "id": "937dc59a",
   "metadata": {},
   "outputs": [
    {
     "name": "stdout",
     "output_type": "stream",
     "text": [
      "Enter a string:    hello \n"
     ]
    },
    {
     "data": {
      "text/plain": [
       "'hello'"
      ]
     },
     "execution_count": 132,
     "metadata": {},
     "output_type": "execute_result"
    }
   ],
   "source": [
    "def isInteger(s):\n",
    "    clean_s = s.strip()\n",
    "    if clean_s \n",
    "    return clean_s\n",
    "\n",
    "def main():\n",
    "    s = input('Enter a string: ')\n",
    "    return isInteger(s)\n",
    "main()\n",
    "    "
   ]
  },
  {
   "cell_type": "markdown",
   "id": "f71d79f9",
   "metadata": {},
   "source": [
    "## #91 operator precedence\n",
    "\n",
    "fx precedence return int representing the precedence of a math operator <br/>\n",
    "a string containing the operator will be pass to the f as the only param <br/>\n",
    "fx should return:\n",
    "- 1 for + and - \n",
    "- 2 for * and \\\n",
    "- 3 for ^ (**) <br/>\n",
    "\n",
    "if string is not one of these operators, return -1 <br/>\n",
    "\n",
    "incl main program \n"
   ]
  },
  {
   "cell_type": "code",
   "execution_count": 153,
   "id": "c05d897e",
   "metadata": {},
   "outputs": [
    {
     "name": "stdout",
     "output_type": "stream",
     "text": [
      "Enter an operator: first *\n",
      "2\n"
     ]
    }
   ],
   "source": [
    "def precedence(s):\n",
    "    if '**' in s:\n",
    "        return 3\n",
    "    elif '*' in s:\n",
    "        return 2\n",
    "    elif '/' in s:\n",
    "        return 2\n",
    "    elif '+' in s:\n",
    "        return 1\n",
    "    elif '-' in s:\n",
    "        return 1\n",
    "    else:\n",
    "        return -1\n",
    "\n",
    "def main():\n",
    "    s = input('Enter an operator: ')\n",
    "    print(precedence(s))\n",
    "main()"
   ]
  },
  {
   "cell_type": "markdown",
   "id": "f8914382",
   "metadata": {},
   "source": [
    "## #92 is a num a prime?\n",
    "\n",
    "prime num if greater than 1 and only divisisble by 1 and itself <br/>\n",
    "write fx determine num is prime <br/> \n",
    "return True False <br/>\n",
    "Ensure that the main program will not run if the file containing your solution is imported\n",
    "into another program."
   ]
  },
  {
   "cell_type": "code",
   "execution_count": 1,
   "id": "8c4a6fa9",
   "metadata": {},
   "outputs": [
    {
     "name": "stdout",
     "output_type": "stream",
     "text": [
      "Enter a number greater than 1:4\n",
      "4 is not a prime.\n"
     ]
    }
   ],
   "source": [
    "def isPrime(n):\n",
    "    if n <= 1:\n",
    "        return False\n",
    "    for i in range(2,n):\n",
    "        if n % i == 0:\n",
    "            return False\n",
    "    return True\n",
    "\n",
    "def main():\n",
    "    n = int(input('Enter a number greater than 1:'))\n",
    "    if isPrime(n):\n",
    "        print(n, 'is a prime.')\n",
    "    else:\n",
    "        print(n, 'is not a prime.')\n",
    "\n",
    "# call the main function if they file has not been imported\n",
    "if __name__ == '__main__':\n",
    "    main()"
   ]
  },
  {
   "cell_type": "markdown",
   "id": "f7714afc",
   "metadata": {},
   "source": [
    "## #93 next prime\n",
    "\n",
    "fx nextPrime that finds and returns the first prime larger than int n <br/>\n",
    "n passed as only param <br/>\n",
    "incl main progr to read in from user and display the next prime than entered value <br/>\n",
    "import solution to ex92 to complete this exercise\n"
   ]
  },
  {
   "cell_type": "code",
   "execution_count": 121,
   "id": "70acec7a",
   "metadata": {},
   "outputs": [],
   "source": [
    "def nextPrime(n):\n",
    "    next_prime = n\n",
    "    while isPrime(n) == False:\n",
    "        next_prime = n+1\n",
    "        if isPrime(next_prime) == True:\n",
    "            return next_prime\n",
    "    return next_prime\n",
    "    \n",
    "# Solved with help from www.geeksforgeeks.org/program-to-find-the-next-prime-number/"
   ]
  },
  {
   "cell_type": "code",
   "execution_count": 122,
   "id": "d747f10e",
   "metadata": {},
   "outputs": [
    {
     "data": {
      "text/plain": [
       "3"
      ]
     },
     "execution_count": 122,
     "metadata": {},
     "output_type": "execute_result"
    }
   ],
   "source": [
    "nextPrime(3)"
   ]
  },
  {
   "cell_type": "markdown",
   "id": "dab0d5d4",
   "metadata": {},
   "source": [
    "## #94 random password\n",
    "\n",
    "- write fx generates random passwd\n",
    "- len between 7-10 charac \n",
    "- each chac selected from positions 33 to 126 in ASCII table\n",
    "- fx takes no params\n",
    "- use chr function https://www.w3schools.com/python/ref_func_chr.asp\n",
    "    - The chr() function returns the character that represents the specified unicode."
   ]
  },
  {
   "cell_type": "code",
   "execution_count": 219,
   "id": "5a8d74b2",
   "metadata": {},
   "outputs": [
    {
     "name": "stdout",
     "output_type": "stream",
     "text": [
      "Your random password is: ('password:', '=],ijyE<', 'length =', 8)\n"
     ]
    }
   ],
   "source": [
    "from random import randint\n",
    "\n",
    "length_range = randint(7,10)\n",
    "min_ascii = 33\n",
    "max_ascii = 126\n",
    "\n",
    "def randomPassword():\n",
    "    password = ''\n",
    "    if len(password) <= 10:\n",
    "        for i in range(length_range):\n",
    "            x = random.randrange(min_ascii, max_ascii)\n",
    "            password = password + chr(x)\n",
    "        return 'password:', password, 'length =', length_range\n",
    "        \n",
    "def main():\n",
    "    print('Your random password is:', randomPassword())\n",
    "\n",
    "if __name__ == '__main__':\n",
    "    main()"
   ]
  },
  {
   "cell_type": "markdown",
   "id": "aee20bfe",
   "metadata": {},
   "source": [
    "## #96 random license plate\n",
    "\n",
    "- license plate format = 3-4 nums, 3 letters\n",
    "- write fx generate random license plate\n",
    "- fx have equal odds generating 3-4 nums\n",
    "- write main prg calls fx displays plate"
   ]
  },
  {
   "cell_type": "code",
   "execution_count": 261,
   "id": "f02cd85d",
   "metadata": {},
   "outputs": [
    {
     "data": {
      "text/plain": [
       "'0553MQC'"
      ]
     },
     "execution_count": 261,
     "metadata": {},
     "output_type": "execute_result"
    }
   ],
   "source": [
    "from random import randint\n",
    "\n",
    "#   old format 123 ABC\n",
    "#   new format 1234 ABC\n",
    "# ASCII alphabet characters A-Z : 65-90 \n",
    "# ASCII alphabet characters 0-9 : 48-57\n",
    "\n",
    "\n",
    "\n",
    "\n",
    "def licensePlate():\n",
    "    license_plate = ''\n",
    "\n",
    "#     nums generator\n",
    "    nums_range = randint(3,4)\n",
    "\n",
    "    for i in range(nums_range):\n",
    "        num = random.randrange(48,57)\n",
    "        license_plate = license_plate + chr(num)\n",
    "        \n",
    "#     alpha generator\n",
    "    alpha = 3\n",
    "    for i in range(alpha):\n",
    "        alpha = random.randrange(65,90)\n",
    "        license_plate = license_plate + chr(alpha)\n",
    "    \n",
    "    return license_plate\n",
    "\n",
    "    \n",
    "def main():\n",
    "    print('Your license plate is:', licensePlate())\n",
    "\n",
    "    licensePlate()\n",
    "\n",
    "    "
   ]
  },
  {
   "cell_type": "code",
   "execution_count": null,
   "id": "0dfaf705",
   "metadata": {},
   "outputs": [],
   "source": []
  },
  {
   "cell_type": "code",
   "execution_count": null,
   "id": "4304c465",
   "metadata": {},
   "outputs": [],
   "source": []
  },
  {
   "cell_type": "code",
   "execution_count": null,
   "id": "02fe6cc2",
   "metadata": {},
   "outputs": [],
   "source": []
  },
  {
   "cell_type": "code",
   "execution_count": null,
   "id": "cedf054d",
   "metadata": {},
   "outputs": [],
   "source": []
  }
 ],
 "metadata": {
  "kernelspec": {
   "display_name": "Python 3 (ipykernel)",
   "language": "python",
   "name": "python3"
  },
  "language_info": {
   "codemirror_mode": {
    "name": "ipython",
    "version": 3
   },
   "file_extension": ".py",
   "mimetype": "text/x-python",
   "name": "python",
   "nbconvert_exporter": "python",
   "pygments_lexer": "ipython3",
   "version": "3.10.9"
  }
 },
 "nbformat": 4,
 "nbformat_minor": 5
}

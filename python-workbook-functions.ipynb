{
 "cells": [
  {
   "cell_type": "markdown",
   "id": "5dead951",
   "metadata": {},
   "source": [
    "[The Python Workbook: A Brief Introduction with Exercises and Solutions](https://link.springer.com/book/10.1007/978-3-319-14240-1) by Ben Stephenson"
   ]
  },
  {
   "cell_type": "markdown",
   "id": "8d5e93dd",
   "metadata": {},
   "source": [
    "# functions (p 39) "
   ]
  },
  {
   "attachments": {
    "image.png": {
     "image/png": "[encoded data removed]"
    }
   },
   "cell_type": "markdown",
   "id": "7d81682f",
   "metadata": {},
   "source": [
    "## #81 compute the hypotenuse\n",
    "\n",
    "Write function that takes lengths of two shorter sides of right triangle as parameters. \n",
    "Return hypotenuse of triangle using Pythagorean theorem, as function's result. \n",
    "Include main program that reads the lengths of shorter sides from the user, uses funtion to compute the hypotenuse. \n",
    "\n",
    "![image.png](attachment:image.png)"
   ]
  },
  {
   "cell_type": "code",
   "execution_count": null,
   "id": "07f877ab",
   "metadata": {},
   "outputs": [],
   "source": [
    "def hypotenuse(a, b):\n",
    "    return a**2 + b**2\n",
    "     \n",
    "def main():\n",
    "    a = int(input('Short side 1:'))\n",
    "    b = int(input('Short side 2:'))\n",
    "    \n",
    "    print('The hypotenuse length is:', hypotenuse(a, b))\n",
    "main()"
   ]
  },
  {
   "cell_type": "markdown",
   "id": "e68297c5",
   "metadata": {},
   "source": [
    "## #82 taxi fare\n",
    "\n",
    "taxi $4 base fare\n",
    "+ 0.25 per 140 meters\n",
    "\n",
    "Write fx takes distance travled (km) and\n",
    "returns total fare.\n",
    "Write main program that demonstrates the fx\n",
    "\n"
   ]
  },
  {
   "cell_type": "code",
   "execution_count": null,
   "id": "0a068555",
   "metadata": {},
   "outputs": [],
   "source": [
    "def taxi_fare(dist):\n",
    "    km_to_m = dist*1000\n",
    "    base_fare = 4\n",
    "    meter_fare = (km_to_m/140)*0.25\n",
    "    total_fare = base_fare + meter_fare\n",
    "    return round(total_fare, 2)\n",
    "\n",
    "def main():\n",
    "    dist = int(input('Enter the number if kilometers traveled: '))\n",
    "    print('Your fare for traveling', dist, 'km is $', taxi_fare(dist))\n",
    "main()"
   ]
  },
  {
   "cell_type": "markdown",
   "id": "b66844aa",
   "metadata": {},
   "source": [
    "## #83 shipping calculator\n",
    "\n",
    "express shipping rate of `$`10.95 first item\n",
    "+ `$`2.95 each subsuquent item\n",
    "\n",
    "Write function takes num of items only param\n",
    "Return shipping charge\n",
    "Include main program that reads the num of items purchased and displays shipping charge.\n"
   ]
  },
  {
   "cell_type": "code",
   "execution_count": null,
   "id": "e8673391",
   "metadata": {},
   "outputs": [],
   "source": [
    "def shipping_charge(num):\n",
    "    additional_items = num-1\n",
    "    additional_price = additional_items * 2.95\n",
    "    base_shipping = 10.95\n",
    "    total_shipping = round(base_shipping + additional_price, 2)\n",
    "    return total_shipping\n",
    "\n",
    "def main():\n",
    "    num = int(input('Enter the number of items to ship: '))\n",
    "    print('Your charge for shipping', num, 'items is $', shipping_charge(num))\n",
    "main()"
   ]
  },
  {
   "cell_type": "code",
   "execution_count": null,
   "id": "6082f72a",
   "metadata": {},
   "outputs": [],
   "source": [
    "shipping_charge(5)"
   ]
  },
  {
   "cell_type": "markdown",
   "id": "b85d9ee1",
   "metadata": {},
   "source": [
    "## #84 median three values\n",
    "\n",
    "Write fx takes 3 nums as params\n",
    "returns median value\n"
   ]
  },
  {
   "cell_type": "code",
   "execution_count": null,
   "id": "dbae3573",
   "metadata": {},
   "outputs": [],
   "source": [
    "def median(a,b,c):\n",
    "    sorted_values = sorted([a,b,c])\n",
    "    print('sorted_values', sorted_values)\n",
    "    return sorted_values[1]\n",
    "\n",
    "def main():\n",
    "    a = float(input('Enter first value: '))\n",
    "    b = float(input('Enter second value: '))\n",
    "    c = float(input('Enter third value: '))\n",
    "    print('The median is', median(a,b,c))\n",
    "main()  "
   ]
  },
  {
   "cell_type": "markdown",
   "id": "d170922b",
   "metadata": {},
   "source": [
    "# #85 convert int to ordinal num\n",
    "\n",
    "ordinal = first, second, thrid\n",
    "write fx takes int \n",
    "returns string with ordinal num\n",
    "Fx must handle int 1-12\n",
    "return empty string if outside param"
   ]
  },
  {
   "cell_type": "code",
   "execution_count": 46,
   "id": "6cee55e2",
   "metadata": {},
   "outputs": [
    {
     "name": "stdout",
     "output_type": "stream",
     "text": [
      "Enter a number betwen 1 and 12: 1\n",
      "first\n"
     ]
    }
   ],
   "source": [
    "def int_to_ordinal(num):\n",
    "    ordinals = {1:'first', 2:'second', 3:'third', 4:'fourth', 5:'fifth', \n",
    "                6:'sixth', 7:'seventh', 8:'eighth', 9:'ninth', 10:'tenth', \n",
    "                11:'eleventh', 12:'twelveth'}\n",
    "    if num > 12:\n",
    "        return ('empty string')\n",
    "    else:\n",
    "        ordinal = ordinals.get(num)\n",
    "        return ordinal\n",
    "    \n",
    "def main():\n",
    "    num = int(input('Enter a number betwen 1 and 12: '))\n",
    "    print(int_to_ordinal(num))\n",
    "main()"
   ]
  },
  {
   "cell_type": "markdown",
   "id": "bd9838ea",
   "metadata": {},
   "source": [
    "## #86 12 days of christmas\n",
    "\n",
    "Write a program displays the lyrics. \n",
    "Write fx takes the verse num as param, displays the specified verse. \n",
    "Then call that fx 12 times with int that increase from 1 to 12. \n"
   ]
  },
  {
   "cell_type": "code",
   "execution_count": 47,
   "id": "7d822ed5",
   "metadata": {},
   "outputs": [
    {
     "name": "stdout",
     "output_type": "stream",
     "text": [
      "On the first day of Christmas my true love sent to me:\n",
      "And s partridge in a pear tree\n",
      "On the second day of Christmas my true love sent to me:\n",
      "2 turtle doves\n",
      "And a partridge in a pear tree\n",
      "On the third day of Christmas my true love sent to me:\n",
      "3 French hens \n",
      "2 turtle doves\n",
      "And a partridge in a pear tree\n",
      "On the fourth day of Christmas my true love sent to me:\n",
      "4 calling brids\n",
      "3 French hens \n",
      "2 turtle doves\n",
      "And a partridge in a pear tree\n",
      "On the fifth day of Christmas my true love sent to me:\n",
      "5 golden rings\n",
      "4 calling brids\n",
      "3 French hens \n",
      "2 turtle doves\n",
      "And a partridge in a pear tree\n",
      "On the sixth day of Christmas my true love sent to me:\n",
      "6 geese a laying\n",
      "5 golden rings\n",
      "4 calling brids\n",
      "3 French hens \n",
      "2 turtle doves\n",
      "And a partridge in a pear tree\n",
      "On the seventh day of Christmas my true love sent to me:\n",
      "7 swans a swimming\n",
      "6 geese a laying\n",
      "5 golden rings\n",
      "4 calling brids\n",
      "3 French hens \n",
      "2 turtle doves\n",
      "And a partridge in a pear tree\n",
      "On the eighth day of Christmas my true love sent to me:\n",
      "8 maids a milking\n",
      "7 swans a swimming\n",
      "6 geese a laying\n",
      "5 golden rings\n",
      "4 calling brids\n",
      "3 French hens \n",
      "2 turtle doves\n",
      "And a partridge in a pear tree\n",
      "On the ninth day of Christmas my true love sent to me:\n",
      "9 ladies dancing\n",
      "8 maids a milking\n",
      "7 swans a swimming\n",
      "6 geese a laying\n",
      "5 golden rings\n",
      "4 calling brids\n",
      "3 French hens \n",
      "2 turtle doves\n",
      "And a partridge in a pear tree\n",
      "On the tenth day of Christmas my true love sent to me:\n",
      "10 lords a leaping\n",
      "9 ladies dancing\n",
      "8 maids a milking\n",
      "7 swans a swimming\n",
      "6 geese a laying\n",
      "5 golden rings\n",
      "4 calling brids\n",
      "3 French hens \n",
      "2 turtle doves\n",
      "And a partridge in a pear tree\n",
      "On the eleventh day of Christmas my true love sent to me:\n",
      "11 pipers piping\n",
      "10 lords a leaping\n",
      "9 ladies dancing\n",
      "8 maids a milking\n",
      "7 swans a swimming\n",
      "6 geese a laying\n",
      "5 golden rings\n",
      "4 calling brids\n",
      "3 French hens \n",
      "2 turtle doves\n",
      "And a partridge in a pear tree\n",
      "On the twelveth day of Christmas my true love sent to me:\n",
      "12 drummers drumming\n",
      "11 pipers piping\n",
      "10 lords a leaping\n",
      "9 ladies dancing\n",
      "8 maids a milking\n",
      "7 swans a swimming\n",
      "6 geese a laying\n",
      "5 golden rings\n",
      "4 calling brids\n",
      "3 French hens \n",
      "2 turtle doves\n",
      "And a partridge in a pear tree\n"
     ]
    }
   ],
   "source": [
    "# int_to_ordinal\n",
    "\n",
    "def displayVerse(num):\n",
    "    print('On the', int_to_ordinal(num), 'day of Christmas my true love sent to me:')\n",
    "    if num >=12:\n",
    "        print('12 drummers drumming')\n",
    "    if num >= 11:\n",
    "        print('11 pipers piping')\n",
    "    if num >= 10:\n",
    "        print('10 lords a leaping')\n",
    "    if num >= 9:\n",
    "        print('9 ladies dancing')\n",
    "    if num >= 8:\n",
    "        print('8 maids a milking')\n",
    "    if num >= 7:\n",
    "        print('7 swans a swimming')\n",
    "    if num >= 6:\n",
    "        print('6 geese a laying')\n",
    "    if num >= 5:\n",
    "        print('5 golden rings')\n",
    "    if num >= 4 :\n",
    "        print('4 calling brids')\n",
    "    if num >= 3:\n",
    "        print('3 French hens ')\n",
    "    if num >= 2:\n",
    "        print('2 turtle doves')\n",
    "    if num == 1:\n",
    "        print('And s', end=\" \")\n",
    "    else:\n",
    "        print('And a', end=\" \")\n",
    "    print('partridge in a pear tree')\n",
    "    \n",
    "def main():\n",
    "    for verse in range(1,13):\n",
    "        displayVerse(verse)\n",
    "main()"
   ]
  },
  {
   "cell_type": "code",
   "execution_count": null,
   "id": "668c03fb",
   "metadata": {},
   "outputs": [],
   "source": []
  }
 ],
 "metadata": {
  "kernelspec": {
   "display_name": "Python 3 (ipykernel)",
   "language": "python",
   "name": "python3"
  },
  "language_info": {
   "codemirror_mode": {
    "name": "ipython",
    "version": 3
   },
   "file_extension": ".py",
   "mimetype": "text/x-python",
   "name": "python",
   "nbconvert_exporter": "python",
   "pygments_lexer": "ipython3",
   "version": "3.10.9"
  }
 },
 "nbformat": 4,
 "nbformat_minor": 5
}

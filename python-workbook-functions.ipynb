{
 "cells": [
  {
   "cell_type": "markdown",
   "id": "5dead951",
   "metadata": {},
   "source": [
    "[The Python Workbook: A Brief Introduction with Exercises and Solutions](https://link.springer.com/book/10.1007/978-3-319-14240-1) by Ben Stephenson"
   ]
  },
  {
   "cell_type": "markdown",
   "id": "8d5e93dd",
   "metadata": {},
   "source": [
    "# functions (p 39) "
   ]
  },
  {
   "attachments": {
    "image.png": {
     "image/png": "[encoded data removed]"
    }
   },
   "cell_type": "markdown",
   "id": "7d81682f",
   "metadata": {},
   "source": [
    "## #81 compute the hypotenuse\n",
    "\n",
    "Write function that takes lengths of two shorter sides of right triangle as parameters. \n",
    "Return hypotenuse of triangle using Pythagorean theorem, as function's result. \n",
    "Include main program that reads the lengths of shorter sides from the user, uses funtion to compute the hypotenuse. \n",
    "\n",
    "![image.png](attachment:image.png)"
   ]
  },
  {
   "cell_type": "code",
   "execution_count": null,
   "id": "9d7e480c",
   "metadata": {},
   "outputs": [],
   "source": [
    "def hypotenuse(a, b):\n",
    "    return a**2 + b**2\n",
    "     \n",
    "def main():\n",
    "    a = int(input('Short side 1:'))\n",
    "    b = int(input('Short side 2:'))\n",
    "    \n",
    "    print('The hypotenuse length is:', hypotenuse(a, b))\n",
    "main()"
   ]
  },
  {
   "cell_type": "markdown",
   "id": "26623d6b",
   "metadata": {},
   "source": [
    "## #82 taxi fare\n",
    "\n",
    "taxi $4 base fare\n",
    "+ 0.25 per 140 meters\n",
    "\n",
    "Write fx takes distance travled (km) and\n",
    "returns total fare.\n",
    "Write main program that demonstrates the fx\n",
    "\n"
   ]
  },
  {
   "cell_type": "code",
   "execution_count": null,
   "id": "ac0d1b51",
   "metadata": {},
   "outputs": [],
   "source": [
    "def taxi_fare(dist):\n",
    "    km_to_m = dist*1000\n",
    "    base_fare = 4\n",
    "    meter_fare = (km_to_m/140)*0.25\n",
    "    total_fare = base_fare + meter_fare\n",
    "    return round(total_fare, 2)\n",
    "\n",
    "def main():\n",
    "    dist = int(input('Enter the number if kilometers traveled: '))\n",
    "    print('Your fare for traveling', dist, 'km is $', taxi_fare(dist))\n",
    "main()"
   ]
  },
  {
   "cell_type": "markdown",
   "id": "060a3156",
   "metadata": {},
   "source": [
    "## #83 shipping calculator\n",
    "\n",
    "express shipping rate of `$`10.95 first item\n",
    "+ `$`2.95 each subsuquent item\n",
    "\n",
    "Write function takes num of items only param\n",
    "Return shipping charge\n",
    "Include main program that reads the num of items purchased and displays shipping charge.\n"
   ]
  },
  {
   "cell_type": "code",
   "execution_count": null,
   "id": "ba658a37",
   "metadata": {},
   "outputs": [],
   "source": [
    "def shipping_charge(num):\n",
    "    additional_items = num-1\n",
    "    additional_price = additional_items * 2.95\n",
    "    base_shipping = 10.95\n",
    "    total_shipping = round(base_shipping + additional_price, 2)\n",
    "    return total_shipping\n",
    "\n",
    "def main():\n",
    "    num = int(input('Enter the number of items to ship: '))\n",
    "    print('Your charge for shipping', num, 'items is $', shipping_charge(num))\n",
    "main()"
   ]
  },
  {
   "cell_type": "code",
   "execution_count": null,
   "id": "ae986ab9",
   "metadata": {},
   "outputs": [],
   "source": [
    "shipping_charge(5)"
   ]
  },
  {
   "cell_type": "markdown",
   "id": "6d895d8a",
   "metadata": {},
   "source": [
    "## #84 median three values\n",
    "\n",
    "Write fx takes 3 nums as params\n",
    "returns median value\n"
   ]
  },
  {
   "cell_type": "code",
   "execution_count": null,
   "id": "956bbd47",
   "metadata": {},
   "outputs": [],
   "source": [
    "def median(a,b,c):\n",
    "    sorted_values = sorted([a,b,c])\n",
    "    print('sorted_values', sorted_values)\n",
    "    return sorted_values[1]\n",
    "\n",
    "def main():\n",
    "    a = float(input('Enter first value: '))\n",
    "    b = float(input('Enter second value: '))\n",
    "    c = float(input('Enter third value: '))\n",
    "    print('The median is', median(a,b,c))\n",
    "main()  "
   ]
  },
  {
   "cell_type": "markdown",
   "id": "ff4c2d81",
   "metadata": {},
   "source": [
    "# #85 convert int to ordinal num\n",
    "\n",
    "ordinal = first, second, thrid\n",
    "write fx takes int \n",
    "returns string with ordinal num\n",
    "Fx must handle int 1-12\n",
    "return empty string if outside param"
   ]
  },
  {
   "cell_type": "code",
   "execution_count": null,
   "id": "b7feddce",
   "metadata": {},
   "outputs": [],
   "source": [
    "def int_to_ordinal(num):\n",
    "    ordinals = {1:'first', 2:'second', 3:'third', 4:'fourth', 5:'fifth', \n",
    "                6:'sixth', 7:'seventh', 8:'eighth', 9:'ninth', 10:'tenth', \n",
    "                11:'eleventh', 12:'twelveth'}\n",
    "    if num > 12:\n",
    "        return ('empty string')\n",
    "    else:\n",
    "        ordinal = ordinals.get(num)\n",
    "        return ordinal\n",
    "    \n",
    "def main():\n",
    "    num = int(input('Enter a number betwen 1 and 12: '))\n",
    "    print(int_to_ordinal(num))\n",
    "main()"
   ]
  },
  {
   "cell_type": "markdown",
   "id": "e1d5a514",
   "metadata": {},
   "source": [
    "## #86 12 days of christmas\n",
    "\n",
    "Write a program displays the lyrics. \n",
    "Write fx takes the verse num as param, displays the specified verse. \n",
    "Then call that fx 12 times with int that increase from 1 to 12. \n"
   ]
  },
  {
   "cell_type": "code",
   "execution_count": null,
   "id": "2c340828",
   "metadata": {},
   "outputs": [],
   "source": [
    "# int_to_ordinal\n",
    "\n",
    "def displayVerse(num):\n",
    "    print('On the', int_to_ordinal(num), 'day of Christmas my true love sent to me:')\n",
    "    if num >=12:\n",
    "        print('12 drummers drumming')\n",
    "    if num >= 11:\n",
    "        print('11 pipers piping')\n",
    "    if num >= 10:\n",
    "        print('10 lords a leaping')\n",
    "    if num >= 9:\n",
    "        print('9 ladies dancing')\n",
    "    if num >= 8:\n",
    "        print('8 maids a milking')\n",
    "    if num >= 7:\n",
    "        print('7 swans a swimming')\n",
    "    if num >= 6:\n",
    "        print('6 geese a laying')\n",
    "    if num >= 5:\n",
    "        print('5 golden rings')\n",
    "    if num >= 4 :\n",
    "        print('4 calling brids')\n",
    "    if num >= 3:\n",
    "        print('3 French hens ')\n",
    "    if num >= 2:\n",
    "        print('2 turtle doves')\n",
    "    if num == 1:\n",
    "        print('And s', end=\" \")\n",
    "    else:\n",
    "        print('And a', end=\" \")\n",
    "    print('partridge in a pear tree')\n",
    "    \n",
    "def main():\n",
    "    for verse in range(1,13):\n",
    "        displayVerse(verse)\n",
    "main()"
   ]
  },
  {
   "cell_type": "markdown",
   "id": "01aa5ed6",
   "metadata": {},
   "source": [
    "## #87 center a string in the terminal\n",
    "\n",
    "write fx 1st args string, 2nd arg width of terminal in characters\n",
    "return new string incl orignal string and correct num leading spaces so org string centered when printed\n",
    "do not add chac to end string\n",
    "incl main prg to demo fx"
   ]
  },
  {
   "cell_type": "code",
   "execution_count": null,
   "id": "1588a360",
   "metadata": {},
   "outputs": [],
   "source": [
    "WIDTH = 80\n",
    "\n",
    "def center(s, width):\n",
    "    spaces = (width - len(s))//2\n",
    "    result = ' '* spaces +s\n",
    "    return result\n",
    "\n",
    "def main():\n",
    "    print(center('A Famous Story', WIDTH))\n",
    "    print(center('by:', WIDTH))\n",
    "    print(center('Someone Famous', WIDTH))\n",
    "    print()\n",
    "    print('Once up on a time...')\n",
    "main()"
   ]
  },
  {
   "cell_type": "markdown",
   "id": "14065dc5",
   "metadata": {},
   "source": [
    "## #87 is it a valid triangle?\n",
    "\n",
    "write fx to determine if 3 lengths can form a triangle\n",
    "fx takes 3 params\n",
    "returns Boolean results\n",
    "write prg that reads 3 lengths from user to demo fx"
   ]
  },
  {
   "cell_type": "code",
   "execution_count": null,
   "id": "6cdc6f16",
   "metadata": {
    "scrolled": true
   },
   "outputs": [],
   "source": [
    "def triangle(a,b,c):\n",
    "    return a**2 + b**2 == c**2 or b**2 + c**2 == a**2 or a**2 + c**2 == b**2\n",
    "def main():\n",
    "    a = int(input('length a:'))\n",
    "    b = int(input('length b:'))\n",
    "    c = int(input('lentgh c:'))\n",
    "    print(triangle(a,b,c))\n",
    "main()\n"
   ]
  },
  {
   "cell_type": "markdown",
   "id": "ca2b5f06",
   "metadata": {},
   "source": [
    "## #89 🔺 capitalize it\n",
    "\n",
    "write fx that capitalizes the appropriate chac in string\n",
    "lower i = I if space before and after\n",
    "first letter of sentence capitalize\n",
    "and first non-space chac after . , ? !\n",
    "incl main prg reads string from user and cap\n"
   ]
  },
  {
   "cell_type": "code",
   "execution_count": null,
   "id": "1ffce88b",
   "metadata": {},
   "outputs": [],
   "source": [
    "def capitalize(s):\n",
    "    result = s.replace(' i ', ' I ') \n",
    "    return result\n",
    "#     if len(s) > 0:\n",
    "#         result = result[0].upper() + \\\n",
    "#                     result[1  : len(result)]\n",
    "        \n",
    "def main():\n",
    "    s = input('Enter a string: ')\n",
    "    capitalized = capitalize(s)\n",
    "    print(capitalized)\n",
    "main()"
   ]
  },
  {
   "cell_type": "markdown",
   "id": "7d7a3224",
   "metadata": {},
   "source": [
    "## #90 🔺 does a string represent an integer?\n",
    "\n",
    "fx isInteger determines if chac in string represent a valid integer <br/>\n",
    "ignore leading or trailing white space <br/>\n",
    "a string represents an int is its length is at least 1 and only has digits <br/>\n",
    "or if the first chac is + or - <br/>\n",
    "and the first chac is followed by 1+ chac, all of which are digits <br/>\n"
   ]
  },
  {
   "cell_type": "code",
   "execution_count": null,
   "id": "937dc59a",
   "metadata": {},
   "outputs": [],
   "source": [
    "def isInteger(s):\n",
    "    clean_s = s.strip()\n",
    "    if clean_s \n",
    "    return clean_s\n",
    "\n",
    "def main():\n",
    "    s = input('Enter a string: ')\n",
    "    return isInteger(s)\n",
    "main()\n",
    "    "
   ]
  },
  {
   "cell_type": "markdown",
   "id": "f71d79f9",
   "metadata": {},
   "source": [
    "## #91 operator precedence\n",
    "\n",
    "fx precedence return int representing the precedence of a math operator <br/>\n",
    "a string containing the operator will be pass to the f as the only param <br/>\n",
    "fx should return:\n",
    "- 1 for + and - \n",
    "- 2 for * and \\\n",
    "- 3 for ^ (**) <br/>\n",
    "\n",
    "if string is not one of these operators, return -1 <br/>\n",
    "\n",
    "incl main program \n"
   ]
  },
  {
   "cell_type": "code",
   "execution_count": null,
   "id": "c05d897e",
   "metadata": {},
   "outputs": [],
   "source": [
    "def precedence(s):\n",
    "    if '**' in s:\n",
    "        return 3\n",
    "    elif '*' in s:\n",
    "        return 2\n",
    "    elif '/' in s:\n",
    "        return 2\n",
    "    elif '+' in s:\n",
    "        return 1\n",
    "    elif '-' in s:\n",
    "        return 1\n",
    "    else:\n",
    "        return -1\n",
    "\n",
    "def main():\n",
    "    s = input('Enter an operator: ')\n",
    "    print(precedence(s))\n",
    "main()"
   ]
  },
  {
   "cell_type": "markdown",
   "id": "f8914382",
   "metadata": {},
   "source": [
    "## #92 is a num a prime?\n",
    "\n",
    "prime num if greater than 1 and only divisisble by 1 and itself <br/>\n",
    "write fx determine num is prime <br/> \n",
    "return True False <br/>\n",
    "Ensure that the main program will not run if the file containing your solution is imported\n",
    "into another program."
   ]
  },
  {
   "cell_type": "code",
   "execution_count": null,
   "id": "8c4a6fa9",
   "metadata": {},
   "outputs": [],
   "source": [
    "def isPrime(n):\n",
    "    if n <= 1:\n",
    "        return False\n",
    "    for i in range(2,n):\n",
    "        if n % i == 0:\n",
    "            return False\n",
    "    return True\n",
    "\n",
    "def main():\n",
    "    n = int(input('Enter a number greater than 1:'))\n",
    "    if isPrime(n):\n",
    "        print(n, 'is a prime.')\n",
    "    else:\n",
    "        print(n, 'is not a prime.')\n",
    "\n",
    "# call the main function if they file has not been imported\n",
    "if __name__ == '__main__':\n",
    "    main()"
   ]
  },
  {
   "cell_type": "markdown",
   "id": "f7714afc",
   "metadata": {},
   "source": [
    "## #93 next prime\n",
    "\n",
    "fx nextPrime that finds and returns the first prime larger than int n <br/>\n",
    "n passed as only param <br/>\n",
    "incl main progr to read in from user and display the next prime than entered value <br/>\n",
    "import solution to ex92 to complete this exercise\n"
   ]
  },
  {
   "cell_type": "code",
   "execution_count": null,
   "id": "70acec7a",
   "metadata": {},
   "outputs": [],
   "source": [
    "def nextPrime(n):\n",
    "    next_prime = n\n",
    "    while isPrime(n) == False:\n",
    "        next_prime = n+1\n",
    "        if isPrime(next_prime) == True:\n",
    "            return next_prime\n",
    "    return next_prime\n",
    "    \n",
    "# Solved with help from www.geeksforgeeks.org/program-to-find-the-next-prime-number/"
   ]
  },
  {
   "cell_type": "code",
   "execution_count": null,
   "id": "d747f10e",
   "metadata": {},
   "outputs": [],
   "source": [
    "nextPrime(3)"
   ]
  },
  {
   "cell_type": "markdown",
   "id": "af8bce1a",
   "metadata": {},
   "source": [
    "## #94 random password\n",
    "\n",
    "- write fx generates random passwd\n",
    "- len between 7-10 charac \n",
    "- each chac selected from positions 33 to 126 in ASCII table\n",
    "- fx takes no params\n",
    "- use chr function https://www.w3schools.com/python/ref_func_chr.asp\n",
    "    - The chr() function returns the character that represents the specified unicode."
   ]
  },
  {
   "cell_type": "code",
   "execution_count": 396,
   "id": "470e7232",
   "metadata": {},
   "outputs": [],
   "source": [
    "from random import randint, randrange\n",
    "import random"
   ]
  },
  {
   "cell_type": "code",
   "execution_count": 454,
   "id": "f9bbf9de",
   "metadata": {},
   "outputs": [
    {
     "name": "stdout",
     "output_type": "stream",
     "text": [
      "Your random password is: >IQDwpoxU3r\n"
     ]
    }
   ],
   "source": [
    "length_range = randint(8,12)\n",
    "min_ascii = 48 #33\n",
    "max_ascii = 122 #126\n",
    "\n",
    "# ASCII alphabet characters 0-9 : 48-57\n",
    "# ASCII alphabet characters A-Z : 65-90 \n",
    "# ASCII alphabet characters a-z : 97-122\n",
    "\n",
    "\n",
    "def randomPassword():\n",
    "    password = ''\n",
    "    if len(password) <= 10:\n",
    "        for i in range(length_range):\n",
    "            x = randrange(min_ascii, max_ascii)\n",
    "            password = password + chr(x)\n",
    "#         return 'password:', password, 'length =', length_range\n",
    "        return password\n",
    "def main():\n",
    "    print('Your random password is:', randomPassword())\n",
    "\n",
    "if __name__ == '__main__':\n",
    "    main()"
   ]
  },
  {
   "cell_type": "markdown",
   "id": "d2118bd4",
   "metadata": {},
   "source": [
    "## #95 random license plate\n",
    "\n",
    "- license plate format = 3-4 nums, 3 letters\n",
    "- write fx generate random license plate\n",
    "- fx have equal odds generating 3-4 nums\n",
    "- write main prg calls fx displays plate"
   ]
  },
  {
   "cell_type": "code",
   "execution_count": null,
   "id": "b106ef93",
   "metadata": {},
   "outputs": [],
   "source": [
    "# from random import randint\n",
    "\n",
    "#   old format 123 ABC\n",
    "#   new format 1234 ABC\n",
    "# ASCII alphabet characters A-Z : 65-90 \n",
    "# ASCII alphabet characters 0-9 : 48-57\n",
    "\n",
    "def licensePlate():\n",
    "    license_plate = ''\n",
    "\n",
    "#     nums generator\n",
    "    nums_range = randint(3,4)\n",
    "    \n",
    "    for i in range(nums_range):\n",
    "        num = random.randrange(48,57)\n",
    "        license_plate = license_plate + chr(num)\n",
    "    license_plate = license_plate + ' '\n",
    "        \n",
    "#     alpha generator\n",
    "    alpha = 3\n",
    "    \n",
    "    for i in range(alpha):\n",
    "        alpha = random.randrange(65,90)\n",
    "        license_plate = license_plate + chr(alpha)\n",
    "    \n",
    "    return license_plate\n",
    "    \n",
    "def main():\n",
    "    print('Your license plate is:', licensePlate())\n",
    "\n",
    "if __name__ == '__main__':\n",
    "    main()\n",
    "    "
   ]
  },
  {
   "cell_type": "markdown",
   "id": "ac1ff7aa",
   "metadata": {},
   "source": [
    "## #96 check a password\n",
    " \n",
    "- write fx determin good/bad password\n",
    "- good = at least 8 chac, one upper, one lower, at least one num\n",
    "- return t/f\n",
    "- incl main program that reads in user input and reports good/bad\n",
    "- ensure main program only runs when your solution has not been imported into another file"
   ]
  },
  {
   "cell_type": "code",
   "execution_count": 395,
   "id": "c962ef80",
   "metadata": {},
   "outputs": [
    {
     "name": "stdout",
     "output_type": "stream",
     "text": [
      "Enter a password: 123\n",
      "That is not a good password.\n"
     ]
    }
   ],
   "source": [
    "def checkPassword(s):\n",
    "\n",
    "    #capture the result of each password test\n",
    "    upper_test = 'fail'\n",
    "    lower_test = 'fail'\n",
    "    num_test = 'fail'\n",
    "    \n",
    "    #test length\n",
    "    if len(s) >= 8:\n",
    "        #test each requirement\n",
    "        for i in s:\n",
    "            if i.isupper()==True:\n",
    "                upper_test = 'pass'\n",
    "            elif i.islower()==True:\n",
    "                lower_test = 'pass'\n",
    "            elif i.isnumeric()==True:\n",
    "                num_test = 'pass'\n",
    "    \n",
    "    #evaluate results of all password tests\n",
    "    if (upper_test == 'pass') and (lower_test == 'pass') and (num_test == 'pass'):\n",
    "         return True\n",
    "    else:\n",
    "        return False\n",
    "\n",
    "def main():\n",
    "    s = str(input('Enter a password: '))\n",
    "    if checkPassword(s):\n",
    "        print('That is a good password.')\n",
    "    else:\n",
    "        print('That is not a good password.')\n",
    "\n",
    "if __name__ == \"__main__\":\n",
    "    main()"
   ]
  },
  {
   "cell_type": "code",
   "execution_count": 354,
   "id": "6699fcbe",
   "metadata": {},
   "outputs": [],
   "source": [
    "# 2nd version that tells user what password is missing\n",
    "# missing main program  \n",
    "\n",
    "def checkPassword(s):\n",
    "    error_message = ''\n",
    "\n",
    "    #capture the result of each password test\n",
    "    upper_test = 'Missing an upper case letter. '\n",
    "    lower_test = 'Missing a lower case letter. '\n",
    "    num_test = 'Missing a number. '\n",
    "\n",
    "    #test length\n",
    "    if len(s) >= 8: \n",
    "        \n",
    "        #test each criteria\n",
    "        for i in s:\n",
    "            if i.isupper()==True:\n",
    "                upper_test = 'pass'\n",
    "            if i.islower()==True:\n",
    "                lower_test = 'pass'\n",
    "            if i.isnumeric()==True:\n",
    "                num_test = 'pass'\n",
    "    else:\n",
    "        error_message = 'Not long enough.'\n",
    "        return error_message\n",
    "\n",
    "    #evaluate results of all password tests\n",
    "    if (upper_test == 'pass') and (lower_test == 'pass') and (num_test == 'pass'):\n",
    "        return True\n",
    "\n",
    "    #tell user what the password is missing\n",
    "    if (upper_test != 'pass'):\n",
    "        error_message += upper_test\n",
    "    if (lower_test != 'pass'):\n",
    "        error_message += lower_test\n",
    "    if (num_test != 'pass'):\n",
    "        error_message += num_test\n",
    "    return error_message\n",
    "\n",
    "# def main():\n",
    "#     s = str(input('Enter a password: '))\n",
    "#     if checkPassword(s): #True\n",
    "#         print('That is a good password.')\n",
    "#     else: #False\n",
    "#         print('Not good')\n",
    "\n",
    "# if __name__ == \"__main__\":\n",
    "#     main()"
   ]
  },
  {
   "cell_type": "code",
   "execution_count": 355,
   "id": "21c39b8e",
   "metadata": {},
   "outputs": [
    {
     "data": {
      "text/plain": [
       "'Not long enough.'"
      ]
     },
     "execution_count": 355,
     "metadata": {},
     "output_type": "execute_result"
    }
   ],
   "source": [
    "s = '123'\n",
    "checkPassword(s)"
   ]
  },
  {
   "cell_type": "code",
   "execution_count": 356,
   "id": "922170a3",
   "metadata": {},
   "outputs": [
    {
     "data": {
      "text/plain": [
       "'Missing a lower case letter. '"
      ]
     },
     "execution_count": 356,
     "metadata": {},
     "output_type": "execute_result"
    }
   ],
   "source": [
    "s = '12345678A'\n",
    "checkPassword(s)"
   ]
  },
  {
   "cell_type": "code",
   "execution_count": 357,
   "id": "0a2acd5e",
   "metadata": {},
   "outputs": [
    {
     "data": {
      "text/plain": [
       "'Missing an upper case letter. '"
      ]
     },
     "execution_count": 357,
     "metadata": {},
     "output_type": "execute_result"
    }
   ],
   "source": [
    "s = '12345678b'\n",
    "checkPassword(s)"
   ]
  },
  {
   "cell_type": "code",
   "execution_count": 358,
   "id": "8c9a3a8c",
   "metadata": {},
   "outputs": [
    {
     "data": {
      "text/plain": [
       "True"
      ]
     },
     "execution_count": 358,
     "metadata": {},
     "output_type": "execute_result"
    }
   ],
   "source": [
    "s = '12345678Ab'\n",
    "checkPassword(s)"
   ]
  },
  {
   "cell_type": "markdown",
   "id": "d7097c2d",
   "metadata": {},
   "source": [
    "## #97 random good password\n",
    "\n",
    "- using your solutions to Exercises 94 and 96...\n",
    "- write a program that generates a random good password and displays it\n",
    "- count and display the number of attempts that were needed before a good password was generated\n",
    "- structure your solution so that it imports the functions you wrote previously and then\n",
    "- calls them from a function named main in the file that you create for this exercise"
   ]
  },
  {
   "cell_type": "code",
   "execution_count": 477,
   "id": "d60cd3ab",
   "metadata": {},
   "outputs": [
    {
     "name": "stdout",
     "output_type": "stream",
     "text": [
      "y ^HCGZ`gREK6\n"
     ]
    }
   ],
   "source": [
    "# from random import randint, randrange\n",
    "# import random\n",
    "\n",
    "# randomPassword()\n",
    "# checkPassword()\n",
    "\n",
    "def main():\n",
    "    p = randomPassword()\n",
    "#     counter = 0\n",
    "#     if checkPassword(p) == False:\n",
    "#         counter += 1\n",
    "#         print(counter)\n",
    "#     else:\n",
    "#         print(p)\n",
    "    if checkPassword(p):\n",
    "        print('y', p)\n",
    "    else:\n",
    "        print('n')\n",
    "\n",
    "if __name__ == '__main__':\n",
    "    main()"
   ]
  },
  {
   "cell_type": "markdown",
   "id": "e8ba1cdd",
   "metadata": {},
   "source": [
    "## #98 hexadecimal and decimal digits\n",
    "\n",
    "- Write two functions, hex2int and int2hex, \n",
    "- convert between hexadecimal digits (0, 1, 2, 3, 4, 5, 6, 7, 8, 9, A, B, C, D, E and F) and base 10 integers. \n",
    "- hex2int function is responsible for converting a string containing a single hexadec- imal digit to a base 10 integer, \n",
    "- int2hex function is responsible for converting an integer between 0 and 15 to a single hexadecimal digit. \n",
    "- Each function will take the value to convert as its only parameter and return the converted value as the function’s only result. \n",
    "- Ensure that the hex2int function works correctly for both uppercase and lowercase letters.\n",
    "- Your functions should end the program with a meaningful error message if an invalid parameter is provided."
   ]
  },
  {
   "cell_type": "code",
   "execution_count": null,
   "id": "ed11b73d",
   "metadata": {},
   "outputs": [],
   "source": []
  },
  {
   "cell_type": "markdown",
   "id": "adbb2549",
   "metadata": {},
   "source": [
    "## #99 arbitrary base conversions\n",
    "\n",
    "- Write a program that allows the user to convert a number from one base to another. \n",
    "- Your program should support bases between 2 and 16 for both the input number and the result number. \n",
    "- If the user chooses a base outside of this range then an appropriate error message should be displayed and the program should exit. \n",
    "- Divide your program into several functions, including a function that converts from an arbitrary base to base 10, a function that converts from base 10 to an arbitrary base, and a main program that reads the bases and input number from the user. \n",
    "- You may find your solutions to Exercises 77, 78 and 98 helpful when completing this exercise."
   ]
  },
  {
   "cell_type": "code",
   "execution_count": null,
   "id": "a9fe9826",
   "metadata": {},
   "outputs": [],
   "source": []
  },
  {
   "cell_type": "markdown",
   "id": "244175e7",
   "metadata": {},
   "source": [
    "## #100 days in a month\n",
    "\n",
    "- Write a function that determines how many days there are in a particular month. \n",
    "- Your function will take two parameters: The month as an integer between 1 and 12, and the year as a four digit integer. \n",
    "- Ensure that your function reports the correct number of days in February for leap years. - Include a main program that reads a month and year from the user and displays the number of days in that month. \n",
    "- You may find your solution to Exercise 57 helpful when solving this problem."
   ]
  },
  {
   "cell_type": "code",
   "execution_count": null,
   "id": "de11be3d",
   "metadata": {},
   "outputs": [],
   "source": []
  },
  {
   "cell_type": "markdown",
   "id": "0c4bf2ce",
   "metadata": {},
   "source": [
    "## #101 reduce fraction to lowest terms\n",
    "\n",
    "- Write a function that takes two positive integers that represent the numerator and denominator of a fraction as its only two parameters. \n",
    "- The body of the function should reduce the fraction to lowest terms and then return both the numerator and denominator of the reduced fraction as its result. \n",
    "- For example, if the parameters passed to the function are 6 and 63 then the function should return 2 and 21. \n",
    "- Include a main program that allows the user to enter a numerator and denominator. \n",
    "- Then your program should display the reduced fraction.\n",
    "\n",
    "Hint: In Exercise 75 you wrote a program for computing the greatest common divisor of two positive integers. You may find that code useful when completing this exercise."
   ]
  },
  {
   "cell_type": "markdown",
   "id": "42b0e148",
   "metadata": {},
   "source": [
    "## #102 reduce measures\n",
    "\n",
    "- Many recipe books still use cups, tablespoons and teaspoons to describe the volumes of ingredients used when cooking or baking. \n",
    "- While such recipes are easy enough to follow if you have the appropriate measuring cups and spoons, they can be difficult to double, triple or quadruple when cooking Christmas dinner for the entire extended family. \n",
    "- For example, a recipe that calls for 4 tablespoons of an ingredient requires 16 tablespoons when quadrupled. \n",
    "- However, 16 tablespoons would be better expressed (and easier to measure) as 1 cup.\n",
    "- Write a function that expresses an imperial volume using the largest units possible. \n",
    "- The function will take the number of units as its first parameter, and the unit of measure (cup, tablespoon or teaspoon) as its second parameter. \n",
    "- Return a string representing the measure using the largest possible units as the function’s only result.\n",
    "- For example, if the function is provided with parameters representing 59 teaspoons then it should return the string “1 cup, 3 tablespoons, 2 teaspoons”.\n",
    "\n",
    "Hint: \n",
    "- 1 cup = 16 tablespoons\n",
    "- 1 tablespoon = 3 teaspoons"
   ]
  },
  {
   "cell_type": "code",
   "execution_count": null,
   "id": "5b47f971",
   "metadata": {},
   "outputs": [],
   "source": []
  },
  {
   "cell_type": "markdown",
   "id": "ee00ae76",
   "metadata": {},
   "source": [
    "## #103 magic dates\n",
    "\n",
    "- A magic date is a date where the day multiplied by the month is equal to the two digit year. \n",
    "- For example, June 10, 1960 is a magic date because June is the sixth month, and 6 times 10 is 60, which is equal to the two digit year. \n",
    "- Write a function that determines whether or not a date is a magic date. \n",
    "- Use your function to create a main program that finds and displays all of the magic dates in the 20th century. \n",
    "- You will probably find your solution to Exercise 100 helpful when completing this exercise."
   ]
  },
  {
   "cell_type": "code",
   "execution_count": null,
   "id": "ccb19e24",
   "metadata": {},
   "outputs": [],
   "source": []
  },
  {
   "cell_type": "code",
   "execution_count": null,
   "id": "504e91aa",
   "metadata": {},
   "outputs": [],
   "source": []
  },
  {
   "cell_type": "code",
   "execution_count": null,
   "id": "9c1a7edb",
   "metadata": {},
   "outputs": [],
   "source": []
  }
 ],
 "metadata": {
  "kernelspec": {
   "display_name": "Python 3 (ipykernel)",
   "language": "python",
   "name": "python3"
  },
  "language_info": {
   "codemirror_mode": {
    "name": "ipython",
    "version": 3
   },
   "file_extension": ".py",
   "mimetype": "text/x-python",
   "name": "python",
   "nbconvert_exporter": "python",
   "pygments_lexer": "ipython3",
   "version": "3.10.9"
  }
 },
 "nbformat": 4,
 "nbformat_minor": 5
}

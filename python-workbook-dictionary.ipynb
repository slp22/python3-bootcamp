{
 "cells": [
  {
   "cell_type": "markdown",
   "id": "1913c8cf",
   "metadata": {},
   "source": [
    "[The Python Workbook: A Brief Introduction with Exercises and Solutions](https://link.springer.com/book/10.1007/978-3-319-14240-1) by Ben Stephenson"
   ]
  },
  {
   "cell_type": "markdown",
   "id": "586aae6f",
   "metadata": {},
   "source": [
    "# dictionary (p 61) "
   ]
  },
  {
   "cell_type": "markdown",
   "id": "09056cbf",
   "metadata": {},
   "source": [
    "## <span style=\"color:red;\"> #128 reverse lookup</span>"
   ]
  },
  {
   "cell_type": "code",
   "execution_count": null,
   "id": "bce8893c",
   "metadata": {},
   "outputs": [],
   "source": []
  },
  {
   "cell_type": "markdown",
   "id": "f90d8413",
   "metadata": {},
   "source": [
    "## <span style=\"color:red;\"> #129 two dice simulation</span>"
   ]
  },
  {
   "cell_type": "code",
   "execution_count": null,
   "id": "1d7ea5aa",
   "metadata": {},
   "outputs": [],
   "source": []
  },
  {
   "cell_type": "markdown",
   "id": "8a159c17",
   "metadata": {},
   "source": [
    "## <span style=\"color:red;\"> #130 text messaging</span>"
   ]
  },
  {
   "cell_type": "code",
   "execution_count": null,
   "id": "8b75ef19",
   "metadata": {},
   "outputs": [],
   "source": []
  },
  {
   "cell_type": "markdown",
   "id": "a497dba7",
   "metadata": {},
   "source": [
    "## <span style=\"color:red;\"> #131 morse code</span>"
   ]
  },
  {
   "cell_type": "code",
   "execution_count": null,
   "id": "b72f40b2",
   "metadata": {},
   "outputs": [],
   "source": []
  },
  {
   "cell_type": "markdown",
   "id": "3f45fec2",
   "metadata": {},
   "source": [
    "## <span style=\"color:red;\"> #132 postal code</span>"
   ]
  },
  {
   "cell_type": "code",
   "execution_count": null,
   "id": "c88b344c",
   "metadata": {},
   "outputs": [],
   "source": []
  },
  {
   "cell_type": "markdown",
   "id": "a37807f4",
   "metadata": {},
   "source": [
    "## <span style=\"color:red;\"> #133 write out numbers</span>"
   ]
  },
  {
   "cell_type": "code",
   "execution_count": null,
   "id": "3d603f2f",
   "metadata": {},
   "outputs": [],
   "source": []
  },
  {
   "cell_type": "markdown",
   "id": "85b5d5d8",
   "metadata": {},
   "source": [
    "## <span style=\"color:red;\"> #134 unique characters</span>"
   ]
  },
  {
   "cell_type": "code",
   "execution_count": null,
   "id": "6d8373e4",
   "metadata": {},
   "outputs": [],
   "source": []
  },
  {
   "cell_type": "markdown",
   "id": "972bf309",
   "metadata": {},
   "source": [
    "## <span style=\"color:red;\"> #135 anagrams</span>"
   ]
  },
  {
   "cell_type": "code",
   "execution_count": null,
   "id": "eafd3e41",
   "metadata": {},
   "outputs": [],
   "source": []
  },
  {
   "cell_type": "markdown",
   "id": "7e59a088",
   "metadata": {},
   "source": [
    "## <span style=\"color:red;\"> #136 anagrams again</span>"
   ]
  },
  {
   "cell_type": "code",
   "execution_count": null,
   "id": "30989dc2",
   "metadata": {},
   "outputs": [],
   "source": []
  },
  {
   "cell_type": "markdown",
   "id": "7dd88a73",
   "metadata": {},
   "source": [
    "## <span style=\"color:red;\"> #137 scrabble score</span>"
   ]
  },
  {
   "cell_type": "code",
   "execution_count": null,
   "id": "901bcdc6",
   "metadata": {},
   "outputs": [],
   "source": []
  },
  {
   "cell_type": "markdown",
   "id": "eda63614",
   "metadata": {},
   "source": [
    "## <span style=\"color:red;\"> #138 create bingo card</span>"
   ]
  },
  {
   "cell_type": "code",
   "execution_count": null,
   "id": "d4dd7ccd",
   "metadata": {},
   "outputs": [],
   "source": []
  },
  {
   "cell_type": "markdown",
   "id": "684e06bc",
   "metadata": {},
   "source": [
    "## <span style=\"color:red;\"> #139 check winning card</span>"
   ]
  },
  {
   "cell_type": "code",
   "execution_count": null,
   "id": "1b32a092",
   "metadata": {},
   "outputs": [],
   "source": []
  },
  {
   "cell_type": "markdown",
   "id": "5154a016",
   "metadata": {},
   "source": [
    "## <span style=\"color:red;\"> #140 play bingo</span>"
   ]
  },
  {
   "cell_type": "code",
   "execution_count": null,
   "id": "1ceab67d",
   "metadata": {},
   "outputs": [],
   "source": []
  }
 ],
 "metadata": {
  "kernelspec": {
   "display_name": "Python 3 (ipykernel)",
   "language": "python",
   "name": "python3"
  },
  "language_info": {
   "codemirror_mode": {
    "name": "ipython",
    "version": 3
   },
   "file_extension": ".py",
   "mimetype": "text/x-python",
   "name": "python",
   "nbconvert_exporter": "python",
   "pygments_lexer": "ipython3",
   "version": "3.10.9"
  }
 },
 "nbformat": 4,
 "nbformat_minor": 5
}

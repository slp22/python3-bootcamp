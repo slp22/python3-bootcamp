{
 "cells": [
  {
   "cell_type": "markdown",
   "id": "2e617626",
   "metadata": {},
   "source": [
    "[The Python Workbook: A Brief Introduction with Exercises and Solutions](https://link.springer.com/book/10.1007/978-3-319-14240-1) by Ben Stephenson"
   ]
  },
  {
   "cell_type": "markdown",
   "id": "237ae175",
   "metadata": {},
   "source": [
    "# dictionary (p 61) "
   ]
  },
  {
   "cell_type": "markdown",
   "id": "0af9191b",
   "metadata": {},
   "source": [
    "## <span style=\"color:red;\"> #128 reverse lookup</span>"
   ]
  },
  {
   "cell_type": "code",
   "execution_count": null,
   "id": "4ac8b87e",
   "metadata": {},
   "outputs": [],
   "source": []
  },
  {
   "cell_type": "markdown",
   "id": "5a2130eb",
   "metadata": {},
   "source": [
    "## <span style=\"color:red;\"> #129 two dice simulation</span>"
   ]
  },
  {
   "cell_type": "code",
   "execution_count": null,
   "id": "85358e20",
   "metadata": {},
   "outputs": [],
   "source": []
  },
  {
   "cell_type": "markdown",
   "id": "87c18341",
   "metadata": {},
   "source": [
    "## <span style=\"color:red;\"> #130 text messaging</span>"
   ]
  },
  {
   "cell_type": "code",
   "execution_count": null,
   "id": "cc88799f",
   "metadata": {},
   "outputs": [],
   "source": []
  },
  {
   "cell_type": "markdown",
   "id": "e96eb4d9",
   "metadata": {},
   "source": [
    "## <span style=\"color:red;\"> #131 morse code</span>"
   ]
  },
  {
   "cell_type": "code",
   "execution_count": null,
   "id": "ee0ac464",
   "metadata": {},
   "outputs": [],
   "source": []
  },
  {
   "cell_type": "markdown",
   "id": "732a7eef",
   "metadata": {},
   "source": [
    "## <span style=\"color:red;\"> #132 postal code</span>"
   ]
  },
  {
   "cell_type": "code",
   "execution_count": null,
   "id": "3f35a42a",
   "metadata": {},
   "outputs": [],
   "source": []
  },
  {
   "cell_type": "markdown",
   "id": "855d5af6",
   "metadata": {},
   "source": [
    "## <span style=\"color:red;\"> #133 write out numbers</span>"
   ]
  },
  {
   "cell_type": "code",
   "execution_count": null,
   "id": "7641d6f5",
   "metadata": {},
   "outputs": [],
   "source": []
  },
  {
   "cell_type": "markdown",
   "id": "34baca64",
   "metadata": {},
   "source": [
    "## <span style=\"color:red;\"> #134 unique characters</span>"
   ]
  },
  {
   "cell_type": "code",
   "execution_count": null,
   "id": "4bc6a5ad",
   "metadata": {},
   "outputs": [],
   "source": []
  },
  {
   "cell_type": "markdown",
   "id": "f08e4f94",
   "metadata": {},
   "source": [
    "## <span style=\"color:red;\"> #134 anagrams</span>"
   ]
  },
  {
   "cell_type": "code",
   "execution_count": null,
   "id": "40c6f408",
   "metadata": {},
   "outputs": [],
   "source": []
  },
  {
   "cell_type": "markdown",
   "id": "b7be11b0",
   "metadata": {},
   "source": [
    "## <span style=\"color:red;\"> #135 anagrams again</span>"
   ]
  },
  {
   "cell_type": "code",
   "execution_count": null,
   "id": "9f1be30d",
   "metadata": {},
   "outputs": [],
   "source": []
  },
  {
   "cell_type": "markdown",
   "id": "5c828ea2",
   "metadata": {},
   "source": [
    "## <span style=\"color:red;\"> #13</span>"
   ]
  },
  {
   "cell_type": "code",
   "execution_count": null,
   "id": "f80f9582",
   "metadata": {},
   "outputs": [],
   "source": []
  },
  {
   "cell_type": "code",
   "execution_count": null,
   "id": "ae328674",
   "metadata": {},
   "outputs": [],
   "source": []
  }
 ],
 "metadata": {
  "kernelspec": {
   "display_name": "Python 3 (ipykernel)",
   "language": "python",
   "name": "python3"
  },
  "language_info": {
   "codemirror_mode": {
    "name": "ipython",
    "version": 3
   },
   "file_extension": ".py",
   "mimetype": "text/x-python",
   "name": "python",
   "nbconvert_exporter": "python",
   "pygments_lexer": "ipython3",
   "version": "3.10.9"
  }
 },
 "nbformat": 4,
 "nbformat_minor": 5
}

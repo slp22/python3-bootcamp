{
 "cells": [
  {
   "cell_type": "markdown",
   "id": "1913c8cf",
   "metadata": {},
   "source": [
    "[The Python Workbook: A Brief Introduction with Exercises and Solutions](https://link.springer.com/book/10.1007/978-3-319-14240-1) by Ben Stephenson"
   ]
  },
  {
   "cell_type": "markdown",
   "id": "586aae6f",
   "metadata": {},
   "source": [
    "# dictionary (p 61) "
   ]
  },
  {
   "cell_type": "markdown",
   "id": "09056cbf",
   "metadata": {},
   "source": [
    "## <span style=\"color:red;\"> #128 reverse lookup</span>\n",
    "\n",
    "Write a function named reverseLookup that finds all of the keys in a dictionary that map to a specific value. The function will take the dictionary and the value to search for as its only parameters. It will return a (possibly empty) list of keys from the dictionary that map to the provided value.<br/>\n",
    "Include a main program that demonstrates the reverseLookup function as part\n",
    "of your solution to this exercise. Your program should create a dictionary and then show that the reverseLookup function works correctly when it returns multiple keys, a single key, and no keys. Ensure that your main program only runs when the file containing your solution to this exercise has not been imported into another program."
   ]
  },
  {
   "cell_type": "code",
   "execution_count": 10,
   "id": "bce8893c",
   "metadata": {},
   "outputs": [
    {
     "name": "stdout",
     "output_type": "stream",
     "text": [
      "Enter a key: hello\n",
      "Enter a value: 2\n",
      "{'hello': 'value'} 2\n",
      "None\n"
     ]
    }
   ],
   "source": [
    "def reverseLookup(dictionary, value):\n",
    "    #finds all keys in dict that map to a specofoc value\n",
    "#     return #list of keys from dict that provided value\n",
    "    print(dictionary, value)\n",
    "\n",
    "\n",
    "def main():\n",
    "    dictionary = {}\n",
    "    key = input('Enter a key: ')\n",
    "    value = input('Enter a value: ')\n",
    "    dictionary[key]='value'\n",
    "    print(reverseLookup(dictionary, value))\n",
    "\n",
    "if __name__ == '__main__':\n",
    "    main()    "
   ]
  },
  {
   "cell_type": "markdown",
   "id": "f90d8413",
   "metadata": {},
   "source": [
    "## <span style=\"color:red;\"> #129 two dice simulation</span>"
   ]
  },
  {
   "cell_type": "code",
   "execution_count": null,
   "id": "1d7ea5aa",
   "metadata": {},
   "outputs": [],
   "source": []
  },
  {
   "cell_type": "markdown",
   "id": "8a159c17",
   "metadata": {},
   "source": [
    "## <span style=\"color:red;\"> #130 text messaging</span>"
   ]
  },
  {
   "cell_type": "code",
   "execution_count": null,
   "id": "8b75ef19",
   "metadata": {},
   "outputs": [],
   "source": []
  },
  {
   "cell_type": "markdown",
   "id": "a497dba7",
   "metadata": {},
   "source": [
    "## <span style=\"color:red;\"> #131 morse code</span>"
   ]
  },
  {
   "cell_type": "code",
   "execution_count": null,
   "id": "b72f40b2",
   "metadata": {},
   "outputs": [],
   "source": []
  },
  {
   "cell_type": "markdown",
   "id": "3f45fec2",
   "metadata": {},
   "source": [
    "## <span style=\"color:red;\"> #132 postal code</span>"
   ]
  },
  {
   "cell_type": "code",
   "execution_count": null,
   "id": "c88b344c",
   "metadata": {},
   "outputs": [],
   "source": []
  },
  {
   "cell_type": "markdown",
   "id": "a37807f4",
   "metadata": {},
   "source": [
    "## <span style=\"color:red;\"> #133 write out numbers</span>"
   ]
  },
  {
   "cell_type": "code",
   "execution_count": null,
   "id": "3d603f2f",
   "metadata": {},
   "outputs": [],
   "source": []
  },
  {
   "cell_type": "markdown",
   "id": "85b5d5d8",
   "metadata": {},
   "source": [
    "## <span style=\"color:red;\"> #134 unique characters</span>"
   ]
  },
  {
   "cell_type": "code",
   "execution_count": null,
   "id": "6d8373e4",
   "metadata": {},
   "outputs": [],
   "source": []
  },
  {
   "cell_type": "markdown",
   "id": "972bf309",
   "metadata": {},
   "source": [
    "## <span style=\"color:red;\"> #135 anagrams</span>"
   ]
  },
  {
   "cell_type": "code",
   "execution_count": null,
   "id": "eafd3e41",
   "metadata": {},
   "outputs": [],
   "source": []
  },
  {
   "cell_type": "markdown",
   "id": "7e59a088",
   "metadata": {},
   "source": [
    "## <span style=\"color:red;\"> #136 anagrams again</span>"
   ]
  },
  {
   "cell_type": "code",
   "execution_count": null,
   "id": "30989dc2",
   "metadata": {},
   "outputs": [],
   "source": []
  },
  {
   "cell_type": "markdown",
   "id": "7dd88a73",
   "metadata": {},
   "source": [
    "## <span style=\"color:red;\"> #137 scrabble score</span>"
   ]
  },
  {
   "cell_type": "code",
   "execution_count": null,
   "id": "901bcdc6",
   "metadata": {},
   "outputs": [],
   "source": []
  },
  {
   "cell_type": "markdown",
   "id": "eda63614",
   "metadata": {},
   "source": [
    "## <span style=\"color:red;\"> #138 create bingo card</span>"
   ]
  },
  {
   "cell_type": "code",
   "execution_count": null,
   "id": "d4dd7ccd",
   "metadata": {},
   "outputs": [],
   "source": []
  },
  {
   "cell_type": "markdown",
   "id": "684e06bc",
   "metadata": {},
   "source": [
    "## <span style=\"color:red;\"> #139 check winning card</span>"
   ]
  },
  {
   "cell_type": "code",
   "execution_count": null,
   "id": "1b32a092",
   "metadata": {},
   "outputs": [],
   "source": []
  },
  {
   "cell_type": "markdown",
   "id": "5154a016",
   "metadata": {},
   "source": [
    "## <span style=\"color:red;\"> #140 play bingo</span>"
   ]
  },
  {
   "cell_type": "code",
   "execution_count": null,
   "id": "1ceab67d",
   "metadata": {},
   "outputs": [],
   "source": []
  }
 ],
 "metadata": {
  "kernelspec": {
   "display_name": "Python 3 (ipykernel)",
   "language": "python",
   "name": "python3"
  },
  "language_info": {
   "codemirror_mode": {
    "name": "ipython",
    "version": 3
   },
   "file_extension": ".py",
   "mimetype": "text/x-python",
   "name": "python",
   "nbconvert_exporter": "python",
   "pygments_lexer": "ipython3",
   "version": "3.10.9"
  }
 },
 "nbformat": 4,
 "nbformat_minor": 5
}

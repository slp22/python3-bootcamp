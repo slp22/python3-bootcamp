{
 "cells": [
  {
   "cell_type": "markdown",
   "id": "5680ca75",
   "metadata": {},
   "source": [
    "[The Python Workbook: A Brief Introduction with Exercises and Solutions](https://link.springer.com/book/10.1007/978-3-319-14240-1) by Ben Stephenson"
   ]
  },
  {
   "cell_type": "markdown",
   "id": "6a47df9c",
   "metadata": {},
   "source": [
    "# dictionary (p 61) "
   ]
  },
  {
   "cell_type": "markdown",
   "id": "455645e6",
   "metadata": {},
   "source": [
    "## <span style=\"color:red;\"> #128 reverse lookup</span>"
   ]
  },
  {
   "cell_type": "code",
   "execution_count": null,
   "id": "2bf0e612",
   "metadata": {},
   "outputs": [],
   "source": []
  },
  {
   "cell_type": "markdown",
   "id": "87f2d7d4",
   "metadata": {},
   "source": [
    "## <span style=\"color:red;\"> #129 two dice simulation</span>"
   ]
  },
  {
   "cell_type": "code",
   "execution_count": null,
   "id": "f43465a7",
   "metadata": {},
   "outputs": [],
   "source": []
  },
  {
   "cell_type": "markdown",
   "id": "a8b45ecf",
   "metadata": {},
   "source": [
    "## <span style=\"color:red;\"> #130 text messaging</span>"
   ]
  },
  {
   "cell_type": "code",
   "execution_count": null,
   "id": "740c982e",
   "metadata": {},
   "outputs": [],
   "source": []
  },
  {
   "cell_type": "markdown",
   "id": "49aca743",
   "metadata": {},
   "source": [
    "## <span style=\"color:red;\"> #131 morse code</span>"
   ]
  },
  {
   "cell_type": "code",
   "execution_count": null,
   "id": "e8176af0",
   "metadata": {},
   "outputs": [],
   "source": []
  },
  {
   "cell_type": "markdown",
   "id": "053ae327",
   "metadata": {},
   "source": [
    "## <span style=\"color:red;\"> #132 postal code</span>"
   ]
  },
  {
   "cell_type": "code",
   "execution_count": null,
   "id": "5524d283",
   "metadata": {},
   "outputs": [],
   "source": []
  },
  {
   "cell_type": "markdown",
   "id": "a925559b",
   "metadata": {},
   "source": [
    "## <span style=\"color:red;\"> #133 write out numbers</span>"
   ]
  },
  {
   "cell_type": "code",
   "execution_count": null,
   "id": "b041ff79",
   "metadata": {},
   "outputs": [],
   "source": []
  },
  {
   "cell_type": "markdown",
   "id": "d1396958",
   "metadata": {},
   "source": [
    "## <span style=\"color:red;\"> #134 unique characters</span>"
   ]
  },
  {
   "cell_type": "code",
   "execution_count": null,
   "id": "c1d445f7",
   "metadata": {},
   "outputs": [],
   "source": []
  },
  {
   "cell_type": "markdown",
   "id": "a4e0deea",
   "metadata": {},
   "source": [
    "## <span style=\"color:red;\"> #135 anagrams</span>"
   ]
  },
  {
   "cell_type": "code",
   "execution_count": null,
   "id": "af083a0c",
   "metadata": {},
   "outputs": [],
   "source": []
  },
  {
   "cell_type": "markdown",
   "id": "689e6562",
   "metadata": {},
   "source": [
    "## <span style=\"color:red;\"> #136 anagrams again</span>"
   ]
  },
  {
   "cell_type": "code",
   "execution_count": null,
   "id": "a41bcb35",
   "metadata": {},
   "outputs": [],
   "source": []
  },
  {
   "cell_type": "markdown",
   "id": "44144c19",
   "metadata": {},
   "source": [
    "## <span style=\"color:red;\"> #137 scrabble score</span>"
   ]
  },
  {
   "cell_type": "code",
   "execution_count": null,
   "id": "f0bb6748",
   "metadata": {},
   "outputs": [],
   "source": []
  },
  {
   "cell_type": "markdown",
   "id": "1c6d025b",
   "metadata": {},
   "source": [
    "## <span style=\"color:red;\"> #138 create bingo card</span>"
   ]
  },
  {
   "cell_type": "code",
   "execution_count": null,
   "id": "143c6c6b",
   "metadata": {},
   "outputs": [],
   "source": []
  },
  {
   "cell_type": "markdown",
   "id": "408c026a",
   "metadata": {},
   "source": [
    "## <span style=\"color:red;\"> #139 check winning card</span>"
   ]
  },
  {
   "cell_type": "code",
   "execution_count": null,
   "id": "69af2e05",
   "metadata": {},
   "outputs": [],
   "source": []
  },
  {
   "cell_type": "markdown",
   "id": "3204b2fe",
   "metadata": {},
   "source": [
    "## <span style=\"color:red;\"> #140 play bingo</span>"
   ]
  },
  {
   "cell_type": "code",
   "execution_count": null,
   "id": "dc22dc66",
   "metadata": {},
   "outputs": [],
   "source": []
  }
 ],
 "metadata": {
  "kernelspec": {
   "display_name": "Python 3 (ipykernel)",
   "language": "python",
   "name": "python3"
  },
  "language_info": {
   "codemirror_mode": {
    "name": "ipython",
    "version": 3
   },
   "file_extension": ".py",
   "mimetype": "text/x-python",
   "name": "python",
   "nbconvert_exporter": "python",
   "pygments_lexer": "ipython3",
   "version": "3.10.9"
  }
 },
 "nbformat": 4,
 "nbformat_minor": 5
}

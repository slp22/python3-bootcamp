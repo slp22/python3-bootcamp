{
 "cells": [
  {
   "cell_type": "markdown",
   "id": "0d2fe04f",
   "metadata": {},
   "source": [
    "# HackerRank Challenges"
   ]
  },
  {
   "cell_type": "markdown",
   "id": "e6ecb4a2",
   "metadata": {},
   "source": [
    "# ✅ \n",
    "https://www.hackerrank.com/challenges/python-print/problem?isFullScreen=true"
   ]
  },
  {
   "cell_type": "code",
   "execution_count": null,
   "id": "46a0b63d",
   "metadata": {},
   "outputs": [],
   "source": [
    "if __name__ == '__main__':\n",
    "    n = int(input())\n",
    "n_list = []\n",
    "for i in range(1,n+1):   \n",
    "    n_list.append(i)\n",
    "listToStr = ''.join([str(elem) for elem in n_list])\n",
    "print(listToStr)"
   ]
  },
  {
   "cell_type": "code",
   "execution_count": null,
   "id": "ec26b8fc",
   "metadata": {},
   "outputs": [],
   "source": [
    "#n =5\n",
    "# 12345"
   ]
  },
  {
   "cell_type": "code",
   "execution_count": null,
   "id": "6e2443d5",
   "metadata": {},
   "outputs": [],
   "source": [
    "#3\n",
    "#123"
   ]
  },
  {
   "cell_type": "markdown",
   "id": "59e05524",
   "metadata": {},
   "source": [
    "# ✅ \n",
    "https://www.hackerrank.com/challenges/find-second-maximum-number-in-a-list/problem?isFullScreen=true"
   ]
  },
  {
   "cell_type": "code",
   "execution_count": null,
   "id": "6b097f2d",
   "metadata": {},
   "outputs": [],
   "source": [
    "n = int(input())\n",
    "arr = map(int, input().split())"
   ]
  },
  {
   "cell_type": "code",
   "execution_count": null,
   "id": "47b45464",
   "metadata": {},
   "outputs": [],
   "source": [
    "score_list = list(arr)"
   ]
  },
  {
   "cell_type": "code",
   "execution_count": null,
   "id": "a9646b6f",
   "metadata": {},
   "outputs": [],
   "source": [
    "score_list"
   ]
  },
  {
   "cell_type": "code",
   "execution_count": null,
   "id": "6edfc8ed",
   "metadata": {},
   "outputs": [],
   "source": [
    "sorted_score_list = sorted(score_list)\n",
    "sorted_score_list"
   ]
  },
  {
   "cell_type": "code",
   "execution_count": null,
   "id": "f652a97d",
   "metadata": {},
   "outputs": [],
   "source": [
    "max_score = max(sorted_score_list)\n",
    "max_index = sorted_score_list.index(max_score)\n",
    "max_index"
   ]
  },
  {
   "cell_type": "code",
   "execution_count": null,
   "id": "6dc05d7e",
   "metadata": {},
   "outputs": [],
   "source": [
    "print(sorted_score_list[max_index-1])"
   ]
  },
  {
   "cell_type": "markdown",
   "id": "9efd5645",
   "metadata": {},
   "source": [
    "# ✅ \n",
    "https://www.hackerrank.com/challenges/finding-the-percentage/problem?isFullScreen=true"
   ]
  },
  {
   "cell_type": "code",
   "execution_count": null,
   "id": "eea2a330",
   "metadata": {},
   "outputs": [],
   "source": [
    "# Print the average of the marks array for the student name provided, \n",
    "# showing 2 places after the decimal.\n",
    "# expected output 56.00 "
   ]
  },
  {
   "cell_type": "code",
   "execution_count": null,
   "id": "83d50ff7",
   "metadata": {},
   "outputs": [],
   "source": [
    "if __name__ == '__main__':\n",
    "    n = int(input())\n",
    "    student_marks = {}\n",
    "    for _ in range(n):\n",
    "        name, *line = input().split()\n",
    "        scores = list(map(float, line))\n",
    "        student_marks[name] = scores\n",
    "    query_name = input()\n",
    "\n",
    "# expected output 26.50"
   ]
  },
  {
   "cell_type": "code",
   "execution_count": null,
   "id": "4542fda2",
   "metadata": {},
   "outputs": [],
   "source": [
    "student_marks[name] # doesn't query right name"
   ]
  },
  {
   "cell_type": "code",
   "execution_count": null,
   "id": "95f2097b",
   "metadata": {},
   "outputs": [],
   "source": [
    "student_marks[query_name] #confirm querying the right name"
   ]
  },
  {
   "cell_type": "code",
   "execution_count": null,
   "id": "3c0f9ee6",
   "metadata": {
    "scrolled": true
   },
   "outputs": [],
   "source": [
    "avg_query_name = (sum(student_marks[query_name])/\n",
    "                  len(student_marks[query_name]))\n",
    "print('%.2f'%avg_query_name)"
   ]
  },
  {
   "cell_type": "markdown",
   "id": "04ae76e2",
   "metadata": {},
   "source": [
    "# ✅ \n",
    "https://www.hackerrank.com/challenges/write-a-function/problem?isFullScreen=true"
   ]
  },
  {
   "cell_type": "code",
   "execution_count": null,
   "id": "b03bf63f",
   "metadata": {},
   "outputs": [],
   "source": [
    "def is_leap(year):\n",
    "    leap = False\n",
    "year = int(input())\n"
   ]
  },
  {
   "cell_type": "code",
   "execution_count": null,
   "id": "6b2cd056",
   "metadata": {},
   "outputs": [],
   "source": [
    "# easily divided by 4, unless:\n",
    "    # year evenly divided by 100 --> NOT, unless:\n",
    "        # year is also divisible by 400 --> YES leap year"
   ]
  },
  {
   "cell_type": "code",
   "execution_count": null,
   "id": "453bf9ae",
   "metadata": {},
   "outputs": [],
   "source": [
    "def leap_year(year):\n",
    "        \n",
    "    if year % 4 == 0:\n",
    "        if year % 100 == 0 and year % 400 !=0:\n",
    "            return False\n",
    "        else:\n",
    "            return True\n",
    "    else:\n",
    "        return False"
   ]
  },
  {
   "cell_type": "code",
   "execution_count": null,
   "id": "b34f8ae1",
   "metadata": {},
   "outputs": [],
   "source": [
    "leap_year(2000)"
   ]
  },
  {
   "cell_type": "markdown",
   "id": "3fc1d44b",
   "metadata": {},
   "source": [
    "# ✅ \n",
    "https://www.hackerrank.com/challenges/python-tuples/problem?isFullScreen=true "
   ]
  },
  {
   "cell_type": "code",
   "execution_count": null,
   "id": "22317e84",
   "metadata": {},
   "outputs": [],
   "source": [
    "if __name__ == '__main__':\n",
    "    n = int(input())\n",
    "    integer_list = map(int, input().split())\n",
    "    t = tuple(integer_list)\n",
    "    print(hash(t))"
   ]
  },
  {
   "cell_type": "code",
   "execution_count": null,
   "id": "b9f3d941",
   "metadata": {},
   "outputs": [],
   "source": [
    "# 2\n",
    "# 1 2"
   ]
  },
  {
   "cell_type": "markdown",
   "id": "ab8be4b4",
   "metadata": {},
   "source": [
    "# ✅  \n",
    "https://www.hackerrank.com/challenges/python-lists/problem?isFullScreen=true"
   ]
  },
  {
   "cell_type": "code",
   "execution_count": null,
   "id": "6c3ba597",
   "metadata": {},
   "outputs": [],
   "source": [
    "if __name__ == '__main__':\n",
    "    N = int(input())\n",
    "    arr = list()\n",
    "    for _ in range(N):\n",
    "        command = list(input().split())\n",
    "\n",
    "        if command[0] == 'append':\n",
    "            arr.append(int(command[1]))\n",
    "        elif command[0] == 'insert':\n",
    "            arr.insert(int(command[1]), int(command[2]))\n",
    "        elif command[0] == 'remove':\n",
    "            arr.remove(int(command[1]))\n",
    "        elif command[0] == 'sort':\n",
    "            arr.sort()\n",
    "        elif command[0] == 'pop':\n",
    "            arr.pop()\n",
    "        elif command[0] == 'reverse':\n",
    "            arr.reverse()\n",
    "        elif command[0] == 'print':\n",
    "            print(arr)\n"
   ]
  },
  {
   "cell_type": "markdown",
   "id": "eb21f869",
   "metadata": {},
   "source": [
    "# !!\n",
    "https://www.hackerrank.com/challenges/list-comprehensions/problem?isFullScreen=true"
   ]
  },
  {
   "cell_type": "code",
   "execution_count": null,
   "id": "f9ef601d",
   "metadata": {},
   "outputs": [],
   "source": [
    "# Given 3 integers, x y z (represent dimensions of cuboid) and an integer n\n",
    "# Print all possible coordinates given by (i,j,k) on a 3D grid where the sum = i+j+k != n\n",
    "# 0 <i< x; 0 <j<y; 0<k<z\n",
    "# Use list comprehension, not loops"
   ]
  },
  {
   "cell_type": "code",
   "execution_count": null,
   "id": "3a785656",
   "metadata": {},
   "outputs": [],
   "source": [
    "if __name__ == '__main__':\n",
    "    x = int(input())\n",
    "    y = int(input())\n",
    "    z = int(input())\n",
    "    n = int(input())"
   ]
  },
  {
   "cell_type": "code",
   "execution_count": null,
   "id": "c7111ba0",
   "metadata": {},
   "outputs": [],
   "source": [
    "# solution https://www.hackerrank.com/rest/contests/master/challenges/list-comprehensions/hackers/keerthi7vasan/download_solution\n",
    "if __name__ == '__main__':\n",
    "    x = int(input())\n",
    "    y = int(input())\n",
    "    z = int(input())\n",
    "    n = int(input())\n",
    "    coordinates = [ [i,j,k] for i in range(0,x+1) for j in range(0,y+1) for k in range(0,z+1) if i+j+k != n]\n",
    "    print (coordinates)\n",
    "    "
   ]
  },
  {
   "cell_type": "code",
   "execution_count": null,
   "id": "409a5790",
   "metadata": {},
   "outputs": [],
   "source": [
    "# solution https://www.hackerrank.com/rest/contests/master/challenges/list-comprehensions/hackers/podliy16/download_solution?primary=true\n",
    "\n",
    "X = int(input())\n",
    "Y = int(input())\n",
    "Z = int(input())\n",
    "N = int(input())\n",
    "\n",
    "X += 1\n",
    "Y += 1\n",
    "Z += 1\n",
    "\n",
    "tmp_list = [[x, y, z] for x in range(X) for y in range(Y) for z in range(Z) if x + y + z != N]\n",
    "print(tmp_list)\n"
   ]
  },
  {
   "cell_type": "code",
   "execution_count": null,
   "id": "a8101dea",
   "metadata": {},
   "outputs": [],
   "source": [
    "# solution https://www.hackerrank.com/rest/contests/master/challenges/list-comprehensions/hackers/felawinkelmolen/download_solution?primary=true\n",
    "\n",
    "xr = range(int(input())+1)\n",
    "yr = range(int(input())+1)\n",
    "zr = range(int(input())+1)\n",
    "n = int(input())\n",
    "\n",
    "arr = [[x, y, z] for x in xr for y in yr for z in zr if x+y+z != n]\n",
    "print(arr)\n"
   ]
  },
  {
   "cell_type": "code",
   "execution_count": null,
   "id": "d8686983",
   "metadata": {},
   "outputs": [],
   "source": [
    "# input\n",
    "1\n",
    "1\n",
    "1\n",
    "2 #n\n",
    "\n",
    "# output\n",
    "# [[0, 0, 0], [0, 0, 1], [0, 1, 0], [1, 0, 0], [1, 1, 1]]\n",
    "# explanation\n",
    "# each variable x y z has values of 0 or 1\n",
    "# all permutations of lists in the form [i,j,k] = [[0,0,0],[0,0,1], [0,1,0], ...  ]\n",
    "# remove all arrays that sum to n=2 to leave only valid permutations. "
   ]
  },
  {
   "cell_type": "code",
   "execution_count": null,
   "id": "eb3f958f",
   "metadata": {},
   "outputs": [],
   "source": [
    "# input\n",
    "1\n",
    "1\n",
    "2\n",
    "3 #n\n",
    "\n",
    "# output\n",
    "# [[0,0,0], [0,0,1], [0,0,2], [0,1,0], [1,1,1], [1,0,0], [1,0,1], [1,1,0], [1,1,2]]\n",
    "# removed all permutations that summed n=3"
   ]
  },
  {
   "cell_type": "code",
   "execution_count": null,
   "id": "f5419b09",
   "metadata": {},
   "outputs": [],
   "source": [
    "# input\n",
    "2\n",
    "2\n",
    "2\n",
    "2 #n\n",
    "\n",
    "\n",
    "# output\n",
    "# [[0, 0, 0], [0, 0, 1], [0, 1, 0], [0, 1, 2], [0, 2, 1], [0, 2, 2], [1, 0, 0], [1, 0, 2], [1, 1, 1], [1, 1, 2], [1, 2, 0], [1, 2, 1], [1, 2, 2], [2, 0, 1], [2, 0, 2], [2, 1, 0], [2, 1, 1], [2, 1, 2], [2, 2, 0], [2, 2, 1], [2, 2, 2]]\n"
   ]
  },
  {
   "cell_type": "markdown",
   "id": "e5f86784",
   "metadata": {},
   "source": [
    "# !!\n",
    "https://www.hackerrank.com/challenges/nested-list/problem?isFullScreen=true"
   ]
  },
  {
   "cell_type": "code",
   "execution_count": null,
   "id": "a9a3f44b",
   "metadata": {},
   "outputs": [],
   "source": [
    "if __name__ == '__main__':\n",
    "    n = int(input())\n",
    "    nested_list = []\n",
    "    for _ in range(n):\n",
    "        name = input()\n",
    "        score = float(input())\n",
    "        nested_list.append([name, score])\n",
    "        nested_list.sort(key = lambda x: x[1])\n",
    "        n = 5\n",
    "#     lowest = 0\n",
    "    for m in range(n):\n",
    "        if nested_list[m][1] < nested_list[m-1][1]:\n",
    "            print('lowest is', nested_list[m][0])"
   ]
  },
  {
   "cell_type": "code",
   "execution_count": null,
   "id": "984d2905",
   "metadata": {},
   "outputs": [],
   "source": [
    "nested_list"
   ]
  },
  {
   "cell_type": "code",
   "execution_count": null,
   "id": "9e8bf255",
   "metadata": {},
   "outputs": [],
   "source": [
    "nested_list.sort(key = lambda x: x[1])\n",
    "nested_list"
   ]
  },
  {
   "cell_type": "code",
   "execution_count": null,
   "id": "3b743e4b",
   "metadata": {},
   "outputs": [],
   "source": [
    "n = 5\n",
    "lowest = 0\n",
    "second_lowest = 0\n",
    "\n",
    "for m in range(n):\n",
    "    if nested_list[m][1] > lowest:\n",
    "        lowest += nested_list[m][1]\n",
    "        print(nested_list[m][1])\n",
    "#         print('lowest', lowest)\n",
    "#     elif nested_list[m][1] > lowest:\n",
    "#         second_lowest += nested_list[m][1]\n",
    "#         print('second_lowest', second_lowest)\n"
   ]
  },
  {
   "cell_type": "markdown",
   "id": "f81b8039",
   "metadata": {},
   "source": [
    "# ✅ \n",
    "https://www.hackerrank.com/challenges/swap-case/problem?isFullScreen=true"
   ]
  },
  {
   "cell_type": "code",
   "execution_count": null,
   "id": "c520b589",
   "metadata": {},
   "outputs": [],
   "source": [
    "# given string –-> swap cases"
   ]
  },
  {
   "cell_type": "code",
   "execution_count": 42,
   "id": "88b0fd81",
   "metadata": {},
   "outputs": [
    {
     "name": "stdout",
     "output_type": "stream",
     "text": [
      "Pythonist 2\n",
      "pYTHONIST 2\n"
     ]
    }
   ],
   "source": [
    "def swap_case(s):\n",
    "    s_list = []\n",
    "    for i in s:\n",
    "        if i.islower():\n",
    "            s_list.append(i.upper())\n",
    "        elif i.isupper:\n",
    "            s_list.append(i.lower())\n",
    "        listToStr = ''.join(str(e) for e in s_list)\n",
    "    return listToStr\n",
    "        \n",
    "if __name__ == '__main__':\n",
    "    s = input()\n",
    "    result = swap_case(s)\n",
    "    print(result)"
   ]
  },
  {
   "cell_type": "code",
   "execution_count": 1,
   "id": "1b6b352a",
   "metadata": {},
   "outputs": [],
   "source": [
    "# \"Pythonist 2\"\n",
    "# \"pYTHONIST 2\""
   ]
  },
  {
   "cell_type": "code",
   "execution_count": 2,
   "id": "334ae9c9",
   "metadata": {},
   "outputs": [],
   "source": [
    "# The islower() method returns True if all alphabets in a string are lowercase alphabets. \n",
    "# If the string contains at least one uppercase alphabet, it returns False."
   ]
  },
  {
   "cell_type": "code",
   "execution_count": 21,
   "id": "f84e623e",
   "metadata": {},
   "outputs": [],
   "source": [
    "test = \"my string HELLO\""
   ]
  },
  {
   "cell_type": "code",
   "execution_count": 38,
   "id": "6b9626fc",
   "metadata": {},
   "outputs": [
    {
     "name": "stdout",
     "output_type": "stream",
     "text": [
      "MY STRING hello\n"
     ]
    }
   ],
   "source": [
    "test_list = []\n",
    "for i in test:\n",
    "    if i.islower():\n",
    "        test_list.append(i.upper())\n",
    "    elif i.isupper:\n",
    "        test_list.append(i.lower())\n",
    "    listToStr = ''.join(str(e) for e in test_list)\n",
    "print(listToStr)\n",
    "        \n",
    "    "
   ]
  },
  {
   "cell_type": "code",
   "execution_count": null,
   "id": "cadc5a12",
   "metadata": {},
   "outputs": [],
   "source": [
    "\n",
    "n_list = []\n",
    "for i in range(1,n+1):   \n",
    "    n_list.append(i)\n",
    "listToStr = ''.join([str(elem) for elem in n_list])\n",
    "print(listToStr)"
   ]
  },
  {
   "cell_type": "markdown",
   "id": "fcd622c1",
   "metadata": {},
   "source": [
    "# ✅ \n",
    "https://www.hackerrank.com/challenges/python-string-split-and-join/problem?isFullScreen=true"
   ]
  },
  {
   "cell_type": "code",
   "execution_count": null,
   "id": "0ee34f2f",
   "metadata": {},
   "outputs": [],
   "source": [
    "# given a string –-> split on a \" \" (space) delimited and join using a - hyphen"
   ]
  },
  {
   "cell_type": "code",
   "execution_count": 54,
   "id": "38cd8e31",
   "metadata": {},
   "outputs": [
    {
     "name": "stdout",
     "output_type": "stream",
     "text": [
      "this is a string\n",
      "this-is-a-string\n"
     ]
    }
   ],
   "source": [
    "def split_and_join(line):\n",
    "    return '-'.join((line.split(' ')))\n",
    " \n",
    "if __name__ == '__main__':\n",
    "    line = input()\n",
    "    result = split_and_join(line)\n",
    "    print(result)"
   ]
  },
  {
   "cell_type": "code",
   "execution_count": 45,
   "id": "3d3344c7",
   "metadata": {},
   "outputs": [],
   "source": [
    "line = 'this is a string'"
   ]
  },
  {
   "cell_type": "code",
   "execution_count": 48,
   "id": "ca8dfd00",
   "metadata": {},
   "outputs": [
    {
     "data": {
      "text/plain": [
       "['this', 'is', 'a', 'string']"
      ]
     },
     "execution_count": 48,
     "metadata": {},
     "output_type": "execute_result"
    }
   ],
   "source": [
    "split_line = line.split(' ')\n",
    "split_line"
   ]
  },
  {
   "cell_type": "code",
   "execution_count": 50,
   "id": "bee43b22",
   "metadata": {},
   "outputs": [
    {
     "data": {
      "text/plain": [
       "'this-is-a-string'"
      ]
     },
     "execution_count": 50,
     "metadata": {},
     "output_type": "execute_result"
    }
   ],
   "source": [
    "join_line = '-'.join(split_line)\n",
    "join_line"
   ]
  },
  {
   "cell_type": "code",
   "execution_count": 51,
   "id": "5bfe1d04",
   "metadata": {},
   "outputs": [
    {
     "data": {
      "text/plain": [
       "'this is a string'"
      ]
     },
     "execution_count": 51,
     "metadata": {},
     "output_type": "execute_result"
    }
   ],
   "source": [
    "line"
   ]
  },
  {
   "cell_type": "code",
   "execution_count": 52,
   "id": "9d1648a9",
   "metadata": {},
   "outputs": [
    {
     "data": {
      "text/plain": [
       "'this-is-a-string'"
      ]
     },
     "execution_count": 52,
     "metadata": {},
     "output_type": "execute_result"
    }
   ],
   "source": [
    "'-'.join((line.split(' ')))"
   ]
  },
  {
   "cell_type": "markdown",
   "id": "00d5530c",
   "metadata": {},
   "source": [
    "# ✅ \n",
    "https://www.hackerrank.com/challenges/whats-your-name/problem?isFullScreen=true"
   ]
  },
  {
   "cell_type": "code",
   "execution_count": null,
   "id": "7b3dbd40",
   "metadata": {},
   "outputs": [],
   "source": [
    "# give firstname and lastname on two lines –> read in a print:\n",
    "# Hello firstname lastname! You just delved into python."
   ]
  },
  {
   "cell_type": "code",
   "execution_count": 121,
   "id": "d11f8e41",
   "metadata": {},
   "outputs": [
    {
     "name": "stdout",
     "output_type": "stream",
     "text": [
      "Sandra\n",
      "Paredes\n",
      "Hello Sandra Paredes! You just delved into python!.\n"
     ]
    }
   ],
   "source": [
    "# Complete the 'print_full_name' function below.\n",
    "# The function is expected to return a STRING.\n",
    "# The function accepts following parameters:\n",
    "#  1. STRING first\n",
    "#  2. STRING last\n",
    "\n",
    "def print_full_name(first, last):\n",
    "    first = first_name \n",
    "    last = last_name \n",
    "    print(f'Hello {first} {last}! You just delved into python!.')\n",
    "\n",
    "if __name__ == '__main__':\n",
    "    first_name = input()\n",
    "    last_name = input()\n",
    "    print_full_name(first_name, last_name)\n",
    "    "
   ]
  },
  {
   "cell_type": "code",
   "execution_count": 115,
   "id": "f7c6920b",
   "metadata": {},
   "outputs": [],
   "source": [
    "# first = 'Sandra'\n",
    "# last = 'Paredes'\n",
    "\n",
    "# first_name = 'Jason'\n",
    "# last_name = 'Decker'\n",
    "\n",
    "# print_full_name(first, last)\n",
    "# print_full_name(first_name, last_name)\n"
   ]
  },
  {
   "cell_type": "markdown",
   "id": "91c46bd9",
   "metadata": {},
   "source": [
    "# ✅ \n",
    "https://www.hackerrank.com/challenges/python-mutations/problem?isFullScreen=true"
   ]
  },
  {
   "cell_type": "code",
   "execution_count": null,
   "id": "9e21f8ce",
   "metadata": {},
   "outputs": [],
   "source": [
    "# given string, change character at given index, print mod string\n",
    "# string = string to change\n",
    "# int position = index to insert character\n",
    "# string character = character to insert\n",
    "# return altered string"
   ]
  },
  {
   "cell_type": "code",
   "execution_count": 83,
   "id": "584b4d04",
   "metadata": {},
   "outputs": [
    {
     "name": "stdout",
     "output_type": "stream",
     "text": [
      "abracadabra\n",
      "5 k\n",
      "abrackdabra\n"
     ]
    }
   ],
   "source": [
    "def mutate_string(string,position,character):\n",
    "    return string[:position] + character + string[position+1:]\n",
    "\n",
    "if __name__ == '__main__':\n",
    "    s = str(input())\n",
    "    i, c = input().split()\n",
    "    s_new = mutate_string(s, int(i), c)\n",
    "    print(s_new)"
   ]
  },
  {
   "cell_type": "code",
   "execution_count": null,
   "id": "cf3f2323",
   "metadata": {},
   "outputs": [],
   "source": [
    "# input\n",
    "# STDIN           \n",
    "# -----           \n",
    "# s = abracadabra  \n",
    "# i = 5            \n",
    "# c = k            \n",
    "\n",
    "# output\n",
    "# abrackdabra\n"
   ]
  },
  {
   "cell_type": "code",
   "execution_count": 84,
   "id": "2d4928a9",
   "metadata": {},
   "outputs": [],
   "source": [
    "### Approach 1: convert str to lst, then change value\n",
    "\n",
    "# string = \"abracadabra\"\n",
    "# l = list(string)\n",
    "# print(l)\n",
    "# l[5] = 'k'\n",
    "# print(l[5])\n",
    "# string = ''.join(l)\n",
    "# print(string)\n",
    "\n",
    "### Approach 2: slice string, then join back\n",
    "\n",
    "# string = \"abracadabra\"\n",
    "# string = string[:5] + 'k' + string[:6]\n",
    "# print(string[:5])\n",
    "# print(string[:6])\n",
    "# print(string)"
   ]
  },
  {
   "cell_type": "markdown",
   "id": "2446bdda",
   "metadata": {},
   "source": [
    "# 🔖🔖🔖🔖🔖🔖🔖🔖🔖🔖"
   ]
  },
  {
   "cell_type": "markdown",
   "id": "4e1e066f",
   "metadata": {},
   "source": [
    "https://www.hackerrank.com/challenges/find-a-string/problem?isFullScreen=true&h_r=next-challenge&h_v=zen"
   ]
  },
  {
   "cell_type": "code",
   "execution_count": null,
   "id": "8bc64521",
   "metadata": {},
   "outputs": [],
   "source": [
    "# given string and substring, print num times substring in string\n",
    "# string transversal goes left to right\n",
    "# string letters are case-sensitive"
   ]
  },
  {
   "cell_type": "code",
   "execution_count": 93,
   "id": "ccb01289",
   "metadata": {},
   "outputs": [],
   "source": [
    "def count_substring(string, sub_string):\n",
    "    for i in range(0, len(string)):\n",
    "        print(string[i])\n",
    "    return sub_string\n",
    "\n",
    "# if __name__ == '__main__':\n",
    "#     string = input().strip()\n",
    "#     sub_string = input().strip()\n",
    "    \n",
    "#     count = count_substring(string, sub_string)\n",
    "#     print(count)"
   ]
  },
  {
   "cell_type": "code",
   "execution_count": 94,
   "id": "743eeac5",
   "metadata": {},
   "outputs": [
    {
     "name": "stdout",
     "output_type": "stream",
     "text": [
      "A\n",
      "B\n",
      "C\n",
      "D\n",
      "C\n",
      "D\n",
      "C\n"
     ]
    },
    {
     "data": {
      "text/plain": [
       "'CDC'"
      ]
     },
     "execution_count": 94,
     "metadata": {},
     "output_type": "execute_result"
    }
   ],
   "source": [
    "string = 'ABCDCDC'\n",
    "sub_string = 'CDC'\n",
    "count_substring(string, sub_string)"
   ]
  },
  {
   "cell_type": "code",
   "execution_count": null,
   "id": "71ab39da",
   "metadata": {},
   "outputs": [],
   "source": []
  },
  {
   "cell_type": "code",
   "execution_count": null,
   "id": "8a6d7421",
   "metadata": {},
   "outputs": [],
   "source": []
  },
  {
   "cell_type": "code",
   "execution_count": null,
   "id": "f2063b5a",
   "metadata": {},
   "outputs": [],
   "source": [
    "# # input\n",
    "# ABCDCDC\n",
    "# CDC\n",
    "\n",
    "# #output\n",
    "# 2"
   ]
  },
  {
   "cell_type": "markdown",
   "id": "5668c212",
   "metadata": {},
   "source": [
    "Some string processing examples, such as [these](https://www.thelearningpoint.net/computer-science/learning-python-programming-and-data-structures/learning-python-programming-and-data-structures--tutorial-12--string-manipulation), might be useful.\n",
    "\n",
    "To traverse through the length of a string, use a for loop: <br/>\n",
    "`for i in range(0, len(s)):\n",
    "    print (s[i])`\n",
    "\n",
    "A range function is used to loop over some length: <br/>\n",
    "`range (0, 5) `"
   ]
  },
  {
   "cell_type": "code",
   "execution_count": null,
   "id": "649b080f",
   "metadata": {},
   "outputs": [],
   "source": []
  },
  {
   "cell_type": "code",
   "execution_count": null,
   "id": "f7ff4655",
   "metadata": {},
   "outputs": [],
   "source": []
  },
  {
   "cell_type": "code",
   "execution_count": null,
   "id": "26cf0996",
   "metadata": {},
   "outputs": [],
   "source": []
  }
 ],
 "metadata": {
  "kernelspec": {
   "display_name": "Python 3 (ipykernel)",
   "language": "python",
   "name": "python3"
  },
  "language_info": {
   "codemirror_mode": {
    "name": "ipython",
    "version": 3
   },
   "file_extension": ".py",
   "mimetype": "text/x-python",
   "name": "python",
   "nbconvert_exporter": "python",
   "pygments_lexer": "ipython3",
   "version": "3.8.12"
  }
 },
 "nbformat": 4,
 "nbformat_minor": 5
}

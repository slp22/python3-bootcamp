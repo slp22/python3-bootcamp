{
 "cells": [
  {
   "cell_type": "markdown",
   "id": "0d2fe04f",
   "metadata": {},
   "source": [
    "# HackerRank Challenges"
   ]
  },
  {
   "cell_type": "markdown",
   "id": "e6ecb4a2",
   "metadata": {},
   "source": [
    "# ✅ \n",
    "https://www.hackerrank.com/challenges/python-print/problem?isFullScreen=true"
   ]
  },
  {
   "cell_type": "code",
   "execution_count": null,
   "id": "46a0b63d",
   "metadata": {},
   "outputs": [],
   "source": [
    "if __name__ == '__main__':\n",
    "    n = int(input())\n",
    "n_list = []\n",
    "for i in range(1,n+1):   \n",
    "    n_list.append(i)\n",
    "listToStr = ''.join([str(elem) for elem in n_list])\n",
    "print(listToStr)"
   ]
  },
  {
   "cell_type": "code",
   "execution_count": null,
   "id": "d21feb92",
   "metadata": {},
   "outputs": [],
   "source": [
    "#n =5\n",
    "# 12345"
   ]
  },
  {
   "cell_type": "code",
   "execution_count": null,
   "id": "cd31f70b",
   "metadata": {},
   "outputs": [],
   "source": [
    "#3\n",
    "#123"
   ]
  },
  {
   "cell_type": "markdown",
   "id": "59e05524",
   "metadata": {},
   "source": [
    "# ✅ \n",
    "https://www.hackerrank.com/challenges/find-second-maximum-number-in-a-list/problem?isFullScreen=true"
   ]
  },
  {
   "cell_type": "code",
   "execution_count": null,
   "id": "6b097f2d",
   "metadata": {},
   "outputs": [],
   "source": [
    "n = int(input())\n",
    "arr = map(int, input().split())"
   ]
  },
  {
   "cell_type": "code",
   "execution_count": null,
   "id": "47b45464",
   "metadata": {},
   "outputs": [],
   "source": [
    "score_list = list(arr)"
   ]
  },
  {
   "cell_type": "code",
   "execution_count": null,
   "id": "a9646b6f",
   "metadata": {},
   "outputs": [],
   "source": [
    "score_list"
   ]
  },
  {
   "cell_type": "code",
   "execution_count": null,
   "id": "6edfc8ed",
   "metadata": {},
   "outputs": [],
   "source": [
    "sorted_score_list = sorted(score_list)\n",
    "sorted_score_list"
   ]
  },
  {
   "cell_type": "code",
   "execution_count": null,
   "id": "f652a97d",
   "metadata": {},
   "outputs": [],
   "source": [
    "max_score = max(sorted_score_list)\n",
    "max_index = sorted_score_list.index(max_score)\n",
    "max_index"
   ]
  },
  {
   "cell_type": "code",
   "execution_count": null,
   "id": "6dc05d7e",
   "metadata": {},
   "outputs": [],
   "source": [
    "print(sorted_score_list[max_index-1])"
   ]
  },
  {
   "cell_type": "markdown",
   "id": "9efd5645",
   "metadata": {},
   "source": [
    "# ✅ \n",
    "https://www.hackerrank.com/challenges/finding-the-percentage/problem?isFullScreen=true"
   ]
  },
  {
   "cell_type": "code",
   "execution_count": null,
   "id": "eea2a330",
   "metadata": {},
   "outputs": [],
   "source": [
    "# Print the average of the marks array for the student name provided, \n",
    "# showing 2 places after the decimal.\n",
    "# expected output 56.00 "
   ]
  },
  {
   "cell_type": "code",
   "execution_count": null,
   "id": "83d50ff7",
   "metadata": {},
   "outputs": [],
   "source": [
    "if __name__ == '__main__':\n",
    "    n = int(input())\n",
    "    student_marks = {}\n",
    "    for _ in range(n):\n",
    "        name, *line = input().split()\n",
    "        scores = list(map(float, line))\n",
    "        student_marks[name] = scores\n",
    "    query_name = input()\n",
    "\n",
    "# expected output 26.50"
   ]
  },
  {
   "cell_type": "code",
   "execution_count": null,
   "id": "4542fda2",
   "metadata": {},
   "outputs": [],
   "source": [
    "student_marks[name] # doesn't query right name"
   ]
  },
  {
   "cell_type": "code",
   "execution_count": null,
   "id": "95f2097b",
   "metadata": {},
   "outputs": [],
   "source": [
    "student_marks[query_name] #confirm querying the right name"
   ]
  },
  {
   "cell_type": "code",
   "execution_count": null,
   "id": "3c0f9ee6",
   "metadata": {
    "scrolled": true
   },
   "outputs": [],
   "source": [
    "avg_query_name = (sum(student_marks[query_name])/\n",
    "                  len(student_marks[query_name]))\n",
    "print('%.2f'%avg_query_name)"
   ]
  },
  {
   "cell_type": "markdown",
   "id": "c27e03ad",
   "metadata": {},
   "source": [
    "✅ https://www.hackerrank.com/challenges/write-a-function/problem?isFullScreen=true"
   ]
  },
  {
   "cell_type": "code",
   "execution_count": 251,
   "id": "b9d0e92c",
   "metadata": {},
   "outputs": [
    {
     "name": "stdout",
     "output_type": "stream",
     "text": [
      "1980\n"
     ]
    }
   ],
   "source": [
    "def is_leap(year):\n",
    "    leap = False\n",
    "year = int(input())\n"
   ]
  },
  {
   "cell_type": "code",
   "execution_count": null,
   "id": "042da940",
   "metadata": {},
   "outputs": [],
   "source": [
    "# easily divided by 4, unless:\n",
    "    # year evenly divided by 100 --> NOT, unless:\n",
    "        # year is also divisible by 400 --> YES leap year"
   ]
  },
  {
   "cell_type": "code",
   "execution_count": 256,
   "id": "9421cf8e",
   "metadata": {},
   "outputs": [],
   "source": [
    "def leap_year(year):\n",
    "        \n",
    "    if year % 4 == 0:\n",
    "        if year % 100 == 0 and year % 400 !=0:\n",
    "            return False\n",
    "        else:\n",
    "            return True\n",
    "    else:\n",
    "        return False"
   ]
  },
  {
   "cell_type": "code",
   "execution_count": 257,
   "id": "3b08c92a",
   "metadata": {},
   "outputs": [
    {
     "data": {
      "text/plain": [
       "True"
      ]
     },
     "execution_count": 257,
     "metadata": {},
     "output_type": "execute_result"
    }
   ],
   "source": [
    "leap_year(2000)"
   ]
  },
  {
   "cell_type": "markdown",
   "id": "3fc1d44b",
   "metadata": {},
   "source": [
    "# ✅ \n",
    "https://www.hackerrank.com/challenges/python-tuples/problem?isFullScreen=true "
   ]
  },
  {
   "cell_type": "code",
   "execution_count": 1,
   "id": "22317e84",
   "metadata": {},
   "outputs": [
    {
     "name": "stdout",
     "output_type": "stream",
     "text": [
      "2\n",
      "1 2\n",
      "-3550055125485641917\n"
     ]
    }
   ],
   "source": [
    "if __name__ == '__main__':\n",
    "    n = int(input())\n",
    "    integer_list = map(int, input().split())\n",
    "    t = tuple(integer_list)\n",
    "    print(hash(t))"
   ]
  },
  {
   "cell_type": "code",
   "execution_count": null,
   "id": "b9f3d941",
   "metadata": {},
   "outputs": [],
   "source": [
    "# 2\n",
    "# 1 2"
   ]
  },
  {
   "cell_type": "markdown",
   "id": "ab8be4b4",
   "metadata": {},
   "source": [
    "# ‼️ \n",
    "https://www.hackerrank.com/challenges/python-lists/problem?isFullScreen=true"
   ]
  },
  {
   "cell_type": "code",
   "execution_count": null,
   "id": "6c3ba597",
   "metadata": {},
   "outputs": [],
   "source": [
    "if __name__ == '__main__':\n",
    "    N = int(input())\n",
    "    arr = list()\n",
    "    for _ in range(N):\n",
    "        command = list(input().split())\n",
    "\n",
    "        if command[0] == 'append':\n",
    "            arr.append(int(command[1]))\n",
    "        elif command[0] == 'insert':\n",
    "            arr.insert(int(command[1]), int(command[2]))\n",
    "        elif command[0] == 'remove':\n",
    "            arr.remove(int(command[1]))\n",
    "        elif command[0] == 'sort':\n",
    "            arr.sort()\n",
    "        elif command[0] == 'pop':\n",
    "            arr.pop()\n",
    "        elif command[0] == 'reverse':\n",
    "            arr.reverse()\n",
    "        elif command[0] == 'print':\n",
    "            print(arr)\n"
   ]
  },
  {
   "cell_type": "markdown",
   "id": "eb21f869",
   "metadata": {},
   "source": [
    "# !!\n",
    "https://www.hackerrank.com/challenges/list-comprehensions/problem?isFullScreen=true"
   ]
  },
  {
   "cell_type": "code",
   "execution_count": null,
   "id": "f9ef601d",
   "metadata": {},
   "outputs": [],
   "source": [
    "# Given 3 integers, x y z (represent dimensions of cuboid) and an integer n\n",
    "# Print all possible coordinates given by (i,j,k) on a 3D grid where the sum = i+j+k != n\n",
    "# 0 <i< x; 0 <j<y; 0<k<z\n",
    "# Use list comprehension, not loops"
   ]
  },
  {
   "cell_type": "code",
   "execution_count": 1,
   "id": "3a785656",
   "metadata": {},
   "outputs": [
    {
     "name": "stdout",
     "output_type": "stream",
     "text": [
      "1\n",
      "1\n",
      "1\n",
      "2\n"
     ]
    }
   ],
   "source": [
    "if __name__ == '__main__':\n",
    "    x = int(input())\n",
    "    y = int(input())\n",
    "    z = int(input())\n",
    "    n = int(input())"
   ]
  },
  {
   "cell_type": "code",
   "execution_count": null,
   "id": "d265a12a",
   "metadata": {},
   "outputs": [],
   "source": [
    "# solution https://www.hackerrank.com/rest/contests/master/challenges/list-comprehensions/hackers/keerthi7vasan/download_solution\n",
    "if __name__ == '__main__':\n",
    "    x = int(input())\n",
    "    y = int(input())\n",
    "    z = int(input())\n",
    "    n = int(input())\n",
    "    coordinates = [ [i,j,k] for i in range(0,x+1) for j in range(0,y+1) for k in range(0,z+1) if i+j+k != n]\n",
    "    print (coordinates)\n",
    "    "
   ]
  },
  {
   "cell_type": "code",
   "execution_count": 4,
   "id": "409a5790",
   "metadata": {},
   "outputs": [
    {
     "name": "stdout",
     "output_type": "stream",
     "text": [
      "1\n",
      "1\n",
      "1\n",
      "2\n",
      "[[0, 0, 0], [0, 0, 1], [0, 1, 0], [1, 0, 0], [1, 1, 1]]\n"
     ]
    }
   ],
   "source": [
    "# solution https://www.hackerrank.com/rest/contests/master/challenges/list-comprehensions/hackers/podliy16/download_solution?primary=true\n",
    "X = int(input())\n",
    "Y = int(input())\n",
    "Z = int(input())\n",
    "N = int(input())\n",
    "\n",
    "X += 1\n",
    "Y += 1\n",
    "Z += 1\n",
    "\n",
    "tmp_list = [[x, y, z] for x in range(X) for y in range(Y) for z in range(Z) if x + y + z != N]\n",
    "print(tmp_list)\n"
   ]
  },
  {
   "cell_type": "code",
   "execution_count": 7,
   "id": "603e3623",
   "metadata": {},
   "outputs": [
    {
     "name": "stdout",
     "output_type": "stream",
     "text": [
      "1\n",
      "1\n",
      "1\n",
      "2\n",
      "[[0, 0, 0], [0, 0, 1], [0, 1, 0], [1, 0, 0], [1, 1, 1]]\n"
     ]
    }
   ],
   "source": [
    "# solution https://www.hackerrank.com/rest/contests/master/challenges/list-comprehensions/hackers/felawinkelmolen/download_solution?primary=true\n",
    "\n",
    "xr = range(int(input())+1)\n",
    "yr = range(int(input())+1)\n",
    "zr = range(int(input())+1)\n",
    "n = int(input())\n",
    "\n",
    "arr = [[x, y, z] for x in xr for y in yr for z in zr if x+y+z != n]\n",
    "print(arr)\n"
   ]
  },
  {
   "cell_type": "code",
   "execution_count": null,
   "id": "d8686983",
   "metadata": {},
   "outputs": [],
   "source": [
    "# input\n",
    "1\n",
    "1\n",
    "1\n",
    "2 #n\n",
    "\n",
    "# output\n",
    "# [[0, 0, 0], [0, 0, 1], [0, 1, 0], [1, 0, 0], [1, 1, 1]]\n",
    "# explanation\n",
    "# each variable x y z has values of 0 or 1\n",
    "# all permutations of lists in the form [i,j,k] = [[0,0,0],[0,0,1], [0,1,0], ...  ]\n",
    "# remove all arrays that sum to n=2 to leave only valid permutations. "
   ]
  },
  {
   "cell_type": "code",
   "execution_count": null,
   "id": "eb3f958f",
   "metadata": {},
   "outputs": [],
   "source": [
    "# input\n",
    "1\n",
    "1\n",
    "2\n",
    "3 #n\n",
    "\n",
    "# output\n",
    "# [[0,0,0], [0,0,1], [0,0,2], [0,1,0], [1,1,1], [1,0,0], [1,0,1], [1,1,0], [1,1,2]]\n",
    "# removed all permutations that summed n=3"
   ]
  },
  {
   "cell_type": "code",
   "execution_count": null,
   "id": "f5419b09",
   "metadata": {},
   "outputs": [],
   "source": [
    "# input\n",
    "2\n",
    "2\n",
    "2\n",
    "2 #n\n",
    "\n",
    "\n",
    "# output\n",
    "# [[0, 0, 0], [0, 0, 1], [0, 1, 0], [0, 1, 2], [0, 2, 1], [0, 2, 2], [1, 0, 0], [1, 0, 2], [1, 1, 1], [1, 1, 2], [1, 2, 0], [1, 2, 1], [1, 2, 2], [2, 0, 1], [2, 0, 2], [2, 1, 0], [2, 1, 1], [2, 1, 2], [2, 2, 0], [2, 2, 1], [2, 2, 2]]\n"
   ]
  },
  {
   "cell_type": "code",
   "execution_count": null,
   "id": "b8e84336",
   "metadata": {},
   "outputs": [],
   "source": []
  },
  {
   "cell_type": "code",
   "execution_count": null,
   "id": "f4ab6538",
   "metadata": {},
   "outputs": [],
   "source": []
  },
  {
   "cell_type": "code",
   "execution_count": null,
   "id": "80a788c1",
   "metadata": {},
   "outputs": [],
   "source": []
  },
  {
   "cell_type": "markdown",
   "id": "2446bdda",
   "metadata": {},
   "source": [
    "# 🔖🔖🔖🔖🔖🔖🔖🔖🔖🔖"
   ]
  },
  {
   "cell_type": "markdown",
   "id": "e5f86784",
   "metadata": {},
   "source": [
    "https://www.hackerrank.com/challenges/nested-list/problem?isFullScreen=true"
   ]
  },
  {
   "cell_type": "code",
   "execution_count": 178,
   "id": "a9a3f44b",
   "metadata": {},
   "outputs": [
    {
     "name": "stdout",
     "output_type": "stream",
     "text": [
      "5\n",
      "Harry\n",
      "37.21\n",
      "Akriti\n",
      "41\n",
      "Tina\n",
      "37.2\n",
      "Berry\n",
      "37.21\n",
      "Harsh\n",
      "39\n",
      "lowest is Tina\n"
     ]
    }
   ],
   "source": [
    "if __name__ == '__main__':\n",
    "    n = int(input())\n",
    "    nested_list = []\n",
    "    for _ in range(n):\n",
    "        name = input()\n",
    "        score = float(input())\n",
    "        nested_list.append([name, score])\n",
    "        nested_list.sort(key = lambda x: x[1])\n",
    "        n = 5\n",
    "#     lowest = 0\n",
    "    for m in range(n):\n",
    "        if nested_list[m][1] < nested_list[m-1][1]:\n",
    "            print('lowest is', nested_list[m][0])"
   ]
  },
  {
   "cell_type": "code",
   "execution_count": 196,
   "id": "984d2905",
   "metadata": {},
   "outputs": [
    {
     "data": {
      "text/plain": [
       "[['Akriti', 41.0],\n",
       " ['Berry', 37.21],\n",
       " ['Harry', 37.21],\n",
       " ['Harsh', 39.0],\n",
       " ['Tina', 37.2]]"
      ]
     },
     "execution_count": 196,
     "metadata": {},
     "output_type": "execute_result"
    }
   ],
   "source": [
    "nested_list"
   ]
  },
  {
   "cell_type": "code",
   "execution_count": 199,
   "id": "9e8bf255",
   "metadata": {},
   "outputs": [
    {
     "data": {
      "text/plain": [
       "[['Tina', 37.2],\n",
       " ['Berry', 37.21],\n",
       " ['Harry', 37.21],\n",
       " ['Harsh', 39.0],\n",
       " ['Akriti', 41.0]]"
      ]
     },
     "execution_count": 199,
     "metadata": {},
     "output_type": "execute_result"
    }
   ],
   "source": [
    "nested_list.sort(key = lambda x: x[1])\n",
    "nested_list"
   ]
  },
  {
   "cell_type": "code",
   "execution_count": 247,
   "id": "3b743e4b",
   "metadata": {},
   "outputs": [
    {
     "name": "stdout",
     "output_type": "stream",
     "text": [
      "37.2\n",
      "37.21\n"
     ]
    }
   ],
   "source": [
    "n = 5\n",
    "lowest = 0\n",
    "second_lowest = 0\n",
    "\n",
    "for m in range(n):\n",
    "    if nested_list[m][1] > lowest:\n",
    "        lowest += nested_list[m][1]\n",
    "        print(nested_list[m][1])\n",
    "#         print('lowest', lowest)\n",
    "#     elif nested_list[m][1] > lowest:\n",
    "#         second_lowest += nested_list[m][1]\n",
    "#         print('second_lowest', second_lowest)\n"
   ]
  }
 ],
 "metadata": {
  "kernelspec": {
   "display_name": "Python 3 (ipykernel)",
   "language": "python",
   "name": "python3"
  },
  "language_info": {
   "codemirror_mode": {
    "name": "ipython",
    "version": 3
   },
   "file_extension": ".py",
   "mimetype": "text/x-python",
   "name": "python",
   "nbconvert_exporter": "python",
   "pygments_lexer": "ipython3",
   "version": "3.8.12"
  }
 },
 "nbformat": 4,
 "nbformat_minor": 5
}

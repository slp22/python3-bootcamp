{
  "cells": [
    {
      "cell_type": "markdown",
      "metadata": {
        "id": "view-in-github",
        "colab_type": "text"
      },
      "source": [
        "<a href=\"https://colab.research.google.com/github/slp22/python3-bootcamp/blob/main/0_starting_to_code.ipynb\" target=\"_parent\"><img src=\"https://colab.research.google.com/assets/colab-badge.svg\" alt=\"Open In Colab\"/></a>"
      ]
    },
    {
      "cell_type": "markdown",
      "metadata": {
        "id": "eXUYjoDQOuCC"
      },
      "source": [
        "# Welcome"
      ]
    },
    {
      "cell_type": "markdown",
      "metadata": {
        "id": "rawdr7WrOuCD"
      },
      "source": [
        "<img src=\"https://github.com/jigsawlabs-student/code-intro/blob/master/ralph_wave.gif?raw=1\" width=\"50%\">"
      ]
    },
    {
      "cell_type": "markdown",
      "metadata": {
        "id": "lm3zSi7uOuCE"
      },
      "source": [
        "> Don't see the picture above?  Click `Sign In` on the top right to sign in with Google."
      ]
    },
    {
      "cell_type": "markdown",
      "metadata": {
        "id": "pV08glGpOuCE"
      },
      "source": [
        "## We have some questions"
      ]
    },
    {
      "cell_type": "markdown",
      "metadata": {
        "id": "SjMB_rwBOuCE"
      },
      "source": [
        "Let's start with the first two questions everyone has when learning to code.\n",
        "\n",
        "**1. Can I do it?**\n",
        "\n",
        "**2. Is it even worth it?**"
      ]
    },
    {
      "cell_type": "markdown",
      "metadata": {
        "id": "s-qhaAUnOuCE"
      },
      "source": [
        "### Can you do it?"
      ]
    },
    {
      "cell_type": "markdown",
      "metadata": {
        "id": "crDwOoYYOuCE"
      },
      "source": [
        "Yes.  Coding isn't so bad.  Some may even say it's fun."
      ]
    },
    {
      "cell_type": "markdown",
      "metadata": {
        "id": "kxCsvcS6OuCE"
      },
      "source": [
        "See the gray cell below?  There are two ways we can execute the code.\n",
        "\n",
        "The first way is by clicking the gray `play` button that you see if you hover over the square brackets in the  leftside of the cell.\n",
        "\n",
        "This is the second.  Click inside of the gray box below.  Then hold down the `shift` key with your left hand, and `press return` with the other hand **while still holding down that shift key**."
      ]
    },
    {
      "cell_type": "markdown",
      "metadata": {
        "id": "Izqi7nrROuCE"
      },
      "source": [
        "> **Note:** You will get a **warning** from Google, the first time you execute a cell of code.  Click **Run Anyway**."
      ]
    },
    {
      "cell_type": "code",
      "execution_count": null,
      "metadata": {
        "id": "Nep4RWkVOuCF",
        "outputId": "4b2d497c-f31c-4d32-a266-1ca2b7138b63",
        "colab": {
          "base_uri": "https://localhost:8080/"
        }
      },
      "outputs": [
        {
          "output_type": "execute_result",
          "data": {
            "text/plain": [
              "13"
            ]
          },
          "metadata": {},
          "execution_count": 1
        }
      ],
      "source": [
        "3 + 10"
      ]
    },
    {
      "cell_type": "markdown",
      "metadata": {
        "id": "9aR9dCsDOuCF"
      },
      "source": [
        "> Click on the cell above, and then press `shift + return`."
      ]
    },
    {
      "cell_type": "markdown",
      "metadata": {
        "id": "o1smH9VYOuCF"
      },
      "source": [
        "You can also watch the video below, to see how a pro does it."
      ]
    },
    {
      "cell_type": "markdown",
      "metadata": {
        "id": "etmUxuFcOuCF"
      },
      "source": [
        "<img src=\"https://github.com/jigsawlabs/curriculum-assets/blob/master/introduction-to-apis/7-just-a-bit-of-python/jupyter-python.gif?raw=true\" width=\"40%\">"
      ]
    },
    {
      "cell_type": "markdown",
      "metadata": {
        "id": "TwwTq2JMOuCF"
      },
      "source": [
        "**Ok, now let's do something a bit more interesting.**"
      ]
    },
    {
      "cell_type": "markdown",
      "metadata": {
        "id": "cnmMUaTpOuCF"
      },
      "source": [
        "Let's say that we are in the music business, and we we want to see where people travel to after a music concert.  Learning this could tell us more about our audience, like where they live, or like to hang out.  We decide to look at New York City's taxi trip data, which is available <a href=\"https://data.cityofnewyork.us/resource/biws-g3hs.json?pulocationid=186\" target=\"_blank\"> here</a>, and specify taxi trips near Madison Square Garden with the [`pulocationid` (pickup location id)](https://data.cityofnewyork.us/Transportation/NYC-Taxi-Zones/d3c5-ddgc)."
      ]
    },
    {
      "cell_type": "markdown",
      "metadata": {
        "id": "m4BxSbczOuCF"
      },
      "source": [
        "But it helps to know a bit of programming to more easily explore it."
      ]
    },
    {
      "cell_type": "markdown",
      "metadata": {
        "id": "mSBOlB3POuCF"
      },
      "source": [
        "> Press `shift + return` on the cell below to collect this data."
      ]
    },
    {
      "cell_type": "code",
      "execution_count": null,
      "metadata": {
        "id": "ZWFSmogQOuCF"
      },
      "outputs": [],
      "source": [
        "import pandas as pd\n",
        "url = \"https://data.cityofnewyork.us/resource/biws-g3hs.json?pulocationid=186\"\n",
        "df = pd.read_json(url)\n",
        "df[:2]"
      ]
    },
    {
      "cell_type": "markdown",
      "metadata": {
        "id": "IEEMtVIvOuCF"
      },
      "source": [
        "> We just selected two of the trips near Madison Square Garden.  \n",
        "> But we could view more trips by changing the number in `df[:2]` to something larger (and then `shift + return`) again.  "
      ]
    },
    {
      "cell_type": "markdown",
      "metadata": {
        "id": "ntq-4nJGOuCF"
      },
      "source": [
        "Or let's say we to find information about Billie Eilish albums on Itunes.  For that, we can search the ITunes API for Billie Eilish albums, limiting to the first returned result.\n",
        "\n",
        "> Press `shift + return` on the cell below."
      ]
    },
    {
      "cell_type": "code",
      "execution_count": null,
      "metadata": {
        "id": "CB9YS2v0OuCF",
        "outputId": "85a41458-7cbc-429d-baf1-984edec5c9d2"
      },
      "outputs": [
        {
          "data": {
            "text/plain": [
              "[{'resultCount': 1,\n",
              "  'results': {'wrapperType': 'collection',\n",
              "   'collectionType': 'Album',\n",
              "   'artistId': 1065981054,\n",
              "   'collectionId': 1444871456,\n",
              "   'amgArtistId': 3177510,\n",
              "   'artistName': 'Billie Eilish',\n",
              "   'collectionName': 'Up Next Session: Billie Eilish (Live) - Single',\n",
              "   'collectionCensoredName': 'Up Next Session: Billie Eilish (Live) - Single',\n",
              "   'artistViewUrl': 'https://music.apple.com/us/artist/billie-eilish/1065981054?uo=4',\n",
              "   'collectionViewUrl': 'https://music.apple.com/us/album/up-next-session-billie-eilish-live-single/1444871456?uo=4',\n",
              "   'artworkUrl60': 'https://is3-ssl.mzstatic.com/image/thumb/Music124/v4/8d/3d/e0/8d3de0c4-478f-cc92-9819-a267bbbab38a/source/60x60bb.jpg',\n",
              "   'artworkUrl100': 'https://is3-ssl.mzstatic.com/image/thumb/Music124/v4/8d/3d/e0/8d3de0c4-478f-cc92-9819-a267bbbab38a/source/100x100bb.jpg',\n",
              "   'collectionPrice': 2.99,\n",
              "   'collectionExplicitness': 'notExplicit',\n",
              "   'trackCount': 3,\n",
              "   'copyright': '℗ 2017 Darkroom/Interscope Records',\n",
              "   'country': 'USA',\n",
              "   'currency': 'USD',\n",
              "   'releaseDate': '2017-09-20T07:00:00Z',\n",
              "   'primaryGenreName': 'Alternative'}}]"
            ]
          },
          "execution_count": 17,
          "metadata": {},
          "output_type": "execute_result"
        }
      ],
      "source": [
        "import pandas as pd\n",
        "url = \"https://itunes.apple.com/search?term=billie+eilish&entity=album&limit=1\"\n",
        "df = pd.read_json(url)\n",
        "df.to_dict('records')"
      ]
    },
    {
      "cell_type": "markdown",
      "metadata": {
        "id": "D_tKIdSuOuCG"
      },
      "source": [
        "If you look our the two blocks of code above you can see that they are quite similar.  And you may even be able to get a sense of what the code is doing.  \n",
        "> But of course, we'll later walk through each line of code to really understand them.  \n",
        "\n",
        "The point is this:"
      ]
    },
    {
      "cell_type": "markdown",
      "metadata": {
        "id": "DNSN4aBqOuCG"
      },
      "source": [
        "**Yes**, you can do it."
      ]
    },
    {
      "cell_type": "markdown",
      "metadata": {
        "id": "nVtWkyUHOuCG"
      },
      "source": [
        "## But is coding worth it?"
      ]
    },
    {
      "cell_type": "markdown",
      "metadata": {
        "id": "Kxnxq80EOuCG"
      },
      "source": [
        "Here's my story.  I started coding while working in a market research role.  One of my coworkers knew a bit of coding, and I saw that it was easier for him to both **find information**, and also to **take action** with this information.  That's what motivated me to code -- it was only afterwards that I fell in love with it."
      ]
    },
    {
      "cell_type": "markdown",
      "metadata": {
        "id": "MgQeJQlFOuCG"
      },
      "source": [
        "That is what we'll learn over these next lessons -- how coding can help us find information and take action.  But more importantly, we'll learn the coding *fundamentals* to develop our skills afterwards."
      ]
    },
    {
      "cell_type": "markdown",
      "metadata": {
        "id": "BK-WTjQaOuCG"
      },
      "source": [
        "Steve Jobs offers another reason for learning to code:"
      ]
    },
    {
      "cell_type": "markdown",
      "metadata": {
        "id": "X7Rjm3EwOuCG"
      },
      "source": [
        "> \"In my perspective ... science and computer science is a liberal art, it's something everyone should know how to use, at least, and harness in their life. It's not something that should be relegated to 5 percent of the population over in the corner. It's something that everybody should be exposed to and everyone should have mastery of to some extent.\"\n",
        ">\n",
        "> [Steve Jobs (Fresh Air 1996 Interview)](https://www.npr.org/2011/10/06/141115121/steve-jobs-computer-science-is-a-liberal-art)"
      ]
    },
    {
      "cell_type": "markdown",
      "metadata": {
        "id": "QMwOogGSOuCG"
      },
      "source": [
        "## But why Python?"
      ]
    },
    {
      "cell_type": "markdown",
      "metadata": {
        "id": "k6hzMBfiOuCG"
      },
      "source": [
        "Python is a great language for beginners to work with.  It is a powerful and easy to understand language, that's also quite popular.  Below is a chart from a [2020 stackoverflow survey](https://insights.stackoverflow.com/survey/2020#technology-programming-scripting-and-markup-languages-professional-developers) showing the most popular programming languages.  There's Python - right near the top."
      ]
    },
    {
      "cell_type": "markdown",
      "metadata": {
        "id": "9LOdMoRBOuCG"
      },
      "source": [
        "> <img src=\"https://github.com/jigsawlabs-student/code-intro/blob/master/python-pop.png?raw=1\" width=\"70%\">"
      ]
    },
    {
      "cell_type": "markdown",
      "metadata": {
        "id": "s_TkvVlOOuCG"
      },
      "source": [
        "A large reason why Python is so popular is because of the various uses for it.  We can use it to develop websites, or to perform data analysis.  "
      ]
    },
    {
      "cell_type": "markdown",
      "metadata": {
        "id": "9mTo5JQ9OuCG"
      },
      "source": [
        "### Conclusion"
      ]
    },
    {
      "cell_type": "markdown",
      "metadata": {
        "id": "6YI-Ye9GOuCG"
      },
      "source": [
        "Over the next lessons, we'll get up and running in Python.  We'll do so in a way where we not only learn the fundamentals of coding, but also learn how to apply coding to solve real life problems.  Let's get started.  \n",
        "\n",
        "Click the yellow next below."
      ]
    },
    {
      "cell_type": "markdown",
      "metadata": {
        "id": "VmoRFCd_OuCG"
      },
      "source": [
        "> **Note**: If you are on a phone, the next buttton may not work.  So click on the Jigsaw Labs icon to go to the table of contents."
      ]
    },
    {
      "cell_type": "markdown",
      "metadata": {
        "id": "TVMG76V3OuCG"
      },
      "source": [
        "<right>\n",
        "<a href=\"https://colab.research.google.com/github/jigsawlabs-student/code-intro/blob/master/1-visual-variables.ipynb\">\n",
        "<img src=\"https://github.com/jigsawlabs-student/code-intro/blob/master/next-yellow.jpg?raw=1\" align=\"right\" style=\"padding-right: 20px\" width=\"10%\">\n",
        "    </a>\n",
        "</right>"
      ]
    },
    {
      "cell_type": "markdown",
      "metadata": {
        "id": "6tcTmaouOuCG"
      },
      "source": [
        "<center>\n",
        "<a href=\"https://www.jigsawlabs.io\" style=\"position: center\"><img src=\"https://github.com/jigsawlabs-student/code-intro/blob/master/jigsaw-icon.png?raw=1\" width=\"15%\" style=\"text-align: center\"></a>\n",
        "</center>"
      ]
    }
  ],
  "metadata": {
    "kernelspec": {
      "display_name": "Python 3 (ipykernel)",
      "language": "python",
      "name": "python3"
    },
    "language_info": {
      "codemirror_mode": {
        "name": "ipython",
        "version": 3
      },
      "file_extension": ".py",
      "mimetype": "text/x-python",
      "name": "python",
      "nbconvert_exporter": "python",
      "pygments_lexer": "ipython3",
      "version": "3.10.6"
    },
    "colab": {
      "provenance": [],
      "include_colab_link": true
    }
  },
  "nbformat": 4,
  "nbformat_minor": 0
}
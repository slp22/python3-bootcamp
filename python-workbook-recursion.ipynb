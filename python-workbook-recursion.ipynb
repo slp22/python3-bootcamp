{
 "cells": [
  {
   "cell_type": "markdown",
   "id": "de4e6656",
   "metadata": {},
   "source": [
    "[The Python Workbook: A Brief Introduction with Exercises and Solutions](https://link.springer.com/book/10.1007/978-3-319-14240-1) by Ben Stephenson"
   ]
  },
  {
   "cell_type": "markdown",
   "id": "b0730424",
   "metadata": {},
   "source": [
    "# recursion (p 79) "
   ]
  },
  {
   "cell_type": "markdown",
   "id": "9953b9bc",
   "metadata": {},
   "source": [
    "## <span style=\"color:red;\"> #164 total the values</span>"
   ]
  },
  {
   "cell_type": "code",
   "execution_count": null,
   "id": "35f7b82f",
   "metadata": {},
   "outputs": [],
   "source": []
  },
  {
   "cell_type": "markdown",
   "id": "1126c6df",
   "metadata": {},
   "source": [
    "## <span style=\"color:red;\"> #165 greatest common divisor</span>"
   ]
  },
  {
   "cell_type": "code",
   "execution_count": null,
   "id": "beafa839",
   "metadata": {},
   "outputs": [],
   "source": []
  },
  {
   "cell_type": "markdown",
   "id": "287706f8",
   "metadata": {},
   "source": [
    "## <span style=\"color:red;\"> #166 recursive decimal to binary</span>"
   ]
  },
  {
   "cell_type": "code",
   "execution_count": null,
   "id": "2c220581",
   "metadata": {},
   "outputs": [],
   "source": []
  },
  {
   "cell_type": "markdown",
   "id": "a155dcba",
   "metadata": {},
   "source": [
    "## <span style=\"color:red;\"> #167 recursive palindrome</span>"
   ]
  },
  {
   "cell_type": "code",
   "execution_count": null,
   "id": "663a40e9",
   "metadata": {},
   "outputs": [],
   "source": []
  },
  {
   "cell_type": "markdown",
   "id": "8b8eee04",
   "metadata": {},
   "source": [
    "## <span style=\"color:red;\"> #168 recursive square root</span>"
   ]
  },
  {
   "cell_type": "code",
   "execution_count": null,
   "id": "2fff6df9",
   "metadata": {},
   "outputs": [],
   "source": []
  },
  {
   "cell_type": "markdown",
   "id": "9e844e94",
   "metadata": {},
   "source": [
    "## <span style=\"color:red;\"> #169 string edit distance</span>"
   ]
  },
  {
   "cell_type": "code",
   "execution_count": null,
   "id": "2eccd642",
   "metadata": {},
   "outputs": [],
   "source": []
  },
  {
   "cell_type": "markdown",
   "id": "711e630c",
   "metadata": {},
   "source": [
    "## <span style=\"color:red;\"> #170 possible change</span>"
   ]
  },
  {
   "cell_type": "code",
   "execution_count": null,
   "id": "f0436025",
   "metadata": {},
   "outputs": [],
   "source": []
  },
  {
   "cell_type": "markdown",
   "id": "6036ddc2",
   "metadata": {},
   "source": [
    "## <span style=\"color:red;\"> #171 spelling with element symbol</span>"
   ]
  },
  {
   "cell_type": "code",
   "execution_count": null,
   "id": "7a518be3",
   "metadata": {},
   "outputs": [],
   "source": []
  },
  {
   "cell_type": "markdown",
   "id": "6f988e39",
   "metadata": {},
   "source": [
    "## <span style=\"color:red;\"> #172 element sequences</span>"
   ]
  },
  {
   "cell_type": "code",
   "execution_count": null,
   "id": "61184454",
   "metadata": {},
   "outputs": [],
   "source": []
  },
  {
   "cell_type": "markdown",
   "id": "0c42fb4f",
   "metadata": {},
   "source": [
    "## <span style=\"color:red;\"> #173 run-length decoding</span>"
   ]
  },
  {
   "cell_type": "code",
   "execution_count": null,
   "id": "cdc4bbfc",
   "metadata": {},
   "outputs": [],
   "source": []
  },
  {
   "cell_type": "markdown",
   "id": "960fd8de",
   "metadata": {},
   "source": [
    "## <span style=\"color:red;\"> #174 run-length encoding</span>"
   ]
  },
  {
   "cell_type": "code",
   "execution_count": null,
   "id": "1bb6efc6",
   "metadata": {},
   "outputs": [],
   "source": []
  }
 ],
 "metadata": {
  "kernelspec": {
   "display_name": "Python 3 (ipykernel)",
   "language": "python",
   "name": "python3"
  },
  "language_info": {
   "codemirror_mode": {
    "name": "ipython",
    "version": 3
   },
   "file_extension": ".py",
   "mimetype": "text/x-python",
   "name": "python",
   "nbconvert_exporter": "python",
   "pygments_lexer": "ipython3",
   "version": "3.10.9"
  }
 },
 "nbformat": 4,
 "nbformat_minor": 5
}

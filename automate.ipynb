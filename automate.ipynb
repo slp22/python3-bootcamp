{
 "cells": [
  {
   "cell_type": "code",
   "execution_count": 3,
   "id": "9931ec40",
   "metadata": {},
   "outputs": [
    {
     "name": "stdout",
     "output_type": "stream",
     "text": [
      "Contribution per pay period: 1000\n",
      "At the end of 24 pay periods, you have 24000 in your 401(k).\n"
     ]
    }
   ],
   "source": [
    "# basic: multiply contribution by num paychecks\n",
    "def four_oh_one_k(paycheck_contribution):\n",
    "    max_2025 = 23500\n",
    "    pay_periods_year = 24\n",
    "    return paycheck_contribution * pay_periods_year\n",
    "\n",
    "def main():\n",
    "    paycheck_contribution = int(input('Contribution per pay period: '))\n",
    "    print('At the end of 24 pay periods, you have', \n",
    "          four_oh_one_k(paycheck_contribution), 'in your 401(k).')\n",
    "main()"
   ]
  },
  {
   "cell_type": "markdown",
   "id": "8ebd89d9",
   "metadata": {},
   "source": []
  },
  {
   "cell_type": "code",
   "execution_count": 4,
   "id": "9391ee81",
   "metadata": {},
   "outputs": [
    {
     "name": "stdout",
     "output_type": "stream",
     "text": [
      "Contribution per pay period: 1000\n",
      "You are over by 500\n",
      "At the end of 24 pay periods, you have saved 24000 in your 401(k).\n"
     ]
    }
   ],
   "source": [
    "# basic plus: calculate how much over/under \n",
    "def four_oh_one_k(paycheck_contribution):\n",
    "    max_2025 = 23500\n",
    "    pay_periods_year = 24\n",
    "    savings = paycheck_contribution * pay_periods_year\n",
    "    over = savings - max_2025\n",
    "    under = max_2025 - savings\n",
    "    \n",
    "    if savings > max_2025:\n",
    "        print('You are over by', over)\n",
    "    elif savings < max_2025:\n",
    "        print('You are under by', under)\n",
    "    else:\n",
    "        print('👍')\n",
    "    return savings\n",
    "\n",
    "def main():\n",
    "    paycheck_contribution = int(input('Contribution per pay period: '))\n",
    "    print('At the end of 24 pay periods, you have saved', four_oh_one_k(paycheck_contribution), 'in your 401(k).')\n",
    "\n",
    "main()"
   ]
  },
  {
   "cell_type": "code",
   "execution_count": 5,
   "id": "f1bbcc28",
   "metadata": {},
   "outputs": [
    {
     "name": "stdout",
     "output_type": "stream",
     "text": [
      "Contribution per pay period: 1000\n",
      "You are over by 500\n",
      "At the end of 24 pay periods, you have saved 24000 in your 401(k).\n"
     ]
    }
   ],
   "source": [
    "def main():\n",
    "    paycheck_contribution = int(input('Contribution per pay period: '))\n",
    "    print('At the end of 24 pay periods, you have saved', four_oh_one_k(paycheck_contribution), 'in your 401(k).')\n",
    "\n",
    "main()"
   ]
  },
  {
   "cell_type": "markdown",
   "id": "7d30ea76",
   "metadata": {},
   "source": []
  },
  {
   "cell_type": "code",
   "execution_count": null,
   "id": "942b54b9",
   "metadata": {},
   "outputs": [],
   "source": []
  },
  {
   "cell_type": "code",
   "execution_count": null,
   "id": "7d0bf715",
   "metadata": {},
   "outputs": [],
   "source": []
  },
  {
   "cell_type": "code",
   "execution_count": null,
   "id": "4ca94269",
   "metadata": {},
   "outputs": [],
   "source": []
  },
  {
   "cell_type": "code",
   "execution_count": null,
   "id": "22148bd1",
   "metadata": {},
   "outputs": [],
   "source": []
  },
  {
   "cell_type": "code",
   "execution_count": 14,
   "id": "2fe99622",
   "metadata": {},
   "outputs": [
    {
     "name": "stdout",
     "output_type": "stream",
     "text": [
      "Contribution per pay period: 500\n",
      "500\n",
      "1\n",
      "1000\n",
      "2\n",
      "1500\n",
      "3\n",
      "2000\n",
      "4\n",
      "2500\n",
      "5\n",
      "3000\n",
      "6\n",
      "3500\n",
      "7\n",
      "4000\n",
      "8\n",
      "4500\n",
      "9\n",
      "5000\n",
      "10\n",
      "5500\n",
      "11\n",
      "6000\n",
      "12\n",
      "6500\n",
      "13\n",
      "7000\n",
      "14\n",
      "7500\n",
      "15\n",
      "8000\n",
      "16\n",
      "8500\n",
      "17\n",
      "9000\n",
      "18\n",
      "9500\n",
      "19\n",
      "10000\n",
      "20\n",
      "10500\n",
      "21\n",
      "11000\n",
      "22\n",
      "11500\n",
      "23\n",
      "12000\n",
      "24\n",
      "12500\n",
      "25\n",
      "13000\n",
      "26\n",
      "13500\n",
      "27\n",
      "14000\n",
      "28\n",
      "14500\n",
      "29\n",
      "15000\n",
      "30\n",
      "15500\n",
      "31\n",
      "16000\n",
      "32\n",
      "16500\n",
      "33\n",
      "17000\n",
      "34\n",
      "17500\n",
      "35\n",
      "18000\n",
      "36\n",
      "18500\n",
      "37\n",
      "19000\n",
      "38\n",
      "19500\n",
      "39\n",
      "20000\n",
      "40\n",
      "20500\n",
      "41\n",
      "21000\n",
      "42\n",
      "21500\n",
      "43\n",
      "22000\n",
      "44\n",
      "22500\n",
      "45\n",
      "23000\n",
      "46\n",
      "23500\n",
      "47\n",
      "(23500, 23.5)\n"
     ]
    }
   ],
   "source": [
    "# intermediate: calculate by when maxed out 401k\n",
    "def four_oh_one_k(paycheck_contribution):\n",
    "    max_2025 = 23500\n",
    "    pay_periods_year = 24\n",
    "\n",
    "    savings = 0\n",
    "    counter = 0\n",
    "    \n",
    "    while savings < max_2025:\n",
    "        savings += paycheck_contribution\n",
    "        counter += int(1)\n",
    "        print(savings)\n",
    "        print(counter)\n",
    "        if savings == max_2025:\n",
    "            return savings, counter/2\n",
    "    return savings, counter/2\n",
    "\n",
    "\n",
    "\n",
    "def main():\n",
    "    paycheck_contribution = int(input('Contribution per pay period: '))\n",
    "    print(four_oh_one_k(paycheck_contribution))\n",
    "#     print('At the end of 24 pay periods, you have saved', four_oh_one_k(paycheck_contribution), 'in your 401(k)')\n",
    "\n",
    "main()"
   ]
  },
  {
   "cell_type": "code",
   "execution_count": 10,
   "id": "f032ced6",
   "metadata": {},
   "outputs": [],
   "source": [
    "# paycheck_contribution = 2000\n",
    "# four_oh_one_k(paycheck_contribution)"
   ]
  },
  {
   "cell_type": "code",
   "execution_count": null,
   "id": "a5b5ead6",
   "metadata": {},
   "outputs": [],
   "source": []
  }
 ],
 "metadata": {
  "kernelspec": {
   "display_name": "Python 3 (ipykernel)",
   "language": "python",
   "name": "python3"
  },
  "language_info": {
   "codemirror_mode": {
    "name": "ipython",
    "version": 3
   },
   "file_extension": ".py",
   "mimetype": "text/x-python",
   "name": "python",
   "nbconvert_exporter": "python",
   "pygments_lexer": "ipython3",
   "version": "3.10.9"
  }
 },
 "nbformat": 4,
 "nbformat_minor": 5
}

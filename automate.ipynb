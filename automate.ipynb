{
 "cells": [
  {
   "cell_type": "code",
   "execution_count": 25,
   "id": "9931ec40",
   "metadata": {},
   "outputs": [
    {
     "name": "stdout",
     "output_type": "stream",
     "text": [
      "Contribution per pay period: 1000\n",
      "At the end of 24 pay periods, you have 24000 in your 401(k).\n"
     ]
    }
   ],
   "source": [
    "# basic: multiply contribution by num paychecks\n",
    "def four_oh_one_k(paycheck_contribution):\n",
    "    max_2025 = 23500\n",
    "    pay_periods_year = 24\n",
    "    return paycheck_contribution * pay_periods_year\n",
    "\n",
    "def main():\n",
    "    paycheck_contribution = int(input('Contribution per pay period: '))\n",
    "    print('At the end of 24 pay periods, you have', \n",
    "          four_oh_one_k(paycheck_contribution), 'in your 401(k).')\n",
    "main()"
   ]
  },
  {
   "cell_type": "markdown",
   "id": "8ebd89d9",
   "metadata": {},
   "source": []
  },
  {
   "cell_type": "code",
   "execution_count": 26,
   "id": "9391ee81",
   "metadata": {},
   "outputs": [
    {
     "name": "stdout",
     "output_type": "stream",
     "text": [
      "Contribution per pay period: 1000\n",
      "You are over by 500\n",
      "At the end of 24 pay periods, you have saved 24000 in your 401(k).\n"
     ]
    }
   ],
   "source": [
    "# basic plus: calculate how much over/under \n",
    "def four_oh_one_k(paycheck_contribution):\n",
    "    max_2025 = 23500\n",
    "    pay_periods_year = 24\n",
    "    savings = paycheck_contribution * pay_periods_year\n",
    "    over = savings - max_2025\n",
    "    under = max_2025 - savings\n",
    "    \n",
    "    if savings > max_2025:\n",
    "        print('You are over by', over)\n",
    "    elif savings < max_2025:\n",
    "        print('You are under by', under)\n",
    "    else:\n",
    "        print('👍')\n",
    "    return savings\n",
    "\n",
    "def main():\n",
    "    paycheck_contribution = int(input('Contribution per pay period: '))\n",
    "    print('At the end of 24 pay periods, you have saved', four_oh_one_k(paycheck_contribution), 'in your 401(k).')\n",
    "\n",
    "main()"
   ]
  },
  {
   "cell_type": "code",
   "execution_count": 27,
   "id": "f1bbcc28",
   "metadata": {},
   "outputs": [
    {
     "name": "stdout",
     "output_type": "stream",
     "text": [
      "Contribution per pay period: 900\n",
      "You are under by 1900\n",
      "At the end of 24 pay periods, you have saved 21600 in your 401(k).\n"
     ]
    }
   ],
   "source": [
    "def main():\n",
    "    paycheck_contribution = int(input('Contribution per pay period: '))\n",
    "    print('At the end of 24 pay periods, you have saved', four_oh_one_k(paycheck_contribution), 'in your 401(k).')\n",
    "\n",
    "main()"
   ]
  },
  {
   "cell_type": "markdown",
   "id": "7d30ea76",
   "metadata": {},
   "source": []
  },
  {
   "cell_type": "code",
   "execution_count": null,
   "id": "942b54b9",
   "metadata": {},
   "outputs": [],
   "source": []
  },
  {
   "cell_type": "code",
   "execution_count": null,
   "id": "7d0bf715",
   "metadata": {},
   "outputs": [],
   "source": []
  },
  {
   "cell_type": "code",
   "execution_count": null,
   "id": "4ca94269",
   "metadata": {},
   "outputs": [],
   "source": []
  },
  {
   "cell_type": "code",
   "execution_count": null,
   "id": "22148bd1",
   "metadata": {},
   "outputs": [],
   "source": []
  },
  {
   "cell_type": "code",
   "execution_count": 100,
   "id": "2fe99622",
   "metadata": {},
   "outputs": [],
   "source": [
    "# intermediate: calculate by when maxed out 401k\n",
    "def four_oh_one_k(paycheck_contribution):\n",
    "    max_2025 = 23500\n",
    "    pay_periods_year = 24\n",
    "\n",
    "    savings = 0\n",
    "    counter = 0\n",
    "    \n",
    "    while savings < max_2025:\n",
    "        savings += paycheck_contribution\n",
    "        counter += int(1)\n",
    "        print(savings)\n",
    "        print(counter)\n",
    "        if savings == max_2025:\n",
    "            return savings, counter/2\n",
    "    return savings, counter/2\n",
    "\n",
    "\n",
    "\n",
    "# def main():\n",
    "#     paycheck_contribution = int(input('Contribution per pay period: '))\n",
    "#     print('At the end of 24 pay periods, you have saved', four_oh_one_k(paycheck_contribution), 'in your 401(k)')\n",
    "\n",
    "# main()"
   ]
  },
  {
   "cell_type": "code",
   "execution_count": 101,
   "id": "f032ced6",
   "metadata": {},
   "outputs": [
    {
     "name": "stdout",
     "output_type": "stream",
     "text": [
      "2000\n",
      "1\n",
      "4000\n",
      "2\n",
      "6000\n",
      "3\n",
      "8000\n",
      "4\n",
      "10000\n",
      "5\n",
      "12000\n",
      "6\n",
      "14000\n",
      "7\n",
      "16000\n",
      "8\n",
      "18000\n",
      "9\n",
      "20000\n",
      "10\n",
      "22000\n",
      "11\n",
      "24000\n",
      "12\n"
     ]
    },
    {
     "data": {
      "text/plain": [
       "(24000, 6.0)"
      ]
     },
     "execution_count": 101,
     "metadata": {},
     "output_type": "execute_result"
    }
   ],
   "source": [
    "paycheck_contribution = 2000\n",
    "four_oh_one_k(paycheck_contribution)"
   ]
  },
  {
   "cell_type": "code",
   "execution_count": null,
   "id": "a5b5ead6",
   "metadata": {},
   "outputs": [],
   "source": []
  }
 ],
 "metadata": {
  "kernelspec": {
   "display_name": "Python 3 (ipykernel)",
   "language": "python",
   "name": "python3"
  },
  "language_info": {
   "codemirror_mode": {
    "name": "ipython",
    "version": 3
   },
   "file_extension": ".py",
   "mimetype": "text/x-python",
   "name": "python",
   "nbconvert_exporter": "python",
   "pygments_lexer": "ipython3",
   "version": "3.10.9"
  }
 },
 "nbformat": 4,
 "nbformat_minor": 5
}

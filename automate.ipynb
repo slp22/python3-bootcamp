{
 "cells": [
  {
   "cell_type": "code",
   "execution_count": 25,
   "id": "0ce7185e",
   "metadata": {},
   "outputs": [
    {
     "name": "stdout",
     "output_type": "stream",
     "text": [
      "Contribution per pay period: 1000\n",
      "At the end of 24 pay periods, you have 24000 in your 401(k).\n"
     ]
    }
   ],
   "source": [
    "# basic: multiply contribution by num paychecks\n",
    "def four_oh_one_k(paycheck_contribution):\n",
    "    max_2025 = 23500\n",
    "    pay_periods_year = 24\n",
    "    return paycheck_contribution * pay_periods_year\n",
    "\n",
    "def main():\n",
    "    paycheck_contribution = int(input('Contribution per pay period: '))\n",
    "    print('At the end of 24 pay periods, you have', \n",
    "          four_oh_one_k(paycheck_contribution), 'in your 401(k).')\n",
    "main()"
   ]
  },
  {
   "cell_type": "markdown",
   "id": "463abb3f",
   "metadata": {},
   "source": []
  },
  {
   "cell_type": "code",
   "execution_count": 26,
   "id": "0c78fdb7",
   "metadata": {},
   "outputs": [
    {
     "name": "stdout",
     "output_type": "stream",
     "text": [
      "Contribution per pay period: 1000\n",
      "You are over by 500\n",
      "At the end of 24 pay periods, you have saved 24000 in your 401(k).\n"
     ]
    }
   ],
   "source": [
    "# basic plus: calculate how much over/under \n",
    "def four_oh_one_k(paycheck_contribution):\n",
    "    max_2025 = 23500\n",
    "    pay_periods_year = 24\n",
    "    savings = paycheck_contribution * pay_periods_year\n",
    "    over = savings - max_2025\n",
    "    under = max_2025 - savings\n",
    "    \n",
    "    if savings > max_2025:\n",
    "        print('You are over by', over)\n",
    "    elif savings < max_2025:\n",
    "        print('You are under by', under)\n",
    "    else:\n",
    "        print('👍')\n",
    "    return savings\n",
    "\n",
    "def main():\n",
    "    paycheck_contribution = int(input('Contribution per pay period: '))\n",
    "    print('At the end of 24 pay periods, you have saved', four_oh_one_k(paycheck_contribution), 'in your 401(k).')\n",
    "\n",
    "main()"
   ]
  },
  {
   "cell_type": "code",
   "execution_count": 27,
   "id": "d4589bdb",
   "metadata": {},
   "outputs": [
    {
     "name": "stdout",
     "output_type": "stream",
     "text": [
      "Contribution per pay period: 900\n",
      "You are under by 1900\n",
      "At the end of 24 pay periods, you have saved 21600 in your 401(k).\n"
     ]
    }
   ],
   "source": [
    "def main():\n",
    "    paycheck_contribution = int(input('Contribution per pay period: '))\n",
    "    print('At the end of 24 pay periods, you have saved', four_oh_one_k(paycheck_contribution), 'in your 401(k).')\n",
    "\n",
    "main()"
   ]
  },
  {
   "cell_type": "markdown",
   "id": "1f01b33d",
   "metadata": {},
   "source": []
  },
  {
   "cell_type": "code",
   "execution_count": null,
   "id": "6465d6b7",
   "metadata": {},
   "outputs": [],
   "source": []
  },
  {
   "cell_type": "code",
   "execution_count": null,
   "id": "15c369b6",
   "metadata": {},
   "outputs": [],
   "source": []
  },
  {
   "cell_type": "code",
   "execution_count": null,
   "id": "27cbe61d",
   "metadata": {},
   "outputs": [],
   "source": []
  },
  {
   "cell_type": "code",
   "execution_count": null,
   "id": "958e3917",
   "metadata": {},
   "outputs": [],
   "source": []
  },
  {
   "cell_type": "code",
   "execution_count": null,
   "id": "3fdc0e65",
   "metadata": {},
   "outputs": [],
   "source": [
    "# intermediate: calculate by when maxed out 401k\n",
    "def four_oh_one_k(paycheck_contribution):\n",
    "    max_2025 = 23500\n",
    "    pay_periods_year = 24\n",
    "    savings = paycheck_contribution * pay_periods_year\n",
    "    over = savings - max_2025\n",
    "    under = max_2025 - savings\n",
    "    \n",
    "    if savings > max_2025:\n",
    "        print('You are over by', over)\n",
    "    elif savings < max_2025:\n",
    "        print('You are under by', under)\n",
    "    else:\n",
    "        print('👍')\n",
    "    return savings\n",
    "\n",
    "def main():\n",
    "    paycheck_contribution = int(input('Contribution per pay period: '))\n",
    "    print('At the end of 24 pay periods, you have saved', four_oh_one_k(paycheck_contribution), 'in your 401(k)')\n",
    "\n",
    "main()"
   ]
  }
 ],
 "metadata": {
  "kernelspec": {
   "display_name": "Python 3 (ipykernel)",
   "language": "python",
   "name": "python3"
  },
  "language_info": {
   "codemirror_mode": {
    "name": "ipython",
    "version": 3
   },
   "file_extension": ".py",
   "mimetype": "text/x-python",
   "name": "python",
   "nbconvert_exporter": "python",
   "pygments_lexer": "ipython3",
   "version": "3.10.9"
  }
 },
 "nbformat": 4,
 "nbformat_minor": 5
}

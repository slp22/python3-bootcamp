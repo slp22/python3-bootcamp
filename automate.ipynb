{
 "cells": [
  {
   "cell_type": "code",
   "execution_count": 25,
   "id": "53c91cdc",
   "metadata": {},
   "outputs": [
    {
     "name": "stdout",
     "output_type": "stream",
     "text": [
      "Contribution per pay period: 1000\n",
      "At the end of 24 pay periods, you have 24000 in your 401(k).\n"
     ]
    }
   ],
   "source": [
    "# basic: multiply contribution by num paychecks\n",
    "def four_oh_one_k(paycheck_contribution):\n",
    "    max_2025 = 23500\n",
    "    pay_periods_year = 24\n",
    "    return paycheck_contribution * pay_periods_year\n",
    "\n",
    "def main():\n",
    "    paycheck_contribution = int(input('Contribution per pay period: '))\n",
    "    print('At the end of 24 pay periods, you have', \n",
    "          four_oh_one_k(paycheck_contribution), 'in your 401(k).')\n",
    "main()"
   ]
  },
  {
   "cell_type": "markdown",
   "id": "b4392fad",
   "metadata": {},
   "source": []
  },
  {
   "cell_type": "code",
   "execution_count": 26,
   "id": "b34b62fd",
   "metadata": {},
   "outputs": [
    {
     "name": "stdout",
     "output_type": "stream",
     "text": [
      "Contribution per pay period: 1000\n",
      "You are over by 500\n",
      "At the end of 24 pay periods, you have saved 24000 in your 401(k).\n"
     ]
    }
   ],
   "source": [
    "# basic plus: calculate how much over/under \n",
    "def four_oh_one_k(paycheck_contribution):\n",
    "    max_2025 = 23500\n",
    "    pay_periods_year = 24\n",
    "    savings = paycheck_contribution * pay_periods_year\n",
    "    over = savings - max_2025\n",
    "    under = max_2025 - savings\n",
    "    \n",
    "    if savings > max_2025:\n",
    "        print('You are over by', over)\n",
    "    elif savings < max_2025:\n",
    "        print('You are under by', under)\n",
    "    else:\n",
    "        print('👍')\n",
    "    return savings\n",
    "\n",
    "def main():\n",
    "    paycheck_contribution = int(input('Contribution per pay period: '))\n",
    "    print('At the end of 24 pay periods, you have saved', four_oh_one_k(paycheck_contribution), 'in your 401(k).')\n",
    "\n",
    "main()"
   ]
  },
  {
   "cell_type": "code",
   "execution_count": 27,
   "id": "016b3123",
   "metadata": {},
   "outputs": [
    {
     "name": "stdout",
     "output_type": "stream",
     "text": [
      "Contribution per pay period: 900\n",
      "You are under by 1900\n",
      "At the end of 24 pay periods, you have saved 21600 in your 401(k).\n"
     ]
    }
   ],
   "source": [
    "def main():\n",
    "    paycheck_contribution = int(input('Contribution per pay period: '))\n",
    "    print('At the end of 24 pay periods, you have saved', four_oh_one_k(paycheck_contribution), 'in your 401(k).')\n",
    "\n",
    "main()"
   ]
  },
  {
   "cell_type": "markdown",
   "id": "c0dc2097",
   "metadata": {},
   "source": []
  },
  {
   "cell_type": "code",
   "execution_count": null,
   "id": "21382a4a",
   "metadata": {},
   "outputs": [],
   "source": []
  },
  {
   "cell_type": "code",
   "execution_count": null,
   "id": "00dd5e7b",
   "metadata": {},
   "outputs": [],
   "source": []
  },
  {
   "cell_type": "code",
   "execution_count": null,
   "id": "355150c0",
   "metadata": {},
   "outputs": [],
   "source": []
  },
  {
   "cell_type": "code",
   "execution_count": null,
   "id": "f8d4604d",
   "metadata": {},
   "outputs": [],
   "source": []
  },
  {
   "cell_type": "code",
   "execution_count": 51,
   "id": "adea72e8",
   "metadata": {},
   "outputs": [],
   "source": [
    "# intermediate: calculate by when maxed out 401k\n",
    "def four_oh_one_k(paycheck_contribution):\n",
    "    max_2025 = 23500\n",
    "    pay_periods_year = 24\n",
    "\n",
    "    savings = 0\n",
    "    counter = 0\n",
    "    \n",
    "    while savings < max_2025:\n",
    "        savings += paycheck_contribution\n",
    "        counter += 1\n",
    "        print(savings)\n",
    "        if savings == max_2025:\n",
    "            return savings\n",
    "    return savings, counter\n",
    "\n",
    "\n",
    "\n",
    "# def main():\n",
    "#     paycheck_contribution = int(input('Contribution per pay period: '))\n",
    "#     print('At the end of 24 pay periods, you have saved', four_oh_one_k(paycheck_contribution), 'in your 401(k)')\n",
    "\n",
    "# main()"
   ]
  },
  {
   "cell_type": "code",
   "execution_count": 52,
   "id": "a8ba2ba5",
   "metadata": {},
   "outputs": [
    {
     "name": "stdout",
     "output_type": "stream",
     "text": [
      "1000\n",
      "2000\n",
      "3000\n",
      "4000\n",
      "5000\n",
      "6000\n",
      "7000\n",
      "8000\n",
      "9000\n",
      "10000\n",
      "11000\n",
      "12000\n",
      "13000\n",
      "14000\n",
      "15000\n",
      "16000\n",
      "17000\n",
      "18000\n",
      "19000\n",
      "20000\n",
      "21000\n",
      "22000\n",
      "23000\n",
      "24000\n"
     ]
    },
    {
     "data": {
      "text/plain": [
       "(24000, 24)"
      ]
     },
     "execution_count": 52,
     "metadata": {},
     "output_type": "execute_result"
    }
   ],
   "source": [
    "four_oh_one_k(1000)"
   ]
  },
  {
   "cell_type": "code",
   "execution_count": null,
   "id": "7bf6a207",
   "metadata": {},
   "outputs": [],
   "source": []
  }
 ],
 "metadata": {
  "kernelspec": {
   "display_name": "Python 3 (ipykernel)",
   "language": "python",
   "name": "python3"
  },
  "language_info": {
   "codemirror_mode": {
    "name": "ipython",
    "version": 3
   },
   "file_extension": ".py",
   "mimetype": "text/x-python",
   "name": "python",
   "nbconvert_exporter": "python",
   "pygments_lexer": "ipython3",
   "version": "3.10.9"
  }
 },
 "nbformat": 4,
 "nbformat_minor": 5
}

{
 "cells": [
  {
   "cell_type": "markdown",
   "id": "1656a2f6",
   "metadata": {},
   "source": [
    "[The Python Workbook: A Brief Introduction with Exercises and Solutions](https://link.springer.com/book/10.1007/978-3-319-14240-1) by Ben Stephenson"
   ]
  },
  {
   "cell_type": "markdown",
   "id": "3e0a84a9",
   "metadata": {},
   "source": [
    "# if statments (p15) "
   ]
  },
  {
   "cell_type": "markdown",
   "id": "cb614aab",
   "metadata": {},
   "source": [
    "## #34 even or odd"
   ]
  },
  {
   "cell_type": "code",
   "execution_count": null,
   "id": "fd29e536",
   "metadata": {},
   "outputs": [],
   "source": [
    "user_input = int(input(\"Enter a number: \"))\n",
    "if user_input % 2 == 0:\n",
    "    print('even')\n",
    "else:\n",
    "    print('odd')"
   ]
  },
  {
   "cell_type": "markdown",
   "id": "dba6555b",
   "metadata": {},
   "source": [
    "## #35 dog years"
   ]
  },
  {
   "cell_type": "code",
   "execution_count": null,
   "id": "933a19c7",
   "metadata": {},
   "outputs": [],
   "source": [
    "# first 2 human years = 10.5 dog years\n",
    "# each add'l human year = 4 dog years\n",
    "\n",
    "user_input = int(input(\"Enter human years:\"))\n",
    "if user_input < 0:\n",
    "    user_input = int(input(\"Please enter a postive number ...\"))\n",
    "if user_input <= 2:\n",
    "    print(user_input * 10.5)\n",
    "if user_input > 2:\n",
    "    print((user_input - 2)*4 + 2 * 10.5)\n"
   ]
  },
  {
   "cell_type": "markdown",
   "id": "eb1e62d0",
   "metadata": {},
   "source": [
    "## #35 vowel or consonant"
   ]
  },
  {
   "cell_type": "code",
   "execution_count": null,
   "id": "4e474c30",
   "metadata": {},
   "outputs": [],
   "source": [
    "vowel = ['a', 'e', 'i', 'o', 'u']\n",
    "y = 'Sometimes a vowel and sometimes a consonant.'\n",
    "# else = 'consonant'\n",
    " \n",
    "user_input = str(input(\"Enter a letter: \")).lower()\n",
    "if len(user_input) > 1:\n",
    "    print(str(input('Please enter one letter...')))\n",
    "elif user_input in vowel:\n",
    "    print('vowel')\n",
    "elif user_input == 'y':\n",
    "    print(y)\n",
    "else:\n",
    "    print('consonant')\n",
    "print(vowel)"
   ]
  },
  {
   "cell_type": "markdown",
   "id": "e81d41db",
   "metadata": {},
   "source": [
    "## #37 name that shape"
   ]
  },
  {
   "cell_type": "code",
   "execution_count": null,
   "id": "77e3b301",
   "metadata": {},
   "outputs": [],
   "source": [
    "# shapes range(3,10)\n",
    "# 3 < > 10 \"error\"\n",
    "\n",
    "shape_dict = {3:'triangle', 4:'square', 5:'pentagon', \n",
    "              6:'hexagon', 7:'heptagon', 8:'octogon', \n",
    "              9:'nonagon', 10:'decagon'}\n",
    "\n",
    "user_input = int(input(\"Enter the number of sides (3 to 10): \"))\n",
    "if user_input >= 3 and user_input <= 10:\n",
    "    print(shape_dict.get(user_input))\n",
    "else:\n",
    "    print(\"Sorry, out of bounds.\")"
   ]
  },
  {
   "cell_type": "markdown",
   "id": "cfbab8a1",
   "metadata": {},
   "source": [
    "## #38 month name to number of days"
   ]
  },
  {
   "cell_type": "code",
   "execution_count": null,
   "id": "5ef9e8f7",
   "metadata": {},
   "outputs": [],
   "source": [
    "# months = 28 to 31 days\n",
    "# feb = '28 or 29 days'\n",
    "\n",
    "thirty = ['april', 'june', 'september', 'november']\n",
    "# thirty_one = ['january', 'march', 'may', \n",
    "#               'july', 'august', 'october', 'december']\n",
    "\n",
    "days = 31 #start with assumption that the month is one of the 31 days\n",
    "user_input = str(input(\"Enter the name of a month: \")).lower()\n",
    "if user_input in thirty:\n",
    "    days = 30\n",
    "elif user_input == 'february':\n",
    "    days = '28 or 39'\n",
    "print(user_input, 'has', days, 'days')"
   ]
  },
  {
   "cell_type": "markdown",
   "id": "757b3b61",
   "metadata": {},
   "source": [
    "## #39 sound levels"
   ]
  },
  {
   "cell_type": "code",
   "execution_count": null,
   "id": "480fffc2",
   "metadata": {},
   "outputs": [],
   "source": [
    "sound_dict = {130 : 'Jackhammer',\n",
    "              106 :'Gas lawnmower',\n",
    "              70 : 'Alarm clock',\n",
    "              40 : 'Quiet room'}\n",
    "\n",
    "user_input = int(input('Enter a decibel number: '))\n",
    "if user_input in sound_dict:\n",
    "    print(sound_dict.get(user_input))\n",
    "elif user_input < 30:\n",
    "    print('quiter than an alarm clock')\n",
    "elif 40 < user_input < 70:\n",
    "    print('between quiet room and alarm clock')\n",
    "elif 70 < user_input < 106:\n",
    "    print('between alarm clock and gas lawnmower')\n",
    "elif 106 < user_input < 130:\n",
    "    print('between gas lawnmower and jackhammer')\n",
    "else:\n",
    "    print('louder than a jackhammer')\n"
   ]
  },
  {
   "cell_type": "markdown",
   "id": "20cb48b8",
   "metadata": {},
   "source": [
    "## #40 name that triangle"
   ]
  },
  {
   "cell_type": "code",
   "execution_count": null,
   "id": "197760d8",
   "metadata": {},
   "outputs": [],
   "source": [
    "#equilateral = all 3 equal\n",
    "# isoceles = 2 equal\n",
    "# scalene = none equal\n",
    "\n",
    "user_input_1 = float(input('Enter the length of side 1: '))\n",
    "user_input_2 = float(input('Enter the length of side 2: '))\n",
    "user_input_3 = float(input('Enter the length of side 3: '))\n",
    "\n",
    "if user_input_1 == user_input_2 == user_input_3:\n",
    "    name = 'equilateral triangle' \n",
    "elif user_input_1 == user_input_2 or user_input_2 == user_input_3 or user_input_1 == user_input_3:\n",
    "    name = 'isoceles'\n",
    "else:\n",
    "    name = 'scalene'\n",
    "print('That is an', name, 'triangle.')\n",
    "\n",
    "# print(user_input_1, user_input_2, user_input_3)"
   ]
  },
  {
   "cell_type": "markdown",
   "id": "e20d41e9",
   "metadata": {},
   "source": [
    "## #41 note to frequency "
   ]
  },
  {
   "cell_type": "code",
   "execution_count": null,
   "id": "111016de",
   "metadata": {},
   "outputs": [],
   "source": [
    "# note = frequency (Hz)\n",
    "note_dict = {'C4' : 261.63, \n",
    "             'D4' : 293.66, \n",
    "             'E4' : 329.63, \n",
    "             'F4' : 349.23, \n",
    "             'G4' : 392.00, \n",
    "             'A4' : 440.00, \n",
    "             'B4' : 493.88}\n",
    "\n",
    "freq_dict = {'C' : 261.63, \n",
    "             'D' : 293.66, \n",
    "             'E' : 329.63, \n",
    "             'F' : 349.23, \n",
    "             'G' : 392.00, \n",
    "             'A' : 440.00, \n",
    "             'B' : 493.88}"
   ]
  },
  {
   "cell_type": "code",
   "execution_count": null,
   "id": "169b957b",
   "metadata": {},
   "outputs": [],
   "source": [
    "note_input = input('Enter a note: ')\n",
    "\n",
    "note = note_input[0].upper()\n",
    "octave = int(note_input[1])\n",
    "\n",
    "# if note_input in note_dict:\n",
    "#     print(note_dict.get(note_input))\n",
    "\n",
    "if note in freq_dict:\n",
    "    freq = round((freq_dict.get(note)) / 2 ** (4 - octave), 2)\n",
    "#     print(freq)\n",
    "    print('The frequency of note', note,'is', freq)"
   ]
  },
  {
   "cell_type": "markdown",
   "id": "d9c22504",
   "metadata": {},
   "source": [
    "## #42 frequency to note"
   ]
  },
  {
   "cell_type": "code",
   "execution_count": null,
   "id": "18ce0cae",
   "metadata": {},
   "outputs": [],
   "source": [
    "C4 = 261.63 \n",
    "D4 = 293.66\n",
    "E4 = 329.63 \n",
    "F4 = 349.23 \n",
    "G4 = 392.00 \n",
    "A4 = 440.00 \n",
    "B4 = 493.88"
   ]
  },
  {
   "cell_type": "code",
   "execution_count": null,
   "id": "7588281f",
   "metadata": {},
   "outputs": [],
   "source": [
    "freq_input = float(input('Enter a frequency: '))\n",
    "\n",
    "if (C4-1) >= freq_input <= (C4+1):\n",
    "    note = 'C4'\n",
    "elif (D4-1) >= freq_input <= (D4+1):\n",
    "    note = 'D4'\n",
    "elif (E4-1) >= freq_input <= (E4+1):\n",
    "    note = 'E4'\n",
    "elif (F4-1) >= freq_input <= (F4+1):\n",
    "    note = 'F4'\n",
    "elif (G4-1) >= freq_input <= (G4+1):\n",
    "    note = 'G4'\n",
    "elif (A4-1) >= freq_input <= (A4+1):\n",
    "    note = 'A4'\n",
    "elif (B4-1) >= freq_input <= (B4+1):\n",
    "    note = 'B4'\n",
    "else:\n",
    "    note = ''\n",
    "\n",
    "if note == '':\n",
    "    print('No note corresponds to that frequency')\n",
    "else:\n",
    "    print('The note is', note)"
   ]
  },
  {
   "cell_type": "code",
   "execution_count": null,
   "id": "4640066a",
   "metadata": {},
   "outputs": [],
   "source": [
    "C4"
   ]
  },
  {
   "cell_type": "markdown",
   "id": "0adc517a",
   "metadata": {},
   "source": [
    "## #43 faces on money"
   ]
  },
  {
   "cell_type": "code",
   "execution_count": null,
   "id": "4b05edf4",
   "metadata": {},
   "outputs": [],
   "source": [
    "face_dict = {1 : 'George Washington',\n",
    "             2 : 'Thomas Jefferson',\n",
    "             5 : 'Abraham Lincoln',\n",
    "             10 : 'Alexander Hamilton',\n",
    "             20 : 'Andrew Jackson',\n",
    "             50 : 'Ulysses S. Grant',\n",
    "             100 : 'Benjamin Franklin'}"
   ]
  },
  {
   "cell_type": "code",
   "execution_count": null,
   "id": "f76bc066",
   "metadata": {},
   "outputs": [],
   "source": [
    "den_input = int(input('Enter a denomination: '))\n",
    "\n",
    "if den_input in face_dict:\n",
    "    print(face_dict.get(den_input))\n",
    "else:\n",
    "    print('No such denomination exists.')"
   ]
  },
  {
   "cell_type": "markdown",
   "id": "3dd7ef28",
   "metadata": {},
   "source": [
    "## #44 date to holiday name"
   ]
  },
  {
   "cell_type": "code",
   "execution_count": null,
   "id": "4579ac5d",
   "metadata": {},
   "outputs": [],
   "source": [
    "# canada\n",
    "holiday_dict = {'January 1' : 'New Year', \n",
    "                'July 1' : 'Canada Day', \n",
    "                'December 25' : 'Christmas Day'}"
   ]
  },
  {
   "cell_type": "code",
   "execution_count": null,
   "id": "a440126f",
   "metadata": {},
   "outputs": [],
   "source": [
    "date_input = input('Enter in a month and day: ')\n",
    "\n",
    "if date_input in holiday_dict:\n",
    "    print(holiday_dict.get(date_input))"
   ]
  },
  {
   "cell_type": "markdown",
   "id": "2bf2b654",
   "metadata": {},
   "source": [
    "## #45 what color is that square"
   ]
  },
  {
   "cell_type": "code",
   "execution_count": null,
   "id": "44db8893",
   "metadata": {},
   "outputs": [],
   "source": [
    "starts_black = ['a', 'c', 'e', 'g']\n",
    "starts_white = ['b', 'd', 'f', 'h']\n",
    "# 8 positions\n",
    "\n",
    "position_input = input('Enter a chessboard position: ')\n",
    "\n",
    "col = position_input[0]\n",
    "row = int(position_input[1])\n",
    "\n",
    "if col in starts_black: \n",
    "# odd squares are black\n",
    "    if row % 2 != 0:\n",
    "        print('square is black')\n",
    "    else:\n",
    "        print('square is white')\n",
    "elif col in starts_white:\n",
    "# even squares are black \n",
    "    if row % 2 == 0:\n",
    "        print('square is black')\n",
    "    else:\n",
    "        print('square is white')"
   ]
  },
  {
   "cell_type": "markdown",
   "id": "a123af83",
   "metadata": {},
   "source": [
    "## #46 season from month and day"
   ]
  },
  {
   "cell_type": "code",
   "execution_count": null,
   "id": "a34e2c7a",
   "metadata": {},
   "outputs": [],
   "source": [
    "# march 20 spring\n",
    "# june 21 summer\n",
    "# september 22 fall \n",
    "# decemeber 21 winter"
   ]
  },
  {
   "cell_type": "code",
   "execution_count": null,
   "id": "b8826c92",
   "metadata": {},
   "outputs": [],
   "source": [
    "month_input = str(input('Enter a month: ')).lower()\n",
    "day_input = int(input('Enter a day: '))\n",
    "\n",
    "#     season = 'spring'\n",
    "if month_input in ['april','may']:\n",
    "    if month_input == 'march':\n",
    "        if day_input < 20:\n",
    "            season = 'winter'\n",
    "        else:\n",
    "            season = 'spring'\n",
    "#     season = 'summer'\n",
    "elif month_input in ['july','august']:\n",
    "    if month_input == 'june':\n",
    "        if day_input < 21:\n",
    "            season = 'spring'\n",
    "    else:\n",
    "        season = 'summer'\n",
    "\n",
    "#     season = 'fall'\n",
    "elif month_input in ['october','november']:\n",
    "    if month_input == 'september':\n",
    "        if day_input < 22:\n",
    "            season = 'summer'\n",
    "        else:\n",
    "            season = 'fall'   \n",
    "            \n",
    "#     season = 'winter'        \n",
    "elif month_input in ['january', 'february']:\n",
    "    if month_input == 'december':\n",
    "        if day_input < 21:\n",
    "            season = 'fall'\n",
    "    else:\n",
    "        season = 'winter'\n",
    "\n",
    "print(season)\n"
   ]
  },
  {
   "cell_type": "markdown",
   "id": "234057d7",
   "metadata": {},
   "source": [
    "## #47 birth date to astrological sign"
   ]
  },
  {
   "cell_type": "code",
   "execution_count": null,
   "id": "f4be5713",
   "metadata": {},
   "outputs": [],
   "source": [
    "# Capricorn    December 22 to January 19\n",
    "# Aquarius     January 20 to February 18\n",
    "# Pisces       February 19 to March 20\n",
    "# Aries        March 21 to April 19\n",
    "# Taurus       April 20 to May 20\n",
    "# Gemini       May 21 to June 20\n",
    "# Cancer       June 21 to July 22 \n",
    "# Leo          July 23 to August 22\n",
    "# Virgo        August 23 to September 22\n",
    "# Libra        September 23 to October 22\n",
    "# Scorpio      October 23 to November 21\n",
    "# Sagittarius  November 22 to December 21"
   ]
  },
  {
   "cell_type": "code",
   "execution_count": null,
   "id": "b06192c2",
   "metadata": {},
   "outputs": [],
   "source": [
    "month_input = str(input('What is your birth month? ')).lower()\n",
    "day_input = int(input('What is your birth day? '))\n",
    "\n",
    "# december\n",
    "if month_input == 'december':\n",
    "    if day_input >= 22:\n",
    "        sign = 'Capricorn'\n",
    "    elif day_input <= 21:\n",
    "        sign = 'Sagittarius'\n",
    "# november\n",
    "elif month_input == 'november':\n",
    "    if day_input >= 22:\n",
    "        sign = 'Sagittarius'\n",
    "    elif day_input <= 21:\n",
    "        sign = 'Scorpio' \n",
    "# october\n",
    "elif month_input == 'october':\n",
    "    if day_input >= 23:\n",
    "        sign = 'Scorpio'\n",
    "    elif day_input <= 22:\n",
    "        sign = 'Libra' \n",
    "# september\n",
    "elif month_input == 'september':\n",
    "    if day_input >= 23:\n",
    "        sign = 'Libra'\n",
    "    elif day_input <= 22:\n",
    "        sign = 'Virgo'\n",
    "# august\n",
    "elif month_input == 'august':\n",
    "    if day_input >= 23:\n",
    "        sign = 'Virgo'\n",
    "    elif day_input <= 22:\n",
    "        sign = 'Leo'\n",
    "# july\n",
    "elif month_input == 'july':\n",
    "    if day_input >= 23:\n",
    "        sign = 'Leo'\n",
    "    elif day_input <= 22:\n",
    "        sign = 'Cancer'\n",
    "# june\n",
    "elif month_input == 'june':\n",
    "    if day_input >= 21:\n",
    "        sign = 'Cancer'\n",
    "    elif day_input <= 20:\n",
    "        sign = 'Gemini'\n",
    "# may\n",
    "elif month_input == 'may':\n",
    "    if day_input >= 21:\n",
    "        sign = 'Gemini'\n",
    "    elif day_input <= 20:\n",
    "        sign = 'Taurus'\n",
    "#...        \n",
    "            \n",
    "print(sign)\n",
    "\n"
   ]
  },
  {
   "cell_type": "markdown",
   "id": "672bde68",
   "metadata": {},
   "source": [
    "## #48 chinese zodiac"
   ]
  },
  {
   "cell_type": "code",
   "execution_count": null,
   "id": "0ea38c6e",
   "metadata": {},
   "outputs": [],
   "source": [
    "# Dragon 2000\n",
    "# Snake 2001\n",
    "# Horse 2002\n",
    "# Sheep 2003\n",
    "# Monkey 2004\n",
    "# Rooster 2005\n",
    "# Dog 2006\n",
    "# Pig 2007\n",
    "# Rat 2008\n",
    "# Ox 2009\n",
    "# Tiger 2010\n",
    "# Hare 2011"
   ]
  },
  {
   "cell_type": "code",
   "execution_count": null,
   "id": "af3f3aea",
   "metadata": {},
   "outputs": [],
   "source": [
    "zodiac_dict = {8: 'dragon', \n",
    "               9: 'snake',\n",
    "               10: 'horse',\n",
    "               10: 'sheep',\n",
    "               0: 'monkey',\n",
    "               1: 'rooster',\n",
    "               2: 'dog',\n",
    "               3: 'pig',\n",
    "               4: 'rat',\n",
    "               5: 'ox',\n",
    "               6: 'tiger',\n",
    "               7: 'hare'}\n",
    "\n",
    "year_input = int(input('Enter a year: '))\n",
    "zodiac_key = int(year_input % 12)\n",
    "# print(zodiac_key)\n",
    "if zodiac_key in zodiac_dict:\n",
    "    print(zodiac_dict.get(zodiac_key))\n"
   ]
  },
  {
   "cell_type": "markdown",
   "id": "4176ec12",
   "metadata": {},
   "source": [
    "## #49 richter scale"
   ]
  },
  {
   "cell_type": "code",
   "execution_count": null,
   "id": "be9fb338",
   "metadata": {},
   "outputs": [],
   "source": [
    "# 0-1.9 micro\n",
    "# 2.0-2.9 very minor\n",
    "# 3.0-3.9 minor\n",
    "# 4.0-4.9 light\n",
    "# 5.0-5.9 moderate\n",
    "# 6.0-6.9 strong\n",
    "# 7.0-7.9 major\n",
    "# 8.0-9.9 great\n",
    "# 10-... meteroic\n",
    "\n"
   ]
  },
  {
   "cell_type": "code",
   "execution_count": null,
   "id": "9528f8dd",
   "metadata": {},
   "outputs": [],
   "source": [
    "mag_input = float(input('Enter a magnitude: '))\n",
    "if mag_input < 2:\n",
    "    desc = 'micro'\n",
    "elif mag_input < 3:\n",
    "    desc = 'very minor'\n",
    "elif mag_input < 4:\n",
    "    desc = 'minor'\n",
    "elif mag_input < 5:\n",
    "    desc = 'light'\n",
    "elif mag_input < 6:\n",
    "    desc = 'moderate'\n",
    "elif mag_input < 7:\n",
    "    desc = 'strong'\n",
    "elif mag_input < 8:\n",
    "    desc = 'major'\n",
    "elif mag_input < 10:\n",
    "    desc = 'great'\n",
    "else:\n",
    "    desc = 'meteroic'\n",
    "print(desc)"
   ]
  },
  {
   "attachments": {},
   "cell_type": "markdown",
   "id": "7bea9557",
   "metadata": {},
   "source": [
    "## #50 roots of a quadratic equation"
   ]
  },
  {
   "cell_type": "code",
   "execution_count": null,
   "id": "a82c39be",
   "metadata": {},
   "outputs": [],
   "source": [
    "# a is non-zero\n",
    "# discriminant = b**2 - 4*a*c; \n",
    "#     if negative ==> no real roots; \n",
    "#     if 0 ==> one real root; \n",
    "#     else ==> 2 real roots +- evaluate equation twice when computing numerator"
   ]
  },
  {
   "cell_type": "code",
   "execution_count": null,
   "id": "58f28576",
   "metadata": {},
   "outputs": [],
   "source": [
    "import math\n",
    "# math.sqrt(number)\n",
    "\n",
    "user_input_a = int(input('Enter a value for a: '))\n",
    "user_input_b = int(input('Enter a value for b: '))\n",
    "user_input_c = int(input('Enter a value for c: '))\n",
    "a = user_input_a \n",
    "b = user_input_b\n",
    "c = user_input_c\n",
    "\n",
    "discriminant = (b**2) - (4*a*c)\n",
    "print('discriminant:', discriminant)\n",
    "\n",
    "if discriminant < 0:\n",
    "    print('no real roots')\n",
    "elif discriminant == 0:\n",
    "    print('one real root')\n",
    "else: \n",
    "    print('two real roots')\n",
    "\n",
    "solution_1 = (-b-math.sqrt(discriminant))/(2*a)\n",
    "solution_2 = (-b+math.sqrt(discriminant))/(2*a)\n",
    "\n",
    "print('solution_1: ', solution_1)\n",
    "print('solution_2: ', solution_2)\n",
    "\n",
    "# https://www.programiz.com/python-programming/examples/quadratic-roots"
   ]
  },
  {
   "cell_type": "markdown",
   "id": "5dc1f060",
   "metadata": {},
   "source": [
    "## #51 letter grades to grade points"
   ]
  },
  {
   "cell_type": "code",
   "execution_count": null,
   "id": "d8c19dd0",
   "metadata": {},
   "outputs": [],
   "source": [
    "letter_dict = {'A+': 4.0,\n",
    "               'A': 4.0,\n",
    "               'A-': 3.7,\n",
    "              'F': 0}"
   ]
  },
  {
   "cell_type": "code",
   "execution_count": null,
   "id": "2d49e470",
   "metadata": {},
   "outputs": [],
   "source": [
    "grade_input = str(input('Enter a letter grade: ')).upper()\n",
    "\n",
    "if grade_input in letter_dict:\n",
    "    print('Your grade is ', letter_dict.get(grade_input))\n",
    "else:\n",
    "    print('That is not a valid letter grade')"
   ]
  },
  {
   "cell_type": "markdown",
   "id": "7c520d04",
   "metadata": {},
   "source": [
    "## #52 grade points to letter grades"
   ]
  },
  {
   "cell_type": "code",
   "execution_count": null,
   "id": "d44c7ce0",
   "metadata": {},
   "outputs": [],
   "source": [
    "grade_input = round(float(input('Enter a letter grade: ')), 1)\n",
    "\n",
    "if grade_input == 0.0:\n",
    "    letter = 'F'\n",
    "elif grade_input <= 1.0:\n",
    "    letter = 'D'\n",
    "elif grade_input <= 3.3:\n",
    "    letter = 'B+'\n",
    "elif grade_input <= 3.7:\n",
    "    letter = 'A-'\n",
    "elif grade_input >= 4.0:\n",
    "    letter = 'A+'\n",
    "\n",
    "print(letter)"
   ]
  },
  {
   "cell_type": "markdown",
   "id": "25de7bfb",
   "metadata": {},
   "source": [
    "## #53 assessing employees"
   ]
  },
  {
   "cell_type": "code",
   "execution_count": null,
   "id": "e3c6dba4",
   "metadata": {},
   "outputs": [],
   "source": [
    "# 0.0 unacceptable\n",
    "# 0.4 acceptable\n",
    "# 0.6 > meritorious\n",
    "\n",
    "perf_dict = {0.0: 'unacceptable',\n",
    "            0.4: 'acceptable',\n",
    "            0.6: 'meritorious'}"
   ]
  },
  {
   "cell_type": "code",
   "execution_count": null,
   "id": "c5cd7a0f",
   "metadata": {},
   "outputs": [],
   "source": [
    "rating_input = float(input('Enter a rating: '))\n",
    "\n",
    "increase = rating_input * (2400)\n",
    "\n",
    "if rating_input in perf_dict:\n",
    "    print('Your rating is', perf_dict.get(rating_input), 'and your raise is', increase )\n",
    "#     print('is %s' % perf_dict.get(rating_input))"
   ]
  },
  {
   "cell_type": "markdown",
   "id": "d2b02621",
   "metadata": {},
   "source": [
    "## #57 is it a leap year"
   ]
  },
  {
   "cell_type": "code",
   "execution_count": null,
   "id": "255f98b2",
   "metadata": {},
   "outputs": [],
   "source": [
    "year_input = int(input('Enter a year: '))\n",
    "\n",
    "if year_input % 400 == 0:\n",
    "    leap = True\n",
    "elif year_input % 100 == 0:\n",
    "    leap = False\n",
    "elif year_input % 4 == 0:\n",
    "    leap = True\n",
    "else:\n",
    "    leap = False\n",
    "    \n",
    "print('Is', year_input, 'a leap year?', leap )"
   ]
  },
  {
   "cell_type": "markdown",
   "id": "18c4e754",
   "metadata": {},
   "source": [
    "## #59 is a license plate valid"
   ]
  },
  {
   "cell_type": "code",
   "execution_count": null,
   "id": "7c0974df",
   "metadata": {},
   "outputs": [],
   "source": [
    "# old = ABC123\n",
    "# new = 1234ABC"
   ]
  },
  {
   "cell_type": "code",
   "execution_count": null,
   "id": "e66d0b25",
   "metadata": {},
   "outputs": [],
   "source": [
    "user_input = str(input('Enter a license plate: '))\n",
    "\n",
    "alpha = 'ABCDEFGHIJKLMNOPQRSTUVWXYZ'\n",
    "num = '1234567890'\n",
    "\n",
    "if len(user_input) == 6:\n",
    "    style = 'old'\n",
    "    if user_input[0] in alpha:\n",
    "        if user_input[1] in alpha:\n",
    "            if user_input[2] in alpha:\n",
    "                print('first 3 alpha')\n",
    "                if user_input[3] in num:\n",
    "                    if user_input[4] in num:\n",
    "                        if user_input[5] in num:\n",
    "                            print(True)\n",
    "                        else:\n",
    "                            print(False)\n",
    "elif len(user_input) == 7:\n",
    "    style = 'new'\n",
    "    if user_input[0] in num:\n",
    "        if user_input[1] in num:\n",
    "            if user_input[2] in num:\n",
    "                if user_input[3] in num:\n",
    "                    print('first 4 num')\n",
    "                    if user_input[4] in alpha:\n",
    "                        if user_input[5] in alpha:\n",
    "                            if user_input[6] in alpha:\n",
    "                                print(True)\n",
    "                            else:\n",
    "                                print(False)\n",
    "\n",
    "print(style)"
   ]
  },
  {
   "cell_type": "markdown",
   "id": "06274223",
   "metadata": {},
   "source": [
    "## #60 routlette payouts"
   ]
  },
  {
   "cell_type": "code",
   "execution_count": null,
   "id": "2966e049",
   "metadata": {},
   "outputs": [],
   "source": [
    "# 38 spaces\n",
    "black = [2, 4, 6, 8, 10, 11, 13, 15, 17, 20, 22, 24, 26, 28, 29, 31, 33, 35]\n",
    "red = [1, 3, 5, 7, 9, 12, 14, 16, 18, 19, 21, 23, 25, 27, 30, 32, 34, 36]\n",
    "green =  [0, 00]"
   ]
  },
  {
   "cell_type": "code",
   "execution_count": null,
   "id": "f3d868c0",
   "metadata": {},
   "outputs": [],
   "source": [
    "import random"
   ]
  },
  {
   "cell_type": "code",
   "execution_count": null,
   "id": "66cde960",
   "metadata": {},
   "outputs": [],
   "source": [
    "spin = random.randint(0,38)\n",
    "\n",
    "if spin == 0 or spin == 37:\n",
    "    print('pay green')\n",
    "\n",
    "elif spin in black:\n",
    "    print('pay', spin)\n",
    "    print('pay black')\n",
    "    if spin <= 18:\n",
    "        print('pay 1 to 18')\n",
    "    else:\n",
    "        print('pay 19 to 36')\n",
    "    if spin % 2 == 0:\n",
    "        print('pay even')        \n",
    "    else:\n",
    "        print('pay odd')\n",
    "elif spin in red:\n",
    "    print('pay', spin)\n",
    "    print('pay red')\n",
    "    if spin <= 18:\n",
    "        print('pay 1 to 18')\n",
    "    else:\n",
    "        print('pay 19 to 36')\n",
    "    if spin % 2 == 0:\n",
    "        print('pay even')        \n",
    "    else:\n",
    "        print('pay odd')\n",
    "        "
   ]
  }
 ],
 "metadata": {
  "kernelspec": {
   "display_name": "Python 3 (ipykernel)",
   "language": "python",
   "name": "python3"
  },
  "language_info": {
   "codemirror_mode": {
    "name": "ipython",
    "version": 3
   },
   "file_extension": ".py",
   "mimetype": "text/x-python",
   "name": "python",
   "nbconvert_exporter": "python",
   "pygments_lexer": "ipython3",
   "version": "3.10.9"
  }
 },
 "nbformat": 4,
 "nbformat_minor": 5
}

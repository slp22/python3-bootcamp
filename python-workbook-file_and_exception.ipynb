{
 "cells": [
  {
   "cell_type": "markdown",
   "id": "a9734ef4",
   "metadata": {},
   "source": [
    "[The Python Workbook: A Brief Introduction with Exercises and Solutions](https://link.springer.com/book/10.1007/978-3-319-14240-1) by Ben Stephenson"
   ]
  },
  {
   "cell_type": "markdown",
   "id": "72af6d80",
   "metadata": {},
   "source": [
    "# file & exception (p 69) "
   ]
  },
  {
   "cell_type": "markdown",
   "id": "76197968",
   "metadata": {},
   "source": [
    "## <span style=\"color:red;\"> #141 display head file</span>"
   ]
  },
  {
   "cell_type": "code",
   "execution_count": null,
   "id": "b70821e2",
   "metadata": {},
   "outputs": [],
   "source": []
  },
  {
   "cell_type": "markdown",
   "id": "da20affb",
   "metadata": {},
   "source": [
    "## <span style=\"color:red;\"> #142 display tail file</span>"
   ]
  },
  {
   "cell_type": "code",
   "execution_count": null,
   "id": "95134f55",
   "metadata": {},
   "outputs": [],
   "source": []
  },
  {
   "cell_type": "markdown",
   "id": "88bebc6d",
   "metadata": {},
   "source": [
    "## <span style=\"color:red;\"> #143 concatenate multiple files</span>"
   ]
  },
  {
   "cell_type": "code",
   "execution_count": null,
   "id": "4b8f8b4f",
   "metadata": {},
   "outputs": [],
   "source": []
  },
  {
   "cell_type": "markdown",
   "id": "c34cb532",
   "metadata": {},
   "source": [
    "## <span style=\"color:red;\"> #144 number lines in file</span>"
   ]
  },
  {
   "cell_type": "code",
   "execution_count": null,
   "id": "01278b59",
   "metadata": {},
   "outputs": [],
   "source": []
  },
  {
   "cell_type": "markdown",
   "id": "cba28f20",
   "metadata": {},
   "source": [
    "## <span style=\"color:red;\"> #145 find longest word in file</span>"
   ]
  },
  {
   "cell_type": "code",
   "execution_count": null,
   "id": "c2aa3567",
   "metadata": {},
   "outputs": [],
   "source": []
  },
  {
   "cell_type": "markdown",
   "id": "4b9b0ca6",
   "metadata": {},
   "source": [
    "## <span style=\"color:red;\"> #146 letter frequencies</span>"
   ]
  },
  {
   "cell_type": "code",
   "execution_count": null,
   "id": "eee98b92",
   "metadata": {},
   "outputs": [],
   "source": []
  },
  {
   "cell_type": "markdown",
   "id": "68e9c39a",
   "metadata": {},
   "source": [
    "## <span style=\"color:red;\"> #147 words that occur most</span>"
   ]
  },
  {
   "cell_type": "code",
   "execution_count": null,
   "id": "e56600ea",
   "metadata": {},
   "outputs": [],
   "source": []
  },
  {
   "cell_type": "markdown",
   "id": "5a1bdc42",
   "metadata": {},
   "source": [
    "## <span style=\"color:red;\"> #148 sum list nums</span>"
   ]
  },
  {
   "cell_type": "code",
   "execution_count": null,
   "id": "2facf6e0",
   "metadata": {},
   "outputs": [],
   "source": []
  },
  {
   "cell_type": "markdown",
   "id": "48ce4cac",
   "metadata": {},
   "source": [
    "## <span style=\"color:red;\"> #148 both letter and grade points </span>"
   ]
  },
  {
   "cell_type": "code",
   "execution_count": null,
   "id": "7e453a0f",
   "metadata": {},
   "outputs": [],
   "source": []
  },
  {
   "cell_type": "markdown",
   "id": "211dfdea",
   "metadata": {},
   "source": [
    "## <span style=\"color:red;\"> #149 letter frequencies</span>"
   ]
  },
  {
   "cell_type": "code",
   "execution_count": null,
   "id": "fde38f77",
   "metadata": {},
   "outputs": [],
   "source": []
  },
  {
   "cell_type": "markdown",
   "id": "6292e6d0",
   "metadata": {},
   "source": [
    "## <span style=\"color:red;\"> #150 remove comments</span>"
   ]
  },
  {
   "cell_type": "code",
   "execution_count": null,
   "id": "4b2aa7d1",
   "metadata": {},
   "outputs": [],
   "source": []
  },
  {
   "cell_type": "markdown",
   "id": "010eda3a",
   "metadata": {},
   "source": [
    "## <span style=\"color:red;\"> #151 two word random password</span>"
   ]
  },
  {
   "cell_type": "code",
   "execution_count": null,
   "id": "d5a90b2d",
   "metadata": {},
   "outputs": [],
   "source": []
  },
  {
   "cell_type": "markdown",
   "id": "d6492ab6",
   "metadata": {},
   "source": [
    "## <span style=\"color:red;\"> #152 what's that element</span>"
   ]
  },
  {
   "cell_type": "code",
   "execution_count": null,
   "id": "6c27342c",
   "metadata": {},
   "outputs": [],
   "source": []
  },
  {
   "cell_type": "markdown",
   "id": "ef1d2613",
   "metadata": {},
   "source": [
    "## <span style=\"color:red;\"> #153 book with no e</span>"
   ]
  },
  {
   "cell_type": "code",
   "execution_count": null,
   "id": "b2c85bc3",
   "metadata": {},
   "outputs": [],
   "source": []
  },
  {
   "cell_type": "markdown",
   "id": "572b0177",
   "metadata": {},
   "source": [
    "## <span style=\"color:red;\"> #154 names reached number one</span>"
   ]
  },
  {
   "cell_type": "code",
   "execution_count": null,
   "id": "30050118",
   "metadata": {},
   "outputs": [],
   "source": []
  },
  {
   "cell_type": "markdown",
   "id": "0744946a",
   "metadata": {},
   "source": [
    "## <span style=\"color:red;\"> #155 gender neutral names</span>"
   ]
  },
  {
   "cell_type": "code",
   "execution_count": null,
   "id": "50f110cc",
   "metadata": {},
   "outputs": [],
   "source": []
  },
  {
   "cell_type": "markdown",
   "id": "553f8e57",
   "metadata": {},
   "source": [
    "## <span style=\"color:red;\"> #156 most birth in given time period</span>"
   ]
  },
  {
   "cell_type": "code",
   "execution_count": null,
   "id": "713f607f",
   "metadata": {},
   "outputs": [],
   "source": []
  },
  {
   "cell_type": "markdown",
   "id": "60024ada",
   "metadata": {},
   "source": [
    "## <span style=\"color:red;\"> #157 distinct names</span>"
   ]
  },
  {
   "cell_type": "code",
   "execution_count": null,
   "id": "17960212",
   "metadata": {},
   "outputs": [],
   "source": []
  },
  {
   "cell_type": "markdown",
   "id": "5fd16e31",
   "metadata": {},
   "source": [
    "## <span style=\"color:red;\"> #158 spell checker</span>"
   ]
  },
  {
   "cell_type": "code",
   "execution_count": null,
   "id": "25b79861",
   "metadata": {},
   "outputs": [],
   "source": []
  },
  {
   "cell_type": "markdown",
   "id": "f8c736fa",
   "metadata": {},
   "source": [
    "## <span style=\"color:red;\"> #159 repeated words</span>"
   ]
  },
  {
   "cell_type": "code",
   "execution_count": null,
   "id": "bc2a328b",
   "metadata": {},
   "outputs": [],
   "source": []
  },
  {
   "cell_type": "markdown",
   "id": "6b5df182",
   "metadata": {},
   "source": [
    "## <span style=\"color:red;\"> #160 redact text file</span>"
   ]
  },
  {
   "cell_type": "code",
   "execution_count": null,
   "id": "a457099e",
   "metadata": {},
   "outputs": [],
   "source": []
  },
  {
   "cell_type": "markdown",
   "id": "ec414fa7",
   "metadata": {},
   "source": [
    "## <span style=\"color:red;\"> #161 missing comments</span>"
   ]
  },
  {
   "cell_type": "code",
   "execution_count": null,
   "id": "5606418e",
   "metadata": {},
   "outputs": [],
   "source": []
  },
  {
   "cell_type": "markdown",
   "id": "3133ead1",
   "metadata": {},
   "source": [
    "## <span style=\"color:red;\"> #162 consistent line lengths</span>"
   ]
  },
  {
   "cell_type": "code",
   "execution_count": null,
   "id": "75aa5456",
   "metadata": {},
   "outputs": [],
   "source": []
  },
  {
   "cell_type": "markdown",
   "id": "1da2e521",
   "metadata": {},
   "source": [
    "## <span style=\"color:red;\"> #163 words six vowels in order</span>"
   ]
  },
  {
   "cell_type": "code",
   "execution_count": null,
   "id": "aa9e86b3",
   "metadata": {},
   "outputs": [],
   "source": []
  }
 ],
 "metadata": {
  "kernelspec": {
   "display_name": "Python 3 (ipykernel)",
   "language": "python",
   "name": "python3"
  },
  "language_info": {
   "codemirror_mode": {
    "name": "ipython",
    "version": 3
   },
   "file_extension": ".py",
   "mimetype": "text/x-python",
   "name": "python",
   "nbconvert_exporter": "python",
   "pygments_lexer": "ipython3",
   "version": "3.10.9"
  }
 },
 "nbformat": 4,
 "nbformat_minor": 5
}

{
 "cells": [
  {
   "cell_type": "markdown",
   "id": "2622106e",
   "metadata": {},
   "source": [
    "[The Python Workbook: A Brief Introduction with Exercises and Solutions](https://link.springer.com/book/10.1007/978-3-319-14240-1) by Ben Stephenson"
   ]
  },
  {
   "cell_type": "markdown",
   "id": "3946ef3a",
   "metadata": {},
   "source": [
    "# if statments (p15) "
   ]
  },
  {
   "cell_type": "markdown",
   "id": "417f5e21",
   "metadata": {},
   "source": [
    "## #34 even or odd\n",
    "Write a program that reads an interget from the user. Then your program should display a message indicating whether the integer is even or odd"
   ]
  },
  {
   "cell_type": "code",
   "execution_count": 46,
   "id": "1bba696a",
   "metadata": {},
   "outputs": [
    {
     "name": "stdout",
     "output_type": "stream",
     "text": [
      "Enter a number: 0\n",
      "even\n"
     ]
    }
   ],
   "source": [
    "user_input = int(input(\"Enter a number: \"))\n",
    "if user_input % 2 == 0:\n",
    "    print('even')\n",
    "else:\n",
    "    print('odd')"
   ]
  },
  {
   "cell_type": "markdown",
   "id": "fd0b92d0",
   "metadata": {},
   "source": [
    "## #35 dog years\n",
    "Write a program that implements the conversion from human years to dog years described in the previous paragraph. Ensure that your program works correctly for conversions of less than two human years and for conversions of two or more human years. Your program should display an appropriate error message if the user enters a negative number."
   ]
  },
  {
   "cell_type": "code",
   "execution_count": 47,
   "id": "f2e86179",
   "metadata": {},
   "outputs": [
    {
     "name": "stdout",
     "output_type": "stream",
     "text": [
      "Enter human years:2\n",
      "21.0\n"
     ]
    }
   ],
   "source": [
    "# first 2 human years = 10.5 dog years\n",
    "# each add'l human year = 4 dog years\n",
    "\n",
    "user_input = int(input(\"Enter human years:\"))\n",
    "if user_input < 0:\n",
    "    user_input = int(input(\"Please enter a postive number ...\"))\n",
    "if user_input <= 2:\n",
    "    print(user_input * 10.5)\n",
    "if user_input > 2:\n",
    "    print((user_input - 2)*4 + 2 * 10.5)\n"
   ]
  },
  {
   "cell_type": "markdown",
   "id": "21989142",
   "metadata": {},
   "source": [
    "## #35 vowel or consonant\n",
    "In this exercise you will create a program that reads a letter of the alphabet from the user. If the user enters a, e, i, o or u then your program should display a message indicating that the entered letter is a vowel. If the user enters y then your program should display a message indicating that sometimes y is a vowel, and sometimes y is a consonant. Otherwise your program should display a message indicating that the letter is a consonant."
   ]
  },
  {
   "cell_type": "code",
   "execution_count": 102,
   "id": "88b9227b",
   "metadata": {},
   "outputs": [
    {
     "name": "stdout",
     "output_type": "stream",
     "text": [
      "Enter a letter: a\n",
      "vowel\n",
      "['a', 'e', 'i', 'o', 'u']\n"
     ]
    }
   ],
   "source": [
    "vowel = ['a', 'e', 'i', 'o', 'u']\n",
    "y = 'Sometimes a vowel and sometimes a consonant.'\n",
    "# else = 'consonant'\n",
    " \n",
    "user_input = str(input(\"Enter a letter: \")).lower()\n",
    "if len(user_input) > 1:\n",
    "    print(str(input('Please enter one letter...')))\n",
    "elif user_input in vowel:\n",
    "    print('vowel')\n",
    "elif user_input == 'y':\n",
    "    print(y)\n",
    "else:\n",
    "    print('consonant')\n",
    "print(vowel)"
   ]
  },
  {
   "cell_type": "markdown",
   "id": "2e1e510c",
   "metadata": {},
   "source": [
    "## #37 name that shape\n",
    "\n",
    "Write a program that determines the name of a shape from its number of sides. Read the number of sides from the user and then report the appropriate name as part of a meaningful message. Your program should support shapes with anywhere from 3 up to (and including) 10 sides. If a number of sides outside of this range is entered\n",
    "then your program should display an appropriate error message.\n"
   ]
  },
  {
   "cell_type": "code",
   "execution_count": 145,
   "id": "97eff734",
   "metadata": {},
   "outputs": [
    {
     "name": "stdout",
     "output_type": "stream",
     "text": [
      "Enter the number of sides (3 to 10): 1\n",
      "Sorry, out of bounds.\n"
     ]
    }
   ],
   "source": [
    "# shapes range(3,10)\n",
    "# 3 < > 10 \"error\"\n",
    "\n",
    "shape_dict = {3:'triangle', 4:'square', 5:'pentagon', \n",
    "              6:'hexagon', 7:'heptagon', 8:'octogon', \n",
    "              9:'nonagon', 10:'decagon'}\n",
    "\n",
    "user_input = int(input(\"Enter the number of sides (3 to 10): \"))\n",
    "if user_input >= 3 and user_input <= 10:\n",
    "    print(shape_dict.get(user_input))\n",
    "else:\n",
    "    print(\"Sorry, out of bounds.\")"
   ]
  },
  {
   "cell_type": "markdown",
   "id": "c7b481bc",
   "metadata": {},
   "source": [
    "## #38 month name to number of days\n",
    "\n",
    "The length of a month varies from 28 to 31 days. In this exercise you will create a program that reads the name of a month from the user as a string. Then your program should display the number of days in that month. Display “28 or 29 days” for February so that leap years are addressed."
   ]
  },
  {
   "cell_type": "code",
   "execution_count": 173,
   "id": "f57159c0",
   "metadata": {},
   "outputs": [
    {
     "name": "stdout",
     "output_type": "stream",
     "text": [
      "Enter the name of a month: may\n",
      "may has 31 days\n"
     ]
    }
   ],
   "source": [
    "# months = 28 to 31 days\n",
    "# feb = '28 or 29 days'\n",
    "\n",
    "thirty = ['april', 'june', 'september', 'november']\n",
    "# thirty_one = ['january', 'march', 'may', \n",
    "#               'july', 'august', 'october', 'december']\n",
    "\n",
    "days = 31 #start with assumption that the month is one of the 31 days\n",
    "user_input = str(input(\"Enter the name of a month: \")).lower()\n",
    "if user_input in thirty:\n",
    "    days = 30\n",
    "elif user_input == 'february':\n",
    "    days = '28 or 39'\n",
    "print(user_input, 'has', days, 'days')"
   ]
  },
  {
   "cell_type": "markdown",
   "id": "48d840af",
   "metadata": {},
   "source": [
    "## #39 sound levels\n",
    "\n",
    "Write a program that reads a sound level in decibels from the user. If the user enters a decibel level that matches one of the noises in the table then your program should display a message containing only that noise. If the user enters a number of decibels between the noises listed then your program should display a message indicating which noises the level is between. Ensure that your program also generates reasonable output for a value smaller than the quietest noise in the table, and for a value larger than the loudest noise in the table."
   ]
  },
  {
   "cell_type": "code",
   "execution_count": 195,
   "id": "82ddc865",
   "metadata": {},
   "outputs": [
    {
     "name": "stdout",
     "output_type": "stream",
     "text": [
      "Enter a decibel number: 140\n",
      "louder than a jackhammer\n"
     ]
    }
   ],
   "source": [
    "sound_dict = {130 : 'Jackhammer',\n",
    "              106 :'Gas lawnmower',\n",
    "              70 : 'Alarm clock',\n",
    "              40 : 'Quiet room'}\n",
    "\n",
    "user_input = int(input('Enter a decibel number: '))\n",
    "if user_input in sound_dict:\n",
    "    print(sound_dict.get(user_input))\n",
    "elif user_input < 30:\n",
    "    print('quiter than an alarm clock')\n",
    "elif 40 < user_input < 70:\n",
    "    print('between quiet room and alarm clock')\n",
    "elif 70 < user_input < 106:\n",
    "    print('between alarm clock and gas lawnmower')\n",
    "elif 106 < user_input < 130:\n",
    "    print('between gas lawnmower and jackhammer')\n",
    "else:\n",
    "    print('louder than a jackhammer')\n"
   ]
  },
  {
   "cell_type": "markdown",
   "id": "07954d5e",
   "metadata": {},
   "source": [
    "## #40 name that triangle\n",
    "A triangle can be classified based on the lengths of its sides as equilateral, isosceles or scalene. All 3 sides of an equilateral triangle have the same length. An isosceles triangle has two sides that are the same length, and a third side that is a different length. If all of the sides have different lengths then the triangle is scalene. Write a program that reads the lengths of 3 sides of a triangle from the user. Display a message indicating the type of the triangle.\n"
   ]
  },
  {
   "cell_type": "code",
   "execution_count": 234,
   "id": "d9bc39fa",
   "metadata": {},
   "outputs": [
    {
     "name": "stdout",
     "output_type": "stream",
     "text": [
      "Enter the length of side 1: 1\n",
      "Enter the length of side 2: 2\n",
      "Enter the length of side 3: 3\n",
      "That is an scalene triangle.\n"
     ]
    }
   ],
   "source": [
    "#equilateral = all 3 equal\n",
    "# isoceles = 2 equal\n",
    "# scalene = none equal\n",
    "\n",
    "user_input_1 = float(input('Enter the length of side 1: '))\n",
    "user_input_2 = float(input('Enter the length of side 2: '))\n",
    "user_input_3 = float(input('Enter the length of side 3: '))\n",
    "\n",
    "if user_input_1 == user_input_2 == user_input_3:\n",
    "    name = 'equilateral triangle' \n",
    "elif user_input_1 == user_input_2 or user_input_2 == user_input_3 or user_input_1 == user_input_3:\n",
    "    name = 'isoceles'\n",
    "else:\n",
    "    name = 'scalene'\n",
    "print('That is an', name, 'triangle.')\n",
    "\n",
    "\n",
    "# print(user_input_1, user_input_2, user_input_3)"
   ]
  },
  {
   "cell_type": "code",
   "execution_count": null,
   "id": "8d635349",
   "metadata": {},
   "outputs": [],
   "source": []
  },
  {
   "cell_type": "code",
   "execution_count": null,
   "id": "b2f78e40",
   "metadata": {},
   "outputs": [],
   "source": []
  },
  {
   "cell_type": "code",
   "execution_count": null,
   "id": "8b3d6216",
   "metadata": {},
   "outputs": [],
   "source": []
  },
  {
   "cell_type": "code",
   "execution_count": null,
   "id": "ce120348",
   "metadata": {},
   "outputs": [],
   "source": []
  }
 ],
 "metadata": {
  "kernelspec": {
   "display_name": "Python 3 (unsupervised)",
   "language": "python",
   "name": "unsupervised"
  },
  "language_info": {
   "codemirror_mode": {
    "name": "ipython",
    "version": 3
   },
   "file_extension": ".py",
   "mimetype": "text/x-python",
   "name": "python",
   "nbconvert_exporter": "python",
   "pygments_lexer": "ipython3",
   "version": "3.8.12"
  }
 },
 "nbformat": 4,
 "nbformat_minor": 5
}

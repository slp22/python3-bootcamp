{
 "cells": [
  {
   "cell_type": "markdown",
   "id": "1656a2f6",
   "metadata": {},
   "source": [
    "[The Python Workbook: A Brief Introduction with Exercises and Solutions](https://link.springer.com/book/10.1007/978-3-319-14240-1) by Ben Stephenson"
   ]
  },
  {
   "cell_type": "markdown",
   "id": "3e0a84a9",
   "metadata": {},
   "source": [
    "# if statments (p15) "
   ]
  },
  {
   "cell_type": "markdown",
   "id": "cb614aab",
   "metadata": {},
   "source": [
    "## #34 even or odd\n",
    "Write a program that reads an interget from the user. Then your program should display a message indicating whether the integer is even or odd"
   ]
  },
  {
   "cell_type": "code",
   "execution_count": 46,
   "id": "fd29e536",
   "metadata": {},
   "outputs": [
    {
     "name": "stdout",
     "output_type": "stream",
     "text": [
      "Enter a number: 0\n",
      "even\n"
     ]
    }
   ],
   "source": [
    "user_input = int(input(\"Enter a number: \"))\n",
    "if user_input % 2 == 0:\n",
    "    print('even')\n",
    "else:\n",
    "    print('odd')"
   ]
  },
  {
   "cell_type": "markdown",
   "id": "dba6555b",
   "metadata": {},
   "source": [
    "## #35 dog years\n",
    "Write a program that implements the conversion from human years to dog years described in the previous paragraph. Ensure that your program works correctly for conversions of less than two human years and for conversions of two or more human years. Your program should display an appropriate error message if the user enters a negative number."
   ]
  },
  {
   "cell_type": "code",
   "execution_count": 47,
   "id": "933a19c7",
   "metadata": {},
   "outputs": [
    {
     "name": "stdout",
     "output_type": "stream",
     "text": [
      "Enter human years:2\n",
      "21.0\n"
     ]
    }
   ],
   "source": [
    "# first 2 human years = 10.5 dog years\n",
    "# each add'l human year = 4 dog years\n",
    "\n",
    "user_input = int(input(\"Enter human years:\"))\n",
    "if user_input < 0:\n",
    "    user_input = int(input(\"Please enter a postive number ...\"))\n",
    "if user_input <= 2:\n",
    "    print(user_input * 10.5)\n",
    "if user_input > 2:\n",
    "    print((user_input - 2)*4 + 2 * 10.5)\n"
   ]
  },
  {
   "cell_type": "markdown",
   "id": "eb1e62d0",
   "metadata": {},
   "source": [
    "## #35 vowel or consonant\n",
    "In this exercise you will create a program that reads a letter of the alphabet from the user. If the user enters a, e, i, o or u then your program should display a message indicating that the entered letter is a vowel. If the user enters y then your program should display a message indicating that sometimes y is a vowel, and sometimes y is a consonant. Otherwise your program should display a message indicating that the letter is a consonant."
   ]
  },
  {
   "cell_type": "code",
   "execution_count": 102,
   "id": "4e474c30",
   "metadata": {},
   "outputs": [
    {
     "name": "stdout",
     "output_type": "stream",
     "text": [
      "Enter a letter: a\n",
      "vowel\n",
      "['a', 'e', 'i', 'o', 'u']\n"
     ]
    }
   ],
   "source": [
    "vowel = ['a', 'e', 'i', 'o', 'u']\n",
    "y = 'Sometimes a vowel and sometimes a consonant.'\n",
    "# else = 'consonant'\n",
    " \n",
    "user_input = str(input(\"Enter a letter: \")).lower()\n",
    "if len(user_input) > 1:\n",
    "    print(str(input('Please enter one letter...')))\n",
    "elif user_input in vowel:\n",
    "    print('vowel')\n",
    "elif user_input == 'y':\n",
    "    print(y)\n",
    "else:\n",
    "    print('consonant')\n",
    "print(vowel)"
   ]
  },
  {
   "cell_type": "markdown",
   "id": "e81d41db",
   "metadata": {},
   "source": [
    "## #37 name that shape\n",
    "\n",
    "Write a program that determines the name of a shape from its number of sides. Read the number of sides from the user and then report the appropriate name as part of a meaningful message. Your program should support shapes with anywhere from 3 up to (and including) 10 sides. If a number of sides outside of this range is entered\n",
    "then your program should display an appropriate error message.\n"
   ]
  },
  {
   "cell_type": "code",
   "execution_count": 145,
   "id": "77e3b301",
   "metadata": {},
   "outputs": [
    {
     "name": "stdout",
     "output_type": "stream",
     "text": [
      "Enter the number of sides (3 to 10): 1\n",
      "Sorry, out of bounds.\n"
     ]
    }
   ],
   "source": [
    "# shapes range(3,10)\n",
    "# 3 < > 10 \"error\"\n",
    "\n",
    "shape_dict = {3:'triangle', 4:'square', 5:'pentagon', \n",
    "              6:'hexagon', 7:'heptagon', 8:'octogon', \n",
    "              9:'nonagon', 10:'decagon'}\n",
    "\n",
    "user_input = int(input(\"Enter the number of sides (3 to 10): \"))\n",
    "if user_input >= 3 and user_input <= 10:\n",
    "    print(shape_dict.get(user_input))\n",
    "else:\n",
    "    print(\"Sorry, out of bounds.\")"
   ]
  },
  {
   "cell_type": "markdown",
   "id": "cfbab8a1",
   "metadata": {},
   "source": [
    "## #38 month name to number of days\n",
    "\n",
    "The length of a month varies from 28 to 31 days. In this exercise you will create a program that reads the name of a month from the user as a string. Then your program should display the number of days in that month. Display “28 or 29 days” for February so that leap years are addressed."
   ]
  },
  {
   "cell_type": "code",
   "execution_count": 173,
   "id": "5ef9e8f7",
   "metadata": {},
   "outputs": [
    {
     "name": "stdout",
     "output_type": "stream",
     "text": [
      "Enter the name of a month: may\n",
      "may has 31 days\n"
     ]
    }
   ],
   "source": [
    "# months = 28 to 31 days\n",
    "# feb = '28 or 29 days'\n",
    "\n",
    "thirty = ['april', 'june', 'september', 'november']\n",
    "# thirty_one = ['january', 'march', 'may', \n",
    "#               'july', 'august', 'october', 'december']\n",
    "\n",
    "days = 31 #start with assumption that the month is one of the 31 days\n",
    "user_input = str(input(\"Enter the name of a month: \")).lower()\n",
    "if user_input in thirty:\n",
    "    days = 30\n",
    "elif user_input == 'february':\n",
    "    days = '28 or 39'\n",
    "print(user_input, 'has', days, 'days')"
   ]
  },
  {
   "cell_type": "markdown",
   "id": "757b3b61",
   "metadata": {},
   "source": [
    "## #39 sound levels\n",
    "\n",
    "Write a program that reads a sound level in decibels from the user. If the user enters a decibel level that matches one of the noises in the table then your program should display a message containing only that noise. If the user enters a number of decibels between the noises listed then your program should display a message indicating which noises the level is between. Ensure that your program also generates reasonable output for a value smaller than the quietest noise in the table, and for a value larger than the loudest noise in the table."
   ]
  },
  {
   "cell_type": "code",
   "execution_count": 195,
   "id": "480fffc2",
   "metadata": {},
   "outputs": [
    {
     "name": "stdout",
     "output_type": "stream",
     "text": [
      "Enter a decibel number: 140\n",
      "louder than a jackhammer\n"
     ]
    }
   ],
   "source": [
    "sound_dict = {130 : 'Jackhammer',\n",
    "              106 :'Gas lawnmower',\n",
    "              70 : 'Alarm clock',\n",
    "              40 : 'Quiet room'}\n",
    "\n",
    "user_input = int(input('Enter a decibel number: '))\n",
    "if user_input in sound_dict:\n",
    "    print(sound_dict.get(user_input))\n",
    "elif user_input < 30:\n",
    "    print('quiter than an alarm clock')\n",
    "elif 40 < user_input < 70:\n",
    "    print('between quiet room and alarm clock')\n",
    "elif 70 < user_input < 106:\n",
    "    print('between alarm clock and gas lawnmower')\n",
    "elif 106 < user_input < 130:\n",
    "    print('between gas lawnmower and jackhammer')\n",
    "else:\n",
    "    print('louder than a jackhammer')\n"
   ]
  },
  {
   "cell_type": "markdown",
   "id": "20cb48b8",
   "metadata": {},
   "source": [
    "## #40 name that triangle\n",
    "A triangle can be classified based on the lengths of its sides as equilateral, isosceles or scalene. All 3 sides of an equilateral triangle have the same length. An isosceles triangle has two sides that are the same length, and a third side that is a different length. If all of the sides have different lengths then the triangle is scalene. Write a program that reads the lengths of 3 sides of a triangle from the user. Display a message indicating the type of the triangle.\n"
   ]
  },
  {
   "cell_type": "code",
   "execution_count": 234,
   "id": "197760d8",
   "metadata": {},
   "outputs": [
    {
     "name": "stdout",
     "output_type": "stream",
     "text": [
      "Enter the length of side 1: 1\n",
      "Enter the length of side 2: 2\n",
      "Enter the length of side 3: 3\n",
      "That is an scalene triangle.\n"
     ]
    }
   ],
   "source": [
    "#equilateral = all 3 equal\n",
    "# isoceles = 2 equal\n",
    "# scalene = none equal\n",
    "\n",
    "user_input_1 = float(input('Enter the length of side 1: '))\n",
    "user_input_2 = float(input('Enter the length of side 2: '))\n",
    "user_input_3 = float(input('Enter the length of side 3: '))\n",
    "\n",
    "if user_input_1 == user_input_2 == user_input_3:\n",
    "    name = 'equilateral triangle' \n",
    "elif user_input_1 == user_input_2 or user_input_2 == user_input_3 or user_input_1 == user_input_3:\n",
    "    name = 'isoceles'\n",
    "else:\n",
    "    name = 'scalene'\n",
    "print('That is an', name, 'triangle.')\n",
    "\n",
    "\n",
    "# print(user_input_1, user_input_2, user_input_3)"
   ]
  },
  {
   "cell_type": "markdown",
   "id": "e20d41e9",
   "metadata": {},
   "source": [
    "## #41 note to frequency (p17)\n",
    "The following table lists an octave of music notes, beginning with middle C, along with their frequencies. <br/>\n",
    "<br/>\n",
    "Begin by writing a program that reads the name of a note from the user and displays the note’s frequency. Your program should support all of the notes listed previously.<br/>\n",
    "<br/>\n",
    "Once you have your program working correctly for the notes listed previously you should add support for all of the notes from C0 to C8. While this could be done by adding many additional cases to your if statement, such a solution is cumbersome, inelegant and unacceptable for the purposes of this exercise. Instead, you should exploit the relationship between notes in adjacent octaves. In particular, the frequency of any note in octave n is half the frequency of the corresponding note in octave n + 1. By using this relationship, you should be able to add support for the additional notes without adding additional cases to your if statement.<br/>\n",
    "<br/>\n",
    "Hint: To complete this exercise you will need to extract individual characters from the two-character note name so that you can work with the letter and the octave number separately. Once you have separated the parts, compute the frequency of the note in the fourth octave using the data in the table above. Then divide the frequency by 24−x , where x is the octave number entered by the user. This will halve or double the frequency the correct number of times.\n"
   ]
  },
  {
   "cell_type": "code",
   "execution_count": 32,
   "id": "111016de",
   "metadata": {},
   "outputs": [],
   "source": [
    "# note = frequency (Hz)\n",
    "note_dict = {'C4' : 261.63, \n",
    "             'D4' : 293.66, \n",
    "             'E4' : 329.63, \n",
    "             'F4' : 349.23, \n",
    "             'G4' : 392.00, \n",
    "             'A4' : 440.00, \n",
    "             'B4' : 493.88}\n",
    "\n",
    "freq_dict = {'C' : 261.63, \n",
    "             'D' : 293.66, \n",
    "             'E' : 329.63, \n",
    "             'F' : 349.23, \n",
    "             'G' : 392.00, \n",
    "             'A' : 440.00, \n",
    "             'B' : 493.88}\n",
    "\n"
   ]
  },
  {
   "cell_type": "code",
   "execution_count": 46,
   "id": "169b957b",
   "metadata": {},
   "outputs": [
    {
     "name": "stdout",
     "output_type": "stream",
     "text": [
      "Enter a note: c0\n",
      "The frequency of note C is 16.35\n"
     ]
    }
   ],
   "source": [
    "note_input = input('Enter a note: ')\n",
    "\n",
    "note = note_input[0].upper()\n",
    "octave = int(note_input[1])\n",
    "\n",
    "# if note_input in note_dict:\n",
    "#     print(note_dict.get(note_input))\n",
    "\n",
    "if note in freq_dict:\n",
    "    freq = round((freq_dict.get(note)) / 2 ** (4 - octave), 2)\n",
    "#     print(freq)\n",
    "    print('The frequency of note', note,'is', freq)"
   ]
  },
  {
   "cell_type": "markdown",
   "id": "d9c22504",
   "metadata": {},
   "source": [
    "## #42 frequency to note (p18)\n",
    "\n",
    "In this question you will write a program that reverses that process. Begin by reading a frequency from the user. If the frequency is within one Hertz of a value listed in the table in the previous question then report the name of the note. Otherwise report that the frequency does not correspond to a known note. In this exercise you only need to consider the notes listed in the table. There is no need to consider notes from other\n",
    "octaves."
   ]
  },
  {
   "cell_type": "code",
   "execution_count": 61,
   "id": "18ce0cae",
   "metadata": {},
   "outputs": [],
   "source": [
    "C4 = 261.63 \n",
    "D4 = 293.66\n",
    "E4 = 329.63 \n",
    "F4 = 349.23 \n",
    "G4 = 392.00 \n",
    "A4 = 440.00 \n",
    "B4 = 493.88"
   ]
  },
  {
   "cell_type": "code",
   "execution_count": 71,
   "id": "7588281f",
   "metadata": {},
   "outputs": [
    {
     "name": "stdout",
     "output_type": "stream",
     "text": [
      "Enter a frequency: 441\n",
      "The note is B4\n"
     ]
    }
   ],
   "source": [
    "freq_input = float(input('Enter a frequency: '))\n",
    "\n",
    "if (C4-1) >= freq_input <= (C4+1):\n",
    "    note = 'C4'\n",
    "elif (D4-1) >= freq_input <= (D4+1):\n",
    "    note = 'D4'\n",
    "elif (E4-1) >= freq_input <= (E4+1):\n",
    "    note = 'E4'\n",
    "elif (F4-1) >= freq_input <= (F4+1):\n",
    "    note = 'F4'\n",
    "elif (G4-1) >= freq_input <= (G4+1):\n",
    "    note = 'G4'\n",
    "elif (A4-1) >= freq_input <= (A4+1):\n",
    "    note = 'A4'\n",
    "elif (B4-1) >= freq_input <= (B4+1):\n",
    "    note = 'B4'\n",
    "else:\n",
    "    note = ''\n",
    "\n",
    "if note == '':\n",
    "    print('No note corresponds to that frequency')\n",
    "else:\n",
    "    print('The note is', note)"
   ]
  },
  {
   "cell_type": "code",
   "execution_count": 62,
   "id": "4640066a",
   "metadata": {},
   "outputs": [
    {
     "data": {
      "text/plain": [
       "261.63"
      ]
     },
     "execution_count": 62,
     "metadata": {},
     "output_type": "execute_result"
    }
   ],
   "source": [
    "C4"
   ]
  },
  {
   "cell_type": "markdown",
   "id": "0adc517a",
   "metadata": {},
   "source": [
    "## #43 faces on money\n",
    "\n",
    "Write a program that begins by reading the denomination of a banknote from the user. Then your program should display the name of the individual that appears on the banknote of the entered amount. An appropriate error message should be displayed if no such note exists."
   ]
  },
  {
   "cell_type": "code",
   "execution_count": 85,
   "id": "4b05edf4",
   "metadata": {},
   "outputs": [],
   "source": [
    "face_dict = {1 : 'George Washington',\n",
    "             2 : 'Thomas Jefferson',\n",
    "             5 : 'Abraham Lincoln',\n",
    "             10 : 'Alexander Hamilton',\n",
    "             20 : 'Andrew Jackson',\n",
    "             50 : 'Ulysses S. Grant',\n",
    "             100 : 'Benjamin Franklin'}"
   ]
  },
  {
   "cell_type": "code",
   "execution_count": 84,
   "id": "f76bc066",
   "metadata": {},
   "outputs": [
    {
     "name": "stdout",
     "output_type": "stream",
     "text": [
      "Enter a denomination: 6\n",
      "No such denomination exists.\n"
     ]
    }
   ],
   "source": [
    "den_input = int(input('Enter a denomination: '))\n",
    "\n",
    "if den_input in face_dict:\n",
    "    print(face_dict.get(den_input))\n",
    "else:\n",
    "    print('No such denomination exists.')"
   ]
  },
  {
   "cell_type": "markdown",
   "id": "3dd7ef28",
   "metadata": {},
   "source": [
    "## #44 date to holiday name\n",
    "\n",
    "Write a program that reads a month and day from the user. If the month and day match one of the holidays listed previously then your program should display the holiday’s name. Otherwise your program should indicate that the entered month and day do not correspond to a fixed-date holiday."
   ]
  },
  {
   "cell_type": "code",
   "execution_count": 94,
   "id": "4579ac5d",
   "metadata": {},
   "outputs": [],
   "source": [
    "# canada\n",
    "\n",
    "holiday_dict = {'January 1' : 'New Year', \n",
    "                'July 1' : 'Canada Day', \n",
    "                'December 25' : 'Christmas Day'}\n",
    "\n"
   ]
  },
  {
   "cell_type": "code",
   "execution_count": 99,
   "id": "a440126f",
   "metadata": {},
   "outputs": [
    {
     "name": "stdout",
     "output_type": "stream",
     "text": [
      "Enter in a month and day: January 1\n",
      "New Year\n"
     ]
    }
   ],
   "source": [
    "date_input = input('Enter in a month and day: ')\n",
    "\n",
    "if date_input in holiday_dict:\n",
    "    print(holiday_dict.get(date_input))"
   ]
  },
  {
   "cell_type": "markdown",
   "id": "2bf2b654",
   "metadata": {},
   "source": [
    "## #45 what color is that square\n",
    "\n",
    "Positions on a chess board are identified by a letter and a number. The letter identifies the column, while the number identifies the row, as shown.\n",
    "\n",
    "Write a program that reads a position from the user. Use an if statement to determine if the column begins with a black square or a white square. Then use modular arithmetic to report the color of the square in that row. For example, if the user enters a1 then your program should report that the square is black. If the user enters d5 then your program should report that the square is white. Your program may assume that a valid position will always be entered. It does not need to perform any error checking."
   ]
  },
  {
   "cell_type": "code",
   "execution_count": 119,
   "id": "44db8893",
   "metadata": {},
   "outputs": [
    {
     "name": "stdout",
     "output_type": "stream",
     "text": [
      "Enter a chessboard position: e3\n",
      "square is black\n"
     ]
    }
   ],
   "source": [
    "starts_black = ['a', 'c', 'e', 'g']\n",
    "starts_white = ['b', 'd', 'f', 'h']\n",
    "# 8 positions\n",
    "\n",
    "position_input = input('Enter a chessboard position: ')\n",
    "\n",
    "col = position_input[0]\n",
    "row = int(position_input[1])\n",
    "\n",
    "if col in starts_black: \n",
    "# odd squares are black\n",
    "    if row % 2 != 0:\n",
    "        print('square is black')\n",
    "    else:\n",
    "        print('square is white')\n",
    "elif col in starts_white:\n",
    "# even squares are black \n",
    "    if row % 2 == 0:\n",
    "        print('square is black')\n",
    "    else:\n",
    "        print('square is white')"
   ]
  },
  {
   "cell_type": "markdown",
   "id": "a123af83",
   "metadata": {},
   "source": [
    "## #46 season from month and day\n",
    "\n",
    "The year is divided into four seasons: spring, summer, fall and winter. While the exact dates that the seasons change vary a little bit from year to year because of the way that the calendar is constructed.\n",
    "\n",
    "Create a program that reads a month and day from the user. The user will enter the name of the month as a string, followed by the day within the month as an integer. Then your program should display the season associated with the date that was entered.\n"
   ]
  },
  {
   "cell_type": "code",
   "execution_count": 151,
   "id": "a34e2c7a",
   "metadata": {},
   "outputs": [],
   "source": [
    "# march 20 spring\n",
    "# june 21 summer\n",
    "# september 22 fall \n",
    "# decemeber 21 winter"
   ]
  },
  {
   "cell_type": "code",
   "execution_count": 180,
   "id": "b8826c92",
   "metadata": {},
   "outputs": [
    {
     "name": "stdout",
     "output_type": "stream",
     "text": [
      "Enter a month: august\n",
      "Enter a day: 18\n",
      "summer\n"
     ]
    }
   ],
   "source": [
    "month_input = str(input('Enter a month: ')).lower()\n",
    "day_input = int(input('Enter a day: '))\n",
    "\n",
    "#     season = 'spring'\n",
    "if month_input in ['april','may']:\n",
    "    if month_input == 'march':\n",
    "        if day_input < 20:\n",
    "            season = 'winter'\n",
    "        else:\n",
    "            season = 'spring'\n",
    "#     season = 'summer'\n",
    "elif month_input in ['july','august']:\n",
    "    if month_input == 'june':\n",
    "        if day_input < 21:\n",
    "            season = 'spring'\n",
    "    else:\n",
    "        season = 'summer'\n",
    "\n",
    "#     season = 'fall'\n",
    "elif month_input in ['october','november']:\n",
    "    if month_input == 'september':\n",
    "        if day_input < 22:\n",
    "            season = 'summer'\n",
    "        else:\n",
    "            season = 'fall'   \n",
    "            \n",
    "#     season = 'winter'        \n",
    "elif month_input in ['january', 'february']:\n",
    "    if month_input == 'december':\n",
    "        if day_input < 21:\n",
    "            season = 'fall'\n",
    "    else:\n",
    "        season = 'winter'\n",
    "\n",
    "print(season)\n"
   ]
  },
  {
   "cell_type": "markdown",
   "id": "234057d7",
   "metadata": {},
   "source": [
    "## #47 birth date to astrological sign\n",
    "\n",
    "Write a program that asks the user to enter his or her month and day of birth. Then your program should report the user’s zodiac sign as part of an appropriate output message.\n"
   ]
  },
  {
   "cell_type": "code",
   "execution_count": null,
   "id": "f4be5713",
   "metadata": {},
   "outputs": [],
   "source": [
    "# Capricorn    December 22 to January 19\n",
    "# Aquarius     January 20 to February 18\n",
    "# Pisces       February 19 to March 20\n",
    "# Aries        March 21 to April 19\n",
    "# Taurus       April 20 to May 20\n",
    "# Gemini       May 21 to June 20\n",
    "# Cancer       June 21 to July 22 \n",
    "# Leo          July 23 to August 22\n",
    "# Virgo        August 23 to September 22\n",
    "# Libra        September 23 to October 22\n",
    "# Scorpio      October 23 to November 21\n",
    "# Sagittarius  November 22 to December 21"
   ]
  },
  {
   "cell_type": "code",
   "execution_count": 190,
   "id": "b06192c2",
   "metadata": {},
   "outputs": [
    {
     "name": "stdout",
     "output_type": "stream",
     "text": [
      "What is your birth month? may\n",
      "What is your birth day? 14\n",
      "Taurus\n"
     ]
    }
   ],
   "source": [
    "month_input = str(input('What is your birth month? ')).lower()\n",
    "day_input = int(input('What is your birth day? '))\n",
    "\n",
    "# december\n",
    "if month_input == 'december':\n",
    "    if day_input >= 22:\n",
    "        sign = 'Capricorn'\n",
    "    elif day_input <= 21:\n",
    "        sign = 'Sagittarius'\n",
    "# november\n",
    "elif month_input == 'november':\n",
    "    if day_input >= 22:\n",
    "        sign = 'Sagittarius'\n",
    "    elif day_input <= 21:\n",
    "        sign = 'Scorpio' \n",
    "# october\n",
    "elif month_input == 'october':\n",
    "    if day_input >= 23:\n",
    "        sign = 'Scorpio'\n",
    "    elif day_input <= 22:\n",
    "        sign = 'Libra' \n",
    "# september\n",
    "elif month_input == 'september':\n",
    "    if day_input >= 23:\n",
    "        sign = 'Libra'\n",
    "    elif day_input <= 22:\n",
    "        sign = 'Virgo'\n",
    "# august\n",
    "elif month_input == 'august':\n",
    "    if day_input >= 23:\n",
    "        sign = 'Virgo'\n",
    "    elif day_input <= 22:\n",
    "        sign = 'Leo'\n",
    "# july\n",
    "elif month_input == 'july':\n",
    "    if day_input >= 23:\n",
    "        sign = 'Leo'\n",
    "    elif day_input <= 22:\n",
    "        sign = 'Cancer'\n",
    "# june\n",
    "elif month_input == 'june':\n",
    "    if day_input >= 21:\n",
    "        sign = 'Cancer'\n",
    "    elif day_input <= 20:\n",
    "        sign = 'Gemini'\n",
    "# may\n",
    "elif month_input == 'may':\n",
    "    if day_input >= 21:\n",
    "        sign = 'Gemini'\n",
    "    elif day_input <= 20:\n",
    "        sign = 'Taurus'\n",
    "#...        \n",
    "            \n",
    "print(sign)\n",
    "\n"
   ]
  },
  {
   "cell_type": "markdown",
   "id": "672bde68",
   "metadata": {},
   "source": [
    "## #48 chinese zodiac (p.21)\n",
    "\n",
    "The Chinese zodiac assigns animals to years in a 12 year cycle. One 12 year cycle is shown in the table below. The pattern repeats from there, with 2012 being another year of the dragon, and 1999 being another year of the hare\n",
    "\n",
    "Write a program that reads a year from the user and displays the animal associated with that year. Your program should work correctly for any year greater than or equal to zero, not just the ones listed in the table."
   ]
  },
  {
   "cell_type": "code",
   "execution_count": null,
   "id": "0ea38c6e",
   "metadata": {},
   "outputs": [],
   "source": [
    "# Dragon 2000\n",
    "# Snake 2001\n",
    "# Horse 2002\n",
    "# Sheep 2003\n",
    "# Monkey 2004\n",
    "# Rooster 2005\n",
    "# Dog 2006\n",
    "# Pig 2007\n",
    "# Rat 2008\n",
    "# Ox 2009\n",
    "# Tiger 2010\n",
    "# Hare 2011\n",
    "       \n",
    "   "
   ]
  },
  {
   "cell_type": "code",
   "execution_count": null,
   "id": "5b24eec6",
   "metadata": {},
   "outputs": [],
   "source": [
    "2000 : Dragon "
   ]
  },
  {
   "cell_type": "code",
   "execution_count": null,
   "id": "af3f3aea",
   "metadata": {},
   "outputs": [],
   "source": []
  },
  {
   "cell_type": "code",
   "execution_count": null,
   "id": "2c73e5ce",
   "metadata": {},
   "outputs": [],
   "source": []
  },
  {
   "cell_type": "code",
   "execution_count": null,
   "id": "7130c1c1",
   "metadata": {},
   "outputs": [],
   "source": []
  },
  {
   "cell_type": "code",
   "execution_count": null,
   "id": "be9fb338",
   "metadata": {},
   "outputs": [],
   "source": []
  }
 ],
 "metadata": {
  "kernelspec": {
   "display_name": "Python 3 (unsupervised)",
   "language": "python",
   "name": "unsupervised"
  },
  "language_info": {
   "codemirror_mode": {
    "name": "ipython",
    "version": 3
   },
   "file_extension": ".py",
   "mimetype": "text/x-python",
   "name": "python",
   "nbconvert_exporter": "python",
   "pygments_lexer": "ipython3",
   "version": "3.8.12"
  }
 },
 "nbformat": 4,
 "nbformat_minor": 5
}

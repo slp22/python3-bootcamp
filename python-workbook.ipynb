{
 "cells": [
  {
   "cell_type": "markdown",
   "id": "9e73f36b",
   "metadata": {},
   "source": [
    "# if statments (p15) "
   ]
  },
  {
   "cell_type": "code",
   "execution_count": null,
   "id": "01ff2307",
   "metadata": {},
   "outputs": [],
   "source": [
    "#34 even or odd\n",
    "# Write a program that reads an interget from the user. Then your program should display a message \n",
    "# indicating whether the integer is even or odd\n",
    "\n"
   ]
  },
  {
   "cell_type": "code",
   "execution_count": 1,
   "id": "bbf7638f",
   "metadata": {},
   "outputs": [
    {
     "name": "stdout",
     "output_type": "stream",
     "text": [
      "Enter something: 1\n"
     ]
    }
   ],
   "source": [
    "user_input = input(\"Enter something: \")"
   ]
  },
  {
   "cell_type": "code",
   "execution_count": null,
   "id": "b3d3fd49",
   "metadata": {},
   "outputs": [],
   "source": []
  }
 ],
 "metadata": {
  "kernelspec": {
   "display_name": "Python 3 (unsupervised)",
   "language": "python",
   "name": "unsupervised"
  },
  "language_info": {
   "codemirror_mode": {
    "name": "ipython",
    "version": 3
   },
   "file_extension": ".py",
   "mimetype": "text/x-python",
   "name": "python",
   "nbconvert_exporter": "python",
   "pygments_lexer": "ipython3",
   "version": "3.8.12"
  }
 },
 "nbformat": 4,
 "nbformat_minor": 5
}

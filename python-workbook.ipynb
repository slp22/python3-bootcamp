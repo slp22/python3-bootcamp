{
 "cells": [
  {
   "cell_type": "markdown",
   "id": "1656a2f6",
   "metadata": {},
   "source": [
    "[The Python Workbook: A Brief Introduction with Exercises and Solutions](https://link.springer.com/book/10.1007/978-3-319-14240-1) by Ben Stephenson"
   ]
  },
  {
   "cell_type": "markdown",
   "id": "3e0a84a9",
   "metadata": {},
   "source": [
    "# if statments (p15) "
   ]
  },
  {
   "cell_type": "markdown",
   "id": "cb614aab",
   "metadata": {},
   "source": [
    "## #34 even or odd\n",
    "Write a program that reads an interget from the user. Then your program should display a message indicating whether the integer is even or odd"
   ]
  },
  {
   "cell_type": "code",
   "execution_count": 46,
   "id": "fd29e536",
   "metadata": {},
   "outputs": [
    {
     "name": "stdout",
     "output_type": "stream",
     "text": [
      "Enter a number: 0\n",
      "even\n"
     ]
    }
   ],
   "source": [
    "user_input = int(input(\"Enter a number: \"))\n",
    "if user_input % 2 == 0:\n",
    "    print('even')\n",
    "else:\n",
    "    print('odd')"
   ]
  },
  {
   "cell_type": "markdown",
   "id": "dba6555b",
   "metadata": {},
   "source": [
    "## #35 dog years\n",
    "Write a program that implements the conversion from human years to dog years described in the previous paragraph. Ensure that your program works correctly for conversions of less than two human years and for conversions of two or more human years. Your program should display an appropriate error message if the user enters a negative number."
   ]
  },
  {
   "cell_type": "code",
   "execution_count": 47,
   "id": "933a19c7",
   "metadata": {},
   "outputs": [
    {
     "name": "stdout",
     "output_type": "stream",
     "text": [
      "Enter human years:2\n",
      "21.0\n"
     ]
    }
   ],
   "source": [
    "# first 2 human years = 10.5 dog years\n",
    "# each add'l human year = 4 dog years\n",
    "\n",
    "user_input = int(input(\"Enter human years:\"))\n",
    "if user_input < 0:\n",
    "    user_input = int(input(\"Please enter a postive number ...\"))\n",
    "if user_input <= 2:\n",
    "    print(user_input * 10.5)\n",
    "if user_input > 2:\n",
    "    print((user_input - 2)*4 + 2 * 10.5)\n"
   ]
  },
  {
   "cell_type": "markdown",
   "id": "eb1e62d0",
   "metadata": {},
   "source": [
    "## #35 vowel or consonant\n",
    "In this exercise you will create a program that reads a letter of the alphabet from the user. If the user enters a, e, i, o or u then your program should display a message indicating that the entered letter is a vowel. If the user enters y then your program should display a message indicating that sometimes y is a vowel, and sometimes y is a consonant. Otherwise your program should display a message indicating that the letter is a consonant."
   ]
  },
  {
   "cell_type": "code",
   "execution_count": 102,
   "id": "4e474c30",
   "metadata": {},
   "outputs": [
    {
     "name": "stdout",
     "output_type": "stream",
     "text": [
      "Enter a letter: a\n",
      "vowel\n",
      "['a', 'e', 'i', 'o', 'u']\n"
     ]
    }
   ],
   "source": [
    "vowel = ['a', 'e', 'i', 'o', 'u']\n",
    "y = 'Sometimes a vowel and sometimes a consonant.'\n",
    "# else = 'consonant'\n",
    " \n",
    "user_input = str(input(\"Enter a letter: \")).lower()\n",
    "if len(user_input) > 1:\n",
    "    print(str(input('Please enter one letter...')))\n",
    "elif user_input in vowel:\n",
    "    print('vowel')\n",
    "elif user_input == 'y':\n",
    "    print(y)\n",
    "else:\n",
    "    print('consonant')\n",
    "print(vowel)"
   ]
  },
  {
   "cell_type": "markdown",
   "id": "e81d41db",
   "metadata": {},
   "source": [
    "## #37 name that shape\n",
    "\n",
    "Write a program that determines the name of a shape from its number of sides. Read the number of sides from the user and then report the appropriate name as part of a meaningful message. Your program should support shapes with anywhere from 3 up to (and including) 10 sides. If a number of sides outside of this range is entered\n",
    "then your program should display an appropriate error message.\n"
   ]
  },
  {
   "cell_type": "code",
   "execution_count": 145,
   "id": "77e3b301",
   "metadata": {},
   "outputs": [
    {
     "name": "stdout",
     "output_type": "stream",
     "text": [
      "Enter the number of sides (3 to 10): 1\n",
      "Sorry, out of bounds.\n"
     ]
    }
   ],
   "source": [
    "# shapes range(3,10)\n",
    "# 3 < > 10 \"error\"\n",
    "\n",
    "shape_dict = {3:'triangle', 4:'square', 5:'pentagon', \n",
    "              6:'hexagon', 7:'heptagon', 8:'octogon', \n",
    "              9:'nonagon', 10:'decagon'}\n",
    "\n",
    "user_input = int(input(\"Enter the number of sides (3 to 10): \"))\n",
    "if user_input >= 3 and user_input <= 10:\n",
    "    print(shape_dict.get(user_input))\n",
    "else:\n",
    "    print(\"Sorry, out of bounds.\")"
   ]
  },
  {
   "cell_type": "markdown",
   "id": "cfbab8a1",
   "metadata": {},
   "source": [
    "## #38 month name to number of days\n",
    "\n",
    "The length of a month varies from 28 to 31 days. In this exercise you will create a program that reads the name of a month from the user as a string. Then your program should display the number of days in that month. Display “28 or 29 days” for February so that leap years are addressed."
   ]
  },
  {
   "cell_type": "code",
   "execution_count": 173,
   "id": "5ef9e8f7",
   "metadata": {},
   "outputs": [
    {
     "name": "stdout",
     "output_type": "stream",
     "text": [
      "Enter the name of a month: may\n",
      "may has 31 days\n"
     ]
    }
   ],
   "source": [
    "# months = 28 to 31 days\n",
    "# feb = '28 or 29 days'\n",
    "\n",
    "thirty = ['april', 'june', 'september', 'november']\n",
    "# thirty_one = ['january', 'march', 'may', \n",
    "#               'july', 'august', 'october', 'december']\n",
    "\n",
    "days = 31 #start with assumption that the month is one of the 31 days\n",
    "user_input = str(input(\"Enter the name of a month: \")).lower()\n",
    "if user_input in thirty:\n",
    "    days = 30\n",
    "elif user_input == 'february':\n",
    "    days = '28 or 39'\n",
    "print(user_input, 'has', days, 'days')"
   ]
  },
  {
   "cell_type": "markdown",
   "id": "757b3b61",
   "metadata": {},
   "source": [
    "## #39 sound levels\n",
    "\n",
    "Write a program that reads a sound level in decibels from the user. If the user enters a decibel level that matches one of the noises in the table then your program should display a message containing only that noise. If the user enters a number of decibels between the noises listed then your program should display a message indicating which noises the level is between. Ensure that your program also generates reasonable output for a value smaller than the quietest noise in the table, and for a value larger than the loudest noise in the table."
   ]
  },
  {
   "cell_type": "code",
   "execution_count": 195,
   "id": "480fffc2",
   "metadata": {},
   "outputs": [
    {
     "name": "stdout",
     "output_type": "stream",
     "text": [
      "Enter a decibel number: 140\n",
      "louder than a jackhammer\n"
     ]
    }
   ],
   "source": [
    "sound_dict = {130 : 'Jackhammer',\n",
    "              106 :'Gas lawnmower',\n",
    "              70 : 'Alarm clock',\n",
    "              40 : 'Quiet room'}\n",
    "\n",
    "user_input = int(input('Enter a decibel number: '))\n",
    "if user_input in sound_dict:\n",
    "    print(sound_dict.get(user_input))\n",
    "elif user_input < 30:\n",
    "    print('quiter than an alarm clock')\n",
    "elif 40 < user_input < 70:\n",
    "    print('between quiet room and alarm clock')\n",
    "elif 70 < user_input < 106:\n",
    "    print('between alarm clock and gas lawnmower')\n",
    "elif 106 < user_input < 130:\n",
    "    print('between gas lawnmower and jackhammer')\n",
    "else:\n",
    "    print('louder than a jackhammer')\n"
   ]
  },
  {
   "cell_type": "markdown",
   "id": "20cb48b8",
   "metadata": {},
   "source": [
    "## #40 name that triangle\n",
    "A triangle can be classified based on the lengths of its sides as equilateral, isosceles or scalene. All 3 sides of an equilateral triangle have the same length. An isosceles triangle has two sides that are the same length, and a third side that is a different length. If all of the sides have different lengths then the triangle is scalene. Write a program that reads the lengths of 3 sides of a triangle from the user. Display a message indicating the type of the triangle.\n"
   ]
  },
  {
   "cell_type": "code",
   "execution_count": 234,
   "id": "197760d8",
   "metadata": {},
   "outputs": [
    {
     "name": "stdout",
     "output_type": "stream",
     "text": [
      "Enter the length of side 1: 1\n",
      "Enter the length of side 2: 2\n",
      "Enter the length of side 3: 3\n",
      "That is an scalene triangle.\n"
     ]
    }
   ],
   "source": [
    "#equilateral = all 3 equal\n",
    "# isoceles = 2 equal\n",
    "# scalene = none equal\n",
    "\n",
    "user_input_1 = float(input('Enter the length of side 1: '))\n",
    "user_input_2 = float(input('Enter the length of side 2: '))\n",
    "user_input_3 = float(input('Enter the length of side 3: '))\n",
    "\n",
    "if user_input_1 == user_input_2 == user_input_3:\n",
    "    name = 'equilateral triangle' \n",
    "elif user_input_1 == user_input_2 or user_input_2 == user_input_3 or user_input_1 == user_input_3:\n",
    "    name = 'isoceles'\n",
    "else:\n",
    "    name = 'scalene'\n",
    "print('That is an', name, 'triangle.')\n",
    "\n",
    "\n",
    "# print(user_input_1, user_input_2, user_input_3)"
   ]
  },
  {
   "cell_type": "markdown",
   "id": "e20d41e9",
   "metadata": {},
   "source": [
    "## #41 note to frequency (p17)\n",
    "The following table lists an octave of music notes, beginning with middle C, along with their frequencies. <br/>\n",
    "<br/>\n",
    "Begin by writing a program that reads the name of a note from the user and displays the note’s frequency. Your program should support all of the notes listed previously.<br/>\n",
    "<br/>\n",
    "Once you have your program working correctly for the notes listed previously you should add support for all of the notes from C0 to C8. While this could be done by adding many additional cases to your if statement, such a solution is cumbersome, inelegant and unacceptable for the purposes of this exercise. Instead, you should exploit the relationship between notes in adjacent octaves. In particular, the frequency of any note in octave n is half the frequency of the corresponding note in octave n + 1. By using this relationship, you should be able to add support for the additional notes without adding additional cases to your if statement.<br/>\n",
    "<br/>\n",
    "Hint: To complete this exercise you will need to extract individual characters from the two-character note name so that you can work with the letter and the octave number separately. Once you have separated the parts, compute the frequency of the note in the fourth octave using the data in the table above. Then divide the frequency by 24−x , where x is the octave number entered by the user. This will halve or double the frequency the correct number of times.\n"
   ]
  },
  {
   "cell_type": "code",
   "execution_count": 32,
   "id": "111016de",
   "metadata": {},
   "outputs": [],
   "source": [
    "# note = frequency (Hz)\n",
    "note_dict = {'C4' : 261.63, \n",
    "             'D4' : 293.66, \n",
    "             'E4' : 329.63, \n",
    "             'F4' : 349.23, \n",
    "             'G4' : 392.00, \n",
    "             'A4' : 440.00, \n",
    "             'B4' : 493.88}\n",
    "\n",
    "freq_dict = {'C' : 261.63, \n",
    "             'D' : 293.66, \n",
    "             'E' : 329.63, \n",
    "             'F' : 349.23, \n",
    "             'G' : 392.00, \n",
    "             'A' : 440.00, \n",
    "             'B' : 493.88}\n",
    "\n"
   ]
  },
  {
   "cell_type": "code",
   "execution_count": 46,
   "id": "169b957b",
   "metadata": {},
   "outputs": [
    {
     "name": "stdout",
     "output_type": "stream",
     "text": [
      "Enter a note: c0\n",
      "The frequency of note C is 16.35\n"
     ]
    }
   ],
   "source": [
    "note_input = input('Enter a note: ')\n",
    "\n",
    "note = note_input[0].upper()\n",
    "octave = int(note_input[1])\n",
    "\n",
    "# if note_input in note_dict:\n",
    "#     print(note_dict.get(note_input))\n",
    "\n",
    "if note in freq_dict:\n",
    "    freq = round((freq_dict.get(note)) / 2 ** (4 - octave), 2)\n",
    "#     print(freq)\n",
    "    print('The frequency of note', note,'is', freq)"
   ]
  },
  {
   "cell_type": "markdown",
   "id": "82445ce5",
   "metadata": {},
   "source": [
    "## #42 frequency to note (p18)\n",
    "\n",
    "In this question you will write a program that reverses that process. Begin by reading a frequency from the user. If the frequency is within one Hertz of a value listed in the table in the previous question then report the name of the note. Otherwise report that the frequency does not correspond to a known note. In this exercise you only need to consider the notes listed in the table. There is no need to consider notes from other\n",
    "octaves."
   ]
  },
  {
   "cell_type": "code",
   "execution_count": 61,
   "id": "d8b81607",
   "metadata": {},
   "outputs": [],
   "source": [
    "C4 = 261.63 \n",
    "D4 = 293.66\n",
    "E4 = 329.63 \n",
    "F4 = 349.23 \n",
    "G4 = 392.00 \n",
    "A4 = 440.00 \n",
    "B4 = 493.88"
   ]
  },
  {
   "cell_type": "code",
   "execution_count": 71,
   "id": "83a06f8d",
   "metadata": {},
   "outputs": [
    {
     "name": "stdout",
     "output_type": "stream",
     "text": [
      "Enter a frequency: 441\n",
      "The note is B4\n"
     ]
    }
   ],
   "source": [
    "freq_input = float(input('Enter a frequency: '))\n",
    "\n",
    "if (C4-1) >= freq_input <= (C4+1):\n",
    "    note = 'C4'\n",
    "elif (D4-1) >= freq_input <= (D4+1):\n",
    "    note = 'D4'\n",
    "elif (E4-1) >= freq_input <= (E4+1):\n",
    "    note = 'E4'\n",
    "elif (F4-1) >= freq_input <= (F4+1):\n",
    "    note = 'F4'\n",
    "elif (G4-1) >= freq_input <= (G4+1):\n",
    "    note = 'G4'\n",
    "elif (A4-1) >= freq_input <= (A4+1):\n",
    "    note = 'A4'\n",
    "elif (B4-1) >= freq_input <= (B4+1):\n",
    "    note = 'B4'\n",
    "else:\n",
    "    note = ''\n",
    "\n",
    "if note == '':\n",
    "    print('No note corresponds to that frequency')\n",
    "else:\n",
    "    print('The note is', note)"
   ]
  },
  {
   "cell_type": "code",
   "execution_count": 62,
   "id": "84bdb9cb",
   "metadata": {},
   "outputs": [
    {
     "data": {
      "text/plain": [
       "261.63"
      ]
     },
     "execution_count": 62,
     "metadata": {},
     "output_type": "execute_result"
    }
   ],
   "source": [
    "C4"
   ]
  },
  {
   "cell_type": "markdown",
   "id": "b14ac27c",
   "metadata": {},
   "source": [
    "## #43 faces on money\n",
    "\n",
    "Write a program that begins by reading the denomination of a banknote from the user. Then your program should display the name of the individual that appears on the banknote of the entered amount. An appropriate error message should be displayed if no such note exists."
   ]
  },
  {
   "cell_type": "code",
   "execution_count": 85,
   "id": "f1fe38df",
   "metadata": {},
   "outputs": [],
   "source": [
    "face_dict = {1 : 'George Washington',\n",
    "             2 : 'Thomas Jefferson',\n",
    "             5 : 'Abraham Lincoln',\n",
    "             10 : 'Alexander Hamilton',\n",
    "             20 : 'Andrew Jackson',\n",
    "             50 : 'Ulysses S. Grant',\n",
    "             100 : 'Benjamin Franklin'}"
   ]
  },
  {
   "cell_type": "code",
   "execution_count": 84,
   "id": "b55bfc37",
   "metadata": {},
   "outputs": [
    {
     "name": "stdout",
     "output_type": "stream",
     "text": [
      "Enter a denomination: 6\n",
      "No such denomination exists.\n"
     ]
    }
   ],
   "source": [
    "den_input = int(input('Enter a denomination: '))\n",
    "\n",
    "if den_input in face_dict:\n",
    "    print(face_dict.get(den_input))\n",
    "else:\n",
    "    print('No such denomination exists.')"
   ]
  },
  {
   "cell_type": "markdown",
   "id": "306f9564",
   "metadata": {},
   "source": [
    "## #44 date to holiday name\n",
    "\n",
    "Write a program that reads a month and day from the user. If the month and day match one of the holidays listed previously then your program should display the holiday’s name. Otherwise your program should indicate that the entered month and day do not correspond to a fixed-date holiday."
   ]
  },
  {
   "cell_type": "code",
   "execution_count": 94,
   "id": "9796332c",
   "metadata": {},
   "outputs": [],
   "source": [
    "# canada\n",
    "\n",
    "holiday_dict = {'January 1' : 'New Year', \n",
    "                'July 1' : 'Canada Day', \n",
    "                'December 25' : 'Christmas Day'}\n",
    "\n"
   ]
  },
  {
   "cell_type": "code",
   "execution_count": 99,
   "id": "e813fb12",
   "metadata": {},
   "outputs": [
    {
     "name": "stdout",
     "output_type": "stream",
     "text": [
      "Enter in a month and day: January 1\n",
      "New Year\n"
     ]
    }
   ],
   "source": [
    "date_input = input('Enter in a month and day: ')\n",
    "\n",
    "if date_input in holiday_dict:\n",
    "    print(holiday_dict.get(date_input))"
   ]
  },
  {
   "cell_type": "markdown",
   "id": "ad1112c2",
   "metadata": {},
   "source": [
    "## #45 what color is that square\n",
    "\n",
    "Positions on a chess board are identified by a letter and a number. The letter identifies the column, while the number identifies the row, as shown.\n",
    "\n",
    "Write a program that reads a position from the user. Use an if statement to determine if the column begins with a black square or a white square. Then use modular arithmetic to report the color of the square in that row. For example, if the user enters a1 then your program should report that the square is black. If the user enters d5 then your program should report that the square is white. Your program may assume that a valid position will always be entered. It does not need to perform any error checking."
   ]
  },
  {
   "cell_type": "code",
   "execution_count": 119,
   "id": "209e0a88",
   "metadata": {},
   "outputs": [
    {
     "name": "stdout",
     "output_type": "stream",
     "text": [
      "Enter a chessboard position: e3\n",
      "square is black\n"
     ]
    }
   ],
   "source": [
    "starts_black = ['a', 'c', 'e', 'g']\n",
    "starts_white = ['b', 'd', 'f', 'h']\n",
    "# 8 positions\n",
    "\n",
    "position_input = input('Enter a chessboard position: ')\n",
    "\n",
    "col = position_input[0]\n",
    "row = int(position_input[1])\n",
    "\n",
    "if col in starts_black: \n",
    "# odd squares are black\n",
    "    if row % 2 != 0:\n",
    "        print('square is black')\n",
    "    else:\n",
    "        print('square is white')\n",
    "elif col in starts_white:\n",
    "# even squares are black \n",
    "    if row % 2 == 0:\n",
    "        print('square is black')\n",
    "    else:\n",
    "        print('square is white')"
   ]
  },
  {
   "cell_type": "markdown",
   "id": "4e3f7f3d",
   "metadata": {},
   "source": [
    "## #46 season from month and day\n",
    "\n",
    "The year is divided into four seasons: spring, summer, fall and winter. While the exact dates that the seasons change vary a little bit from year to year because of the way that the calendar is constructed.\n",
    "\n",
    "Create a program that reads a month and day from the user. The user will enter the name of the month as a string, followed by the day within the month as an integer. Then your program should display the season associated with the date that was entered.\n"
   ]
  },
  {
   "cell_type": "code",
   "execution_count": 151,
   "id": "75c73ec1",
   "metadata": {},
   "outputs": [],
   "source": [
    "# march 20 spring\n",
    "# june 21 summer\n",
    "# september 22 fall \n",
    "# decemeber 21 winter"
   ]
  },
  {
   "cell_type": "code",
   "execution_count": 157,
   "id": "6794aa99",
   "metadata": {},
   "outputs": [
    {
     "ename": "KeyboardInterrupt",
     "evalue": "Interrupted by user",
     "output_type": "error",
     "traceback": [
      "\u001b[0;31m---------------------------------------------------------------------------\u001b[0m",
      "\u001b[0;31mKeyboardInterrupt\u001b[0m                         Traceback (most recent call last)",
      "Input \u001b[0;32mIn [157]\u001b[0m, in \u001b[0;36m<cell line: 1>\u001b[0;34m()\u001b[0m\n\u001b[0;32m----> 1\u001b[0m month_input \u001b[38;5;241m=\u001b[39m \u001b[38;5;28mstr\u001b[39m(\u001b[38;5;28;43minput\u001b[39;49m\u001b[43m(\u001b[49m\u001b[38;5;124;43m'\u001b[39;49m\u001b[38;5;124;43mEnter a month: \u001b[39;49m\u001b[38;5;124;43m'\u001b[39;49m\u001b[43m)\u001b[49m)\u001b[38;5;241m.\u001b[39mlower()\n\u001b[1;32m      2\u001b[0m day_input \u001b[38;5;241m=\u001b[39m \u001b[38;5;28mint\u001b[39m(\u001b[38;5;28minput\u001b[39m(\u001b[38;5;124m'\u001b[39m\u001b[38;5;124mEnter a day: \u001b[39m\u001b[38;5;124m'\u001b[39m))\n\u001b[1;32m      4\u001b[0m \u001b[38;5;28;01mif\u001b[39;00m month_input \u001b[38;5;241m==\u001b[39m \u001b[38;5;124m'\u001b[39m\u001b[38;5;124mapril\u001b[39m\u001b[38;5;124m'\u001b[39m \u001b[38;5;129;01mor\u001b[39;00m \u001b[38;5;124m'\u001b[39m\u001b[38;5;124mmay\u001b[39m\u001b[38;5;124m'\u001b[39m:\n",
      "File \u001b[0;32m~/opt/anaconda3/lib/python3.8/site-packages/ipykernel/kernelbase.py:1177\u001b[0m, in \u001b[0;36mKernel.raw_input\u001b[0;34m(self, prompt)\u001b[0m\n\u001b[1;32m   1173\u001b[0m \u001b[38;5;28;01mif\u001b[39;00m \u001b[38;5;129;01mnot\u001b[39;00m \u001b[38;5;28mself\u001b[39m\u001b[38;5;241m.\u001b[39m_allow_stdin:\n\u001b[1;32m   1174\u001b[0m     \u001b[38;5;28;01mraise\u001b[39;00m StdinNotImplementedError(\n\u001b[1;32m   1175\u001b[0m         \u001b[38;5;124m\"\u001b[39m\u001b[38;5;124mraw_input was called, but this frontend does not support input requests.\u001b[39m\u001b[38;5;124m\"\u001b[39m\n\u001b[1;32m   1176\u001b[0m     )\n\u001b[0;32m-> 1177\u001b[0m \u001b[38;5;28;01mreturn\u001b[39;00m \u001b[38;5;28;43mself\u001b[39;49m\u001b[38;5;241;43m.\u001b[39;49m\u001b[43m_input_request\u001b[49m\u001b[43m(\u001b[49m\n\u001b[1;32m   1178\u001b[0m \u001b[43m    \u001b[49m\u001b[38;5;28;43mstr\u001b[39;49m\u001b[43m(\u001b[49m\u001b[43mprompt\u001b[49m\u001b[43m)\u001b[49m\u001b[43m,\u001b[49m\n\u001b[1;32m   1179\u001b[0m \u001b[43m    \u001b[49m\u001b[38;5;28;43mself\u001b[39;49m\u001b[38;5;241;43m.\u001b[39;49m\u001b[43m_parent_ident\u001b[49m\u001b[43m[\u001b[49m\u001b[38;5;124;43m\"\u001b[39;49m\u001b[38;5;124;43mshell\u001b[39;49m\u001b[38;5;124;43m\"\u001b[39;49m\u001b[43m]\u001b[49m\u001b[43m,\u001b[49m\n\u001b[1;32m   1180\u001b[0m \u001b[43m    \u001b[49m\u001b[38;5;28;43mself\u001b[39;49m\u001b[38;5;241;43m.\u001b[39;49m\u001b[43mget_parent\u001b[49m\u001b[43m(\u001b[49m\u001b[38;5;124;43m\"\u001b[39;49m\u001b[38;5;124;43mshell\u001b[39;49m\u001b[38;5;124;43m\"\u001b[39;49m\u001b[43m)\u001b[49m\u001b[43m,\u001b[49m\n\u001b[1;32m   1181\u001b[0m \u001b[43m    \u001b[49m\u001b[43mpassword\u001b[49m\u001b[38;5;241;43m=\u001b[39;49m\u001b[38;5;28;43;01mFalse\u001b[39;49;00m\u001b[43m,\u001b[49m\n\u001b[1;32m   1182\u001b[0m \u001b[43m\u001b[49m\u001b[43m)\u001b[49m\n",
      "File \u001b[0;32m~/opt/anaconda3/lib/python3.8/site-packages/ipykernel/kernelbase.py:1219\u001b[0m, in \u001b[0;36mKernel._input_request\u001b[0;34m(self, prompt, ident, parent, password)\u001b[0m\n\u001b[1;32m   1216\u001b[0m             \u001b[38;5;28;01mbreak\u001b[39;00m\n\u001b[1;32m   1217\u001b[0m \u001b[38;5;28;01mexcept\u001b[39;00m \u001b[38;5;167;01mKeyboardInterrupt\u001b[39;00m:\n\u001b[1;32m   1218\u001b[0m     \u001b[38;5;66;03m# re-raise KeyboardInterrupt, to truncate traceback\u001b[39;00m\n\u001b[0;32m-> 1219\u001b[0m     \u001b[38;5;28;01mraise\u001b[39;00m \u001b[38;5;167;01mKeyboardInterrupt\u001b[39;00m(\u001b[38;5;124m\"\u001b[39m\u001b[38;5;124mInterrupted by user\u001b[39m\u001b[38;5;124m\"\u001b[39m) \u001b[38;5;28;01mfrom\u001b[39;00m \u001b[38;5;28mNone\u001b[39m\n\u001b[1;32m   1220\u001b[0m \u001b[38;5;28;01mexcept\u001b[39;00m \u001b[38;5;167;01mException\u001b[39;00m:\n\u001b[1;32m   1221\u001b[0m     \u001b[38;5;28mself\u001b[39m\u001b[38;5;241m.\u001b[39mlog\u001b[38;5;241m.\u001b[39mwarning(\u001b[38;5;124m\"\u001b[39m\u001b[38;5;124mInvalid Message:\u001b[39m\u001b[38;5;124m\"\u001b[39m, exc_info\u001b[38;5;241m=\u001b[39m\u001b[38;5;28;01mTrue\u001b[39;00m)\n",
      "\u001b[0;31mKeyboardInterrupt\u001b[0m: Interrupted by user"
     ]
    }
   ],
   "source": [
    "month_input = str(input('Enter a month: ')).lower()\n",
    "day_input = int(input('Enter a day: '))\n",
    "\n",
    "if month_input == 'april' or 'may':\n",
    "    season = 'spring'\n",
    "elif month_input == 'july' or 'august':\n",
    "    season = 'summer'\n",
    "elif month_input == 'october' or 'november':\n",
    "    season = 'fall'\n",
    "elif month_input ==  'january' or 'february':\n",
    "    season = 'winter'\n",
    "else:\n",
    "    print('not listed')\n",
    "    \n",
    "print(season)\n",
    "\n",
    "\n",
    "# if month_input == 'march':\n",
    "#     if day_input < 20:\n",
    "#         season = 'winter'\n",
    "#     else:\n",
    "#         season = 'spring'\n",
    "# if month_input == 'june':\n",
    "#     if day_input < 21:\n",
    "#         season = 'spring'\n",
    "#     else:\n",
    "#         season = 'summer'\n",
    "# if month_input == 'september':\n",
    "#     if day_input < 22:\n",
    "#         season = 'summer'\n",
    "#     else:\n",
    "#         season = 'fall'\n",
    "# if month_input == 'december':\n",
    "#     if day_input < 21:\n",
    "#         season = 'fall'\n",
    "#     else:\n",
    "#         season = 'winter'\n"
   ]
  },
  {
   "cell_type": "code",
   "execution_count": null,
   "id": "da63876a",
   "metadata": {},
   "outputs": [],
   "source": []
  },
  {
   "cell_type": "code",
   "execution_count": null,
   "id": "dead83fe",
   "metadata": {},
   "outputs": [],
   "source": []
  },
  {
   "cell_type": "code",
   "execution_count": null,
   "id": "0c019b21",
   "metadata": {},
   "outputs": [],
   "source": []
  },
  {
   "cell_type": "code",
   "execution_count": null,
   "id": "91f67460",
   "metadata": {},
   "outputs": [],
   "source": []
  },
  {
   "cell_type": "code",
   "execution_count": null,
   "id": "4d807063",
   "metadata": {},
   "outputs": [],
   "source": []
  },
  {
   "cell_type": "code",
   "execution_count": null,
   "id": "e86748f8",
   "metadata": {},
   "outputs": [],
   "source": []
  },
  {
   "cell_type": "code",
   "execution_count": null,
   "id": "d3dba609",
   "metadata": {},
   "outputs": [],
   "source": []
  },
  {
   "cell_type": "code",
   "execution_count": null,
   "id": "7fd1a663",
   "metadata": {},
   "outputs": [],
   "source": []
  },
  {
   "cell_type": "code",
   "execution_count": null,
   "id": "6978d6c6",
   "metadata": {},
   "outputs": [],
   "source": []
  },
  {
   "cell_type": "code",
   "execution_count": null,
   "id": "09039994",
   "metadata": {},
   "outputs": [],
   "source": []
  }
 ],
 "metadata": {
  "kernelspec": {
   "display_name": "Python 3 (unsupervised)",
   "language": "python",
   "name": "unsupervised"
  },
  "language_info": {
   "codemirror_mode": {
    "name": "ipython",
    "version": 3
   },
   "file_extension": ".py",
   "mimetype": "text/x-python",
   "name": "python",
   "nbconvert_exporter": "python",
   "pygments_lexer": "ipython3",
   "version": "3.8.12"
  }
 },
 "nbformat": 4,
 "nbformat_minor": 5
}

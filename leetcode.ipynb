{
 "cells": [
  {
   "cell_type": "markdown",
   "id": "7f60cc49",
   "metadata": {},
   "source": [
    "# Leetcode [Data Structure](https://leetcode.com/study-plan/data-structure/?progress=xyuegd3r)"
   ]
  },
  {
   "cell_type": "markdown",
   "id": "63d6e40f",
   "metadata": {},
   "source": [
    "# √ [217. Contains Duplicate](https://leetcode.com/problems/contains-duplicate/?envType=study-plan&id=data-structure-i)"
   ]
  },
  {
   "cell_type": "code",
   "execution_count": 117,
   "id": "d9169c1c",
   "metadata": {},
   "outputs": [],
   "source": [
    "# Given an integer array nums, return true if any value appears at least twice in the array, and \n",
    "# return false if every element is distinct."
   ]
  },
  {
   "cell_type": "code",
   "execution_count": 123,
   "id": "a31c0d6c",
   "metadata": {},
   "outputs": [],
   "source": [
    "# using dict()\n",
    "# Solution: # https://leetcode.com/problems/contains-duplicate/solutions/3160045/easiest-python3-solution/?envType=study-plan&id=data-structure-i&languageTags=python3\n",
    "\n",
    "def containsDuplicate(nums):\n",
    "    freq = {}\n",
    "    for n in nums:\n",
    "        if n in freq:\n",
    "            return True\n",
    "        else:\n",
    "            freq[n] = 1\n",
    "    return False\n",
    "\n"
   ]
  },
  {
   "cell_type": "code",
   "execution_count": 121,
   "id": "4723a943",
   "metadata": {},
   "outputs": [],
   "source": [
    "# using set()\n",
    "# def containsDuplicate(nums):\n",
    "#     return len(set(nums))!=len(nums)"
   ]
  },
  {
   "cell_type": "code",
   "execution_count": 125,
   "id": "f1f0854b",
   "metadata": {
    "scrolled": true
   },
   "outputs": [
    {
     "name": "stdout",
     "output_type": "stream",
     "text": [
      "True\n",
      "True\n",
      "False\n",
      "True\n",
      "True\n",
      "True\n"
     ]
    }
   ],
   "source": [
    "print(containsDuplicate(['a','b','c','a']))     #T\n",
    "print(containsDuplicate([1,2,3,1]))             #T\n",
    "print(containsDuplicate([1,2,3,4]))             #F\n",
    "print(containsDuplicate([1,1,1,3,3,4,3,2,4,2])) #T\n",
    "print(containsDuplicate([2,14,18,22,22]))       #T\n",
    "print(containsDuplicate([0,4,5,0,3,6]))         #T\n"
   ]
  },
  {
   "cell_type": "markdown",
   "id": "6151bc84",
   "metadata": {},
   "source": [
    "# [53. Maximum Subarray](https://leetcode.com/problems/maximum-subarray/?envType=study-plan&id=data-structure-i)"
   ]
  },
  {
   "cell_type": "code",
   "execution_count": 126,
   "id": "361f9863",
   "metadata": {},
   "outputs": [],
   "source": [
    "# Given an integer array nums, find the subarray with the largest sum, and return its sum.\n",
    "\n",
    "def maxSubArray(nums):\n",
    "    "
   ]
  },
  {
   "cell_type": "code",
   "execution_count": null,
   "id": "89c7fc96",
   "metadata": {},
   "outputs": [],
   "source": [
    "print([-2,1,-3,4,-1,2,1,-5,4])\n",
    "print([1])\n",
    "print([5,4,-1,7,8])\n",
    "print()\n",
    "print()\n",
    "print()"
   ]
  },
  {
   "cell_type": "markdown",
   "id": "8e2bff91",
   "metadata": {},
   "source": [
    "# √ [1. Two Sum](https://leetcode.com/problems/two-sum/?envType=study-plan&id=data-structure-i)"
   ]
  },
  {
   "cell_type": "code",
   "execution_count": 7,
   "id": "b849ef50",
   "metadata": {},
   "outputs": [],
   "source": [
    "# Given an array of integers nums and an integer target, return indices of the two numbers such that they add up to target.\n",
    "# You may assume that each input would have exactly one solution, and you may not use the same element twice.\n",
    "# You can return the answer in any order.\n",
    "\n",
    "# @techwired8 video explanantion: https://youtu.be/oadssnyJA90 \n",
    "def twoSum(nums, target):    \n",
    "    d ={}\n",
    "    for index, value in enumerate(nums):\n",
    "        remainder = target - value\n",
    "        if remainder in d:\n",
    "            return [d[remainder], index]\n",
    "        else:\n",
    "            d[value] = index\n",
    "            "
   ]
  },
  {
   "cell_type": "code",
   "execution_count": 11,
   "id": "2c2b9391",
   "metadata": {
    "scrolled": true
   },
   "outputs": [
    {
     "name": "stdout",
     "output_type": "stream",
     "text": [
      "[0, 1]\n",
      "[1, 2]\n",
      "[0, 1]\n",
      "[0, 2]\n"
     ]
    }
   ],
   "source": [
    "print(twoSum([2,7,11,15], 9))\n",
    "print(twoSum([3,2,4], 6))\n",
    "print(twoSum([3,3],6))\n",
    "print(twoSum([3,2,3],6))"
   ]
  },
  {
   "cell_type": "markdown",
   "id": "946e5312",
   "metadata": {},
   "source": [
    "# [88. Merge Sorted Array](https://leetcode.com/problems/merge-sorted-array/?envType=study-plan&id=data-structure-i)\n"
   ]
  },
  {
   "cell_type": "code",
   "execution_count": 181,
   "id": "6116bbad",
   "metadata": {},
   "outputs": [],
   "source": [
    "# You are given two integer arrays nums1 and nums2, sorted in non-decreasing order, and two integers m and n, \n",
    "# representing the number of elements in nums1 and nums2 respectively.\n",
    "# Merge nums1 and nums2 into a single array sorted in non-decreasing order\n",
    "# The final sorted array should not be returned by the function, but instead be stored inside the array nums1. \n",
    "# To accommodate this, nums1 has a length of m + n, where the first m elements denote the elements that \n",
    "# should be merged, and the last n elements are set to 0 and should be ignored. nums2 has a length of n.\n",
    "\n",
    "# solution https://leetcode.com/problems/merge-sorted-array/solutions/2120130/python-easy-o-1-space/?envType=study-plan&id=data-structure-i&languageTags=python3\n",
    "\n",
    "def merge(nums1, m, nums2, n):\n",
    "    t_nums1 = nums1[:m:]\n",
    "    p1 = 0\n",
    "    p2 = 0\n",
    "    for p in range(n+m):\n",
    "        if p2 >= n or (p1 < m and t_nums1[p1] <= nums2[p2]):\n",
    "            nums1[p] = t_nums1[p1]\n",
    "            p1+=1\n",
    "        else:\n",
    "            nums1[p] = nums2[p2]\n",
    "            print(nums1[p])\n",
    "            p2 += 1\n",
    "            "
   ]
  },
  {
   "cell_type": "code",
   "execution_count": 183,
   "id": "68a4cfb0",
   "metadata": {},
   "outputs": [
    {
     "name": "stdout",
     "output_type": "stream",
     "text": [
      "2\n",
      "5\n",
      "6\n",
      "None\n"
     ]
    }
   ],
   "source": [
    "print(merge([1,2,3,0,0,0],3,[2,5,6],3)) #[1,2,2,3,5,6]\n",
    "# Explanation: The arrays we are merging are [1,2,3] and [2,5,6].\n",
    "# The result of the merge is [1,2,2,3,5,6] with the underlined elements coming from nums1.\n",
    "\n",
    "# print(merge([1],1,[],0)) #[1]\n",
    "# # Explanation: The arrays we are merging are [1] and [].\n",
    "# # The result of the merge is [1].\n",
    "\n",
    "# print(merge([0],0,[1],1)) #[1]\n",
    "# # Explanation: The arrays we are merging are [] and [1].\n",
    "# # The result of the merge is [1].\n",
    "# # Note that because m = 0, there are no elements in nums1. \n",
    "# # The 0 is only there to ensure the merge result can fit in nums1.\n"
   ]
  },
  {
   "cell_type": "markdown",
   "id": "d0a2bab3",
   "metadata": {},
   "source": [
    "# [350. Intersection of Two Arrays II](https://leetcode.com/problems/intersection-of-two-arrays-ii/?envType=study-plan&id=data-structure-i)\n"
   ]
  },
  {
   "cell_type": "code",
   "execution_count": 378,
   "id": "c195f9a6",
   "metadata": {},
   "outputs": [],
   "source": [
    "# Given two integer arrays nums1 and nums2, return an array of their intersection. \n",
    "# Each element in the result must appear as many times as it shows in both arrays and \n",
    "# you may return the result in any order.\n",
    "\n",
    "def intersect(nums1, nums2):\n",
    "    f1 = {}\n",
    "    f2 = {}\n",
    "    for n in nums1:\n",
    "        f1[n] =+ 1\n",
    "    for m in nums2:\n",
    "        f2[m] =+ 1\n",
    "    return f1, f2\n"
   ]
  },
  {
   "cell_type": "code",
   "execution_count": 379,
   "id": "ad2cde72",
   "metadata": {},
   "outputs": [
    {
     "name": "stdout",
     "output_type": "stream",
     "text": [
      "({4: 1, 9: 1, 5: 1}, {9: 1, 4: 1, 8: 1})\n"
     ]
    }
   ],
   "source": [
    "# print(intersect([1,2,2,1],[2,2]))      # Output: [2,2]\n",
    "    \n",
    "print(intersect([4,9,5], [9,4,9,8,4])) #Output: [4,9]\n",
    "# Explanation: [9,4] is also accepted.\n",
    "\n",
    "# print(intersect([1,2,2,1],[2]))        #[2]"
   ]
  },
  {
   "cell_type": "code",
   "execution_count": 380,
   "id": "5573afc9",
   "metadata": {},
   "outputs": [
    {
     "data": {
      "text/plain": [
       "[1]"
      ]
     },
     "execution_count": 380,
     "metadata": {},
     "output_type": "execute_result"
    }
   ],
   "source": [
    "output = []\n",
    "output.append(1)\n",
    "output"
   ]
  },
  {
   "cell_type": "code",
   "execution_count": null,
   "id": "91c8d3f1",
   "metadata": {},
   "outputs": [],
   "source": []
  },
  {
   "cell_type": "code",
   "execution_count": null,
   "id": "875acc8e",
   "metadata": {},
   "outputs": [],
   "source": []
  }
 ],
 "metadata": {
  "kernelspec": {
   "display_name": "Python 3 (deep_learning)",
   "language": "python",
   "name": "deep_learning"
  },
  "language_info": {
   "codemirror_mode": {
    "name": "ipython",
    "version": 3
   },
   "file_extension": ".py",
   "mimetype": "text/x-python",
   "name": "python",
   "nbconvert_exporter": "python",
   "pygments_lexer": "ipython3",
   "version": "3.8.12"
  }
 },
 "nbformat": 4,
 "nbformat_minor": 5
}

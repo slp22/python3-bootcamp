{
 "cells": [
  {
   "cell_type": "markdown",
   "id": "7f60cc49",
   "metadata": {},
   "source": [
    "# Leetcode [Data Structure](https://leetcode.com/study-plan/data-structure/?progress=xyuegd3r)"
   ]
  },
  {
   "cell_type": "markdown",
   "id": "63d6e40f",
   "metadata": {},
   "source": [
    "# √ [217. Contains Duplicate](https://leetcode.com/problems/contains-duplicate/?envType=study-plan&id=data-structure-i)"
   ]
  },
  {
   "cell_type": "code",
   "execution_count": 117,
   "id": "d9169c1c",
   "metadata": {},
   "outputs": [],
   "source": [
    "# Given an integer array nums, return true if any value appears at least twice in the array, and \n",
    "# return false if every element is distinct."
   ]
  },
  {
   "cell_type": "code",
   "execution_count": 123,
   "id": "a31c0d6c",
   "metadata": {},
   "outputs": [],
   "source": [
    "# using dict()\n",
    "# Solution: # https://leetcode.com/problems/contains-duplicate/solutions/3160045/easiest-python3-solution/?envType=study-plan&id=data-structure-i&languageTags=python3\n",
    "\n",
    "def containsDuplicate(nums):\n",
    "    freq = {}\n",
    "    for n in nums:\n",
    "        if n in freq:\n",
    "            return True\n",
    "        else:\n",
    "            freq[n] = 1\n",
    "    return False\n",
    "\n"
   ]
  },
  {
   "cell_type": "code",
   "execution_count": 121,
   "id": "4723a943",
   "metadata": {},
   "outputs": [],
   "source": [
    "# using set()\n",
    "# def containsDuplicate(nums):\n",
    "#     return len(set(nums))!=len(nums)"
   ]
  },
  {
   "cell_type": "code",
   "execution_count": 125,
   "id": "f1f0854b",
   "metadata": {
    "scrolled": true
   },
   "outputs": [
    {
     "name": "stdout",
     "output_type": "stream",
     "text": [
      "True\n",
      "True\n",
      "False\n",
      "True\n",
      "True\n",
      "True\n"
     ]
    }
   ],
   "source": [
    "print(containsDuplicate(['a','b','c','a']))     #T\n",
    "print(containsDuplicate([1,2,3,1]))             #T\n",
    "print(containsDuplicate([1,2,3,4]))             #F\n",
    "print(containsDuplicate([1,1,1,3,3,4,3,2,4,2])) #T\n",
    "print(containsDuplicate([2,14,18,22,22]))       #T\n",
    "print(containsDuplicate([0,4,5,0,3,6]))         #T\n"
   ]
  },
  {
   "cell_type": "markdown",
   "id": "6151bc84",
   "metadata": {},
   "source": [
    "# [53. Maximum Subarray](https://leetcode.com/problems/maximum-subarray/?envType=study-plan&id=data-structure-i)"
   ]
  },
  {
   "cell_type": "code",
   "execution_count": 126,
   "id": "361f9863",
   "metadata": {},
   "outputs": [],
   "source": [
    "# Given an integer array nums, find the subarray with the largest sum, and return its sum.\n",
    "\n",
    "def maxSubArray(nums):\n",
    "    "
   ]
  },
  {
   "cell_type": "code",
   "execution_count": null,
   "id": "89c7fc96",
   "metadata": {},
   "outputs": [],
   "source": [
    "print([-2,1,-3,4,-1,2,1,-5,4])\n",
    "print([1])\n",
    "print([5,4,-1,7,8])\n",
    "print()\n",
    "print()\n",
    "print()"
   ]
  },
  {
   "cell_type": "markdown",
   "id": "8e2bff91",
   "metadata": {},
   "source": [
    "# √ [1. Two Sum](https://leetcode.com/problems/two-sum/?envType=study-plan&id=data-structure-i)"
   ]
  },
  {
   "cell_type": "code",
   "execution_count": 7,
   "id": "b849ef50",
   "metadata": {},
   "outputs": [],
   "source": [
    "# Given an array of integers nums and an integer target, return indices of the two numbers such that they add up to target.\n",
    "# You may assume that each input would have exactly one solution, and you may not use the same element twice.\n",
    "# You can return the answer in any order.\n",
    "\n",
    "# @techwired8 video explanantion: https://youtu.be/oadssnyJA90 \n",
    "def twoSum(nums, target):    \n",
    "    d ={}\n",
    "    for index, value in enumerate(nums):\n",
    "        remainder = target - value\n",
    "        if remainder in d:\n",
    "            return [d[remainder], index]\n",
    "        else:\n",
    "            d[value] = index\n",
    "            "
   ]
  },
  {
   "cell_type": "code",
   "execution_count": 11,
   "id": "2c2b9391",
   "metadata": {
    "scrolled": true
   },
   "outputs": [
    {
     "name": "stdout",
     "output_type": "stream",
     "text": [
      "[0, 1]\n",
      "[1, 2]\n",
      "[0, 1]\n",
      "[0, 2]\n"
     ]
    }
   ],
   "source": [
    "print(twoSum([2,7,11,15], 9))\n",
    "print(twoSum([3,2,4], 6))\n",
    "print(twoSum([3,3],6))\n",
    "print(twoSum([3,2,3],6))"
   ]
  },
  {
   "cell_type": "markdown",
   "id": "946e5312",
   "metadata": {},
   "source": [
    "# [88. Merge Sorted Array](https://leetcode.com/problems/merge-sorted-array/?envType=study-plan&id=data-structure-i)\n"
   ]
  },
  {
   "cell_type": "code",
   "execution_count": 181,
   "id": "6116bbad",
   "metadata": {},
   "outputs": [],
   "source": [
    "# You are given two integer arrays nums1 and nums2, sorted in non-decreasing order, and two integers m and n, \n",
    "# representing the number of elements in nums1 and nums2 respectively.\n",
    "# Merge nums1 and nums2 into a single array sorted in non-decreasing order\n",
    "# The final sorted array should not be returned by the function, but instead be stored inside the array nums1. \n",
    "# To accommodate this, nums1 has a length of m + n, where the first m elements denote the elements that \n",
    "# should be merged, and the last n elements are set to 0 and should be ignored. nums2 has a length of n.\n",
    "\n",
    "# solution https://leetcode.com/problems/merge-sorted-array/solutions/2120130/python-easy-o-1-space/?envType=study-plan&id=data-structure-i&languageTags=python3\n",
    "\n",
    "def merge(nums1, m, nums2, n):\n",
    "    t_nums1 = nums1[:m:]\n",
    "    p1 = 0\n",
    "    p2 = 0\n",
    "    for p in range(n+m):\n",
    "        if p2 >= n or (p1 < m and t_nums1[p1] <= nums2[p2]):\n",
    "            nums1[p] = t_nums1[p1]\n",
    "            p1+=1\n",
    "        else:\n",
    "            nums1[p] = nums2[p2]\n",
    "            print(nums1[p])\n",
    "            p2 += 1\n",
    "            "
   ]
  },
  {
   "cell_type": "code",
   "execution_count": 183,
   "id": "68a4cfb0",
   "metadata": {},
   "outputs": [
    {
     "name": "stdout",
     "output_type": "stream",
     "text": [
      "2\n",
      "5\n",
      "6\n",
      "None\n"
     ]
    }
   ],
   "source": [
    "print(merge([1,2,3,0,0,0],3,[2,5,6],3)) #[1,2,2,3,5,6]\n",
    "# Explanation: The arrays we are merging are [1,2,3] and [2,5,6].\n",
    "# The result of the merge is [1,2,2,3,5,6] with the underlined elements coming from nums1.\n",
    "\n",
    "# print(merge([1],1,[],0)) #[1]\n",
    "# # Explanation: The arrays we are merging are [1] and [].\n",
    "# # The result of the merge is [1].\n",
    "\n",
    "# print(merge([0],0,[1],1)) #[1]\n",
    "# # Explanation: The arrays we are merging are [] and [1].\n",
    "# # The result of the merge is [1].\n",
    "# # Note that because m = 0, there are no elements in nums1. \n",
    "# # The 0 is only there to ensure the merge result can fit in nums1.\n"
   ]
  },
  {
   "cell_type": "markdown",
   "id": "d0a2bab3",
   "metadata": {},
   "source": [
    "# [350. Intersection of Two Arrays II](https://leetcode.com/problems/intersection-of-two-arrays-ii/?envType=study-plan&id=data-structure-i)\n"
   ]
  },
  {
   "cell_type": "code",
   "execution_count": 378,
   "id": "c195f9a6",
   "metadata": {},
   "outputs": [],
   "source": [
    "# Given two integer arrays nums1 and nums2, return an array of their intersection. \n",
    "# Each element in the result must appear as many times as it shows in both arrays and \n",
    "# you may return the result in any order.\n",
    "\n",
    "def intersect(nums1, nums2):\n",
    "    f1 = {}\n",
    "    f2 = {}\n",
    "    for n in nums1:\n",
    "        f1[n] =+ 1\n",
    "    for m in nums2:\n",
    "        f2[m] =+ 1\n",
    "    return f1, f2\n"
   ]
  },
  {
   "cell_type": "code",
   "execution_count": 379,
   "id": "ad2cde72",
   "metadata": {},
   "outputs": [
    {
     "name": "stdout",
     "output_type": "stream",
     "text": [
      "({4: 1, 9: 1, 5: 1}, {9: 1, 4: 1, 8: 1})\n"
     ]
    }
   ],
   "source": [
    "# print(intersect([1,2,2,1],[2,2]))      # Output: [2,2]\n",
    "    \n",
    "print(intersect([4,9,5], [9,4,9,8,4])) #Output: [4,9]\n",
    "# Explanation: [9,4] is also accepted.\n",
    "\n",
    "# print(intersect([1,2,2,1],[2]))        #[2]"
   ]
  },
  {
   "cell_type": "code",
   "execution_count": 380,
   "id": "5573afc9",
   "metadata": {},
   "outputs": [
    {
     "data": {
      "text/plain": [
       "[1]"
      ]
     },
     "execution_count": 380,
     "metadata": {},
     "output_type": "execute_result"
    }
   ],
   "source": [
    "output = []\n",
    "output.append(1)\n",
    "output"
   ]
  },
  {
   "cell_type": "markdown",
   "id": "3eaf606e",
   "metadata": {},
   "source": [
    "## https://leetcode.com/problems/palindrome-number/"
   ]
  },
  {
   "cell_type": "code",
   "execution_count": 20,
   "id": "6b13e114",
   "metadata": {},
   "outputs": [],
   "source": [
    "def isPalindrome(x):\n",
    "    x = str(x)\n",
    "    return x == x[::-1]"
   ]
  },
  {
   "cell_type": "code",
   "execution_count": 22,
   "id": "377084f3",
   "metadata": {},
   "outputs": [
    {
     "data": {
      "text/plain": [
       "True"
      ]
     },
     "execution_count": 22,
     "metadata": {},
     "output_type": "execute_result"
    }
   ],
   "source": [
    "# x = 121\n",
    "isPalindrome(121)"
   ]
  },
  {
   "cell_type": "markdown",
   "id": "f07f09be",
   "metadata": {},
   "source": [
    "## https://leetcode.com/problems/roman-to-integer/"
   ]
  },
  {
   "cell_type": "code",
   "execution_count": 83,
   "id": "8eaa7c26",
   "metadata": {},
   "outputs": [],
   "source": [
    "def romanToInt(self, s: str) -> int:\n",
    "    roman_dict = {'I':1, 'V':5, 'X':10}\n",
    "    \n",
    "    if s[0] in roman_dict:\n",
    "        print(roman_dict[0])\n",
    "    return  "
   ]
  },
  {
   "cell_type": "code",
   "execution_count": 84,
   "id": "6018396e",
   "metadata": {},
   "outputs": [],
   "source": [
    "s = \"III\"\n",
    "romanToInt(s, s)"
   ]
  },
  {
   "cell_type": "code",
   "execution_count": null,
   "id": "875acc8e",
   "metadata": {},
   "outputs": [],
   "source": [
    "# Symbol       Value\n",
    "# I             1\n",
    "# V             5\n",
    "# X             10\n",
    "# L             50\n",
    "# C             100\n",
    "# D             500\n",
    "# M             1000"
   ]
  },
  {
   "cell_type": "code",
   "execution_count": 71,
   "id": "e7e9831b",
   "metadata": {},
   "outputs": [
    {
     "data": {
      "text/plain": [
       "{'I': 1, 'V': 5, 'X': 10}"
      ]
     },
     "execution_count": 71,
     "metadata": {},
     "output_type": "execute_result"
    }
   ],
   "source": [
    "roman_dict = {'I':1, 'V':5, 'X':10}\n",
    "roman_dict"
   ]
  },
  {
   "cell_type": "code",
   "execution_count": 79,
   "id": "a92464d5",
   "metadata": {},
   "outputs": [
    {
     "data": {
      "text/plain": [
       "5"
      ]
     },
     "execution_count": 79,
     "metadata": {},
     "output_type": "execute_result"
    }
   ],
   "source": [
    "# print(roman_dict[5])\n",
    "roman_dict.get('V')"
   ]
  },
  {
   "cell_type": "markdown",
   "id": "cf644275",
   "metadata": {},
   "source": [
    "## https://leetcode.com/problems/longest-common-prefix/"
   ]
  },
  {
   "cell_type": "code",
   "execution_count": 320,
   "id": "d77d2c7c",
   "metadata": {},
   "outputs": [],
   "source": [
    "def longestCommonPrefix(strs):\n",
    "#     if len(strs) <2:\n",
    "#         return strs[0]\n",
    "#     elif len(strs[0]) < 1 or len(strs[1]) < 1 or len(strs[2]) < 1:\n",
    "#         return \"\"\n",
    "    i = range(len(strs))\n",
    "    j = (len(strs[0]), len(strs[1]), len(strs(2)))\n",
    "#     for j in j:\n",
    "    print(j)\n",
    "        \n",
    "#     if strs[0][0] == strs[1][0] == strs[2][0]:\n",
    "#         if strs[0][1] == strs[1][1] == strs[2][1]:\n",
    "#             if strs[0][2] == strs[1][2] == strs[2][2]:\n",
    "#                 return strs[0][:3]\n",
    "#             else:\n",
    "#                 return strs[0][:2]\n",
    "#         else:\n",
    "#             return strs[0][0]\n",
    "#     else:\n",
    "#         return \"\""
   ]
  },
  {
   "cell_type": "code",
   "execution_count": 321,
   "id": "9896a717",
   "metadata": {},
   "outputs": [],
   "source": [
    "# strs = [\"flower\",\"flow\",\"flight\"]\n",
    "# # strs = [\"dog\",\"racecar\",\"car\"]\n",
    "# # strs = ['a', '', 'c']\n",
    "# # strs = ['a']\n",
    "# # strs =[\"ab\", \"a\"]\n",
    "# longestCommonPrefix(strs)"
   ]
  },
  {
   "cell_type": "markdown",
   "id": "68d9ab0b",
   "metadata": {},
   "source": [
    "# https://leetcode.com/problems/reverse-integer/"
   ]
  },
  {
   "cell_type": "code",
   "execution_count": 137,
   "id": "e7d747af",
   "metadata": {},
   "outputs": [],
   "source": [
    "def reverse(x):\n",
    "    x = str(x)\n",
    "    # if the string starts with a negative sign\n",
    "    if x[0] == '-':\n",
    "        neg = x[0]\n",
    "        x = x[1::]\n",
    "        return int(neg + x[::-1])\n",
    "    # if the last number in the string is a zero\n",
    "    elif x[:-1] == '0':\n",
    "        x = x[:-1]\n",
    "        return int(x[::-1])\n",
    "    # if the reversed string is greater than the signed 32-bit integer range [-231, 231 - 1], then return 0.\n",
    "#     elif int(x[::-1]) >= (2^31 -1):\n",
    "#         return 0\n",
    "    # if the string does not have a negative sign or a last zero\n",
    "    else:\n",
    "        return int(x[::-1])"
   ]
  },
  {
   "cell_type": "code",
   "execution_count": 138,
   "id": "91947270",
   "metadata": {},
   "outputs": [
    {
     "name": "stdout",
     "output_type": "stream",
     "text": [
      "-321\n",
      "321\n",
      "21\n",
      "9646324351\n"
     ]
    }
   ],
   "source": [
    "print(reverse(-123)) #-321\n",
    "print(reverse(123))  #321\n",
    "print(reverse(120))  #21\n",
    "print(reverse(1534236469)) #0"
   ]
  },
  {
   "cell_type": "markdown",
   "id": "99a64902",
   "metadata": {},
   "source": [
    "# https://leetcode.com/problems/minimum-size-subarray-sum/"
   ]
  },
  {
   "cell_type": "code",
   "execution_count": 167,
   "id": "cf079180",
   "metadata": {},
   "outputs": [],
   "source": [
    "# Given an array of positive integers nums and a positive integer target, return the minimal length of a \n",
    "# subarray whose sum is greater than or equal to target. If there is no such subarray, return 0 instead.\n",
    "\n",
    "# def minSubArrayLen(self, target: int, nums: List[int]) -> int:\n",
    "def minSubArrayLen(target, nums):\n",
    "    target_less = target\n",
    "    while num1 + num2 \n",
    "    for i in nums:\n",
    "        first_2 = nums[0] + nums[1]\n",
    "    return first_2\n",
    "    "
   ]
  },
  {
   "cell_type": "code",
   "execution_count": 168,
   "id": "e19b6304",
   "metadata": {},
   "outputs": [],
   "source": [
    "target = 7 \n",
    "nums = [2,3,1,2,4,3] # Output: 2\n",
    "# Explanation: The subarray [4,3] has the minimal length under the problem constraint."
   ]
  },
  {
   "cell_type": "code",
   "execution_count": 169,
   "id": "f157d90f",
   "metadata": {},
   "outputs": [
    {
     "data": {
      "text/plain": [
       "5"
      ]
     },
     "execution_count": 169,
     "metadata": {},
     "output_type": "execute_result"
    }
   ],
   "source": [
    "minSubArrayLen(target, nums)"
   ]
  },
  {
   "cell_type": "markdown",
   "id": "729f3561",
   "metadata": {},
   "source": [
    "# https://leetcode.com/problems/buddy-strings/"
   ]
  },
  {
   "cell_type": "code",
   "execution_count": 171,
   "id": "6041db5a",
   "metadata": {},
   "outputs": [],
   "source": [
    "# Given two strings s and goal, return true if you can swap two letters in s so the result is equal to goal, \n",
    "# otherwise, return false.\n",
    "# Swapping letters is defined as taking two indices i and j (0-indexed) such that i != j and \n",
    "# swapping the characters at s[i] and s[j].\n",
    "# For example, swapping at indices 0 and 2 in \"abcd\" results in \"cbad\".\n",
    "\n",
    "# def buddyStrings(self, s: str, goal: str) -> bool:\n",
    "def buddyStrings(s,goal):\n",
    "    return s, goal"
   ]
  },
  {
   "cell_type": "code",
   "execution_count": 172,
   "id": "9f248302",
   "metadata": {},
   "outputs": [],
   "source": [
    "# Input: \n",
    "s = \"ab\"\n",
    "goal = \"ba\" # Output: true\n",
    "# Explanation: You can swap s[0] = 'a' and s[1] = 'b' to get \"ba\", which is equal to goal."
   ]
  },
  {
   "cell_type": "code",
   "execution_count": 173,
   "id": "4b2d4720",
   "metadata": {},
   "outputs": [
    {
     "data": {
      "text/plain": [
       "('ab', 'ba')"
      ]
     },
     "execution_count": 173,
     "metadata": {},
     "output_type": "execute_result"
    }
   ],
   "source": [
    "buddyStrings(s, goal)"
   ]
  },
  {
   "cell_type": "code",
   "execution_count": 176,
   "id": "13edd563",
   "metadata": {},
   "outputs": [],
   "source": [
    "# Input: \n",
    "s = \"aa\"\n",
    "goal = \"aa\" #Output: true\n",
    "# Explanation: You can swap s[0] = 'a' and s[1] = 'a' to get \"aa\", which is equal to goal."
   ]
  },
  {
   "cell_type": "code",
   "execution_count": 177,
   "id": "556cef91",
   "metadata": {},
   "outputs": [
    {
     "data": {
      "text/plain": [
       "('aa', 'aa')"
      ]
     },
     "execution_count": 177,
     "metadata": {},
     "output_type": "execute_result"
    }
   ],
   "source": [
    "buddyStrings(s, goal)"
   ]
  },
  {
   "cell_type": "code",
   "execution_count": null,
   "id": "a2e3bef2",
   "metadata": {},
   "outputs": [],
   "source": []
  }
 ],
 "metadata": {
  "kernelspec": {
   "display_name": "Python 3 (deep_learning)",
   "language": "python",
   "name": "deep_learning"
  },
  "language_info": {
   "codemirror_mode": {
    "name": "ipython",
    "version": 3
   },
   "file_extension": ".py",
   "mimetype": "text/x-python",
   "name": "python",
   "nbconvert_exporter": "python",
   "pygments_lexer": "ipython3",
   "version": "3.8.12"
  }
 },
 "nbformat": 4,
 "nbformat_minor": 5
}

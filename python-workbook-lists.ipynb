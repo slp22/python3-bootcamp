{
 "cells": [
  {
   "cell_type": "markdown",
   "id": "7733cbf3",
   "metadata": {},
   "source": [
    "[The Python Workbook: A Brief Introduction with Exercises and Solutions](https://link.springer.com/book/10.1007/978-3-319-14240-1) by Ben Stephenson"
   ]
  },
  {
   "cell_type": "markdown",
   "id": "e746300e",
   "metadata": {},
   "source": [
    "# lists (p 49) "
   ]
  },
  {
   "cell_type": "markdown",
   "id": "a471c1ee",
   "metadata": {},
   "source": [
    "## #104 sorted order"
   ]
  },
  {
   "cell_type": "code",
   "execution_count": null,
   "id": "fe0aaf01",
   "metadata": {},
   "outputs": [],
   "source": [
    "user_input = input('Enter a num: ')\n",
    "values = []\n",
    "\n",
    "for _ in user_input:\n",
    "    values.append(int(user_input))\n",
    "    while user_input != 0:\n",
    "        user_input = int(input('Enter a num, or 0 to stop: '))\n",
    "        values.append(int(user_input))\n",
    "        if user_input == 0:\n",
    "            values = values[:-1]\n",
    "            print(sorted(values))"
   ]
  },
  {
   "cell_type": "markdown",
   "id": "5bc28fc1",
   "metadata": {},
   "source": [
    "## #105 reverse order"
   ]
  },
  {
   "cell_type": "code",
   "execution_count": null,
   "id": "b5d04b33",
   "metadata": {
    "scrolled": true
   },
   "outputs": [],
   "source": [
    "user_input = input('Enter a num: ')\n",
    "values = []\n",
    "blank = ''\n",
    "\n",
    "for _ in user_input:\n",
    "    values.append(int(user_input))\n",
    "    while user_input != 0:\n",
    "        user_input = int(input(\"Enter a num, or 0 to stop: \"))\n",
    "        values.append(int(user_input))\n",
    "        if user_input == 0:\n",
    "            values = values[:-1]\n",
    "            print(values[::-1])"
   ]
  },
  {
   "cell_type": "markdown",
   "id": "a922319f",
   "metadata": {},
   "source": [
    "## #106 remove outliers"
   ]
  },
  {
   "cell_type": "code",
   "execution_count": null,
   "id": "d11f99fc",
   "metadata": {},
   "outputs": [],
   "source": [
    "def removeOutliers(data, num_outliers):\n",
    "    retval = sorted(data)\n",
    "    # remove num_outliers largest value\n",
    "    for i in range(num_outliers):\n",
    "        retval.pop()\n",
    "    # remove num_outliers smallest value\n",
    "    for i in range(num_outliers):\n",
    "        retval.pop(0)\n",
    "    return retval\n",
    "\n",
    "def main():\n",
    "    values = []\n",
    "    s = input('Enter a number: ')\n",
    "    while s != \"\":\n",
    "        num = int(s)\n",
    "        values.append(num)\n",
    "        s = input('Enter a num or blank to stop: ')\n",
    "    if len(values) < 4:\n",
    "        print(\"You don't have enough numbers.\")\n",
    "    else:\n",
    "        print('With outliers removed', removeOutliers(values, 1))\n",
    "        print('The original data: ', values)\n",
    "main()    "
   ]
  },
  {
   "cell_type": "markdown",
   "id": "a0181cfd",
   "metadata": {},
   "source": [
    "## #107 avoiding duplicates"
   ]
  },
  {
   "cell_type": "code",
   "execution_count": null,
   "id": "2adc7757",
   "metadata": {},
   "outputs": [],
   "source": [
    "words = []\n",
    "w = input('Enter words: ')\n",
    "while w != '':\n",
    "    if w not in words:\n",
    "        words.append(w)\n",
    "    w = input('Enter words: ')\n",
    "#     if w == '':\n",
    "for w in words:\n",
    "    print(w)"
   ]
  },
  {
   "cell_type": "markdown",
   "id": "1acfd16d",
   "metadata": {},
   "source": [
    "## #108 negatives, zeros, positives"
   ]
  },
  {
   "cell_type": "code",
   "execution_count": null,
   "id": "511598b2",
   "metadata": {},
   "outputs": [],
   "source": [
    "negatives = []\n",
    "zeros = []\n",
    "positives = []\n",
    "\n",
    "n = input('Enter a number or blank to stop: ')\n",
    "\n",
    "while n != '':\n",
    "    if int(n) < 0:\n",
    "        negatives.append(n)\n",
    "        n = input('Enter a number or blank to stop: ')\n",
    "    elif int(n) == 0:\n",
    "        zeros.append(n)\n",
    "        n = input('Enter a number or blank to stop: ')\n",
    "    elif int(n) >= 1:\n",
    "        positives.append(n)\n",
    "        n = input('Enter a number or blank to stop: ')\n",
    "if n == '':\n",
    "    nums = negatives + zeros + positives\n",
    "    for n in nums:\n",
    "        print(n)"
   ]
  },
  {
   "cell_type": "markdown",
   "id": "5553a72c",
   "metadata": {},
   "source": [
    "## #109 list proper divisors "
   ]
  },
  {
   "cell_type": "code",
   "execution_count": null,
   "id": "7b0ad55a",
   "metadata": {},
   "outputs": [],
   "source": [
    "def properDivisors(n):\n",
    "    divisors = []\n",
    "    if n == 0:\n",
    "        return '<empty>'\n",
    "    else:\n",
    "        i = 0\n",
    "        while i <= 10000:\n",
    "            i+= 1\n",
    "            if n%i==0:\n",
    "                divisors.append(i)\n",
    "        else:\n",
    "            divisors = sorted(divisors[:-1])\n",
    "    return divisors\n",
    "\n",
    "def main():\n",
    "    user_input = input('Enter a number: ')\n",
    "    n = int(user_input)\n",
    "    print('The proper divisors of', n, 'are:', properDivisors(n))\n",
    "main()"
   ]
  },
  {
   "cell_type": "markdown",
   "id": "8cf682d8",
   "metadata": {},
   "source": [
    "## #110 perfect numbers"
   ]
  },
  {
   "cell_type": "code",
   "execution_count": null,
   "id": "f392a6c7",
   "metadata": {},
   "outputs": [],
   "source": [
    "def perfectNumbers(n):\n",
    "    return sum(properDivisors(n)) == n\n",
    "\n",
    "def main():\n",
    "    user_input = input('Enter a number: ')\n",
    "    n = int(user_input)\n",
    "    print(perfectNumbers(n))\n",
    "main()"
   ]
  },
  {
   "cell_type": "markdown",
   "id": "9d51eadb",
   "metadata": {},
   "source": [
    "## #111 only the words "
   ]
  },
  {
   "cell_type": "code",
   "execution_count": null,
   "id": "f5b41d9a",
   "metadata": {},
   "outputs": [],
   "source": [
    "# test_string = Examples of contractions include: don’t, isn’t, and wouldn’t.\n",
    "# expected return = [\"Examples\", \"of\", \"contractions\", \"include\", \"don’t\", \"isn’t\", \"and\", \"wouldn’t\"]"
   ]
  },
  {
   "cell_type": "code",
   "execution_count": null,
   "id": "bed99d3d",
   "metadata": {},
   "outputs": [],
   "source": [
    "def onlyWords(string):\n",
    "    string_list = string.split()\n",
    "    new_list = []\n",
    "    for i in string_list:\n",
    "        if i[:1].isalpha() == False and i[-1:].isalpha() == False:\n",
    "            new_list.append(i[1:-1])\n",
    "        elif i[:1].isalpha() == False and i[-1:].isalpha() == True:\n",
    "            new_list.append(i[1:])\n",
    "        elif i[:1].isalpha() == True and i[-1:].isalpha() == False:\n",
    "            new_list.append(i[:-1])\n",
    "        elif i[:1].isalpha() == True and i[-1:].isalpha() == True:\n",
    "            new_list.append(i)\n",
    "    return new_list\n",
    "\n",
    "def main():\n",
    "    string = str(input('Enter a string: '))\n",
    "    print(onlyWords(string))\n",
    "main()"
   ]
  },
  {
   "cell_type": "code",
   "execution_count": null,
   "id": "bf00d020",
   "metadata": {},
   "outputs": [],
   "source": [
    "# words = [\"a!\", \"bfasdf\", \"'c\", \"d'f\", \"e\"]\n",
    "\n",
    "# x = list(map(lambda word : print(word) or word + word, words))\n",
    "\n",
    "# print(x)"
   ]
  },
  {
   "cell_type": "code",
   "execution_count": null,
   "id": "12c252a9",
   "metadata": {},
   "outputs": [],
   "source": [
    "# def onlyWords(string):\n",
    "#     new_string = ''\n",
    "#     for i in string:\n",
    "#         print(i)\n",
    "#         print(i.isalpha())\n",
    "#         if i.isalpha() == True:\n",
    "#             new_string += i\n",
    "#     return new_string\n",
    "\n",
    "# def onlyWords(string):\n",
    "#     for i in string:\n",
    "#         print(i)\n",
    "#         print(i.isalpha())\n",
    "#         if i.isalpha() == False:\n",
    "#             string = string.replace(i, \"\")\n",
    "#     return string\n"
   ]
  },
  {
   "cell_type": "markdown",
   "id": "0c78f9ed",
   "metadata": {},
   "source": [
    "## #112 below/above average "
   ]
  },
  {
   "cell_type": "code",
   "execution_count": null,
   "id": "056fe47a",
   "metadata": {},
   "outputs": [],
   "source": [
    "def BelowAboveAverage(num_list):\n",
    "    numerator = sum(num_list)\n",
    "    denominator = len(num_list)\n",
    "    average = numerator/denominator\n",
    "    return average\n",
    "    \n",
    "def main():\n",
    "    num_list = []\n",
    "    user_input = input('Enter a number: ')\n",
    "\n",
    "    while user_input != '':\n",
    "        num = int(user_input)\n",
    "        num_list.append(num)\n",
    "        user_input = input('Enter a number or blank to stop: ')\n",
    "    else:\n",
    "        above_avg = []\n",
    "        below_avg = []\n",
    "\n",
    "        for i in num_list: \n",
    "            if i > BelowAboveAverage(num_list):\n",
    "                above_avg.append(i)\n",
    "            if i < BelowAboveAverage(num_list):\n",
    "                below_avg.append(i)\n",
    "\n",
    "        print('Average: ', BelowAboveAverage(num_list))\n",
    "        print('Nums below average', above_avg )\n",
    "        print('Nums above average', below_avg )   \n",
    "main()"
   ]
  },
  {
   "cell_type": "markdown",
   "id": "2e751f45",
   "metadata": {},
   "source": [
    "# #113 formatting list"
   ]
  },
  {
   "cell_type": "code",
   "execution_count": null,
   "id": "1ed08c82",
   "metadata": {},
   "outputs": [],
   "source": [
    "def formattingList(input_list):\n",
    "    input_list = list(input_list[:-1]) #drops last i = empty string stop\n",
    "    length = len(input_list)\n",
    "\n",
    "    if length == 0:\n",
    "        return '<empty>'\n",
    "    elif length == 1:\n",
    "        return str(input_list[0])\n",
    "\n",
    "    else:\n",
    "        i = 2\n",
    "        formatted_list = ''\n",
    "\n",
    "        # add `, and` to last element\n",
    "        input_list.insert(length-1, ', and ')\n",
    "\n",
    "        # loop through rest of list to add comma\n",
    "        # stop at the first element\n",
    "        while i <= length-1:\n",
    "            input_list.insert(length-i, ', ')\n",
    "            i += 1\n",
    "        else:\n",
    "            formatted_list = formatted_list.join(input_list)\n",
    "    return formatted_list\n",
    "\n",
    "def main():\n",
    "    input_list = []\n",
    "    user_input = input('Enter a item ')\n",
    "    input_list.append(user_input)\n",
    "\n",
    "    while user_input != '':\n",
    "        user_input = input('Enter a item or blank to stop ')\n",
    "        input_list.append(user_input)\n",
    "    print('\\n')\n",
    "    print('Formatted list:',formattingList(input_list))\n",
    "main()"
   ]
  },
  {
   "cell_type": "markdown",
   "id": "433ee110",
   "metadata": {},
   "source": [
    "##  #114 random lottery numbers"
   ]
  },
  {
   "cell_type": "code",
   "execution_count": null,
   "id": "297d24fc",
   "metadata": {},
   "outputs": [],
   "source": [
    "import random\n",
    "\n",
    "def lotteryNumbers():\n",
    "    lottery_ticket = []\n",
    "    for i in range(6):\n",
    "        num = random.randint(1,49)\n",
    "        if num not in lottery_ticket:\n",
    "            lottery_ticket.append(num)\n",
    "        else:\n",
    "            num = random.randint(1,49)\n",
    "            lottery_ticket.append(num)\n",
    "    return sorted(lottery_ticket, reverse=False)\n",
    "\n",
    "def main():\n",
    "    user_input = input('Do you want to play the lottery? y/n ')\n",
    "    if user_input == 'y':\n",
    "        print('Your lottery ticket is: ', end='')\n",
    "        for n in lotteryNumbers():\n",
    "            print(n, end=' ')\n",
    "    else:\n",
    "        print('Thank you, come again soon!')\n",
    "main()"
   ]
  },
  {
   "cell_type": "markdown",
   "id": "05e2eff4",
   "metadata": {},
   "source": [
    "##  #115 pig latin"
   ]
  },
  {
   "cell_type": "code",
   "execution_count": null,
   "id": "0c965e41",
   "metadata": {},
   "outputs": [],
   "source": [
    "def pigLatin(s):\n",
    "    vowels = ['a', 'e', 'i', 'o', 'u']\n",
    "    s = s.lower()\n",
    "    new_s = ''\n",
    "    i = 0\n",
    "    j = 1\n",
    "    if s[i:j] in vowels:\n",
    "        # starts with vowel => + way\n",
    "        new_s = s + 'way'\n",
    "    else:\n",
    "        # starts with consonant => strip consonants, move to end + ay\n",
    "        while s[i:j] not in vowels: \n",
    "            s = s[i+1:] + s[i:j]\n",
    "        new_s = s[i:] + 'ay'\n",
    "    return new_s\n",
    "\n",
    "def main():\n",
    "    user_input = input('Enter a word: ')\n",
    "    s = str(user_input)\n",
    "    print(pigLatin(s))\n",
    "main()"
   ]
  },
  {
   "cell_type": "markdown",
   "id": "aa3a9a73",
   "metadata": {},
   "source": [
    "## #116 pig latin improved "
   ]
  },
  {
   "cell_type": "code",
   "execution_count": null,
   "id": "4b223177",
   "metadata": {},
   "outputs": [],
   "source": [
    "def pigLatinImproved(s):\n",
    "    vowels = ['a', 'e', 'i', 'o', 'u']\n",
    "    new_s = ''\n",
    "    i = 0\n",
    "    j = 1\n",
    "\n",
    "    if s[-1].isalpha != True:\n",
    "        end = s[-1]\n",
    "        s = s[:-1]\n",
    "    \n",
    "    if s[:1].isupper():\n",
    "        if s[i:j] in vowels:\n",
    "            new_s = s + 'way'\n",
    "            nwe_s = new_s.capitalize()\n",
    "    else:\n",
    "        new_s = s + 'way'\n",
    "\n",
    "    if s[:1].isupper():\n",
    "        while s[i:j] not in vowels: \n",
    "            s = s[i+1:] + s[i:j]\n",
    "            new_s = s[i:] + 'ay'\n",
    "            new_s = new_s.capitalize()\n",
    "    else:\n",
    "        new_s = s[i:] + 'ay'\n",
    "        \n",
    "    return new_s + end\n",
    "\n",
    "def main():\n",
    "    user_input = input('Enter a word: ')\n",
    "    s = str(user_input)\n",
    "    print(pigLatinImproved(s))\n",
    "main()"
   ]
  },
  {
   "attachments": {
    "Screenshot%202024-02-26%20at%2010.24.36%E2%80%AFPM.png": {
     "image/png": "[encoded data removed]"
    }
   },
   "cell_type": "markdown",
   "id": "e8e10e40",
   "metadata": {},
   "source": [
    "##  <span style=\"color:red;\"> #117 line best fit </span>\n",
    "\n",
    "A line of best fit is a straight line that best approximates a collection of n data points. In this exercise, we will assume that each point in the collection has an x coordinate and a y coordinate. The symbols x ̄ and y ̄ are used to represent the average x value in the collection and the average y value in the collection respectively. The line of best fit is represented by the equation y = mx + b where m and b are calculated usingthe following formulas: ![Screenshot%202024-02-26%20at%2010.24.36%E2%80%AFPM.png](attachment:Screenshot%202024-02-26%20at%2010.24.36%E2%80%AFPM.png)\n",
    "Write a program that reads a collection of points from the user. The user will enter the x part of the first coordinate on its own line, followed by the y part of the first coordinate on its own line. Allow the user to continue entering coordinates, with the x and y parts each entered on their own line, until your program reads a blank line for the x coordinate. Display the formula for the line of best fit in the form y = m x + b by replacing m and b with the values you calculated using the preceding formulas. For example, if the user inputs the coordinates (1, 1), (2, 2.1) and (3, 2.9) then your program should display y = 0.95x + 0.1."
   ]
  },
  {
   "cell_type": "code",
   "execution_count": null,
   "id": "1a5a743c",
   "metadata": {},
   "outputs": [],
   "source": []
  },
  {
   "cell_type": "code",
   "execution_count": null,
   "id": "70d6e341",
   "metadata": {},
   "outputs": [],
   "source": []
  },
  {
   "attachments": {},
   "cell_type": "markdown",
   "id": "41946a6f",
   "metadata": {},
   "source": [
    "## #118 shuffling deck cards"
   ]
  },
  {
   "cell_type": "code",
   "execution_count": null,
   "id": "5e9e60f4",
   "metadata": {},
   "outputs": [],
   "source": [
    "from random import randrange\n",
    "\n",
    "def createDeck():\n",
    "    suit = ['s', 'h', 'd', 'c']\n",
    "    values = [2,3,4,5,6,7,8,9, 'T', 'j', 'q', 'k', 'a']\n",
    "    cards = []\n",
    " \n",
    "    for v in values:\n",
    "        for s in suit:\n",
    "            cards.append(str(v) + str(s))\n",
    "    return cards\n",
    "    \n",
    "def shuffle(cards):\n",
    "    for i in range(0, len(cards)):\n",
    "        other_pos = randrange(0, len(cards))       \n",
    "        temp = cards[i]\n",
    "        cards[i] = cards[other_pos]\n",
    "        cards[other_pos] = temp\n",
    "    return cards\n",
    "        \n",
    "def main():\n",
    "    cards = createDeck()\n",
    "    print('Original deck: ',cards)\n",
    "    print()\n",
    "    print('Shuffled deck: ',shuffle(cards))\n",
    "main()\n",
    "\n",
    "if __name__ == '__main()__':\n",
    "    main()"
   ]
  },
  {
   "cell_type": "markdown",
   "id": "7e520b55",
   "metadata": {},
   "source": [
    "## <span style=\"color:red;\"> #119 dealing hands of cards </span> (see github solution)\n",
    "In many card games each player is dealt a specific number of cards after the deck has been shuffled. Write a function, deal, which takes the number of hands, the number of cards per hand, and a deck of cards as its three parameters. Your function should return a list containing all of the hands that were dealt. Each hand will be represented as a list of cards.<br/>\n",
    "<br/>\n",
    "When dealing the hands, your function should modify the deck of cards passed to it as a parameter, removing each card from the deck as it is added to a player’s hand. When cards are dealt, it is customary to give each player a card before any player receives an additional card. Your function should follow this custom when constructing the hands for the players.<br/>\n",
    "<br/>\n",
    "Use your solution to Exercise 118 to help you construct a main program that creates and shuffles a deck of cards, and then deals out four hands of five cards each. Display all of the hands of cards, along with the cards remaining in the deck after the hands have been dealt."
   ]
  },
  {
   "cell_type": "code",
   "execution_count": null,
   "id": "095f0586",
   "metadata": {
    "scrolled": true
   },
   "outputs": [],
   "source": [
    "from random import randrange\n",
    "\n",
    "def deal(num_hands, num_cards, deck):\n",
    "    hands = [[] for i in range(num_hands)]\n",
    "    cards = []\n",
    "    \n",
    "    for c in range(num_cards):\n",
    "        random_index = randrange(0, len(deck))\n",
    "        random_value = deck[random_index]\n",
    "        deck.remove(random_value)\n",
    "        cards.append(random_value)\n",
    "    for i in range(num_hands):\n",
    "        hands.append(cards)\n",
    "    print(hands)\n",
    "\n",
    "def main():\n",
    "    num_hands = int(input('How many hands? '))\n",
    "    num_cards = int(input('How many cards per hand? '))\n",
    "    deck = ['Ace', 'Jack', 'King', 'Queen', 'Turtle', 'Monkey']\n",
    "    print(deal(num_hands, num_cards, deck))\n",
    "    print('Cards remaining in deck are: ', deck)\n",
    "main()"
   ]
  },
  {
   "cell_type": "markdown",
   "id": "f71aa817",
   "metadata": {},
   "source": [
    "https://github.com/aleattene/pythonworkbook/blob/main/chap_05/exe_126_dealing_hands_cards.py\n"
   ]
  },
  {
   "cell_type": "code",
   "execution_count": null,
   "id": "3f4213b3",
   "metadata": {},
   "outputs": [],
   "source": [
    "def dealHandsCards(num_heads, num_cards_hand, deck_cards_shuffled):\n",
    "    hands_cards_dealt = []\n",
    "    for i in range(num_heads):\n",
    "        # one list for each hand of cards\n",
    "        hands_cards_dealt.append([])\n",
    "    for card in range(num_cards_hand):      # cards -> from 1 to 5 (index from 0 to 4)\n",
    "        for hand in range(num_heads):       # hands -> from 1 to 4 (index from 0 to 3)\n",
    "            cards_in_deck = len(deck_cards_shuffled)\n",
    "            # index from 0 to 51 (decreasing)\n",
    "            i_card = random.randint(0, cards_in_deck-1)\n",
    "            # card[i_card] from deck to player_hand[hand]\n",
    "            hands_cards_dealt[hand].append(deck_cards_shuffled[i_card])\n",
    "            # Removing card[i_card] from original deck (shuffled)\n",
    "            deck_cards_shuffled.pop(i_card)\n",
    "    return hands_cards_dealt\n",
    "\n",
    "# def main():\n",
    "#     num_heads = int(input('How many hands? '))\n",
    "#     num_cards_hand = int(input('How many cards per hand? '))\n",
    "#     deck_cards_shuffled = ['Ace', 'Jack', 'King', 'Queen', 'Turtle', 'Monkey']\n",
    "#     print(dealHandsCards(num_heads, num_cards_hand, deck_cards_shuffled))\n",
    "# main()\n",
    "\n",
    "def main():\n",
    "    # Declaration of the VARIABLES / CONSTANTS\n",
    "    NUM_HEADS = 4\n",
    "    NUM_CARDS_HEAD = 5\n",
    "\n",
    "    # Generation of the DECKS of CARDS\n",
    "    deck_cards = createDeck()\n",
    "    deck_cards_shuffled = shuffleDeckCards(deck_cards)\n",
    "\n",
    "    # Generation of the LIST of LISTS (each LIST containing ONE HANDS of CARDS)\n",
    "    hands_dealt = dealHandsCards(NUM_HEADS, NUM_CARDS_HEAD, deck_cards_shuffled)\n",
    "\n",
    "    # Display of CARD HANDS for EACH PLAYER\n",
    "    for i_hand in range(len(hands_dealt)):\n",
    "        print(\"PLAYER {}: \".format(i_hand+1), end=\"\")\n",
    "        for i_card in hands_dealt[i_hand]:\n",
    "            print(i_card, end=\" \")\n",
    "        print(\"\")\n",
    "\n",
    "    # Display of the CARDS REMAINING in the DECK after distribution\n",
    "    print(\"Cards left in deck: \")#\n",
    "    for card in deck_cards_shuffled:\n",
    "        print(card, end=\" \")\n",
    "    print('')\n",
    "    print('({} cards)'.format(len(deck_cards_shuffled)))\n",
    "main()"
   ]
  },
  {
   "cell_type": "markdown",
   "id": "fbc9526f",
   "metadata": {},
   "source": [
    "## #120 list already sorted"
   ]
  },
  {
   "cell_type": "code",
   "execution_count": null,
   "id": "aec56e94",
   "metadata": {},
   "outputs": [],
   "source": [
    "def listedSorted(input_list):\n",
    "    input_list = input_list[:-1]\n",
    "#     print('list after dropping 0',input_list)\n",
    "    verdict = ''\n",
    "    \n",
    "    sorted_list_asc = sorted(input_list, reverse=False)\n",
    "#     print('sorted_list_asc', sorted_list_asc)\n",
    "    sorted_list_dsc = sorted(input_list, reverse=True)\n",
    "#     print('sorted_list_dsc', sorted_list_dsc)\n",
    "    \n",
    "    if input_list == sorted_list_asc:\n",
    "        verdict = 'True'\n",
    "    elif input_list == sorted_list_dsc:\n",
    "        verdict = 'True'\n",
    "    else:\n",
    "        verdict = 'False'\n",
    "    return verdict\n",
    "\n",
    "def main():\n",
    "    input_list = []\n",
    "    user_input = int(input('Enter a number: '))\n",
    "    input_list.append(user_input)\n",
    "    \n",
    "    while user_input != 0:\n",
    "        user_input = int(input('Enter a number or zero to stop: '))\n",
    "        input_list.append(user_input)\n",
    "    if user_input == 0:\n",
    "#         print(input_list)\n",
    "        print(listedSorted(input_list))\n",
    "main()"
   ]
  },
  {
   "cell_type": "markdown",
   "id": "f342ccf2",
   "metadata": {},
   "source": [
    "## #121 count elements"
   ]
  },
  {
   "cell_type": "code",
   "execution_count": null,
   "id": "ba73f269",
   "metadata": {},
   "outputs": [],
   "source": [
    "def countRange(lst,min_v, max_v):\n",
    "    # returns num elements in list greater or equal to min and max value\n",
    "    count = 0\n",
    "\n",
    "    for i in lst:\n",
    "        if i >= min_v and i < max_v:\n",
    "            count+=1\n",
    "    return count\n",
    "\n",
    "def main():\n",
    "#     lst = [1,2,3,4,5,6,7,8,9,10]\n",
    "#     lst = []\n",
    "    lst = [1,2,3,4,1,2,3,4]\n",
    "    min_v = 2\n",
    "    max_v = 4\n",
    "    print(countRange(lst,min_v, max_v))\n",
    "main()"
   ]
  },
  {
   "cell_type": "markdown",
   "id": "986699a0",
   "metadata": {},
   "source": [
    "## <span style=\"color:red;\"> #122 tokenize string </span>\n",
    "\n",
    "Tokenizing is the process of converting a string into a list of substrings, known as tokens. In many circumstances, a list of tokens is far easier to work with than the original string because the original string may have irregular spacing. In some cases substantial work is also required to determine where one token ends and the next one\n",
    "begins.<br/>\n",
    "<br/>\n",
    "In a mathematical expression, tokens are items such as operators, numbers and parentheses. Some tokens, such as * , /, ˆ, ( and ) are easy to identify because the token is a single character, and the character is never part of another token. The + and - symbols are a little bit more challenging to handle because they might represent the addition or subtraction operator, or they might be part of a number token.<br/>\n",
    "<br/>\n",
    "Hint: A + or - is an operator if the non-whitespace character immediately before it is part of a number, or if the non-whitespace character immediately before it is a close parenthesis. Otherwise it is part of a number.<br/>\n",
    "<br/>\n",
    "Write a function that takes a string containing a mathematical expression as its only parameter and breaks it into a list of tokens. Each token should be a parenthesis, an operator, or a number with an optional leading + or - (for simplicity we will only work with integers in this problem). Return the list of tokens as the function’s result.<br/>\n",
    "<br/>\n",
    "You may assume that the string passed to your function always contains a valid mathematical expression consisting of parentheses, operators and integers. However, your function must handle variable amounts of whitespace between these elements. Include a main program that demonstrates your tokenizing function by reading an expression from the user and printing the list of tokens. Ensure that the main program will not run when the file containing your solution is imported into another program.\n"
   ]
  },
  {
   "cell_type": "code",
   "execution_count": null,
   "id": "e6c378ff",
   "metadata": {},
   "outputs": [],
   "source": []
  },
  {
   "cell_type": "markdown",
   "id": "bb686875",
   "metadata": {},
   "source": [
    "## <span style=\"color:red;\"> #123 infix to postfix </span>\n",
    "\n",
    "Mathematical expressions are often written in infix form, where operators appear between the operands on which they act. While this is a common form, it is also possible to express mathematical expressions in postfix form, where the operator appears after both operands.Forexample,the infix expression 3 + 4 is written as 3 4 + in postfix form. One can convert an infix expression to postfix form using the following algorithm:\n",
    "\n",
    "- Create a new empty list, operators\n",
    "- Create a new empty list, postfix\n",
    "\n",
    "For each token in the infix expression \n",
    "- If the token is an integer then\n",
    "    - Add the token to the end of postfix \n",
    "- If the token is an operator then\n",
    "    - While operators is not empty and\n",
    "        - the last item in operators is not an open parenthesis and \n",
    "        - precedence(token) < precedence(last item in operators) do\n",
    "        - Remove the last item from operators and add it to postfix \n",
    "    - Add token to the end of operators\n",
    "\n",
    "- If the token is an open parenthesis then \n",
    "    - Add token to the end of operators\n",
    "- If the token is a close parenthesis then\n",
    "    - While the last item in operators is not an open parenthesis do \n",
    "        - Remove the last item from operators and add it to postfix\n",
    "    - Remove the open parenthesis from operators \n",
    "While operators is not the empty list do\n",
    "    - Remove the last item from operators and add it to postfix \n",
    "\n",
    "Return postfix as the result of the algorithm\n",
    "    \n",
    "Use your solution to Exercise 122 to tokenize a mathematical expression. Then use the algorithm above to transform the expression from infix form to postfix form. Your code that implements the preceding algorithm should reside in a function that takes a list of tokens representing an infix expression as its only parameter. It should return a list of tokens representing the equivalent postfix expression as its only result. Include a main program that demonstrates your infix to postfix function by reading an expression from the user in infix form and displaying it in postfix form.<br/>\n",
    "<br/>\n",
    "The purpose of converting from infix form to postfix form will become apparent when you read Exercise 124. You may find your solutions to Exercises 90 and 91 helpful when completing this problem.<br/>\n",
    "<br/>\n",
    "The algorithms provided in Exercises 123 and 124 do not perform any error checking. As a result, you may crash your program or receive incorrect results if you provide them with invalid input. These algorithms can be extended to detect invalid input and respond to it in a reasonable manner. Doing so is left as an independent study exercise for the interested student.\n"
   ]
  },
  {
   "cell_type": "code",
   "execution_count": null,
   "id": "63ee0181",
   "metadata": {},
   "outputs": [],
   "source": []
  },
  {
   "cell_type": "markdown",
   "id": "d1baec03",
   "metadata": {},
   "source": [
    "## <span style=\"color:red;\"> #124 evaluate postfix </span>\n",
    "\n",
    "- see page 58"
   ]
  },
  {
   "cell_type": "code",
   "execution_count": null,
   "id": "d54f8620",
   "metadata": {},
   "outputs": [],
   "source": []
  },
  {
   "cell_type": "markdown",
   "id": "c519496c",
   "metadata": {},
   "source": [
    "## <span style=\"color:red;\"> #125 does a list contain a sublist? </span>\n",
    "\n",
    "A sublist is a list that makes up part of a larger list. A sublist may be a list containing a single element, multiple elements, or even no elements at all.<br/>\n",
    "For example, [1], [2],[3] and [4] are all sublists of [1, 2, 3, 4]. The list [2, 3] is also a sublist of [1, 2, 3, 4], but [2, 4] is not a sublist [1, 2, 3, 4] because the elements 2 and 4 are not adjacent in the longer list.<br/>\n",
    "The empty list is a sublist of any list. As a result,[] is a sublistof [1, 2, 3, 4]. A list is a sublist of itself, meaning that [1, 2, 3, 4] is also a sublist of [1, 2, 3, 4].<br/>\n",
    "In this exercise you will create a function, isSublist, that determines whether or not one list is a sublist of another. Your function should take two lists, larger and smaller, as its only parameters. It should return True if and only if smaller is a sublist of larger. Write a main program that demonstrates your function."
   ]
  },
  {
   "cell_type": "markdown",
   "id": "f989dac1",
   "metadata": {},
   "source": [
    "original list: [1, 2, 3, 4] \n",
    "sublists [1], [2],[3], [4], \n",
    "        [2, 3],\n",
    "        []\n",
    "\n",
    "not [2, 4] (2 and 4 not adjacent)\n"
   ]
  },
  {
   "cell_type": "code",
   "execution_count": null,
   "id": "6ab9ac52",
   "metadata": {},
   "outputs": [],
   "source": [
    "# start here https://www.geeksforgeeks.org/python-adjacent-elements-in-list/\n",
    "# https://www.geeksforgeeks.org/python-check-if-all-elements-in-a-list-are-identical/\n",
    "\n",
    "\n",
    "def isSublist(o_list, s_list):\n",
    "    for i in s_list: \n",
    "        if s_list[0] in o_list:\n",
    "            if s_list[1] in o_list:\n",
    "                print('i',i)\n",
    "                print('y')\n",
    "        else:\n",
    "            print('n')\n",
    "            \n",
    "def main():   \n",
    "    o_list = [1,2,3,4]\n",
    "#     s_list = [2,3] #True\n",
    "    s_list = [1,4] #False\n",
    "#     s_list = [5]\n",
    "    print(isSublist(o_list, s_list))\n",
    "main()    "
   ]
  },
  {
   "cell_type": "code",
   "execution_count": null,
   "id": "e5ac3b86",
   "metadata": {},
   "outputs": [],
   "source": []
  },
  {
   "cell_type": "markdown",
   "id": "11baeb6c",
   "metadata": {},
   "source": [
    "## <span style=\"color:red;\"> #126 generate all sublists of a list </span>\n",
    "Using the definition of a sublist from Exercise 125, write a function that returns a list containing every possible sublist of a list. For example, the sublists of [1, 2, 3] are [], [1], [2], [3], [1, 2], [2, 3] and [1, 2, 3]. Note that your function will always return a list containing at least the empty list because the empty list is a sublist of every list. Include a main program that demonstrate your function by displaying all of the sublists of several different lists."
   ]
  },
  {
   "cell_type": "code",
   "execution_count": null,
   "id": "82355010",
   "metadata": {},
   "outputs": [],
   "source": []
  },
  {
   "cell_type": "markdown",
   "id": "97dd0870",
   "metadata": {},
   "source": [
    "## <span style=\"color:red;\"> #127 sieve of eratosthenes </span>\n",
    "- see page 59"
   ]
  },
  {
   "cell_type": "code",
   "execution_count": null,
   "id": "4e0aab44",
   "metadata": {},
   "outputs": [],
   "source": []
  },
  {
   "cell_type": "code",
   "execution_count": null,
   "id": "4e328e11",
   "metadata": {},
   "outputs": [],
   "source": []
  },
  {
   "cell_type": "code",
   "execution_count": null,
   "id": "3530bb24",
   "metadata": {},
   "outputs": [],
   "source": []
  }
 ],
 "metadata": {
  "kernelspec": {
   "display_name": "Python 3 (ipykernel)",
   "language": "python",
   "name": "python3"
  },
  "language_info": {
   "codemirror_mode": {
    "name": "ipython",
    "version": 3
   },
   "file_extension": ".py",
   "mimetype": "text/x-python",
   "name": "python",
   "nbconvert_exporter": "python",
   "pygments_lexer": "ipython3",
   "version": "3.10.9"
  }
 },
 "nbformat": 4,
 "nbformat_minor": 5
}

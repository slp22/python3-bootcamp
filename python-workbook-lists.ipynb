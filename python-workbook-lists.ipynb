{
 "cells": [
  {
   "cell_type": "markdown",
   "id": "a7702562",
   "metadata": {},
   "source": [
    "[The Python Workbook: A Brief Introduction with Exercises and Solutions](https://link.springer.com/book/10.1007/978-3-319-14240-1) by Ben Stephenson"
   ]
  },
  {
   "cell_type": "markdown",
   "id": "67083458",
   "metadata": {},
   "source": [
    "# lists (p 49) "
   ]
  },
  {
   "cell_type": "markdown",
   "id": "4bf86422",
   "metadata": {},
   "source": [
    "## #104 sorted order\n",
    "\n",
    "- write program reads int from user and stores in list\n",
    "- con't reading values until person enters 0 to stop\n",
    "- then display all values (except 0) from small to large with one value on each line\n",
    "- use sort or sorted \n"
   ]
  },
  {
   "cell_type": "code",
   "execution_count": 111,
   "id": "c24772d9",
   "metadata": {},
   "outputs": [
    {
     "name": "stdout",
     "output_type": "stream",
     "text": [
      "Enter a num 1-9: 5\n",
      "Enter a num 1-9, or 0 to stop: 2\n",
      "Enter a num 1-9, or 0 to stop: 3\n",
      "Enter a num 1-9, or 0 to stop: 5\n",
      "Enter a num 1-9, or 0 to stop: 0\n",
      "[2, 3, 5, 5]\n"
     ]
    }
   ],
   "source": [
    "user_input = input('Enter a num 1-9: ')\n",
    "values = []\n",
    "\n",
    "for _ in user_input:\n",
    "    values.append(int(user_input))\n",
    "    while user_input != 0:\n",
    "        user_input = int(input('Enter a num 1-9, or 0 to stop: '))\n",
    "        values.append(int(user_input))\n",
    "        if user_input == 0:\n",
    "            values = values[:-1]\n",
    "            print(sorted(values))\n",
    "     \n",
    " "
   ]
  },
  {
   "cell_type": "markdown",
   "id": "9e76e977",
   "metadata": {},
   "source": [
    "## "
   ]
  }
 ],
 "metadata": {
  "kernelspec": {
   "display_name": "Python 3 (ipykernel)",
   "language": "python",
   "name": "python3"
  },
  "language_info": {
   "codemirror_mode": {
    "name": "ipython",
    "version": 3
   },
   "file_extension": ".py",
   "mimetype": "text/x-python",
   "name": "python",
   "nbconvert_exporter": "python",
   "pygments_lexer": "ipython3",
   "version": "3.10.9"
  }
 },
 "nbformat": 4,
 "nbformat_minor": 5
}

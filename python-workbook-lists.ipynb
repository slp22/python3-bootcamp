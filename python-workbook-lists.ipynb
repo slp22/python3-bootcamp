{
 "cells": [
  {
   "cell_type": "markdown",
   "id": "7733cbf3",
   "metadata": {},
   "source": [
    "[The Python Workbook: A Brief Introduction with Exercises and Solutions](https://link.springer.com/book/10.1007/978-3-319-14240-1) by Ben Stephenson"
   ]
  },
  {
   "cell_type": "markdown",
   "id": "e746300e",
   "metadata": {},
   "source": [
    "# lists (p 49) "
   ]
  },
  {
   "cell_type": "markdown",
   "id": "a471c1ee",
   "metadata": {},
   "source": [
    "## #104 sorted order\n",
    "\n",
    "- write program reads int from user and stores in list\n",
    "- con't reading values until person enters 0 to stop\n",
    "- then display all values (except 0) from small to large with one value on each line\n",
    "- use sort or sorted \n"
   ]
  },
  {
   "cell_type": "code",
   "execution_count": null,
   "id": "fe0aaf01",
   "metadata": {},
   "outputs": [],
   "source": [
    "user_input = input('Enter a num: ')\n",
    "values = []\n",
    "\n",
    "for _ in user_input:\n",
    "    values.append(int(user_input))\n",
    "    while user_input != 0:\n",
    "        user_input = int(input('Enter a num, or 0 to stop: '))\n",
    "        values.append(int(user_input))\n",
    "        if user_input == 0:\n",
    "            values = values[:-1]\n",
    "            print(sorted(values))\n",
    "     \n",
    " "
   ]
  },
  {
   "cell_type": "markdown",
   "id": "5bc28fc1",
   "metadata": {},
   "source": [
    "## #105 reverse order\n",
    "\n",
    "Write a program that reads integers from the user and stores them in a list. Use 0 as a sentinel value to mark the end of the input. Once all of the values have been read your program should display them (except for the 0) in reverse order, with one value\n",
    "appearing on each line."
   ]
  },
  {
   "cell_type": "code",
   "execution_count": null,
   "id": "b5d04b33",
   "metadata": {
    "scrolled": true
   },
   "outputs": [],
   "source": [
    "user_input = input('Enter a num: ')\n",
    "values = []\n",
    "blank = ''\n",
    "\n",
    "for _ in user_input:\n",
    "    values.append(int(user_input))\n",
    "    while user_input != 0:\n",
    "        user_input = int(input(\"Enter a num, or 0 to stop: \"))\n",
    "        values.append(int(user_input))\n",
    "        if user_input == 0:\n",
    "            values = values[:-1]\n",
    "            print(values[::-1])\n",
    "            "
   ]
  },
  {
   "cell_type": "markdown",
   "id": "a922319f",
   "metadata": {},
   "source": [
    "## #106 remove outliers\n",
    "\n",
    "When analysing data collected as part of a science experiment it may be desirable to remove the most extreme values before performing other calculations. Write a function that takes a list of values and an non-negative integer, n, as its parameters. The function should create a new copy of the list with the n largest elements and the n smallest elements removed. Then it should return the new copy of the list as the function’s only result. The order of the elements in the returned list does not have to match the order of the elements in the original list. <br/>\n",
    "Write a main program that demonstrates your function. Your function should read\n",
    "a list of numbers from the user and remove the two largest and two smallest values from it. Display the list with the outliers removed, followed by the original list. Your program should generate an appropriate error message if the user enters less than 4 values.\n"
   ]
  },
  {
   "cell_type": "code",
   "execution_count": null,
   "id": "d11f99fc",
   "metadata": {},
   "outputs": [],
   "source": [
    "def removeOutliers(data, num_outliers):\n",
    "    retval = sorted(data)\n",
    "    # remove num_outliers largest value\n",
    "    for i in range(num_outliers):\n",
    "        retval.pop()\n",
    "    # remove num_outliers smallest value\n",
    "    for i in range(num_outliers):\n",
    "        retval.pop(0)\n",
    "    return retval\n",
    "\n",
    "def main():\n",
    "    values = []\n",
    "    s = input('Enter a number: ')\n",
    "    while s != \"\":\n",
    "        num = int(s)\n",
    "        values.append(num)\n",
    "        s = input('Enter a num or blank to stop: ')\n",
    "    if len(values) < 4:\n",
    "        print(\"You don't have enough numbers.\")\n",
    "    else:\n",
    "        print('With outliers removed', removeOutliers(values, 1))\n",
    "        print('The original data: ', values)\n",
    "main()    "
   ]
  },
  {
   "cell_type": "markdown",
   "id": "a0181cfd",
   "metadata": {},
   "source": [
    "## #107 avoiding duplicates\n",
    "\n",
    "In this exercise, you will create a program that reads words from the user until the user enters a blank line. After the user enters a blank line your program should display each word entered by the user exactly once. The words should be displayed in the same order that they were entered. For example, if the user enters:\n",
    "- first\n",
    "- second\n",
    "- first\n",
    "- third\n",
    "- second\n",
    "\n",
    "then your program should display:\n",
    "- first\n",
    "- second\n",
    "- third"
   ]
  },
  {
   "cell_type": "code",
   "execution_count": null,
   "id": "2adc7757",
   "metadata": {},
   "outputs": [],
   "source": [
    "words = []\n",
    "w = input('Enter words: ')\n",
    "while w != '':\n",
    "    if w not in words:\n",
    "        words.append(w)\n",
    "    w = input('Enter words: ')\n",
    "#     if w == '':\n",
    "for w in words:\n",
    "    print(w)"
   ]
  },
  {
   "cell_type": "markdown",
   "id": "1acfd16d",
   "metadata": {},
   "source": [
    "## #108 negatives, zeros, positives\n",
    "\n",
    "Create a program that reads integers from the user until a blank line is entered. Once all of the integers have been read your program should display all of the negative numbers, followed by all of the zeros, followed by all of the positive numbers. Within each group the numbers should be displayed in the same order that they were entered by the user. For example, if the user enters the values 3, -4, 1, 0, -1, 0, and -2 then your program should output the values -4, -1, -2, 0, 0, 3, and 1. Your program should display each value on its own line.\n"
   ]
  },
  {
   "cell_type": "code",
   "execution_count": null,
   "id": "511598b2",
   "metadata": {},
   "outputs": [],
   "source": [
    "negatives = []\n",
    "zeros = []\n",
    "positives = []\n",
    "\n",
    "n = input('Enter a number or blank to stop: ')\n",
    "\n",
    "while n != '':\n",
    "    if int(n) < 0:\n",
    "        negatives.append(n)\n",
    "        n = input('Enter a number or blank to stop: ')\n",
    "    elif int(n) == 0:\n",
    "        zeros.append(n)\n",
    "        n = input('Enter a number or blank to stop: ')\n",
    "    elif int(n) >= 1:\n",
    "        positives.append(n)\n",
    "        n = input('Enter a number or blank to stop: ')\n",
    "if n == '':\n",
    "    nums = negatives + zeros + positives\n",
    "    for n in nums:\n",
    "        print(n)"
   ]
  },
  {
   "cell_type": "markdown",
   "id": "5553a72c",
   "metadata": {},
   "source": [
    "## #109 list proper divisors 🔺\n",
    "\n",
    "A proper divisor of a positive integer, n, is a positive integer less than n which divides evenly into n. Write a function that computes all of the proper divisors of a positive integer. The integer will be passed to the function as its only parameter. The function will return a list containing all of the proper divisors as its only result. Complete this exercise by writing a main program that demonstrates the function by reading a value from the user and displaying the list of its proper divisors. Ensure that your main program only runs when your solution has not been imported into another file."
   ]
  },
  {
   "cell_type": "code",
   "execution_count": null,
   "id": "7b0ad55a",
   "metadata": {},
   "outputs": [],
   "source": []
  },
  {
   "cell_type": "markdown",
   "id": "8cf682d8",
   "metadata": {},
   "source": [
    "## #110 perfect numbers 🔺\n",
    "\n",
    "An integer, n, is said to be perfect when the sum of all of the proper divisors of n is equal to n. For example, 28 is a perfect number because its proper divisors are 1, 2, 4, 7 and 14, and 1 + 2 + 4 + 7 + 14 = 28.\n",
    "<br/>\n",
    "Write a function that determines whether or not a positive integer is perfect. Your function will take one parameter. If that parameter is a perfect number then your function will return true. Otherwise it will return false. In addition, write a main program that uses your function to identify and display all of the perfect numbers between 1 and 10,000. Import your solution to Exercise 109 when completing this task."
   ]
  },
  {
   "cell_type": "markdown",
   "id": "9d51eadb",
   "metadata": {},
   "source": [
    "## #111 only the words \n",
    "\n",
    "In this exercise you will create a program that identifies all of the words in a string entered by the user. Begin by writing a function that takes a string of text as its only parameter. Your function should return a list of the words in the string with the punctuation marks at the edges of the words removed. The punctuation marks that you must remove include commas, periods, question marks, hyphens, apostrophes, exclamation points, colons, and semicolons. Do not remove punctuation marks that appear in the middle of a words, such as the apostrophes used to form a contraction. For example,if your function is provided with the string \"Examples of contractions include: don’t, isn’t, and wouldn’t.\" then your function should return the list \n",
    "[\"Examples\", \"of\", \"contractions\", \"include\", \"don’t\", \"isn’t\", \"and\", \"wouldn’t\"].\n",
    "\n",
    "Write a main program that demonstrates your function. It should read a string from the user and display all of the words in the string with the punctuation marks removed. You will need to import your solution to this exercise when completing Exercise 158. As a result, you should ensure that your main program only runs when your file has not been imported into another program."
   ]
  },
  {
   "cell_type": "code",
   "execution_count": null,
   "id": "8de1a5de",
   "metadata": {},
   "outputs": [],
   "source": [
    "# test_string = Examples of contractions include: don’t, isn’t, and wouldn’t.\n",
    "# expected return = [\"Examples\", \"of\", \"contractions\", \"include\", \"don’t\", \"isn’t\", \"and\", \"wouldn’t\"]"
   ]
  },
  {
   "cell_type": "code",
   "execution_count": null,
   "id": "bed99d3d",
   "metadata": {},
   "outputs": [],
   "source": [
    "def onlyWords(string):\n",
    "    string_list = string.split()\n",
    "    new_list = []\n",
    "    for i in string_list:\n",
    "        if i[:1].isalpha() == False and i[-1:].isalpha() == False:\n",
    "            new_list.append(i[1:-1])\n",
    "        elif i[:1].isalpha() == False and i[-1:].isalpha() == True:\n",
    "            new_list.append(i[1:])\n",
    "        elif i[:1].isalpha() == True and i[-1:].isalpha() == False:\n",
    "            new_list.append(i[:-1])\n",
    "        elif i[:1].isalpha() == True and i[-1:].isalpha() == True:\n",
    "            new_list.append(i)\n",
    "    return new_list\n",
    "\n",
    "def main():\n",
    "    string = str(input('Enter a string: '))\n",
    "    print(onlyWords(string))\n",
    "main()"
   ]
  },
  {
   "cell_type": "code",
   "execution_count": null,
   "id": "bf00d020",
   "metadata": {},
   "outputs": [],
   "source": [
    "# words = [\"a!\", \"bfasdf\", \"'c\", \"d'f\", \"e\"]\n",
    "\n",
    "# x = list(map(lambda word : print(word) or word + word, words))\n",
    "\n",
    "# print(x)"
   ]
  },
  {
   "cell_type": "code",
   "execution_count": null,
   "id": "12c252a9",
   "metadata": {},
   "outputs": [],
   "source": [
    "# def onlyWords(string):\n",
    "#     new_string = ''\n",
    "#     for i in string:\n",
    "#         print(i)\n",
    "#         print(i.isalpha())\n",
    "#         if i.isalpha() == True:\n",
    "#             new_string += i\n",
    "#     return new_string\n",
    "\n",
    "# def onlyWords(string):\n",
    "#     for i in string:\n",
    "#         print(i)\n",
    "#         print(i.isalpha())\n",
    "#         if i.isalpha() == False:\n",
    "#             string = string.replace(i, \"\")\n",
    "#     return string\n"
   ]
  },
  {
   "cell_type": "code",
   "execution_count": null,
   "id": "ee603cce",
   "metadata": {},
   "outputs": [],
   "source": []
  },
  {
   "cell_type": "code",
   "execution_count": null,
   "id": "2727e890",
   "metadata": {},
   "outputs": [],
   "source": []
  },
  {
   "cell_type": "code",
   "execution_count": null,
   "id": "1970b9bb",
   "metadata": {},
   "outputs": [],
   "source": []
  },
  {
   "cell_type": "code",
   "execution_count": null,
   "id": "4b35bc1b",
   "metadata": {},
   "outputs": [],
   "source": []
  },
  {
   "cell_type": "code",
   "execution_count": null,
   "id": "0538f833",
   "metadata": {},
   "outputs": [],
   "source": []
  },
  {
   "cell_type": "code",
   "execution_count": null,
   "id": "96ff3cd2",
   "metadata": {},
   "outputs": [],
   "source": []
  },
  {
   "cell_type": "code",
   "execution_count": null,
   "id": "505cd5f2",
   "metadata": {},
   "outputs": [],
   "source": []
  },
  {
   "cell_type": "code",
   "execution_count": null,
   "id": "601d3a58",
   "metadata": {},
   "outputs": [],
   "source": []
  },
  {
   "cell_type": "markdown",
   "id": "0c78f9ed",
   "metadata": {},
   "source": [
    "## #112 below/above average ⬅️\n",
    "\n",
    "Write a program that reads numbers from the user until a blank line is entered. Your program should display the average of all of the values entered by the user. Then the program should display all of the below average values, followed by all of the average values (if any), followed by all of the above average values. An appropriate label should be displayed before each list of values."
   ]
  },
  {
   "cell_type": "code",
   "execution_count": null,
   "id": "056fe47a",
   "metadata": {},
   "outputs": [],
   "source": [
    "def BelowAboveAverage(num_list):\n",
    "    numerator = sum(num_list)\n",
    "    denominator = len(num_list)\n",
    "    average = numerator/denominator\n",
    "    return average\n",
    "    \n",
    "def main():\n",
    "    num_list = []\n",
    "    user_input = input('Enter a number: ')\n",
    "\n",
    "    while user_input != '':\n",
    "        num = int(user_input)\n",
    "        num_list.append(num)\n",
    "        user_input = input('Enter a number or blank to stop: ')\n",
    "    else:\n",
    "        print('Average: ',BelowAboveAverage(num_list))\n",
    "        print('Nums below average', )\n",
    "        print('Nums above average', )   \n",
    "main()"
   ]
  },
  {
   "cell_type": "code",
   "execution_count": null,
   "id": "493156b1",
   "metadata": {},
   "outputs": [],
   "source": [
    "num_list = [2, 4, 6, 8]\n",
    "average = sum(num_list)/len(num_list)\n",
    "average\n"
   ]
  },
  {
   "cell_type": "code",
   "execution_count": null,
   "id": "d694d454",
   "metadata": {},
   "outputs": [],
   "source": [
    "#look at num_list\n",
    "#compare with average\n",
    "#list list of nums above average\n",
    "#list list of nums below average"
   ]
  },
  {
   "cell_type": "code",
   "execution_count": null,
   "id": "dfa2ea0f",
   "metadata": {},
   "outputs": [],
   "source": []
  },
  {
   "cell_type": "code",
   "execution_count": null,
   "id": "3c562aac",
   "metadata": {},
   "outputs": [],
   "source": []
  },
  {
   "cell_type": "markdown",
   "id": "2e751f45",
   "metadata": {},
   "source": [
    "# #113 formatting list\n",
    "\n",
    "When writing out a list of items in English, one normally separates the items with commas. In addition, the word “and” is normally included before the last item, unless the list only contains one item. Consider the following four lists:\n",
    "\n",
    "- apples\n",
    "- apples and oranges\n",
    "- apples, oranges and bananas\n",
    "- apples, oranges, bananas and lemons\n",
    "\n",
    "Write a function that takes a list of strings as its only parameter. Your function should return a string that contains all of the items in the list formatted in the manner described previously as its only result. While the examples shown previously only include lists containing four elements or less, your function should behave correctly for lists of any length. Include a main program that reads several items from the user, formats them by calling your function, and then displays the result returned by the function."
   ]
  },
  {
   "cell_type": "code",
   "execution_count": null,
   "id": "297d24fc",
   "metadata": {},
   "outputs": [],
   "source": []
  },
  {
   "cell_type": "markdown",
   "id": "433ee110",
   "metadata": {},
   "source": [
    "## #114 random lottery numbers\n",
    "\n",
    "In order to win the top prize in a particular lottery, one must match all 6 numbers on his or her ticket to the 6 numbers between 1 and 49 that are drawn by the lottery organizer. Write a program that generates a random selection of 6 numbers for a lottery ticket. Ensure that the 6 numbers selected do not contain any duplicates. Display the numbers in ascending order."
   ]
  },
  {
   "cell_type": "code",
   "execution_count": null,
   "id": "1462d094",
   "metadata": {},
   "outputs": [],
   "source": []
  },
  {
   "cell_type": "markdown",
   "id": "05e2eff4",
   "metadata": {},
   "source": [
    "## #115 pig latin\n",
    "\n",
    "Pig Latin is a language constructed by transforming English words. While the ori- gins of the language are unknown, it is mentioned in at least two documents from the nineteenth century, suggesting that it has existed for more than 100 years. The following rules are used to translate English into Pig Latin:\n",
    "\n",
    "- If the word begins with a consonant((includingy),then all letters at the beginning of the word, up to the first vowel (excluding y), are removed and then added to the end of the word, followed by ay. For example, computer becomes omputercay and think becomes inkthay.\n",
    "- If the word begins with a vowel (not including y), then way is added to the end of the word. For example, algorithm becomes algorithmway and office becomes officeway.\n",
    "\n",
    "<br/>\n",
    "Write a program that reads a line of text from the user. Then your program should translate the line into Pig Latin and display the result. You may assume that the string entered by the user only contains lowercase letters and spaces."
   ]
  },
  {
   "cell_type": "code",
   "execution_count": null,
   "id": "c1e6b38f",
   "metadata": {},
   "outputs": [],
   "source": []
  },
  {
   "cell_type": "markdown",
   "id": "aa3a9a73",
   "metadata": {},
   "source": [
    "## #116 pig latin improved\n",
    "\n",
    "Extend your solution to Exercise 115 so that it correctly handles uppercase letters and punctuation marks such as commas, periods, question marks and exclamation marks. If an English word begins with an uppercase letter then its Pig Latin representation should also begin with an uppercase letter and the uppercase letter moved to the end of the word should be changed to lowercase. For example, Computer should become Omputercay. If a word ends in a punctuation mark then the punctuation mark should remain at the end of the word after the transformation has been performed.\n",
    "For example, Science! should become Iencescay!."
   ]
  },
  {
   "cell_type": "code",
   "execution_count": null,
   "id": "4b223177",
   "metadata": {},
   "outputs": [],
   "source": []
  },
  {
   "attachments": {
    "Screenshot%202024-02-26%20at%2010.24.36%E2%80%AFPM.png": {
     "image/png": "[encoded data removed]"
    }
   },
   "cell_type": "markdown",
   "id": "e8e10e40",
   "metadata": {},
   "source": [
    "## #117 line best fit\n",
    "\n",
    "A line of best fit is a straight line that best approximates a collection of n data points. In this exercise, we will assume that each point in the collection has an x coordinate and a y coordinate. The symbols x ̄ and y ̄ are used to represent the average x value in the collection and the average y value in the collection respectively. The line of best fit is represented by the equation y = mx + b where m and b are calculated usingthe following formulas: ![Screenshot%202024-02-26%20at%2010.24.36%E2%80%AFPM.png](attachment:Screenshot%202024-02-26%20at%2010.24.36%E2%80%AFPM.png)\n",
    "Write a program that reads a collection of points from the user. The user will enter the x part of the first coordinate on its own line, followed by the y part of the first coordinate on its own line. Allow the user to continue entering coordinates, with the x and y parts each entered on their own line, until your program reads a blank line for the x coordinate. Display the formula for the line of best fit in the form y = m x + b by replacing m and b with the values you calculated using the preceding formulas. For example, if the user inputs the coordinates (1, 1), (2, 2.1) and (3, 2.9) then your program should display y = 0.95x + 0.1."
   ]
  },
  {
   "cell_type": "code",
   "execution_count": null,
   "id": "70d6e341",
   "metadata": {},
   "outputs": [],
   "source": []
  },
  {
   "attachments": {
    "Screenshot%202024-02-26%20at%2010.25.29%E2%80%AFPM.png": {
     "image/png": "[encoded data removed]"
    }
   },
   "cell_type": "markdown",
   "id": "41946a6f",
   "metadata": {},
   "source": [
    "## #118 shuffling deck cards\n",
    "\n",
    "A standard deck of playing cards contains 52 cards. Each card has one of four suits along with a value. The suits are normally spades, hearts, diamonds and clubs while\n",
    "the values are 2 through 10, Jack, Queen, King and Ace.\n",
    "Each playing card can be represented using two characters. The first character is the value of the card, with the values 2 through 9 being represented directly. The characters “T”, “J”, “Q”, “K” and “A” are used to represent the values 10, Jack, Queen, King and Ace respectively. The second character is used to represent the suit of the card. It is normally a lowercase letter: “s” for spades, “h” for hearts, “d” for diamonds and “c” for clubs. The following table provides several examples of cards and their two-character representations.\n",
    "\n",
    "![Screenshot%202024-02-26%20at%2010.25.29%E2%80%AFPM.png](attachment:Screenshot%202024-02-26%20at%2010.25.29%E2%80%AFPM.png)\n",
    "\n",
    "Begin by writing a function named createDeck. It will use loops to create a complete deck of cards by storing the two-character abbreviations for all 52 cards into a list. Return the list of cards as the function’s only result. Your function will not take any parameters.<br/>\n",
    "Write a second function named shuffle that randomizes the order of the cards in a list. One technique that can be used to shuffle the cards is to visit each element in the list and swap it with another random element in the list. You must write your own loop for shuffling the cards. You cannot make use of Python’s built-in shuffle function.<br/>\n",
    "Use both of the functions described in the previous paragraphs to create a main program that displays a deck of cards before and after it has been shuffled. Ensure that your main program only runs when your functions have not been imported into another file."
   ]
  },
  {
   "cell_type": "code",
   "execution_count": null,
   "id": "08f0a010",
   "metadata": {},
   "outputs": [],
   "source": []
  },
  {
   "cell_type": "markdown",
   "id": "7e520b55",
   "metadata": {},
   "source": [
    "## #119 dealing hands of cards\n",
    "\n",
    "In many card games each player is dealt a specific number of cards after the deck has been shuffled. Write a function, deal, which takes the number of hands, the number of cards per hand, and a deck of cards as its three parameters. Your function should return a list containing all of the hands that were dealt. Each hand will be represented as a list of cards.<br/>\n",
    "<br/>\n",
    "When dealing the hands, your function should modify the deck of cards passed to it as a parameter, removing each card from the deck as it is added to a player’s hand. When cards are dealt, it is customary to give each player a card before any player receives an additional card. Your function should follow this custom when constructing the hands for the players.<br/>\n",
    "<br/>\n",
    "Use your solution to Exercise 118 to help you construct a main program that creates and shuffles a deck of cards, and then deals out four hands of five cards each. Display all of the hands of cards, along with the cards remaining in the deck after the hands have been dealt."
   ]
  },
  {
   "cell_type": "code",
   "execution_count": null,
   "id": "88e50dc2",
   "metadata": {},
   "outputs": [],
   "source": []
  },
  {
   "cell_type": "markdown",
   "id": "fbc9526f",
   "metadata": {},
   "source": [
    "## #120 list already sorted?\n",
    "\n",
    "Write a function that determines whether or not a list of values is in sorted order (either ascending or descending). The function should return True if the list is already sorted. Otherwise it should return False. Write a main program that reads a list of numbers from the user and then uses your function to report whether or not the list is sorted.\n",
    "\n",
    "Make sure you consider these questions when completing this exercise: Is a list that is empty in sorted order? What about a list containing one element?"
   ]
  },
  {
   "cell_type": "code",
   "execution_count": null,
   "id": "aec56e94",
   "metadata": {},
   "outputs": [],
   "source": []
  },
  {
   "cell_type": "markdown",
   "id": "f342ccf2",
   "metadata": {},
   "source": [
    "## #121 count elements\n",
    "\n",
    "Python’s standard library includes a method named count that determines how many times a specific value occurs in a list. In this exercise, you will create a new function named countRange which determines and returns the number of elements within a list that are greater than or equal to some minimum value and less than some maximum value. Your function will take three parameters: the list, the minimum value and the maximum value. It will return an integer result greater than or equal to 0. Include a main program that demonstrates your function for several different lists, minimum values and maximum values. Ensure that your program works correctly\n",
    "for both lists of integers and lists of floating point numbers."
   ]
  },
  {
   "cell_type": "code",
   "execution_count": null,
   "id": "ba73f269",
   "metadata": {},
   "outputs": [],
   "source": []
  },
  {
   "cell_type": "markdown",
   "id": "986699a0",
   "metadata": {},
   "source": [
    "## #122 tokenize string\n",
    "\n",
    "Tokenizing is the process of converting a string into a list of substrings, known as tokens. In many circumstances, a list of tokens is far easier to work with than the original string because the original string may have irregular spacing. In some cases substantial work is also required to determine where one token ends and the next one\n",
    "begins.<br/>\n",
    "<br/>\n",
    "In a mathematical expression, tokens are items such as operators, numbers and parentheses. Some tokens, such as * , /, ˆ, ( and ) are easy to identify because the token is a single character, and the character is never part of another token. The + and - symbols are a little bit more challenging to handle because they might represent the addition or subtraction operator, or they might be part of a number token.<br/>\n",
    "<br/>\n",
    "Hint: A + or - is an operator if the non-whitespace character immediately before it is part of a number, or if the non-whitespace character immediately before it is a close parenthesis. Otherwise it is part of a number.<br/>\n",
    "<br/>\n",
    "Write a function that takes a string containing a mathematical expression as its only parameter and breaks it into a list of tokens. Each token should be a parenthesis, an operator, or a number with an optional leading + or - (for simplicity we will only work with integers in this problem). Return the list of tokens as the function’s result.<br/>\n",
    "<br/>\n",
    "You may assume that the string passed to your function always contains a valid mathematical expression consisting of parentheses, operators and integers. However, your function must handle variable amounts of whitespace between these elements. Include a main program that demonstrates your tokenizing function by reading an expression from the user and printing the list of tokens. Ensure that the main program will not run when the file containing your solution is imported into another program.\n"
   ]
  },
  {
   "cell_type": "code",
   "execution_count": null,
   "id": "e6c378ff",
   "metadata": {},
   "outputs": [],
   "source": []
  },
  {
   "cell_type": "markdown",
   "id": "bb686875",
   "metadata": {},
   "source": [
    "## #123 infix to postfix\n",
    "\n",
    "Mathematical expressions are often written in infix form, where operators appear between the operands on which they act. While this is a common form, it is also possible to express mathematical expressions in postfix form, where the operator appearsafterbothoperands.Forexample,the infix expression 3 + 4 is written as 3 4 + in postfix form. One can convert an infix expression to postfix form using the following algorithm:\n",
    "\n",
    "- Create a new empty list, operators\n",
    "- Create a new empty list, postfix\n",
    "\n",
    "For each token in the infix expression \n",
    "- If the token is an integer then\n",
    "    - Add the token to the end of postfix \n",
    "- If the token is an operator then\n",
    "    - While operators is not empty and\n",
    "        - the last item in operators is not an open parenthesis and \n",
    "        - precedence(token) < precedence(last item in operators) do\n",
    "        - Remove the last item from operators and add it to postfix \n",
    "    - Add token to the end of operators\n",
    "\n",
    "- If the token is an open parenthesis then \n",
    "    - Add token to the end of operators\n",
    "- If the token is a close parenthesis then\n",
    "    - While the last item in operators is not an open parenthesis do \n",
    "        - Remove the last item from operators and add it to postfix\n",
    "    - Remove the open parenthesis from operators \n",
    "While operators is not the empty list do\n",
    "    - Remove the last item from operators and add it to postfix \n",
    "\n",
    "Return postfix as the result of the algorithm\n",
    "    \n",
    "Use your solution to Exercise 122 to tokenize a mathematical expression. Then use the algorithm above to transform the expression from infix form to postfix form. Your code that implements the preceding algorithm should reside in a function that takes a list of tokens representing an infix expression as its only parameter. It should return a list of tokens representing the equivalent postfix expression as its only result. Include a main program that demonstrates your infix to postfix function by reading an expression from the user in infix form and displaying it in postfix form.<br/>\n",
    "<br/>\n",
    "The purpose of converting from infix form to postfix form will become apparent when you read Exercise 124. You may find your solutions to Exercises 90 and 91 helpful when completing this problem.<br/>\n",
    "<br/>\n",
    "The algorithms provided in Exercises 123 and 124 do not perform any error checking. As a result, you may crash your program or receive incorrect results if you provide them with invalid input. These algorithms can be extended to detect invalid input and respond to it in a reasonable manner. Doing so is left as an independent study exercise for the interested student.\n"
   ]
  },
  {
   "cell_type": "code",
   "execution_count": null,
   "id": "63ee0181",
   "metadata": {},
   "outputs": [],
   "source": []
  },
  {
   "cell_type": "markdown",
   "id": "d1baec03",
   "metadata": {},
   "source": [
    "## #124 evaluate postfix\n",
    "\n",
    "- see page 58"
   ]
  },
  {
   "cell_type": "code",
   "execution_count": null,
   "id": "d54f8620",
   "metadata": {},
   "outputs": [],
   "source": []
  },
  {
   "cell_type": "markdown",
   "id": "c519496c",
   "metadata": {},
   "source": [
    "## #125 does a list contain a sublist?\n",
    "\n",
    "A sublist is a list that makes up part of a larger list. A sublist may be a list containing a single element, multiple elements, or even no elements at all. \n",
    "\n",
    "For example, [1], [2],[3] and [4] are all sublists of [1, 2, 3, 4]. The list [2, 3] is also a sublist of [1, 2, 3, 4], but [2, 4] is not a sublist [1, 2, 3, 4] because the elements 2 and 4 are not adjacent in the longer list. \n",
    "\n",
    "The empty list is a sublist of anylist. As a result,[] is a sublistof [1, 2, 3, 4]. A list is a sublist of itself, meaning that [1, 2, 3, 4] is also a sublist of [1, 2, 3, 4].\n",
    "In this exercise you will create a function, isSublist, that determines whether or not one list is a sublist of another. Your function should take two lists, larger and smaller, as its only parameters. It should return True if and only if smaller is a sublist of larger. Write a main program that demonstrates your function."
   ]
  },
  {
   "cell_type": "code",
   "execution_count": null,
   "id": "6ab9ac52",
   "metadata": {},
   "outputs": [],
   "source": []
  },
  {
   "cell_type": "markdown",
   "id": "11baeb6c",
   "metadata": {},
   "source": [
    "## #126 generate all sublists of a list\n",
    "\n",
    "Using the definition of a sublist from Exercise 125, write a function that returns a list containing every possible sublist of a list. For example, the sublists of [1, 2, 3] are [], [1], [2], [3], [1, 2], [2, 3] and [1, 2, 3]. Note that your function will always return a list containing at least the empty list because the empty list is a sublist of every list. Include a main program that demonstrate your function by displaying all of the sublists of several different lists."
   ]
  },
  {
   "cell_type": "code",
   "execution_count": null,
   "id": "82355010",
   "metadata": {},
   "outputs": [],
   "source": []
  },
  {
   "cell_type": "markdown",
   "id": "97dd0870",
   "metadata": {},
   "source": [
    "## #127 sieve of eratosthenes\n",
    "\n",
    "- see page 59"
   ]
  },
  {
   "cell_type": "code",
   "execution_count": null,
   "id": "4e0aab44",
   "metadata": {},
   "outputs": [],
   "source": []
  },
  {
   "cell_type": "code",
   "execution_count": null,
   "id": "4e328e11",
   "metadata": {},
   "outputs": [],
   "source": []
  },
  {
   "cell_type": "code",
   "execution_count": null,
   "id": "3530bb24",
   "metadata": {},
   "outputs": [],
   "source": []
  }
 ],
 "metadata": {
  "kernelspec": {
   "display_name": "Python 3 (ipykernel)",
   "language": "python",
   "name": "python3"
  },
  "language_info": {
   "codemirror_mode": {
    "name": "ipython",
    "version": 3
   },
   "file_extension": ".py",
   "mimetype": "text/x-python",
   "name": "python",
   "nbconvert_exporter": "python",
   "pygments_lexer": "ipython3",
   "version": "3.10.9"
  }
 },
 "nbformat": 4,
 "nbformat_minor": 5
}

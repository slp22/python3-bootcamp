{
 "cells": [
  {
   "cell_type": "markdown",
   "id": "3a5e7a9a",
   "metadata": {},
   "source": [
    "[The Python Workbook: A Brief Introduction with Exercises and Solutions](https://link.springer.com/book/10.1007/978-3-319-14240-1) by Ben Stephenson"
   ]
  },
  {
   "cell_type": "markdown",
   "id": "910c4b9b",
   "metadata": {},
   "source": [
    "# loops (p 29) "
   ]
  },
  {
   "cell_type": "markdown",
   "id": "0db86f0c",
   "metadata": {},
   "source": [
    "## #61 average"
   ]
  },
  {
   "cell_type": "code",
   "execution_count": null,
   "id": "1306ad6b",
   "metadata": {},
   "outputs": [],
   "source": [
    "user_input = input('Enter a collection of values: ')\n",
    "values = []\n",
    "\n",
    "for _ in user_input:\n",
    "    values.append(int(user_input))\n",
    "    while user_input != 0: \n",
    "        user_input = int(input('Enter a value or 0 to stop. '))\n",
    "        values.append(user_input)\n",
    "        numerator = sum(values)\n",
    "        denominator = len(values)-1\n",
    "#         print('values: ', values)\n",
    "print('numerator: ', numerator)\n",
    "print('denominator: ', denominator)\n",
    "print('average: ', numerator/denominator)\n"
   ]
  },
  {
   "cell_type": "markdown",
   "id": "f241fe01",
   "metadata": {},
   "source": [
    "## #64 no more pennies"
   ]
  },
  {
   "cell_type": "code",
   "execution_count": null,
   "id": "427b4913",
   "metadata": {},
   "outputs": [],
   "source": [
    "user_input = input('Enter cost: ')\n",
    "\n",
    "total = 0\n",
    "\n",
    "while user_input != '':\n",
    "    total += float(user_input)\n",
    "    user_input = input('Enter cost: ')\n",
    "print('Pay this amount: ', total)\n",
    "\n",
    "round_indicator = (total * 100 % 5)\n",
    "print('round_indicator', round_indicator)\n",
    "\n",
    "if round_indicator < 2.5:\n",
    "    cash_total = total - round_indicator/100\n",
    "else:\n",
    "    cash_total = total + 0.05 - round_indicator/100\n",
    "    \n",
    "print('Pay this rounded amount: ', cash_total)"
   ]
  },
  {
   "cell_type": "markdown",
   "id": "403c3d51",
   "metadata": {},
   "source": [
    "## #65 compute perimeter polygon"
   ]
  },
  {
   "cell_type": "code",
   "execution_count": null,
   "id": "85482447",
   "metadata": {},
   "outputs": [],
   "source": [
    "from math import sqrt\n",
    "\n",
    "perimeter = 0\n",
    "\n",
    "first_x = float(input('Enter x:'))\n",
    "first_y = float(input('Enter y:'))\n",
    "\n",
    "prev_x = first_x\n",
    "prev_y = first_y\n",
    "\n",
    "line = input('Enter x (blank to quit): ')\n",
    "while line != '':\n",
    "    x = float(line)\n",
    "    y = float(input('Enter y:'))\n",
    "    \n",
    "    dist = sqrt((prev_x-x)**2 + (prev_y-y)**2)\n",
    "    perimeter += dist\n",
    "    \n",
    "    prev_x = x\n",
    "    prev_y = y\n",
    "    \n",
    "    line = input('Enter x (blank to quit): ')\n",
    "    \n",
    "dist = sqrt((first_x-x)**2 + (first_y-y)**2)\n",
    "perimeter += dist\n",
    "\n",
    "print('perimeter is', perimeter)"
   ]
  },
  {
   "cell_type": "markdown",
   "id": "f3ba4c59",
   "metadata": {},
   "source": [
    "## #67 admission price"
   ]
  },
  {
   "cell_type": "code",
   "execution_count": null,
   "id": "b9717d70",
   "metadata": {},
   "outputs": [],
   "source": [
    "age_input = input('Enter an age (blank to stop): ')\n",
    "       \n",
    "total = 0\n",
    "    \n",
    "while age_input != '':  \n",
    "    age = int(age_input)         \n",
    "    if age <= 2:\n",
    "        total += 0.00\n",
    "    elif age <= 12:\n",
    "        total += 14.00\n",
    "    elif age <= 64:\n",
    "        total += 23.00\n",
    "    else:\n",
    "        total += 18.00\n",
    "        \n",
    "    age_input = input('Enter an age (blank to stop): ')\n",
    "    \n",
    "print('Your total is $%.2f:' %total)"
   ]
  },
  {
   "cell_type": "markdown",
   "id": "fe52093a",
   "metadata": {},
   "source": [
    "## #68 parity bits"
   ]
  },
  {
   "cell_type": "code",
   "execution_count": null,
   "id": "b94dec5c",
   "metadata": {},
   "outputs": [],
   "source": [
    "bit_input = input('Enter 8 bits: ')\n",
    "\n",
    "while bit_input != '':\n",
    "    if bit_input.count('0') + bit_input.count('1') != 8 or len(bit_input) != 8:\n",
    "        print('Try again, not 8 bits.')\n",
    "    else:\n",
    "        ones = bit_input.count('1')\n",
    "    \n",
    "        if ones % 2 == 0:\n",
    "            print('The parity bit should be 0.')\n",
    "        else:\n",
    "            print('The parity bit should be 1.')\n",
    "    bit_input = input('Enter 8 bits: ')"
   ]
  },
  {
   "cell_type": "markdown",
   "id": "6061abea",
   "metadata": {},
   "source": [
    "## <span style=\"color:red;\"> #70 caesar cipher</span>\n",
    "\n",
    "\n",
    "One of the first known examples of encryption was used by Julius Caesar. Caesar needed to provide written instructions to his generals, but he didn’t want his enemies to learn his plans if the message slipped into their hands. As result, he developed what later became known as the Caesar Cipher.\n",
    "<br/>\n",
    "<br/>\n",
    "The idea behind this cipher is simple (and as a result, it provides no protection against modern code breaking techniques). Each letter in the original message is shifted by 3 places. As a result, A becomes D, B becomes E, C becomes F, D becomes G, etc. The last three letters in the alphabet are wrapped around to the beginning: X becomes A, Y becomes B and Z becomes C. Non-letter characters are not modified by the cipher.\n",
    "<br/>\n",
    "<br/>\n",
    "Write a program that implements a Caesar cipher. Allow the user to supply the message and the shift amount, and then display the shifted message. Ensure that your program encodes both uppercase and lowercase letters. Your program should also support negative shift values so that it can be used both to encode messages and decode messages."
   ]
  },
  {
   "cell_type": "code",
   "execution_count": null,
   "id": "071c3d4a",
   "metadata": {},
   "outputs": [],
   "source": [
    "# A becomes D, B becomes E, C becomes F, D becomes G, etc\n",
    "# X becomes A, Y becomes B and Z becomes C\n",
    "# 'ord' function converts character to integer \n",
    "#                                      position in ASCII table\n",
    "# 'chr' function returns the character from the ASCII table \n",
    "#                                     in the position provided\n"
   ]
  },
  {
   "cell_type": "code",
   "execution_count": null,
   "id": "dfe4381b",
   "metadata": {},
   "outputs": [],
   "source": [
    "message = str(input('Enter a message: ')).upper()\n",
    "shift = int(input('Enter a shift:'))\n",
    "\n",
    "new_message = ''\n",
    "\n",
    "# ord: converts chartacter > integer position\n",
    "# chr: returns character from position provided\n",
    "for ch in message: \n",
    "    if ch >= 'A' and ch <= 'Z':\n",
    "        position = ord(ch) - ord('A')\n",
    "        position = (position + shift) % 26\n",
    "        new_char = chr(position + ord('A'))\n",
    "        new_message += new_char\n",
    "    else:\n",
    "        new_message += ch\n",
    "print('The new message is:', new_message)"
   ]
  },
  {
   "cell_type": "markdown",
   "id": "71070111",
   "metadata": {},
   "source": [
    "## #72 is a string a palindrome?"
   ]
  },
  {
   "cell_type": "code",
   "execution_count": null,
   "id": "23e76823",
   "metadata": {},
   "outputs": [],
   "source": [
    "word = str(input('Enter a word: '))\n",
    "\n",
    "is_palindrome = True\n",
    "\n",
    "\n",
    "for i in range(0, len(word)//2):\n",
    "\n",
    "    if word[i] != word[len(word) - i -1]:\n",
    "        is_palindrome = False\n",
    "if is_palindrome:\n",
    "    print(word, 'is a palindrome')\n",
    "else:\n",
    "    print(word, 'not a palindrome')\n"
   ]
  },
  {
   "cell_type": "markdown",
   "id": "d3de4900",
   "metadata": {},
   "source": [
    "## #73 multiple word palindromes"
   ]
  },
  {
   "cell_type": "code",
   "execution_count": null,
   "id": "080a58dc",
   "metadata": {},
   "outputs": [],
   "source": [
    "word = str(input('Enter a word: ')).replace(' ', '')\n",
    "# print(word)\n",
    "is_palindrome = True\n",
    "\n",
    "\n",
    "for i in range(0, len(word)//2):\n",
    "\n",
    "    if word[i] != word[len(word) - i -1]:\n",
    "        is_palindrome = False\n",
    "if is_palindrome:\n",
    "    print(word, 'is a palindrome')\n",
    "else:\n",
    "    print(word, 'not a palindrome')\n"
   ]
  },
  {
   "attachments": {},
   "cell_type": "markdown",
   "id": "f3013405",
   "metadata": {},
   "source": [
    "## #74 multiplication table"
   ]
  },
  {
   "cell_type": "code",
   "execution_count": null,
   "id": "5f34b104",
   "metadata": {},
   "outputs": [],
   "source": [
    "i = 0\n",
    "j = 0\n",
    "print('   ', end=' ')\n",
    "for i in range(1, 11):\n",
    "    print('%4d' %i, end=' ')\n",
    "print()\n",
    "for i in range(1, 11):\n",
    "    print('%4d' %i, end='')\n",
    "    for j in range(1,11):\n",
    "        print('%4d' %(i*j), end=' ')\n",
    "    print()\n"
   ]
  },
  {
   "cell_type": "markdown",
   "id": "a3d8b9e3",
   "metadata": {},
   "source": [
    "## #75 greatest common divisor"
   ]
  },
  {
   "cell_type": "code",
   "execution_count": null,
   "id": "4218c41d",
   "metadata": {},
   "outputs": [],
   "source": [
    "n = int(input('n: '))\n",
    "m = int(input('m: '))\n",
    "\n",
    "d = min(n,m)\n",
    "while m % d != 0 or n % d !=0:\n",
    "    d= d-1\n",
    "print('Greatest common divisor of', n, 'and',m, 'is',d)\n"
   ]
  },
  {
   "cell_type": "markdown",
   "id": "d940e387",
   "metadata": {},
   "source": [
    "## #76 prime factors"
   ]
  },
  {
   "cell_type": "code",
   "execution_count": null,
   "id": "a0bf8acb",
   "metadata": {},
   "outputs": [],
   "source": [
    "m = int(input('Enter an integer (2 or greater): '))\n",
    "n = m\n",
    "factor = 2\n",
    "primes = []\n",
    "\n",
    "while factor <= n:\n",
    "    if n % factor == 0:\n",
    "        primes.append(factor)\n",
    "        n = n // factor\n",
    "    else:\n",
    "        factor += 1\n",
    "\n",
    "print('The prime factors of', m, 'are:')\n",
    "for i in range(len(primes)):\n",
    "    print(primes[i])\n"
   ]
  },
  {
   "cell_type": "markdown",
   "id": "3a9d8024",
   "metadata": {},
   "source": [
    "## <span style=\"color:red\">#78 decimal to binary</span>\n",
    "\n",
    "Write a program that converts a decimal (base 10) number to binary (base 2). Read the decimal number from the user as an integer and then use the division algorithm shown below to perform the conversion. When the algorithm completes, result contains the binary representation of the number. Display the result, along with an appropriate\n",
    "message.\n",
    "- Let result be an empty string\n",
    "- Let q represent the number to convert \n",
    "- repeat\n",
    "    - Set r equal to the remainder when q is divided by 2\n",
    "    - Convert r to a string and add it to the beginning of result\n",
    "    - Divide q by 2, discarding any remainder, and store the result back into q\n",
    "-until q is 0"
   ]
  },
  {
   "cell_type": "code",
   "execution_count": null,
   "id": "2a5983e5",
   "metadata": {},
   "outputs": [],
   "source": [
    "result = ''\n",
    "q = 0 #num to convert\n",
    "r = 0 # remainder when q/2\n",
    "#convert str(r) add to beginning of result\n",
    "# q/2, discard remainder, store result back into q\n",
    "# until q = 0"
   ]
  },
  {
   "cell_type": "markdown",
   "id": "9307d00c",
   "metadata": {},
   "source": [
    "## #79 maximum integer"
   ]
  },
  {
   "cell_type": "code",
   "execution_count": null,
   "id": "2335e96a",
   "metadata": {},
   "outputs": [],
   "source": [
    "from random import randrange\n",
    "NUM_ITEMS = 100\n",
    "\n",
    "max_value = randrange(1, NUM_ITEMS +1)\n",
    "print(max_value)\n",
    "\n",
    "num_updates = 0\n",
    "\n",
    "for i in range(1, NUM_ITEMS + 1):\n",
    "    current = randrange(1, NUM_ITEMS +1)\n",
    "    if current > max_value:\n",
    "        max_value = current\n",
    "        num_updates += 1\n",
    "        print(current, '<== update' )\n",
    "    else:\n",
    "        print(current)\n",
    "\n",
    "print('The maximum value found was', max_value)\n",
    "print('The maximum value was updated', num_updates, 'times')"
   ]
  },
  {
   "cell_type": "markdown",
   "id": "895daa66",
   "metadata": {},
   "source": [
    "## <span style=\"color:red\">#80 coin flip simulation (p38)</span>\n",
    "\n",
    "\n",
    "Create program with random generator to simluate flippinf a coin several times, should be fair (equal probability of heads and tails). \n",
    "Flip until 3 consectuvive heads of 3 consecutive tails occures. \n",
    "Display H and T on same line, then display number of flips needed to reach 3 consecutive flips with the same outcome. \n",
    "When program runs, should perform the simulation 10 times and report the average number of flips needed. "
   ]
  },
  {
   "cell_type": "code",
   "execution_count": null,
   "id": "f0c060ba",
   "metadata": {},
   "outputs": [],
   "source": [
    "import random\n",
    "\n",
    "def coin_flip():\n",
    "    if random.randint(0,1) == 0:\n",
    "        return 'H'\n",
    "    else:\n",
    "        return 'T'\n",
    "\n",
    "flips = 0\n",
    "num_trials = 100\n",
    "\n",
    "for trial in range(num_trials):\n",
    "    first_flip = coin_flip()\n",
    "    flips += 1\n",
    "    \n",
    "    while coin_flip() == first_flip:\n",
    "        flips += 1\n",
    "    flips += 1\n",
    "avg_flips_per_trial = flips/num_trials\n",
    "print('The average number of flips per trial is', avg_flips_per_trial)\n",
    "\n",
    "\n",
    "Solution: https://github.com/realpython/python-basics-exercises/blob/master/ch08-conditional-logic/8b-challenge-simulate-a-coin-toss-experiment.py\n",
    "\n",
    "# ideal_H = ['H', 'H', 'H']\n",
    "# ideal_T = ['T', 'T', 'T']"
   ]
  }
 ],
 "metadata": {
  "kernelspec": {
   "display_name": "Python 3 (ipykernel)",
   "language": "python",
   "name": "python3"
  },
  "language_info": {
   "codemirror_mode": {
    "name": "ipython",
    "version": 3
   },
   "file_extension": ".py",
   "mimetype": "text/x-python",
   "name": "python",
   "nbconvert_exporter": "python",
   "pygments_lexer": "ipython3",
   "version": "3.10.9"
  }
 },
 "nbformat": 4,
 "nbformat_minor": 5
}

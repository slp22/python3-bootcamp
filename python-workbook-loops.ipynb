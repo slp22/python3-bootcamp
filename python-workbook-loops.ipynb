{
 "cells": [
  {
   "cell_type": "markdown",
   "id": "3a5e7a9a",
   "metadata": {},
   "source": [
    "[The Python Workbook: A Brief Introduction with Exercises and Solutions](https://link.springer.com/book/10.1007/978-3-319-14240-1) by Ben Stephenson"
   ]
  },
  {
   "cell_type": "markdown",
   "id": "910c4b9b",
   "metadata": {},
   "source": [
    "# loops (p 29) "
   ]
  },
  {
   "cell_type": "markdown",
   "id": "0db86f0c",
   "metadata": {},
   "source": [
    "## #61 average\n",
    "\n",
    "average of a collection of values by input; marks 0 as the end\n",
    "\n"
   ]
  },
  {
   "cell_type": "code",
   "execution_count": 1,
   "id": "1306ad6b",
   "metadata": {},
   "outputs": [
    {
     "name": "stdout",
     "output_type": "stream",
     "text": [
      "Enter a collection of values: 1\n",
      "Enter a value or 0 to stop. 5\n",
      "Enter a value or 0 to stop. 7\n",
      "Enter a value or 0 to stop. 0\n",
      "numerator:  13\n",
      "denominator:  3\n",
      "average:  4.333333333333333\n"
     ]
    }
   ],
   "source": [
    "user_input = input('Enter a collection of values: ')\n",
    "values = []\n",
    "\n",
    "for _ in user_input:\n",
    "    values.append(int(user_input))\n",
    "    while user_input != 0: \n",
    "        user_input = int(input('Enter a value or 0 to stop. '))\n",
    "        values.append(user_input)\n",
    "        numerator = sum(values)\n",
    "        denominator = len(values)-1\n",
    "#         print('values: ', values)\n",
    "print('numerator: ', numerator)\n",
    "print('denominator: ', denominator)\n",
    "print('average: ', numerator/denominator)\n"
   ]
  },
  {
   "cell_type": "markdown",
   "id": "f241fe01",
   "metadata": {},
   "source": [
    "### #64 no more pennies\n",
    "\n",
    "Read in prices from user until blank line is entered. Display total cost of all entered items on one line, followed by the amount if customer pay with cash on second line. Amount due rounded to nearest nickel. "
   ]
  },
  {
   "cell_type": "code",
   "execution_count": null,
   "id": "427b4913",
   "metadata": {},
   "outputs": [],
   "source": [
    "user_input = input('Enter cost: ')\n",
    "\n",
    "total = 0\n",
    "\n",
    "while user_input != '':\n",
    "    total += float(user_input)\n",
    "    user_input = input('Enter cost: ')\n",
    "print('Pay this amount: ', total)\n",
    "\n",
    "round_indicator = (total * 100 % 5)\n",
    "print('round_indicator', round_indicator)\n",
    "\n",
    "if round_indicator < 2.5:\n",
    "    cash_total = total - round_indicator/100\n",
    "else:\n",
    "    cash_total = total + 0.05 - round_indicator/100\n",
    "    \n",
    "print('Pay this rounded amount: ', cash_total)"
   ]
  },
  {
   "cell_type": "markdown",
   "id": "403c3d51",
   "metadata": {},
   "source": [
    "## #65 compute perimeter polygon\n",
    "\n",
    "Write a program that computes the perimeter of a polygon. Begin by reading the x and y values for the first point on the perimeter of the polygon from the user. Then continue reading pairs of x and y values until the user enters a blank line for the x-coordinate. Each time you read an additional coordinate you should compute the distance to the previous point and add it to the perimeter. When a blank line is entered for the x-coordinate your program should add the distance from the last point back to the first point to the perimeter. Then it should display the total perimeter. Sample input and output is shown below, with user input shown in bold:\n",
    " \n",
    "- Enter the x part of the coordinate: **0**\n",
    "- Enter the y part of the coordinate: 0\n",
    "- Enter the x part of the coordinate: (blank to quit): 1 \n",
    "- Enter the y part of the coordinate: 0\n",
    "- Enter the x part of the coordinate: (blank to quit): 0 \n",
    "- Enter the y part of the coordinate: 1\n",
    "- Enter the x part of the coordinate: (blank to quit): \n",
    "- The perimeter of that polygon is 3.414213562373095\n"
   ]
  },
  {
   "cell_type": "code",
   "execution_count": null,
   "id": "85482447",
   "metadata": {},
   "outputs": [],
   "source": [
    "from math import sqrt\n",
    "\n",
    "perimeter = 0\n",
    "\n",
    "first_x = float(input('Enter x:'))\n",
    "first_y = float(input('Enter y:'))\n",
    "\n",
    "prev_x = first_x\n",
    "prev_y = first_y\n",
    "\n",
    "line = input('Enter x (blank to quit): ')\n",
    "while line != '':\n",
    "    x = float(line)\n",
    "    y = float(input('Enter y:'))\n",
    "    \n",
    "    dist = sqrt((prev_x-x)**2 + (prev_y-y)**2)\n",
    "    perimeter += dist\n",
    "    \n",
    "    prev_x = x\n",
    "    prev_y = y\n",
    "    \n",
    "    line = input('Enter x (blank to quit): ')\n",
    "    \n",
    "dist = sqrt((first_x-x)**2 + (first_y-y)**2)\n",
    "perimeter += dist\n",
    "\n",
    "print('perimeter is', perimeter)"
   ]
  },
  {
   "cell_type": "markdown",
   "id": "f3ba4c59",
   "metadata": {},
   "source": [
    "## #67 admission price\n",
    "\n",
    "A particular zoo determines the price of admission based on the age of the guest. Guests 2 years of age and less are admitted without charge. Children between 3 and 12 years of age cost 14.00. Seniors aged 65 years and over cost 18.00. Admission for all other guests is 23.00.\n",
    "<br/>\n",
    "<br/>\n",
    "Create a program that begins by reading the ages of all of the guests in a group from the user, with one age entered on each line. The user will enter a blank line to indicate that there are no more guests in the group. Then your program should display the admission cost for the group with an appropriate message. The cost should be displayed using two decimal places."
   ]
  },
  {
   "cell_type": "code",
   "execution_count": null,
   "id": "b9717d70",
   "metadata": {},
   "outputs": [],
   "source": [
    "age_input = input('Enter an age (blank to stop): ')\n",
    "       \n",
    "total = 0\n",
    "    \n",
    "while age_input != '':  \n",
    "    age = int(age_input)         \n",
    "    if age <= 2:\n",
    "        total += 0.00\n",
    "    elif age <= 12:\n",
    "        total += 14.00\n",
    "    elif age <= 64:\n",
    "        total += 23.00\n",
    "    else:\n",
    "        total += 18.00\n",
    "        \n",
    "    age_input = input('Enter an age (blank to stop): ')\n",
    "    \n",
    "print('Your total is $%.2f:' %total)"
   ]
  },
  {
   "cell_type": "markdown",
   "id": "fe52093a",
   "metadata": {},
   "source": [
    "## #68 parity bits\n",
    "\n",
    "A parity bit is a simple mechanism for detecting errors in data transmitted over an unreliable connection such as a telephone line. The basic idea is that an additional bit is transmitted after each group of 8 bits so that a single bit error in the transmission can be detected.\n",
    "<br/>\n",
    "<br/>\n",
    "Parity bits can be computed for either even parity or odd parity. If even parity is selected then the parity bit that is transmitted is chosen so that the total number of one bits transmitted (8 bits of data plus the parity bit) is even. When odd parity is selected the parity bit is chosen so that the total number of one bits transmitted is odd.\n",
    "<br/>\n",
    "<br/>\n",
    "Write a program that computes the parity bit for groups of 8 bits entered by the user using even parity. Your program should read strings containing 8 bits until the user enters a blank line. After each string is entered by the user your program should display a clear message indicating whether the parity bit should be 0 or 1. Display an appropriate error message if the user enters something other than 8 bits.\n",
    "<br/>\n",
    "<br/>\n",
    "Hint: You should read the input from the user as a string. Then you can use the count method to help you determine the number of zeros and ones in the string. Information about the count method is available online."
   ]
  },
  {
   "cell_type": "code",
   "execution_count": null,
   "id": "b94dec5c",
   "metadata": {},
   "outputs": [],
   "source": [
    "bit_input = input('Enter 8 bits: ')\n",
    "\n",
    "while bit_input != '':\n",
    "    if bit_input.count('0') + bit_input.count('1') != 8 or len(bit_input) != 8:\n",
    "        print('Try again, not 8 bits.')\n",
    "    else:\n",
    "        ones = bit_input.count('1')\n",
    "    \n",
    "        if ones % 2 == 0:\n",
    "            print('The parity bit should be 0.')\n",
    "        else:\n",
    "            print('The parity bit should be 1.')\n",
    "    bit_input = input('Enter 8 bits: ')"
   ]
  },
  {
   "cell_type": "markdown",
   "id": "6061abea",
   "metadata": {},
   "source": [
    "## #caesar cipher\n",
    "\n",
    "One of the first known examples of encryption was used by Julius Caesar. Caesar needed to provide written instructions to his generals, but he didn’t want his enemies to learn his plans if the message slipped into their hands. As result, he developed what later became known as the Caesar Cipher.\n",
    "<br/>\n",
    "<br/>\n",
    "The idea behind this cipher is simple (and as a result, it provides no protection against modern code breaking techniques). Each letter in the original message is shifted by 3 places. As a result, A becomes D, B becomes E, C becomes F, D becomes G, etc. The last three letters in the alphabet are wrapped around to the beginning: X becomes A, Y becomes B and Z becomes C. Non-letter characters are not modified by the cipher.\n",
    "<br/>\n",
    "<br/>\n",
    "Write a program that implements a Caesar cipher. Allow the user to supply the message and the shift amount, and then display the shifted message. Ensure that your program encodes both uppercase and lowercase letters. Your program should also support negative shift values so that it can be used both to encode messages and decode messages."
   ]
  },
  {
   "cell_type": "code",
   "execution_count": null,
   "id": "071c3d4a",
   "metadata": {},
   "outputs": [],
   "source": [
    "# A becomes D, B becomes E, C becomes F, D becomes G, etc\n",
    "# X becomes A, Y becomes B and Z becomes C\n",
    "# 'ord' function converts character to integer \n",
    "#                                      position in ASCII table\n",
    "# 'chr' function returns the character from the ASCII table \n",
    "#                                     in the position provided\n"
   ]
  },
  {
   "cell_type": "code",
   "execution_count": null,
   "id": "dfe4381b",
   "metadata": {},
   "outputs": [],
   "source": [
    "message = str(input('Enter a message: ')).upper()\n",
    "shift = int(input('Enter a shift:'))\n",
    "\n",
    "new_message = ''\n",
    "\n",
    "# ord: converts chartacter > integer position\n",
    "# chr: returns character from position provided\n",
    "for ch in message: \n",
    "    if ch >= 'A' and ch <= 'Z':\n",
    "        position = ord(ch) - ord('A')\n",
    "        position = (position + shift) % 26\n",
    "        new_char = chr(position + ord('A'))\n",
    "        new_message += new_char\n",
    "    else:\n",
    "        new_message += ch\n",
    "print('The new message is:', new_message)"
   ]
  },
  {
   "cell_type": "markdown",
   "id": "71070111",
   "metadata": {},
   "source": [
    "## #72 is a string a palindrome?\n",
    "\n",
    "A string is a palindrome if it is identical forward and backward. For example “anna”, “civic”, “level” and “hannah” are all examples of palindromic words. Write a program that reads a string from the user and uses a loop to determines whether or not it is a palindrome. Display the result, including a meaningful output message."
   ]
  },
  {
   "cell_type": "code",
   "execution_count": null,
   "id": "23e76823",
   "metadata": {},
   "outputs": [],
   "source": [
    "word = str(input('Enter a word: '))\n",
    "\n",
    "is_palindrome = True\n",
    "\n",
    "\n",
    "for i in range(0, len(word)//2):\n",
    "\n",
    "    if word[i] != word[len(word) - i -1]:\n",
    "        is_palindrome = False\n",
    "if is_palindrome:\n",
    "    print(word, 'is a palindrome')\n",
    "else:\n",
    "    print(word, 'not a palindrome')\n"
   ]
  },
  {
   "cell_type": "markdown",
   "id": "d3de4900",
   "metadata": {},
   "source": [
    "## #73 multiple word palindromes\n",
    "\n",
    "There are numerous phrases that are palindromes when spacing is ignored. Examples include “go dog”, “flee to me remote elf” and “some men interpret nine memos”, among many others. Extend your solution to Exercise 72 so that it ignores spacing while determining whether or not a string is a palindrome. For an additional challenge, extend your solution so that is also ignores punctuation marks and treats uppercase\n",
    "and lowercase letters as equivalent."
   ]
  },
  {
   "cell_type": "code",
   "execution_count": null,
   "id": "080a58dc",
   "metadata": {},
   "outputs": [],
   "source": [
    "word = str(input('Enter a word: ')).replace(' ', '')\n",
    "# print(word)\n",
    "is_palindrome = True\n",
    "\n",
    "\n",
    "for i in range(0, len(word)//2):\n",
    "\n",
    "    if word[i] != word[len(word) - i -1]:\n",
    "        is_palindrome = False\n",
    "if is_palindrome:\n",
    "    print(word, 'is a palindrome')\n",
    "else:\n",
    "    print(word, 'not a palindrome')\n"
   ]
  },
  {
   "attachments": {
    "Screenshot%202023-11-08%20at%209.40.26%20PM.png": {
     "image/png": "[encoded data removed]"
    }
   },
   "cell_type": "markdown",
   "id": "f3013405",
   "metadata": {},
   "source": [
    "## #74 multiplication table\n",
    "\n",
    "In this exercise you will create a program that displays a multiplication table that shows the products of all combinations of integers from 1 times 1 up to and including 10 times 10. Your multiplication table should include a row of labels across the top of it containing the numbers 1 through 10. It should also include labels down the left side consisting of the numbers 1 through 10. The expected output from the program\n",
    "is shown below:\n",
    "![Screenshot%202023-11-08%20at%209.40.26%20PM.png](attachment:Screenshot%202023-11-08%20at%209.40.26%20PM.png)\n",
    "\n",
    "When completing this exercise you will probably find it helpful to be able to print out a value without moving down to the next line. This can be accomplished by added end=\"\" as the last parameter to your print statement. For example, print(\"A\") will display the letter A and then move down to the next line. The statement print(\"A\", end=\"\") will display the letter A without moving down to the next line, causing the next print statement to display its result on the same line as the letter A."
   ]
  },
  {
   "cell_type": "code",
   "execution_count": null,
   "id": "5f34b104",
   "metadata": {},
   "outputs": [],
   "source": [
    "i = 0\n",
    "j = 0\n",
    "print('   ', end=' ')\n",
    "for i in range(1, 11):\n",
    "    print('%4d' %i, end=' ')\n",
    "print()\n",
    "for i in range(1, 11):\n",
    "    print('%4d' %i, end='')\n",
    "    for j in range(1,11):\n",
    "        print('%4d' %(i*j), end=' ')\n",
    "    print()\n"
   ]
  },
  {
   "cell_type": "markdown",
   "id": "a3d8b9e3",
   "metadata": {},
   "source": [
    "## #75 greatest common divisor\n",
    "\n",
    "Greatest common divisor of two positive integers n and m, is the largest number d, which divides evenly in both n and m. \n",
    "\n",
    "- Initialize d to the smaller of m and n. \n",
    "- While d does not evenly divide m or d does not evenly divide n do\n",
    "-     decrease the value of d by 1\n",
    "- Report d as the greatest common divisor of n and m\n",
    "\n",
    "Write program that reads two positive integers from the user and uses this algorithm to determine and report their greatest common divisor. "
   ]
  },
  {
   "cell_type": "code",
   "execution_count": 3,
   "id": "4218c41d",
   "metadata": {},
   "outputs": [
    {
     "name": "stdout",
     "output_type": "stream",
     "text": [
      "n: 1\n",
      "m: 2\n",
      "Greatest common divisor of 1 and 2 is 1\n"
     ]
    }
   ],
   "source": [
    "n = int(input('n: '))\n",
    "m = int(input('m: '))\n",
    "\n",
    "d = min(n,m)\n",
    "while m % d != 0 or n % d !=0:\n",
    "    d= d-1\n",
    "print('Greatest common divisor of', n, 'and',m, 'is',d)\n"
   ]
  },
  {
   "cell_type": "markdown",
   "id": "d940e387",
   "metadata": {},
   "source": [
    "## #76 prime factors\n",
    "\n",
    "\n",
    "- initialize factor to 2\n",
    "- whlie factor is less than or equal to n do\n",
    "    - if n is evenly divisible by factor then\n",
    "        - conclude that factor is a factor i n\n",
    "        - divide n by factor using integer division\n",
    "    - else\n",
    "        - increase factor by 1\n",
    "Write program reads in int. If int is less than 2, display error message. Else, display prime numbes that can be multiplied together to compute n, with one factor appearing on each line. \n",
    "\n",
    "```\n",
    "enter int 2 or greater: 72\n",
    "prime factors of 72 are:\n",
    "2\n",
    "2\n",
    "2\n",
    "3\n",
    "3\n",
    "```"
   ]
  },
  {
   "cell_type": "code",
   "execution_count": null,
   "id": "a0bf8acb",
   "metadata": {},
   "outputs": [],
   "source": [
    "m = int(input('Enter an integer (2 or greater): '))\n",
    "n=m\n",
    "factor = 2\n",
    "primes = []\n",
    "\n",
    "while factor <= n:\n",
    "    if n % factor == 0:\n",
    "        primes.append(factor)\n",
    "        n = n // factor\n",
    "    else:\n",
    "        factor += 1\n",
    "\n",
    "print('The prime factors of', m, 'are:')\n",
    "for i in range(len(primes)):\n",
    "    print(primes[i])\n"
   ]
  },
  {
   "cell_type": "markdown",
   "id": "3a9d8024",
   "metadata": {},
   "source": [
    "## <span style=\"color:red\">#78 decimal to binary</span>\n",
    "\n",
    "Write a program that converts a decimal (base 10) number to binary (base 2). Read the decimal number from the user as an integer and then use the division algorithm shown below to perform the conversion. When the algorithm completes, result contains the binary representation of the number. Display the result, along with an appropriate\n",
    "message.\n",
    "- Let result be an empty string\n",
    "- Let q represent the number to convert \n",
    "- repeat\n",
    "    - Set r equal to the remainder when q is divided by 2\n",
    "    - Convert r to a string and add it to the beginning of result\n",
    "    - Divide q by 2, discarding any remainder, and store the result back into q\n",
    "-until q is 0"
   ]
  },
  {
   "cell_type": "code",
   "execution_count": null,
   "id": "2a5983e5",
   "metadata": {},
   "outputs": [],
   "source": [
    "result = ''\n",
    "q = 0 #num to convert\n",
    "r = 0 # remainder when q/2\n",
    "#convert str(r) add to beginning of result\n",
    "# q/2, discard remainder, store result back into q\n",
    "# until q = 0"
   ]
  },
  {
   "cell_type": "markdown",
   "id": "9307d00c",
   "metadata": {},
   "source": [
    "## #79 maximum integer\n",
    "\n",
    "Create a program that begins by selecting a random integer between 1 and 100. Save this integer as the maximum number encountered so far. After the initial integer has been selected, generate 99 additional random integers between 1 and 100. Check each integer as it is generated to see if it is larger than the maximum number encountered so far. If it is then your program should update the maximum number encountered and count the fact that you performed an update. Display each integer after you generate it. Include a notation with those integers which represent a new maximum.\n",
    "\n",
    "After you have displayed 100 integers your program should display the maximum value encountered, along with the number of times the maximum value was updated during the process. Partial output for the program is shown below, with... representing the remaining integers that your program will display. Run your program several times. Is the number of updates performed on the maximum value what you expected?\n"
   ]
  },
  {
   "cell_type": "code",
   "execution_count": null,
   "id": "2335e96a",
   "metadata": {},
   "outputs": [],
   "source": [
    "from random import randrange\n",
    "NUM_ITEMS = 100\n",
    "\n",
    "max_value = randrange(1, NUM_ITEMS +1)\n",
    "print(max_value)\n",
    "\n",
    "num_updates = 0\n",
    "\n",
    "for i in range(1, NUM_ITEMS + 1):\n",
    "    current = randrange(1, NUM_ITEMS +1)\n",
    "    if current > max_value:\n",
    "        max_value = current\n",
    "        num_updates += 1\n",
    "        print(current, '<== update' )\n",
    "    else:\n",
    "        print(current)\n",
    "\n",
    "print('The maximum value found was', max_value)\n",
    "print('The maximum value was updated', num_updates, 'times')"
   ]
  },
  {
   "cell_type": "markdown",
   "id": "895daa66",
   "metadata": {},
   "source": [
    "## <span style=\"color:red\">#80 coin flip simulation (p38)</span>\n",
    "\n",
    "\n",
    "Create program with random generator to simluate flippinf a coin several times, should be fair (equal probability of heads and tails). \n",
    "Flip until 3 consectuvive heads of 3 consecutive tails occures. \n",
    "Display H and T on same line, then display number of flips needed to reach 3 consecutive flips with the same outcome. \n",
    "When program runs, should perform the simulation 10 times and report the average number of flips needed. "
   ]
  },
  {
   "cell_type": "code",
   "execution_count": null,
   "id": "f0c060ba",
   "metadata": {},
   "outputs": [],
   "source": [
    "import random\n",
    "\n",
    "def coin_flip():\n",
    "    if random.randint(0,1) == 0:\n",
    "        return 'H'\n",
    "    else:\n",
    "        return 'T'\n",
    "\n",
    "flips = 0\n",
    "num_trials = 100\n",
    "\n",
    "for trial in range(num_trials):\n",
    "    first_flip = coin_flip()\n",
    "    flips += 1\n",
    "    \n",
    "    while coin_flip() == first_flip:\n",
    "        flips += 1\n",
    "    flips += 1\n",
    "avg_flips_per_trial = flips/num_trials\n",
    "print('The average number of flips per trial is', avg_flips_per_trial)\n",
    "\n",
    "\n",
    "Solution: https://github.com/realpython/python-basics-exercises/blob/master/ch08-conditional-logic/8b-challenge-simulate-a-coin-toss-experiment.py\n",
    "\n",
    "# ideal_H = ['H', 'H', 'H']\n",
    "# ideal_T = ['T', 'T', 'T']"
   ]
  },
  {
   "cell_type": "markdown",
   "id": "d0374e3a",
   "metadata": {},
   "source": []
  }
 ],
 "metadata": {
  "kernelspec": {
   "display_name": "Python 3 (ipykernel)",
   "language": "python",
   "name": "python3"
  },
  "language_info": {
   "codemirror_mode": {
    "name": "ipython",
    "version": 3
   },
   "file_extension": ".py",
   "mimetype": "text/x-python",
   "name": "python",
   "nbconvert_exporter": "python",
   "pygments_lexer": "ipython3",
   "version": "3.10.9"
  }
 },
 "nbformat": 4,
 "nbformat_minor": 5
}

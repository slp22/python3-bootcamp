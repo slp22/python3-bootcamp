{
 "cells": [
  {
   "cell_type": "markdown",
   "id": "3a5e7a9a",
   "metadata": {},
   "source": [
    "[The Python Workbook: A Brief Introduction with Exercises and Solutions](https://link.springer.com/book/10.1007/978-3-319-14240-1) by Ben Stephenson"
   ]
  },
  {
   "cell_type": "markdown",
   "id": "910c4b9b",
   "metadata": {},
   "source": [
    "# loops (p 29) "
   ]
  },
  {
   "cell_type": "markdown",
   "id": "0db86f0c",
   "metadata": {},
   "source": [
    "## <span style=\"color:red\">#61 average</span>\n",
    "\n",
    "average of a collection of values by input; marks 0 as the end\n",
    "\n"
   ]
  },
  {
   "cell_type": "code",
   "execution_count": 9,
   "id": "1306ad6b",
   "metadata": {},
   "outputs": [
    {
     "name": "stdout",
     "output_type": "stream",
     "text": [
      "Enter a collection of values: 1 2 \n"
     ]
    },
    {
     "data": {
      "text/plain": [
       "3"
      ]
     },
     "execution_count": 9,
     "metadata": {},
     "output_type": "execute_result"
    }
   ],
   "source": [
    "user_input = input('Enter a collection of values: ')\n",
    "\n",
    "den = len(user_input) - 1\n",
    "\n",
    "den "
   ]
  },
  {
   "cell_type": "markdown",
   "id": "178fce84",
   "metadata": {},
   "source": [
    "## #64 no more pennies\n",
    "\n",
    "Read in prices from user until blank line is entered. Display total cost of all entered items on one line, followed by the amount if customer pay with cash on second line. Amount due rounded to nearest nickel. "
   ]
  },
  {
   "cell_type": "code",
   "execution_count": 40,
   "id": "4619d921",
   "metadata": {},
   "outputs": [
    {
     "name": "stdout",
     "output_type": "stream",
     "text": [
      "Enter cost: 12.12\n",
      "Enter cost: 12.12\n",
      "Enter cost: 12.12\n",
      "Enter cost: \n",
      "Pay this amount:  36.36\n",
      "round_indicator 1.0\n",
      "Pay this rounded amount:  36.35\n"
     ]
    }
   ],
   "source": [
    "user_input = input('Enter cost: ')\n",
    "\n",
    "total = 0\n",
    "\n",
    "while user_input != '':\n",
    "    total += float(user_input)\n",
    "    user_input = input('Enter cost: ')\n",
    "print('Pay this amount: ', total)\n",
    "\n",
    "round_indicator = (total * 100 % 5)\n",
    "print('round_indicator', round_indicator)\n",
    "\n",
    "if round_indicator < 2.5:\n",
    "    cash_total = total - round_indicator/100\n",
    "else:\n",
    "    cash_total = total + 0.05 - round_indicator/100\n",
    "    \n",
    "print('Pay this rounded amount: ', cash_total)"
   ]
  },
  {
   "cell_type": "markdown",
   "id": "cf529d87",
   "metadata": {},
   "source": [
    "## #65 compute perimeter polygon\n",
    "\n",
    "Write a program that computes the perimeter of a polygon. Begin by reading the x and y values for the first point on the perimeter of the polygon from the user. Then continue reading pairs of x and y values until the user enters a blank line for the x-coordinate. Each time you read an additional coordinate you should compute the distance to the previous point and add it to the perimeter. When a blank line is entered for the x-coordinate your program should add the distance from the last point back to the first point to the perimeter. Then it should display the total perimeter. Sample input and output is shown below, with user input shown in bold:\n",
    " \n",
    "- Enter the x part of the coordinate: **0**\n",
    "- Enter the y part of the coordinate: 0\n",
    "- Enter the x part of the coordinate: (blank to quit): 1 \n",
    "- Enter the y part of the coordinate: 0\n",
    "- Enter the x part of the coordinate: (blank to quit): 0 \n",
    "- Enter the y part of the coordinate: 1\n",
    "- Enter the x part of the coordinate: (blank to quit): \n",
    "- The perimeter of that polygon is 3.414213562373095\n"
   ]
  },
  {
   "cell_type": "code",
   "execution_count": 62,
   "id": "72dd67a6",
   "metadata": {},
   "outputs": [
    {
     "name": "stdout",
     "output_type": "stream",
     "text": [
      "Enter x:0\n",
      "Enter y:0\n",
      "Enter x (blank to quit): 1\n",
      "Enter y:0\n",
      "Enter x (blank to quit): 0\n",
      "Enter y:1\n",
      "Enter x (blank to quit): 1\n",
      "Enter y:1\n",
      "Enter x (blank to quit): \n",
      "perimeter is 4.82842712474619\n"
     ]
    }
   ],
   "source": [
    "from math import sqrt\n",
    "\n",
    "perimeter = 0\n",
    "\n",
    "first_x = float(input('Enter x:'))\n",
    "first_y = float(input('Enter y:'))\n",
    "\n",
    "prev_x = first_x\n",
    "prev_y = first_y\n",
    "\n",
    "line = input('Enter x (blank to quit): ')\n",
    "while line != '':\n",
    "    x = float(line)\n",
    "    y = float(input('Enter y:'))\n",
    "    \n",
    "    dist = sqrt((prev_x-x)**2 + (prev_y-y)**2)\n",
    "    perimeter += dist\n",
    "    \n",
    "    prev_x = x\n",
    "    prev_y = y\n",
    "    \n",
    "    line = input('Enter x (blank to quit): ')\n",
    "    \n",
    "dist = sqrt((first_x-x)**2 + (first_y-y)**2)\n",
    "perimeter += dist\n",
    "\n",
    "print('perimeter is', perimeter)"
   ]
  },
  {
   "cell_type": "markdown",
   "id": "8201b071",
   "metadata": {},
   "source": [
    "## #67 admission price\n",
    "\n",
    "A particular zoo determines the price of admission based on the age of the guest. Guests 2 years of age and less are admitted without charge. Children between 3 and 12 years of age cost 14.00. Seniors aged 65 years and over cost 18.00. Admission for all other guests is 23.00.\n",
    "<br/>\n",
    "<br/>\n",
    "Create a program that begins by reading the ages of all of the guests in a group from the user, with one age entered on each line. The user will enter a blank line to indicate that there are no more guests in the group. Then your program should display the admission cost for the group with an appropriate message. The cost should be displayed using two decimal places."
   ]
  },
  {
   "cell_type": "code",
   "execution_count": 137,
   "id": "d7713a2c",
   "metadata": {},
   "outputs": [
    {
     "name": "stdout",
     "output_type": "stream",
     "text": [
      "Enter an age (blank to stop): 3\n",
      "Enter an age (blank to stop): 5\n",
      "Enter an age (blank to stop): \n",
      "Your total is $28.00:\n"
     ]
    }
   ],
   "source": [
    "age_input = input('Enter an age (blank to stop): ')\n",
    "       \n",
    "total = 0\n",
    "    \n",
    "while age_input != '':  \n",
    "    age = int(age_input)         \n",
    "    if age <= 2:\n",
    "        total += 0.00\n",
    "    elif age <= 12:\n",
    "        total += 14.00\n",
    "    elif age <= 64:\n",
    "        total += 23.00\n",
    "    else:\n",
    "        total += 18.00\n",
    "        \n",
    "    age_input = input('Enter an age (blank to stop): ')\n",
    "    \n",
    "print('Your total is $%.2f:' %total)"
   ]
  },
  {
   "cell_type": "markdown",
   "id": "19ae5464",
   "metadata": {},
   "source": [
    "### "
   ]
  },
  {
   "cell_type": "code",
   "execution_count": null,
   "id": "adb07048",
   "metadata": {},
   "outputs": [],
   "source": []
  }
 ],
 "metadata": {
  "kernelspec": {
   "display_name": "Python 3 (unsupervised)",
   "language": "python",
   "name": "unsupervised"
  },
  "language_info": {
   "codemirror_mode": {
    "name": "ipython",
    "version": 3
   },
   "file_extension": ".py",
   "mimetype": "text/x-python",
   "name": "python",
   "nbconvert_exporter": "python",
   "pygments_lexer": "ipython3",
   "version": "3.8.12"
  }
 },
 "nbformat": 4,
 "nbformat_minor": 5
}

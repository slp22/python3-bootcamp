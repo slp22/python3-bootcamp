{
 "cells": [
  {
   "cell_type": "markdown",
   "id": "3a5e7a9a",
   "metadata": {},
   "source": [
    "[The Python Workbook: A Brief Introduction with Exercises and Solutions](https://link.springer.com/book/10.1007/978-3-319-14240-1) by Ben Stephenson"
   ]
  },
  {
   "cell_type": "markdown",
   "id": "910c4b9b",
   "metadata": {},
   "source": [
    "# loops (p 29) "
   ]
  },
  {
   "cell_type": "markdown",
   "id": "0db86f0c",
   "metadata": {},
   "source": [
    "## <span style=\"color:red\">#61 average</span>\n",
    "\n",
    "average of a collection of values by input; marks 0 as the end\n",
    "\n"
   ]
  },
  {
   "cell_type": "code",
   "execution_count": 9,
   "id": "1306ad6b",
   "metadata": {},
   "outputs": [
    {
     "name": "stdout",
     "output_type": "stream",
     "text": [
      "Enter a collection of values: 1 2 \n"
     ]
    },
    {
     "data": {
      "text/plain": [
       "3"
      ]
     },
     "execution_count": 9,
     "metadata": {},
     "output_type": "execute_result"
    }
   ],
   "source": [
    "user_input = input('Enter a collection of values: ')\n",
    "\n",
    "den = len(user_input) - 1\n",
    "\n",
    "den "
   ]
  },
  {
   "cell_type": "markdown",
   "id": "faa33d32",
   "metadata": {},
   "source": [
    "## #64 no more pennies\n",
    "\n",
    "Read in prices from user until blank line is entered. Display total cost of all entered items on one line, followed by the amount if customer pay with cash on second line. Amount due rounded to nearest nickel. "
   ]
  },
  {
   "cell_type": "code",
   "execution_count": 40,
   "id": "8f9a63c2",
   "metadata": {},
   "outputs": [
    {
     "name": "stdout",
     "output_type": "stream",
     "text": [
      "Enter cost: 12.12\n",
      "Enter cost: 12.12\n",
      "Enter cost: 12.12\n",
      "Enter cost: \n",
      "Pay this amount:  36.36\n",
      "round_indicator 1.0\n",
      "Pay this rounded amount:  36.35\n"
     ]
    }
   ],
   "source": [
    "user_input = input('Enter cost: ')\n",
    "\n",
    "total = 0\n",
    "\n",
    "while user_input != '':\n",
    "    total += float(user_input)\n",
    "    user_input = input('Enter cost: ')\n",
    "print('Pay this amount: ', total)\n",
    "\n",
    "round_indicator = (total * 100 % 5)\n",
    "print('round_indicator', round_indicator)\n",
    "\n",
    "if round_indicator < 2.5:\n",
    "    cash_total = total - round_indicator/100\n",
    "else:\n",
    "    cash_total = total + 0.05 - round_indicator/100\n",
    "    \n",
    "print('Pay this rounded amount: ', cash_total)"
   ]
  },
  {
   "cell_type": "markdown",
   "id": "75d0e135",
   "metadata": {},
   "source": [
    "## #65 compute perimeter polygon\n",
    "\n",
    "Write a program that computes the perimeter of a polygon. Begin by reading the x and y values for the first point on the perimeter of the polygon from the user. Then continue reading pairs of x and y values until the user enters a blank line for the x-coordinate. Each time you read an additional coordinate you should compute the distance to the previous point and add it to the perimeter. When a blank line is entered for the x-coordinate your program should add the distance from the last point back to the first point to the perimeter. Then it should display the total perimeter. Sample input and output is shown below, with user input shown in bold:\n",
    " \n",
    "- Enter the x part of the coordinate: **0**\n",
    "- Enter the y part of the coordinate: 0\n",
    "- Enter the x part of the coordinate: (blank to quit): 1 \n",
    "- Enter the y part of the coordinate: 0\n",
    "- Enter the x part of the coordinate: (blank to quit): 0 \n",
    "- Enter the y part of the coordinate: 1\n",
    "- Enter the x part of the coordinate: (blank to quit): \n",
    "- The perimeter of that polygon is 3.414213562373095\n"
   ]
  },
  {
   "cell_type": "code",
   "execution_count": 62,
   "id": "90df967b",
   "metadata": {},
   "outputs": [
    {
     "name": "stdout",
     "output_type": "stream",
     "text": [
      "Enter x:0\n",
      "Enter y:0\n",
      "Enter x (blank to quit): 1\n",
      "Enter y:0\n",
      "Enter x (blank to quit): 0\n",
      "Enter y:1\n",
      "Enter x (blank to quit): 1\n",
      "Enter y:1\n",
      "Enter x (blank to quit): \n",
      "perimeter is 4.82842712474619\n"
     ]
    }
   ],
   "source": [
    "from math import sqrt\n",
    "\n",
    "perimeter = 0\n",
    "\n",
    "first_x = float(input('Enter x:'))\n",
    "first_y = float(input('Enter y:'))\n",
    "\n",
    "prev_x = first_x\n",
    "prev_y = first_y\n",
    "\n",
    "line = input('Enter x (blank to quit): ')\n",
    "while line != '':\n",
    "    x = float(line)\n",
    "    y = float(input('Enter y:'))\n",
    "    \n",
    "    dist = sqrt((prev_x-x)**2 + (prev_y-y)**2)\n",
    "    perimeter += dist\n",
    "    \n",
    "    prev_x = x\n",
    "    prev_y = y\n",
    "    \n",
    "    line = input('Enter x (blank to quit): ')\n",
    "    \n",
    "dist = sqrt((first_x-x)**2 + (first_y-y)**2)\n",
    "perimeter += dist\n",
    "\n",
    "print('perimeter is', perimeter)"
   ]
  },
  {
   "cell_type": "markdown",
   "id": "f4f610cc",
   "metadata": {},
   "source": [
    "## #67 admission price\n",
    "\n",
    "A particular zoo determines the price of admission based on the age of the guest. Guests 2 years of age and less are admitted without charge. Children between 3 and 12 years of age cost 14.00. Seniors aged 65 years and over cost 18.00. Admission for all other guests is 23.00.\n",
    "<br/>\n",
    "<br/>\n",
    "Create a program that begins by reading the ages of all of the guests in a group from the user, with one age entered on each line. The user will enter a blank line to indicate that there are no more guests in the group. Then your program should display the admission cost for the group with an appropriate message. The cost should be displayed using two decimal places."
   ]
  },
  {
   "cell_type": "code",
   "execution_count": 137,
   "id": "91738215",
   "metadata": {},
   "outputs": [
    {
     "name": "stdout",
     "output_type": "stream",
     "text": [
      "Enter an age (blank to stop): 3\n",
      "Enter an age (blank to stop): 5\n",
      "Enter an age (blank to stop): \n",
      "Your total is $28.00:\n"
     ]
    }
   ],
   "source": [
    "age_input = input('Enter an age (blank to stop): ')\n",
    "       \n",
    "total = 0\n",
    "    \n",
    "while age_input != '':  \n",
    "    age = int(age_input)         \n",
    "    if age <= 2:\n",
    "        total += 0.00\n",
    "    elif age <= 12:\n",
    "        total += 14.00\n",
    "    elif age <= 64:\n",
    "        total += 23.00\n",
    "    else:\n",
    "        total += 18.00\n",
    "        \n",
    "    age_input = input('Enter an age (blank to stop): ')\n",
    "    \n",
    "print('Your total is $%.2f:' %total)"
   ]
  },
  {
   "cell_type": "markdown",
   "id": "4943a491",
   "metadata": {},
   "source": [
    "## #68 parity bits\n",
    "\n",
    "A parity bit is a simple mechanism for detecting errors in data transmitted over an unreliable connection such as a telephone line. The basic idea is that an additional bit is transmitted after each group of 8 bits so that a single bit error in the transmission can be detected.\n",
    "<br/>\n",
    "<br/>\n",
    "Parity bits can be computed for either even parity or odd parity. If even parity is selected then the parity bit that is transmitted is chosen so that the total number of one bits transmitted (8 bits of data plus the parity bit) is even. When odd parity is selected the parity bit is chosen so that the total number of one bits transmitted is odd.\n",
    "<br/>\n",
    "<br/>\n",
    "Write a program that computes the parity bit for groups of 8 bits entered by the user using even parity. Your program should read strings containing 8 bits until the user enters a blank line. After each string is entered by the user your program should display a clear message indicating whether the parity bit should be 0 or 1. Display an appropriate error message if the user enters something other than 8 bits.\n",
    "<br/>\n",
    "<br/>\n",
    "Hint: You should read the input from the user as a string. Then you can use the count method to help you determine the number of zeros and ones in the string. Information about the count method is available online."
   ]
  },
  {
   "cell_type": "code",
   "execution_count": null,
   "id": "a92d7c45",
   "metadata": {},
   "outputs": [
    {
     "name": "stdout",
     "output_type": "stream",
     "text": [
      "Enter 8 bits: 10101100\n",
      "The parity bit should be 0.\n",
      "Enter 8 bits: 1111\n",
      "Try again, not 8 bits.\n",
      "Enter 8 bits: 00000000\n",
      "The parity bit should be 0.\n"
     ]
    }
   ],
   "source": [
    "bit_input = input('Enter 8 bits: ')\n",
    "\n",
    "while bit_input != '':\n",
    "    if bit_input.count('0') + bit_input.count('1') != 8 or len(bit_input) != 8:\n",
    "        print('Try again, not 8 bits.')\n",
    "    else:\n",
    "        ones = bit_input.count('1')\n",
    "    \n",
    "        if ones % 2 == 0:\n",
    "            print('The parity bit should be 0.')\n",
    "        else:\n",
    "            print('The parity bit should be 1.')\n",
    "    bit_input = input('Enter 8 bits: ')"
   ]
  },
  {
   "cell_type": "code",
   "execution_count": null,
   "id": "411f172d",
   "metadata": {},
   "outputs": [],
   "source": []
  }
 ],
 "metadata": {
  "kernelspec": {
   "display_name": "Python 3 (unsupervised)",
   "language": "python",
   "name": "unsupervised"
  },
  "language_info": {
   "codemirror_mode": {
    "name": "ipython",
    "version": 3
   },
   "file_extension": ".py",
   "mimetype": "text/x-python",
   "name": "python",
   "nbconvert_exporter": "python",
   "pygments_lexer": "ipython3",
   "version": "3.8.12"
  }
 },
 "nbformat": 4,
 "nbformat_minor": 5
}

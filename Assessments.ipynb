{
 "cells": [
  {
   "cell_type": "markdown",
   "id": "b789ff55",
   "metadata": {},
   "source": [
    "## 00.09-Objects and Data Structures Assessment "
   ]
  },
  {
   "cell_type": "code",
   "execution_count": 1,
   "id": "d5fa311f",
   "metadata": {},
   "outputs": [
    {
     "data": {
      "text/plain": [
       "44"
      ]
     },
     "execution_count": 1,
     "metadata": {},
     "output_type": "execute_result"
    }
   ],
   "source": [
    "# 4 *11 = 44\n",
    "\n",
    "4 * (6+5)"
   ]
  },
  {
   "cell_type": "code",
   "execution_count": 4,
   "id": "de2bee9f",
   "metadata": {},
   "outputs": [
    {
     "data": {
      "text/plain": [
       "29"
      ]
     },
     "execution_count": 4,
     "metadata": {},
     "output_type": "execute_result"
    }
   ],
   "source": [
    "# 24 + 5 = 29\n",
    "4*6+5"
   ]
  },
  {
   "cell_type": "code",
   "execution_count": 6,
   "id": "56c09a72",
   "metadata": {},
   "outputs": [
    {
     "data": {
      "text/plain": [
       "34"
      ]
     },
     "execution_count": 6,
     "metadata": {},
     "output_type": "execute_result"
    }
   ],
   "source": [
    "# 4 + 30 = 50\n",
    "4 + 6 * 5"
   ]
  },
  {
   "cell_type": "code",
   "execution_count": 8,
   "id": "0d8e38a3",
   "metadata": {},
   "outputs": [
    {
     "data": {
      "text/plain": [
       "float"
      ]
     },
     "execution_count": 8,
     "metadata": {},
     "output_type": "execute_result"
    }
   ],
   "source": [
    "# float\n",
    "f = 3 + 1.5 + 3\n",
    "type(f)"
   ]
  },
  {
   "cell_type": "code",
   "execution_count": 111,
   "id": "6f624b1d",
   "metadata": {},
   "outputs": [
    {
     "name": "stdout",
     "output_type": "stream",
     "text": [
      "3.0\n",
      "4\n"
     ]
    }
   ],
   "source": [
    "# square root?\n",
    "print(9 ** 0.5)\n",
    "\n",
    "# square\n",
    "print(2 ** 2)"
   ]
  },
  {
   "cell_type": "code",
   "execution_count": 25,
   "id": "452f9066",
   "metadata": {},
   "outputs": [],
   "source": [
    "s = 'hello'"
   ]
  },
  {
   "cell_type": "code",
   "execution_count": 29,
   "id": "73e92625",
   "metadata": {},
   "outputs": [
    {
     "data": {
      "text/plain": [
       "'e'"
      ]
     },
     "execution_count": 29,
     "metadata": {},
     "output_type": "execute_result"
    }
   ],
   "source": [
    "s[1]"
   ]
  },
  {
   "cell_type": "code",
   "execution_count": 35,
   "id": "e2615f7d",
   "metadata": {},
   "outputs": [
    {
     "data": {
      "text/plain": [
       "'olleh'"
      ]
     },
     "execution_count": 35,
     "metadata": {},
     "output_type": "execute_result"
    }
   ],
   "source": [
    "s[::-1]"
   ]
  },
  {
   "cell_type": "code",
   "execution_count": 36,
   "id": "e9cd9bea",
   "metadata": {},
   "outputs": [
    {
     "data": {
      "text/plain": [
       "'o'"
      ]
     },
     "execution_count": 36,
     "metadata": {},
     "output_type": "execute_result"
    }
   ],
   "source": [
    "s[-1]"
   ]
  },
  {
   "cell_type": "code",
   "execution_count": 37,
   "id": "9ad335b8",
   "metadata": {},
   "outputs": [
    {
     "data": {
      "text/plain": [
       "'o'"
      ]
     },
     "execution_count": 37,
     "metadata": {},
     "output_type": "execute_result"
    }
   ],
   "source": [
    "s[4]"
   ]
  },
  {
   "cell_type": "code",
   "execution_count": 115,
   "id": "8b70f46a",
   "metadata": {},
   "outputs": [
    {
     "name": "stdout",
     "output_type": "stream",
     "text": [
      "list1 = [0,0,0]\n",
      "[0, 0, 0]\n"
     ]
    }
   ],
   "source": [
    "# list1 = [0,0,0]\n",
    "\n",
    "print('list1 = [0,0,0]')\n",
    "print([0]*3)"
   ]
  },
  {
   "cell_type": "code",
   "execution_count": 47,
   "id": "ace83a33",
   "metadata": {},
   "outputs": [
    {
     "data": {
      "text/plain": [
       "[1, 2, [3, 4, 'hello']]"
      ]
     },
     "execution_count": 47,
     "metadata": {},
     "output_type": "execute_result"
    }
   ],
   "source": [
    "list3 = [1,2,[3,4,'hello']]\n",
    "list3"
   ]
  },
  {
   "cell_type": "code",
   "execution_count": 60,
   "id": "3d43101c",
   "metadata": {},
   "outputs": [],
   "source": [
    "list3[2][2] = 'goodbye'"
   ]
  },
  {
   "cell_type": "code",
   "execution_count": 61,
   "id": "1cc05475",
   "metadata": {},
   "outputs": [
    {
     "data": {
      "text/plain": [
       "[1, 2, [3, 4, 'goodbye']]"
      ]
     },
     "execution_count": 61,
     "metadata": {},
     "output_type": "execute_result"
    }
   ],
   "source": [
    "list3"
   ]
  },
  {
   "cell_type": "code",
   "execution_count": 64,
   "id": "3bf9fd0e",
   "metadata": {},
   "outputs": [],
   "source": [
    "# list4 = [5,3,4,6,1]\n",
    "list4 = [5,3,4,6,1]"
   ]
  },
  {
   "cell_type": "code",
   "execution_count": 116,
   "id": "1c3e00b0",
   "metadata": {},
   "outputs": [
    {
     "data": {
      "text/plain": [
       "[1, 3, 4, 5, 6]"
      ]
     },
     "execution_count": 116,
     "metadata": {},
     "output_type": "execute_result"
    }
   ],
   "source": [
    "# list4.sort()\n",
    "sorted(list4)"
   ]
  },
  {
   "cell_type": "code",
   "execution_count": 117,
   "id": "8ca070a0",
   "metadata": {},
   "outputs": [
    {
     "data": {
      "text/plain": [
       "[1, 3, 4, 5, 6]"
      ]
     },
     "execution_count": 117,
     "metadata": {},
     "output_type": "execute_result"
    }
   ],
   "source": [
    "list4"
   ]
  },
  {
   "cell_type": "code",
   "execution_count": 79,
   "id": "bc880bc6",
   "metadata": {},
   "outputs": [
    {
     "data": {
      "text/plain": [
       "'hello'"
      ]
     },
     "execution_count": 79,
     "metadata": {},
     "output_type": "execute_result"
    }
   ],
   "source": [
    "d = {'simple_key': 'hello'}\n",
    "d['simple_key']"
   ]
  },
  {
   "cell_type": "code",
   "execution_count": 82,
   "id": "11dbe29b",
   "metadata": {},
   "outputs": [
    {
     "data": {
      "text/plain": [
       "'hello'"
      ]
     },
     "execution_count": 82,
     "metadata": {},
     "output_type": "execute_result"
    }
   ],
   "source": [
    "d = {'k1':{'k2':'hello'}}\n",
    "d['k1']['k2']"
   ]
  },
  {
   "cell_type": "code",
   "execution_count": 96,
   "id": "23527d88",
   "metadata": {},
   "outputs": [
    {
     "data": {
      "text/plain": [
       "'hello'"
      ]
     },
     "execution_count": 96,
     "metadata": {},
     "output_type": "execute_result"
    }
   ],
   "source": [
    "d = {'k1':[{'nest_key':['this is deep',['hello']]}]}\n",
    "d['k1'][0]['nest_key'][1][0]"
   ]
  },
  {
   "cell_type": "code",
   "execution_count": 131,
   "id": "e285af18",
   "metadata": {},
   "outputs": [
    {
     "data": {
      "text/plain": [
       "'hello'"
      ]
     },
     "execution_count": 131,
     "metadata": {},
     "output_type": "execute_result"
    }
   ],
   "source": [
    "d = {'k1':[1,2,{'k2':['this is tricky',{'tough':[1,2,['hello']]}]}]}\n",
    "d['k1'][2]['k2'][1]['tough'][2][0]"
   ]
  },
  {
   "cell_type": "code",
   "execution_count": 98,
   "id": "b64f690a",
   "metadata": {},
   "outputs": [
    {
     "data": {
      "text/plain": [
       "[1, 2, 2, 33, 4, 4, 11, 22, 3, 3, 2]"
      ]
     },
     "execution_count": 98,
     "metadata": {},
     "output_type": "execute_result"
    }
   ],
   "source": [
    "list5 = [1,2,2,33,4,4,11,22,3,3,2]\n",
    "list5"
   ]
  },
  {
   "cell_type": "code",
   "execution_count": 100,
   "id": "9d5df497",
   "metadata": {},
   "outputs": [
    {
     "data": {
      "text/plain": [
       "{1, 2, 3, 4, 11, 22, 33}"
      ]
     },
     "execution_count": 100,
     "metadata": {},
     "output_type": "execute_result"
    }
   ],
   "source": [
    "set(list5)"
   ]
  },
  {
   "cell_type": "code",
   "execution_count": 101,
   "id": "29a0a96f",
   "metadata": {},
   "outputs": [
    {
     "data": {
      "text/plain": [
       "False"
      ]
     },
     "execution_count": 101,
     "metadata": {},
     "output_type": "execute_result"
    }
   ],
   "source": [
    "# F\n",
    "\n",
    "2>3"
   ]
  },
  {
   "cell_type": "code",
   "execution_count": 102,
   "id": "3b00528c",
   "metadata": {},
   "outputs": [
    {
     "data": {
      "text/plain": [
       "False"
      ]
     },
     "execution_count": 102,
     "metadata": {},
     "output_type": "execute_result"
    }
   ],
   "source": [
    "# F\n",
    "3 <=2"
   ]
  },
  {
   "cell_type": "code",
   "execution_count": 103,
   "id": "14e95187",
   "metadata": {},
   "outputs": [
    {
     "data": {
      "text/plain": [
       "False"
      ]
     },
     "execution_count": 103,
     "metadata": {},
     "output_type": "execute_result"
    }
   ],
   "source": [
    "# F\n",
    "3 == 2.0"
   ]
  },
  {
   "cell_type": "code",
   "execution_count": 104,
   "id": "cefe22f6",
   "metadata": {},
   "outputs": [
    {
     "data": {
      "text/plain": [
       "True"
      ]
     },
     "execution_count": 104,
     "metadata": {},
     "output_type": "execute_result"
    }
   ],
   "source": [
    "# T\n",
    "3.0 == 3"
   ]
  },
  {
   "cell_type": "code",
   "execution_count": 105,
   "id": "96af4c75",
   "metadata": {},
   "outputs": [
    {
     "data": {
      "text/plain": [
       "False"
      ]
     },
     "execution_count": 105,
     "metadata": {},
     "output_type": "execute_result"
    }
   ],
   "source": [
    "# F\n",
    "4**0.5 != 2"
   ]
  },
  {
   "cell_type": "code",
   "execution_count": 106,
   "id": "46f854d3",
   "metadata": {},
   "outputs": [
    {
     "data": {
      "text/plain": [
       "False"
      ]
     },
     "execution_count": 106,
     "metadata": {},
     "output_type": "execute_result"
    }
   ],
   "source": [
    "# two nested list\n",
    "l_one = [1,2,[3,4]]\n",
    "l_two = [1,2,{'k1':4}]\n",
    "\n",
    "# 3 >= 4 F\n",
    "l_one[2][0] >= l_two[2]['k1']"
   ]
  },
  {
   "cell_type": "markdown",
   "id": "747b9d9e",
   "metadata": {},
   "source": [
    "## 2-Python Statements/07-Statements Assessment Test.ipynb"
   ]
  },
  {
   "cell_type": "code",
   "execution_count": 134,
   "id": "3b0e4247",
   "metadata": {},
   "outputs": [
    {
     "data": {
      "text/plain": [
       "'Print only the words that start with s in this sentence'"
      ]
     },
     "execution_count": 134,
     "metadata": {},
     "output_type": "execute_result"
    }
   ],
   "source": [
    "st = 'Print only the words that start with s in this sentence'\n",
    "st"
   ]
  },
  {
   "cell_type": "code",
   "execution_count": 143,
   "id": "ba1fdd4d",
   "metadata": {},
   "outputs": [
    {
     "name": "stdout",
     "output_type": "stream",
     "text": [
      "start\n",
      "s\n",
      "sentence\n"
     ]
    }
   ],
   "source": [
    "for word in st.split():\n",
    "    if word[0] == 's':\n",
    "        print(word)\n",
    "        \n"
   ]
  },
  {
   "cell_type": "code",
   "execution_count": 175,
   "id": "aca9f9de",
   "metadata": {},
   "outputs": [
    {
     "data": {
      "text/plain": [
       "[0, 2, 4, 6, 8, 10]"
      ]
     },
     "execution_count": 175,
     "metadata": {},
     "output_type": "execute_result"
    }
   ],
   "source": [
    "# for i in range(0,11):\n",
    "#     if i%2==0:\n",
    "#         print(i)\n",
    "\n",
    "list(range(0,11,2))"
   ]
  },
  {
   "cell_type": "code",
   "execution_count": 176,
   "id": "c6637353",
   "metadata": {},
   "outputs": [
    {
     "ename": "SyntaxError",
     "evalue": "unexpected EOF while parsing (3393794501.py, line 3)",
     "output_type": "error",
     "traceback": [
      "\u001b[0;36m  Input \u001b[0;32mIn [176]\u001b[0;36m\u001b[0m\n\u001b[0;31m    #         print(i)\u001b[0m\n\u001b[0m                      ^\u001b[0m\n\u001b[0;31mSyntaxError\u001b[0m\u001b[0;31m:\u001b[0m unexpected EOF while parsing\n"
     ]
    }
   ],
   "source": [
    "for i in range(1,51):\n",
    "    if i%3 ==0:\n",
    "#         print(i)"
   ]
  },
  {
   "cell_type": "code",
   "execution_count": 163,
   "id": "4f744daa",
   "metadata": {},
   "outputs": [
    {
     "data": {
      "text/plain": [
       "[3, 6, 9, 12, 15, 18, 21, 24, 27, 30, 33, 36, 39, 42, 45, 48]"
      ]
     },
     "execution_count": 163,
     "metadata": {},
     "output_type": "execute_result"
    }
   ],
   "source": [
    "lst = [i for i in range(1,51) if i%3==0]\n",
    "lst"
   ]
  },
  {
   "cell_type": "code",
   "execution_count": 164,
   "id": "1d12cb4e",
   "metadata": {},
   "outputs": [
    {
     "data": {
      "text/plain": [
       "'Print every word in this sentence that has an even number of letters'"
      ]
     },
     "execution_count": 164,
     "metadata": {},
     "output_type": "execute_result"
    }
   ],
   "source": [
    "st = 'Print every word in this sentence that has an even number of letters'\n",
    "st"
   ]
  },
  {
   "cell_type": "code",
   "execution_count": 167,
   "id": "c1aea528",
   "metadata": {},
   "outputs": [
    {
     "name": "stdout",
     "output_type": "stream",
     "text": [
      "even word\n",
      "even in\n",
      "even this\n",
      "even sentence\n",
      "even that\n",
      "even an\n",
      "even even\n",
      "even number\n",
      "even of\n"
     ]
    }
   ],
   "source": [
    "for w in st.split():\n",
    "    if len(w)%2==0:\n",
    "        print('even', w)"
   ]
  },
  {
   "cell_type": "code",
   "execution_count": null,
   "id": "97b488b4",
   "metadata": {},
   "outputs": [],
   "source": [
    "# Write a program that prints the integers from 1 to 100. \n",
    "# multiples of three print \"Fizz\" instead of the number, \n",
    "# multiples of five print \"Buzz\". \n",
    "# For numbers which are multiples of both three and five print \"FizzBuzz\"."
   ]
  },
  {
   "cell_type": "code",
   "execution_count": 170,
   "id": "5dfe5149",
   "metadata": {},
   "outputs": [
    {
     "name": "stdout",
     "output_type": "stream",
     "text": [
      "1\n",
      "2\n",
      "Fizz\n",
      "4\n",
      "Buzz\n",
      "Fizz\n",
      "7\n",
      "8\n",
      "Fizz\n",
      "Buzz\n",
      "11\n",
      "Fizz\n",
      "13\n",
      "14\n",
      "FizzBuzz\n",
      "16\n",
      "17\n",
      "Fizz\n",
      "19\n",
      "Buzz\n",
      "Fizz\n",
      "22\n",
      "23\n",
      "Fizz\n",
      "Buzz\n",
      "26\n",
      "Fizz\n",
      "28\n",
      "29\n",
      "FizzBuzz\n",
      "31\n",
      "32\n",
      "Fizz\n",
      "34\n",
      "Buzz\n",
      "Fizz\n",
      "37\n",
      "38\n",
      "Fizz\n",
      "Buzz\n",
      "41\n",
      "Fizz\n",
      "43\n",
      "44\n",
      "FizzBuzz\n",
      "46\n",
      "47\n",
      "Fizz\n",
      "49\n",
      "Buzz\n",
      "Fizz\n",
      "52\n",
      "53\n",
      "Fizz\n",
      "Buzz\n",
      "56\n",
      "Fizz\n",
      "58\n",
      "59\n",
      "FizzBuzz\n",
      "61\n",
      "62\n",
      "Fizz\n",
      "64\n",
      "Buzz\n",
      "Fizz\n",
      "67\n",
      "68\n",
      "Fizz\n",
      "Buzz\n",
      "71\n",
      "Fizz\n",
      "73\n",
      "74\n",
      "FizzBuzz\n",
      "76\n",
      "77\n",
      "Fizz\n",
      "79\n",
      "Buzz\n",
      "Fizz\n",
      "82\n",
      "83\n",
      "Fizz\n",
      "Buzz\n",
      "86\n",
      "Fizz\n",
      "88\n",
      "89\n",
      "FizzBuzz\n",
      "91\n",
      "92\n",
      "Fizz\n",
      "94\n",
      "Buzz\n",
      "Fizz\n",
      "97\n",
      "98\n",
      "Fizz\n",
      "Buzz\n"
     ]
    }
   ],
   "source": [
    "for i in range(1,101):\n",
    "    if i%3==0 and i%5==0:\n",
    "        print('FizzBuzz')\n",
    "    elif i%3==0:\n",
    "        print('Fizz')\n",
    "    elif i%5==0:\n",
    "        print('Buzz')\n",
    "    else:\n",
    "        print(i)"
   ]
  },
  {
   "cell_type": "code",
   "execution_count": 172,
   "id": "0ce4929f",
   "metadata": {},
   "outputs": [
    {
     "data": {
      "text/plain": [
       "'Create a list of the first letters of every word in this string'"
      ]
     },
     "execution_count": 172,
     "metadata": {},
     "output_type": "execute_result"
    }
   ],
   "source": [
    "st = 'Create a list of the first letters of every word in this string'\n",
    "st"
   ]
  },
  {
   "cell_type": "code",
   "execution_count": 178,
   "id": "28671bc4",
   "metadata": {},
   "outputs": [],
   "source": [
    "lst = [x[0] for x in st.split()]"
   ]
  },
  {
   "cell_type": "code",
   "execution_count": 179,
   "id": "0da58812",
   "metadata": {},
   "outputs": [
    {
     "data": {
      "text/plain": [
       "['C', 'a', 'l', 'o', 't', 'f', 'l', 'o', 'e', 'w', 'i', 't', 's']"
      ]
     },
     "execution_count": 179,
     "metadata": {},
     "output_type": "execute_result"
    }
   ],
   "source": [
    "lst"
   ]
  },
  {
   "cell_type": "code",
   "execution_count": null,
   "id": "6653f55a",
   "metadata": {},
   "outputs": [],
   "source": []
  },
  {
   "cell_type": "markdown",
   "id": "b6658249",
   "metadata": {},
   "source": [
    "## 0"
   ]
  }
 ],
 "metadata": {
  "kernelspec": {
   "display_name": "Python 3 (unsupervised)",
   "language": "python",
   "name": "unsupervised"
  },
  "language_info": {
   "codemirror_mode": {
    "name": "ipython",
    "version": 3
   },
   "file_extension": ".py",
   "mimetype": "text/x-python",
   "name": "python",
   "nbconvert_exporter": "python",
   "pygments_lexer": "ipython3",
   "version": "3.8.12"
  }
 },
 "nbformat": 4,
 "nbformat_minor": 5
}

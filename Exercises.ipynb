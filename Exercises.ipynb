{
 "cells": [
  {
   "cell_type": "markdown",
   "id": "50ff5ff3",
   "metadata": {},
   "source": [
    "# Code Exercises"
   ]
  },
  {
   "cell_type": "markdown",
   "id": "23180832",
   "metadata": {},
   "source": [
    "### Functions #8: *args\n",
    "Define a function called myfunc that takes in an arbitrary number of arguments, and returns the sum of those arguments."
   ]
  },
  {
   "cell_type": "code",
   "execution_count": 449,
   "id": "a4fca1b9",
   "metadata": {},
   "outputs": [],
   "source": [
    "def myfunc(*args):\n",
    "    return sum(args)"
   ]
  },
  {
   "cell_type": "code",
   "execution_count": null,
   "id": "11ace911",
   "metadata": {},
   "outputs": [],
   "source": [
    "myfunc(1,2,3)"
   ]
  },
  {
   "cell_type": "markdown",
   "id": "ed652199",
   "metadata": {},
   "source": [
    "### Functions #9: pick evens\n",
    "Define a function called myfunc that takes in an arbitrary number of arguments, and returns a list containing only those arguments that are even."
   ]
  },
  {
   "cell_type": "code",
   "execution_count": null,
   "id": "0e400355",
   "metadata": {},
   "outputs": [],
   "source": [
    "def myfunc(*args):\n",
    "    evens = []\n",
    "    for a in args:\n",
    "        if a %2 == 0:\n",
    "            evens.append(a)\n",
    "    return evens"
   ]
  },
  {
   "cell_type": "code",
   "execution_count": null,
   "id": "292b54d7",
   "metadata": {},
   "outputs": [],
   "source": [
    "myfunc(1,2,3,4)"
   ]
  },
  {
   "cell_type": "markdown",
   "id": "45528a3e",
   "metadata": {},
   "source": [
    "### Functions #10: skyline\n",
    "Define a function called myfunc that takes in a string, and returns a matching string where every even letter is uppercase, and every odd letter is lowercase. Assume that the incoming string only contains letters, and don't worry about numbers, spaces or punctuation. The output string can start with either an uppercase or lowercase letter, so long as letters alternate throughout the string."
   ]
  },
  {
   "cell_type": "code",
   "execution_count": null,
   "id": "28aa8b4f",
   "metadata": {},
   "outputs": [],
   "source": [
    "def myfunc(my_string):\n",
    "    matching_string = ''\n",
    "    for i in my_string:\n",
    "        if len(my_string) % 2 ==0:\n",
    "            matching_string + a.upper()\n",
    "        else:\n",
    "             pass\n",
    "    return matching_string\n",
    "    "
   ]
  },
  {
   "cell_type": "code",
   "execution_count": null,
   "id": "e6c76c20",
   "metadata": {},
   "outputs": [],
   "source": [
    "def myfunc(a_string):\n",
    "    b_string = '123'\n",
    "    for i in a_string:\n",
    "        if index\n",
    "    \n",
    "    \n",
    "    return b_string + 'hello'"
   ]
  },
  {
   "cell_type": "code",
   "execution_count": null,
   "id": "96474f10",
   "metadata": {},
   "outputs": [],
   "source": [
    "my_string = 'abcde'\n",
    "myfunc('abcde')"
   ]
  },
  {
   "cell_type": "markdown",
   "id": "3a196baa",
   "metadata": {},
   "source": [
    "# [03-Methods and Functions/03-Function Practice Exercises.ipynb](https://github.com/slp22/Complete-Python-3-Bootcamp/blob/master/03-Methods%20and%20Functions/03-Function%20Practice%20Exercises.ipynb)"
   ]
  },
  {
   "cell_type": "markdown",
   "id": "3b03a830",
   "metadata": {},
   "source": [
    "### Warm Up"
   ]
  },
  {
   "cell_type": "code",
   "execution_count": null,
   "id": "82631224",
   "metadata": {},
   "outputs": [],
   "source": [
    "# lesser of two evens\n",
    "# returns the lesser of two given numbers if both numbers are even\n",
    "# returns the greater if one or both numbers are odd\n",
    "\n",
    "def lesser_of_two_evens(a,b):\n",
    "    # if one odd, return greater num\n",
    "    if a%2==0 and b%2==0:\n",
    "        if a<b:\n",
    "            return a\n",
    "        else:\n",
    "            return b\n",
    "    if a%2!=0 or b%2!=0:\n",
    "        if a > b:\n",
    "            return a\n",
    "        else:\n",
    "            return b\n",
    "        \n",
    "    # if both nums are even, return lesser num\n"
   ]
  },
  {
   "cell_type": "code",
   "execution_count": null,
   "id": "224e6a16",
   "metadata": {},
   "outputs": [],
   "source": [
    "lesser_of_two_evens(2,4)"
   ]
  },
  {
   "cell_type": "code",
   "execution_count": null,
   "id": "bea1a560",
   "metadata": {},
   "outputs": [],
   "source": [
    "lesser_of_two_evens(2,5)"
   ]
  },
  {
   "cell_type": "code",
   "execution_count": null,
   "id": "f454b99f",
   "metadata": {},
   "outputs": [],
   "source": [
    "# animal cracker\n",
    "# two-word string and returns True if both words begin with same letter\n",
    "\n",
    "def animal_crackers(text):\n",
    "    text_list = text.split()\n",
    "    text_list_1 = text_list[0][0]\n",
    "    text_list_2 = text_list[1][0]    \n",
    "    return text_list_1 == text_list_2"
   ]
  },
  {
   "cell_type": "code",
   "execution_count": null,
   "id": "388dbe26",
   "metadata": {},
   "outputs": [],
   "source": [
    "animal_crackers('Levelheaded Llama')\n"
   ]
  },
  {
   "cell_type": "code",
   "execution_count": null,
   "id": "af981ef7",
   "metadata": {},
   "outputs": [],
   "source": [
    "animal_crackers('Crazy Kangaroo')\n"
   ]
  },
  {
   "cell_type": "code",
   "execution_count": null,
   "id": "60f8d615",
   "metadata": {},
   "outputs": [],
   "source": [
    "# makes twenty\n",
    "# true if the sum of the integers is 20 or \n",
    "# true if one of the integers is 20. \n",
    "# If not, return False\n",
    "\n",
    "def makes_twenty(n1, n2):\n",
    "    if n1 == 20 or n2 == 20:\n",
    "        return True\n",
    "    elif n1+n2 == 20:\n",
    "        return True\n",
    "    else:\n",
    "        return False\n",
    "    "
   ]
  },
  {
   "cell_type": "code",
   "execution_count": null,
   "id": "23c1507b",
   "metadata": {},
   "outputs": [],
   "source": [
    "makes_twenty(20,10)"
   ]
  },
  {
   "cell_type": "code",
   "execution_count": null,
   "id": "d8e0e367",
   "metadata": {},
   "outputs": [],
   "source": [
    "makes_twenty(2,3)"
   ]
  },
  {
   "cell_type": "markdown",
   "id": "379309ae",
   "metadata": {},
   "source": [
    "### Level One"
   ]
  },
  {
   "cell_type": "code",
   "execution_count": 148,
   "id": "ce876a6f",
   "metadata": {},
   "outputs": [],
   "source": [
    "# ❗️ assigns name[3] to letter D and capitalizes the last D; need logic to cap D the first time\n",
    "# old macdonald\n",
    "# Write a function that capitalizes the first and fourth letters of a name\n",
    "\n",
    "def old_macdonald(name):\n",
    "    new_name = ''\n",
    "    for i in name:\n",
    "        if i == name[0] or i == name[3]:\n",
    "            new_name += i.upper()\n",
    "        else:\n",
    "            new_name += i\n",
    "    return new_name\n"
   ]
  },
  {
   "cell_type": "code",
   "execution_count": 149,
   "id": "42c274d7",
   "metadata": {},
   "outputs": [
    {
     "data": {
      "text/plain": [
       "'MacDonalD'"
      ]
     },
     "execution_count": 149,
     "metadata": {},
     "output_type": "execute_result"
    }
   ],
   "source": [
    "old_macdonald('macdonald')"
   ]
  },
  {
   "cell_type": "code",
   "execution_count": null,
   "id": "12432b72",
   "metadata": {},
   "outputs": [],
   "source": [
    "# master yoda\n",
    "# return sentence in reverse\n",
    "\n",
    "def master_yoda(text):\n",
    "    return text.split()[::-1]"
   ]
  },
  {
   "cell_type": "code",
   "execution_count": null,
   "id": "0aabd01f",
   "metadata": {},
   "outputs": [],
   "source": [
    "master_yoda('I am home')"
   ]
  },
  {
   "cell_type": "code",
   "execution_count": null,
   "id": "444935bb",
   "metadata": {},
   "outputs": [],
   "source": [
    "master_yoda('We are ready')"
   ]
  },
  {
   "cell_type": "code",
   "execution_count": null,
   "id": "4e2dd588",
   "metadata": {},
   "outputs": [],
   "source": [
    "# almost there\n",
    "# return True if n is within 10 of either 100 or 200\n",
    "\n",
    "def almost_there(n):\n",
    "    return 90 < n < 110 or 190 < n < 210"
   ]
  },
  {
   "cell_type": "code",
   "execution_count": null,
   "id": "43c3c3bd",
   "metadata": {},
   "outputs": [],
   "source": [
    "almost_there(104)"
   ]
  },
  {
   "cell_type": "code",
   "execution_count": null,
   "id": "38f06d57",
   "metadata": {},
   "outputs": [],
   "source": [
    "almost_there(150)"
   ]
  },
  {
   "cell_type": "code",
   "execution_count": null,
   "id": "74f8581b",
   "metadata": {},
   "outputs": [],
   "source": [
    "almost_there(209)"
   ]
  },
  {
   "cell_type": "markdown",
   "id": "128a0f35",
   "metadata": {},
   "source": [
    "### Level Two"
   ]
  },
  {
   "cell_type": "code",
   "execution_count": null,
   "id": "23266fff",
   "metadata": {},
   "outputs": [],
   "source": [
    "# find 33\n",
    "# True if array has a 3 next to a 3 somewhere\n",
    "\n",
    "def has_33(nums):\n",
    "    return nums[0] == nums[1] or nums[1] == nums[2]"
   ]
  },
  {
   "cell_type": "code",
   "execution_count": null,
   "id": "dd095575",
   "metadata": {},
   "outputs": [],
   "source": [
    "has_33([1, 3, 3])"
   ]
  },
  {
   "cell_type": "code",
   "execution_count": null,
   "id": "1b3a56fe",
   "metadata": {},
   "outputs": [],
   "source": [
    "has_33([1, 3, 1, 3])"
   ]
  },
  {
   "cell_type": "code",
   "execution_count": null,
   "id": "d5d5c3d9",
   "metadata": {},
   "outputs": [],
   "source": [
    "has_33([3, 1, 3])"
   ]
  },
  {
   "cell_type": "code",
   "execution_count": 258,
   "id": "d677bfcb",
   "metadata": {},
   "outputs": [],
   "source": [
    "# paper doll\n",
    "# return string where for every character in the orignial there are three characters\n",
    "\n",
    "def paper_doll(text):\n",
    "    new_text = ''\n",
    "    for i in text:\n",
    "        new_text += i*3\n",
    "    return new_text"
   ]
  },
  {
   "cell_type": "code",
   "execution_count": 259,
   "id": "4bf42e45",
   "metadata": {},
   "outputs": [
    {
     "data": {
      "text/plain": [
       "'HHHeeellllllooo'"
      ]
     },
     "execution_count": 259,
     "metadata": {},
     "output_type": "execute_result"
    }
   ],
   "source": [
    "paper_doll('Hello')"
   ]
  },
  {
   "cell_type": "code",
   "execution_count": 260,
   "id": "3a1d6014",
   "metadata": {},
   "outputs": [
    {
     "data": {
      "text/plain": [
       "'MMMiiissssssiiissssssiiippppppiii'"
      ]
     },
     "execution_count": 260,
     "metadata": {},
     "output_type": "execute_result"
    }
   ],
   "source": [
    "paper_doll('Mississippi')"
   ]
  },
  {
   "cell_type": "code",
   "execution_count": 254,
   "id": "2f4e4f48",
   "metadata": {},
   "outputs": [],
   "source": [
    "# blackjack\n",
    "# three integers between 1 and 11, \n",
    "# if their sum is less than or equal to 21, return their sum. \n",
    "# If their sum exceeds 21 and there's an eleven, reduce the total sum by 10. \n",
    "# Finally, if the sum (even after adjustment) exceeds 21, return 'BUST'\n",
    "\n",
    "def blackjack(a,b,c):\n",
    "    total = a+b+c\n",
    "    adj_total = total - 10\n",
    "#     print('sum',total)\n",
    "    if c==11 or b==11 or a==11:\n",
    "        total = adj_total\n",
    "        if total <= 21:\n",
    "            return total\n",
    "    elif total <= 21:\n",
    "        return total\n",
    "    else:\n",
    "        return 'BUST'\n"
   ]
  },
  {
   "cell_type": "code",
   "execution_count": 255,
   "id": "7e1c0f4d",
   "metadata": {},
   "outputs": [
    {
     "data": {
      "text/plain": [
       "18"
      ]
     },
     "execution_count": 255,
     "metadata": {},
     "output_type": "execute_result"
    }
   ],
   "source": [
    "blackjack(5,6,7)"
   ]
  },
  {
   "cell_type": "code",
   "execution_count": 256,
   "id": "f4c94a94",
   "metadata": {},
   "outputs": [
    {
     "data": {
      "text/plain": [
       "19"
      ]
     },
     "execution_count": 256,
     "metadata": {},
     "output_type": "execute_result"
    }
   ],
   "source": [
    "blackjack(9,9,11)"
   ]
  },
  {
   "cell_type": "code",
   "execution_count": 257,
   "id": "d7904034",
   "metadata": {},
   "outputs": [
    {
     "data": {
      "text/plain": [
       "'BUST'"
      ]
     },
     "execution_count": 257,
     "metadata": {},
     "output_type": "execute_result"
    }
   ],
   "source": [
    "blackjack(9,9,9)"
   ]
  },
  {
   "cell_type": "code",
   "execution_count": 444,
   "id": "643eb391",
   "metadata": {},
   "outputs": [],
   "source": [
    "# summer of '69\n",
    "# return sum of the numbers in the array\n",
    "# except ignore sections of numbers starting with a 6 and extending to the next 9 \n",
    "# (every 6 will be followed by at least one 9). \n",
    "# Return 0 for no numbers.\n",
    "\n",
    "def summer_69(arr):\n",
    "#     print(arr)\n",
    "    if 6 in arr:\n",
    "#         print('len of array is ', len(arr))\n",
    "        start = arr.index(6)\n",
    "        stop = arr.index(9) + 1\n",
    "#         print('pop range of indicies :', start,',', stop)\n",
    "        front_arr = arr[:start]\n",
    "#         print('front_arr is ',front_arr)\n",
    "        back_arr = arr[stop:]\n",
    "#         print('back_arr is ', back_arr)\n",
    "        new_arr = front_arr + back_arr\n",
    "        print('new_arr', new_arr) \n",
    "        return sum(new_arr)\n",
    "        if new_arr == 0:\n",
    "            return 0\n",
    "    else:\n",
    "        return sum(arr)"
   ]
  },
  {
   "cell_type": "code",
   "execution_count": 445,
   "id": "ff0c1d69",
   "metadata": {},
   "outputs": [
    {
     "name": "stdout",
     "output_type": "stream",
     "text": [
      "new_arr []\n"
     ]
    },
    {
     "data": {
      "text/plain": [
       "0"
      ]
     },
     "execution_count": 445,
     "metadata": {},
     "output_type": "execute_result"
    }
   ],
   "source": [
    "summer_69([6, 7, 8, 9])"
   ]
  },
  {
   "cell_type": "code",
   "execution_count": 446,
   "id": "a2b25cb9",
   "metadata": {},
   "outputs": [
    {
     "data": {
      "text/plain": [
       "9"
      ]
     },
     "execution_count": 446,
     "metadata": {},
     "output_type": "execute_result"
    }
   ],
   "source": [
    "summer_69([1, 3, 5])"
   ]
  },
  {
   "cell_type": "code",
   "execution_count": 447,
   "id": "bad5eb69",
   "metadata": {},
   "outputs": [
    {
     "name": "stdout",
     "output_type": "stream",
     "text": [
      "new_arr [4, 5]\n"
     ]
    },
    {
     "data": {
      "text/plain": [
       "9"
      ]
     },
     "execution_count": 447,
     "metadata": {},
     "output_type": "execute_result"
    }
   ],
   "source": [
    "summer_69([4, 5, 6, 7, 8, 9])"
   ]
  },
  {
   "cell_type": "code",
   "execution_count": 448,
   "id": "1def11cd",
   "metadata": {},
   "outputs": [
    {
     "name": "stdout",
     "output_type": "stream",
     "text": [
      "new_arr [2, 1, 11]\n"
     ]
    },
    {
     "data": {
      "text/plain": [
       "14"
      ]
     },
     "execution_count": 448,
     "metadata": {},
     "output_type": "execute_result"
    }
   ],
   "source": [
    "summer_69([2, 1, 6, 9, 11])"
   ]
  }
 ],
 "metadata": {
  "kernelspec": {
   "display_name": "Python 3 (unsupervised)",
   "language": "python",
   "name": "unsupervised"
  },
  "language_info": {
   "codemirror_mode": {
    "name": "ipython",
    "version": 3
   },
   "file_extension": ".py",
   "mimetype": "text/x-python",
   "name": "python",
   "nbconvert_exporter": "python",
   "pygments_lexer": "ipython3",
   "version": "3.8.12"
  }
 },
 "nbformat": 4,
 "nbformat_minor": 5
}

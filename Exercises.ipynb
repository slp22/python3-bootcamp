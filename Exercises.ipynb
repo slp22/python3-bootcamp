{
 "cells": [
  {
   "cell_type": "markdown",
   "id": "50ff5ff3",
   "metadata": {},
   "source": [
    "# Code Exercises"
   ]
  },
  {
   "cell_type": "markdown",
   "id": "23180832",
   "metadata": {},
   "source": [
    "### Functions #8: *args\n",
    "Define a function called myfunc that takes in an arbitrary number of arguments, and returns the sum of those arguments."
   ]
  },
  {
   "cell_type": "code",
   "execution_count": 38,
   "id": "a4fca1b9",
   "metadata": {},
   "outputs": [],
   "source": [
    "def myfunc(*args):\n",
    "    return sum(args)"
   ]
  },
  {
   "cell_type": "code",
   "execution_count": 39,
   "id": "11ace911",
   "metadata": {},
   "outputs": [
    {
     "data": {
      "text/plain": [
       "6"
      ]
     },
     "execution_count": 39,
     "metadata": {},
     "output_type": "execute_result"
    }
   ],
   "source": [
    "myfunc(1,2,3)"
   ]
  },
  {
   "cell_type": "markdown",
   "id": "ed652199",
   "metadata": {},
   "source": [
    "### Functions #9: pick evens\n",
    "Define a function called myfunc that takes in an arbitrary number of arguments, and returns a list containing only those arguments that are even."
   ]
  },
  {
   "cell_type": "code",
   "execution_count": 41,
   "id": "0e400355",
   "metadata": {},
   "outputs": [],
   "source": [
    "def myfunc(*args):\n",
    "    evens = []\n",
    "    for a in args:\n",
    "        if a %2 == 0:\n",
    "            evens.append(a)\n",
    "    return evens"
   ]
  },
  {
   "cell_type": "code",
   "execution_count": 42,
   "id": "292b54d7",
   "metadata": {},
   "outputs": [
    {
     "data": {
      "text/plain": [
       "[2, 4]"
      ]
     },
     "execution_count": 42,
     "metadata": {},
     "output_type": "execute_result"
    }
   ],
   "source": [
    "myfunc(1,2,3,4)"
   ]
  },
  {
   "cell_type": "markdown",
   "id": "45528a3e",
   "metadata": {},
   "source": [
    "### Functions #10: skyline\n",
    "Define a function called myfunc that takes in a string, and returns a matching string where every even letter is uppercase, and every odd letter is lowercase. Assume that the incoming string only contains letters, and don't worry about numbers, spaces or punctuation. The output string can start with either an uppercase or lowercase letter, so long as letters alternate throughout the string."
   ]
  },
  {
   "cell_type": "code",
   "execution_count": 43,
   "id": "28aa8b4f",
   "metadata": {},
   "outputs": [],
   "source": [
    "def myfunc(my_string):\n",
    "    matching_string = ''\n",
    "    for i in my_string:\n",
    "        if len(my_string) % 2 ==0:\n",
    "            matching_string + a.upper()\n",
    "        else:\n",
    "             pass\n",
    "    return matching_string\n",
    "    "
   ]
  },
  {
   "cell_type": "code",
   "execution_count": 51,
   "id": "e6c76c20",
   "metadata": {},
   "outputs": [],
   "source": [
    "def myfunc(a_string):\n",
    "    b_string = '123'\n",
    "    for i in a_string:\n",
    "        if index\n",
    "    \n",
    "    \n",
    "    return b_string + 'hello'"
   ]
  },
  {
   "cell_type": "code",
   "execution_count": 52,
   "id": "96474f10",
   "metadata": {},
   "outputs": [
    {
     "data": {
      "text/plain": [
       "'123hello'"
      ]
     },
     "execution_count": 52,
     "metadata": {},
     "output_type": "execute_result"
    }
   ],
   "source": [
    "my_string = 'abcde'\n",
    "myfunc('abcde')"
   ]
  },
  {
   "cell_type": "markdown",
   "id": "3a196baa",
   "metadata": {},
   "source": [
    "# [03-Methods and Functions/03-Function Practice Exercises.ipynb](https://github.com/slp22/Complete-Python-3-Bootcamp/blob/master/03-Methods%20and%20Functions/03-Function%20Practice%20Exercises.ipynb)"
   ]
  },
  {
   "cell_type": "markdown",
   "id": "3b03a830",
   "metadata": {},
   "source": [
    "### Warm Up"
   ]
  },
  {
   "cell_type": "code",
   "execution_count": 63,
   "id": "82631224",
   "metadata": {},
   "outputs": [],
   "source": [
    "# lesser of two evens\n",
    "# returns the lesser of two given numbers if both numbers are even\n",
    "# returns the greater if one or both numbers are odd\n",
    "\n",
    "def lesser_of_two_evens(a,b):\n",
    "    # if one odd, return greater num\n",
    "    if a%2==0 and b%2==0:\n",
    "        if a<b:\n",
    "            return a\n",
    "        else:\n",
    "            return b\n",
    "    if a%2!=0 or b%2!=0:\n",
    "        if a > b:\n",
    "            return a\n",
    "        else:\n",
    "            return b\n",
    "        \n",
    "    # if both nums are even, return lesser num\n"
   ]
  },
  {
   "cell_type": "code",
   "execution_count": 84,
   "id": "224e6a16",
   "metadata": {},
   "outputs": [
    {
     "data": {
      "text/plain": [
       "2"
      ]
     },
     "execution_count": 84,
     "metadata": {},
     "output_type": "execute_result"
    }
   ],
   "source": [
    "lesser_of_two_evens(2,4)"
   ]
  },
  {
   "cell_type": "code",
   "execution_count": 85,
   "id": "bea1a560",
   "metadata": {},
   "outputs": [
    {
     "data": {
      "text/plain": [
       "5"
      ]
     },
     "execution_count": 85,
     "metadata": {},
     "output_type": "execute_result"
    }
   ],
   "source": [
    "lesser_of_two_evens(2,5)"
   ]
  },
  {
   "cell_type": "code",
   "execution_count": 86,
   "id": "f454b99f",
   "metadata": {},
   "outputs": [],
   "source": [
    "# animal cracker\n",
    "# two-word string and returns True if both words begin with same letter\n",
    "\n",
    "def animal_crackers(text):\n",
    "    text_list = text.split()\n",
    "    text_list_1 = text_list[0][0]\n",
    "    text_list_2 = text_list[1][0]    \n",
    "    return text_list_1 == text_list_2"
   ]
  },
  {
   "cell_type": "code",
   "execution_count": 87,
   "id": "388dbe26",
   "metadata": {},
   "outputs": [
    {
     "data": {
      "text/plain": [
       "True"
      ]
     },
     "execution_count": 87,
     "metadata": {},
     "output_type": "execute_result"
    }
   ],
   "source": [
    "animal_crackers('Levelheaded Llama')\n"
   ]
  },
  {
   "cell_type": "code",
   "execution_count": 88,
   "id": "af981ef7",
   "metadata": {},
   "outputs": [
    {
     "data": {
      "text/plain": [
       "False"
      ]
     },
     "execution_count": 88,
     "metadata": {},
     "output_type": "execute_result"
    }
   ],
   "source": [
    "animal_crackers('Crazy Kangaroo')\n"
   ]
  },
  {
   "cell_type": "code",
   "execution_count": 106,
   "id": "60f8d615",
   "metadata": {},
   "outputs": [],
   "source": [
    "# makes twenty\n",
    "# true if the sum of the integers is 20 or \n",
    "# true if one of the integers is 20. \n",
    "# If not, return False\n",
    "\n",
    "def makes_twenty(n1, n2):\n",
    "    if n1 == 20 or n2 == 20:\n",
    "        return True\n",
    "    elif n1+n2 == 20:\n",
    "        return True\n",
    "    else:\n",
    "        return False\n",
    "    "
   ]
  },
  {
   "cell_type": "code",
   "execution_count": 107,
   "id": "23c1507b",
   "metadata": {},
   "outputs": [
    {
     "data": {
      "text/plain": [
       "True"
      ]
     },
     "execution_count": 107,
     "metadata": {},
     "output_type": "execute_result"
    }
   ],
   "source": [
    "makes_twenty(20,10)"
   ]
  },
  {
   "cell_type": "code",
   "execution_count": 108,
   "id": "d8e0e367",
   "metadata": {},
   "outputs": [
    {
     "data": {
      "text/plain": [
       "False"
      ]
     },
     "execution_count": 108,
     "metadata": {},
     "output_type": "execute_result"
    }
   ],
   "source": [
    "makes_twenty(2,3)"
   ]
  },
  {
   "cell_type": "markdown",
   "id": "379309ae",
   "metadata": {},
   "source": [
    "### Level One"
   ]
  },
  {
   "cell_type": "code",
   "execution_count": 119,
   "id": "ce876a6f",
   "metadata": {},
   "outputs": [],
   "source": [
    "# ❗️\n",
    "# old macdonald\n",
    "# Write a function that capitalizes the first and fourth letters of a name\n",
    "\n",
    "def old_macdonald(name):\n",
    "    old_letter = name[0]\n",
    "    new_letter = name[0].upper()\n",
    "    print('old letter', old_letter, 'and new letter', new_letter )\n",
    "    "
   ]
  },
  {
   "cell_type": "code",
   "execution_count": 256,
   "id": "42c274d7",
   "metadata": {},
   "outputs": [],
   "source": [
    "old_macdonald('macdonald')"
   ]
  },
  {
   "cell_type": "code",
   "execution_count": 125,
   "id": "12432b72",
   "metadata": {},
   "outputs": [],
   "source": [
    "# master yoda\n",
    "# return sentence in reverse\n",
    "\n",
    "def master_yoda(text):\n",
    "    return text.split()[::-1]"
   ]
  },
  {
   "cell_type": "code",
   "execution_count": 126,
   "id": "0aabd01f",
   "metadata": {},
   "outputs": [
    {
     "data": {
      "text/plain": [
       "['home', 'am', 'I']"
      ]
     },
     "execution_count": 126,
     "metadata": {},
     "output_type": "execute_result"
    }
   ],
   "source": [
    "master_yoda('I am home')"
   ]
  },
  {
   "cell_type": "code",
   "execution_count": 127,
   "id": "444935bb",
   "metadata": {},
   "outputs": [
    {
     "data": {
      "text/plain": [
       "['ready', 'are', 'We']"
      ]
     },
     "execution_count": 127,
     "metadata": {},
     "output_type": "execute_result"
    }
   ],
   "source": [
    "master_yoda('We are ready')"
   ]
  },
  {
   "cell_type": "code",
   "execution_count": 140,
   "id": "4e2dd588",
   "metadata": {},
   "outputs": [],
   "source": [
    "# almost there\n",
    "# return True if n is within 10 of either 100 or 200\n",
    "\n",
    "def almost_there(n):\n",
    "    return 90 < n < 110 or 190 < n < 210"
   ]
  },
  {
   "cell_type": "code",
   "execution_count": 141,
   "id": "43c3c3bd",
   "metadata": {},
   "outputs": [
    {
     "data": {
      "text/plain": [
       "True"
      ]
     },
     "execution_count": 141,
     "metadata": {},
     "output_type": "execute_result"
    }
   ],
   "source": [
    "almost_there(104)"
   ]
  },
  {
   "cell_type": "code",
   "execution_count": 142,
   "id": "38f06d57",
   "metadata": {},
   "outputs": [
    {
     "data": {
      "text/plain": [
       "False"
      ]
     },
     "execution_count": 142,
     "metadata": {},
     "output_type": "execute_result"
    }
   ],
   "source": [
    "almost_there(150)"
   ]
  },
  {
   "cell_type": "code",
   "execution_count": 143,
   "id": "74f8581b",
   "metadata": {},
   "outputs": [
    {
     "data": {
      "text/plain": [
       "True"
      ]
     },
     "execution_count": 143,
     "metadata": {},
     "output_type": "execute_result"
    }
   ],
   "source": [
    "almost_there(209)"
   ]
  },
  {
   "cell_type": "markdown",
   "id": "128a0f35",
   "metadata": {},
   "source": [
    "### Level Two"
   ]
  },
  {
   "cell_type": "code",
   "execution_count": 156,
   "id": "23266fff",
   "metadata": {},
   "outputs": [],
   "source": [
    "# find 33\n",
    "# True if array has a 3 next to a 3 somewhere\n",
    "\n",
    "def has_33(nums):\n",
    "    return nums[0] == nums[1] or nums[1] == nums[2]"
   ]
  },
  {
   "cell_type": "code",
   "execution_count": 157,
   "id": "dd095575",
   "metadata": {},
   "outputs": [
    {
     "data": {
      "text/plain": [
       "True"
      ]
     },
     "execution_count": 157,
     "metadata": {},
     "output_type": "execute_result"
    }
   ],
   "source": [
    "has_33([1, 3, 3])"
   ]
  },
  {
   "cell_type": "code",
   "execution_count": 158,
   "id": "1b3a56fe",
   "metadata": {},
   "outputs": [
    {
     "data": {
      "text/plain": [
       "False"
      ]
     },
     "execution_count": 158,
     "metadata": {},
     "output_type": "execute_result"
    }
   ],
   "source": [
    "has_33([1, 3, 1, 3])"
   ]
  },
  {
   "cell_type": "code",
   "execution_count": 159,
   "id": "d5d5c3d9",
   "metadata": {},
   "outputs": [
    {
     "data": {
      "text/plain": [
       "False"
      ]
     },
     "execution_count": 159,
     "metadata": {},
     "output_type": "execute_result"
    }
   ],
   "source": [
    "has_33([3, 1, 3])"
   ]
  },
  {
   "cell_type": "code",
   "execution_count": 252,
   "id": "d677bfcb",
   "metadata": {},
   "outputs": [],
   "source": [
    "# ❗️\n",
    "# paper doll\n",
    "# return string where for every character in the orignial there are three characters\n",
    "\n",
    "def paper_doll(text):\n",
    "    new_text = ''\n",
    "    for i in text:\n",
    "        new_text = i*3\n",
    "    return new_text"
   ]
  },
  {
   "cell_type": "code",
   "execution_count": 257,
   "id": "4bf42e45",
   "metadata": {},
   "outputs": [],
   "source": [
    "paper_doll('Hello')"
   ]
  },
  {
   "cell_type": "code",
   "execution_count": 258,
   "id": "3a1d6014",
   "metadata": {},
   "outputs": [],
   "source": [
    "paper_doll('Mississippi')"
   ]
  },
  {
   "cell_type": "code",
   "execution_count": 698,
   "id": "2f4e4f48",
   "metadata": {},
   "outputs": [],
   "source": [
    "# ❗️\n",
    "# blackjack\n",
    "# three integers between 1 and 11, \n",
    "# if their sum is less than or equal to 21, return their sum. \n",
    "# If their sum exceeds 21 and there's an eleven, reduce the total sum by 10. \n",
    "# Finally, if the sum (even after adjustment) exceeds 21, return 'BUST'\n",
    "\n",
    "def blackjack(a,b,c):\n",
    "    total = a+b+c\n",
    "    print('total',total)\n",
    "    \n",
    "    if total <= 21:\n",
    "        return 'first if: done', total\n",
    "    if c==11 or b==11 or a==11:\n",
    "        adj_total = total - 10\n",
    "        print('second if: adj',adj_total)\n"
   ]
  },
  {
   "cell_type": "code",
   "execution_count": 702,
   "id": "7e1c0f4d",
   "metadata": {},
   "outputs": [],
   "source": [
    "blackjack(5,6,7)"
   ]
  },
  {
   "cell_type": "code",
   "execution_count": 703,
   "id": "f4c94a94",
   "metadata": {},
   "outputs": [],
   "source": [
    "blackjack(9,9,11)"
   ]
  },
  {
   "cell_type": "code",
   "execution_count": 704,
   "id": "d7904034",
   "metadata": {},
   "outputs": [],
   "source": [
    "blackjack(9,9,9)"
   ]
  },
  {
   "cell_type": "code",
   "execution_count": null,
   "id": "643eb391",
   "metadata": {},
   "outputs": [],
   "source": [
    "# ❗️ untouched\n",
    "# summer of '69\n",
    "# return sum of the numbers in the array\n",
    "# except ignore sections of numbers starting with a 6 and extending to the next 9 \n",
    "# (every 6 will be followed by at least one 9). \n",
    "# Return 0 for no numbers.\n",
    "\n",
    "def summer_69(arr):\n",
    "    \n",
    "    "
   ]
  },
  {
   "cell_type": "code",
   "execution_count": null,
   "id": "a2b25cb9",
   "metadata": {},
   "outputs": [],
   "source": [
    "summer_69([1, 3, 5])"
   ]
  },
  {
   "cell_type": "code",
   "execution_count": null,
   "id": "bad5eb69",
   "metadata": {},
   "outputs": [],
   "source": [
    "summer_69([4, 5, 6, 7, 8, 9])"
   ]
  },
  {
   "cell_type": "code",
   "execution_count": null,
   "id": "1def11cd",
   "metadata": {},
   "outputs": [],
   "source": [
    "summer_69([2, 1, 6, 9, 11])"
   ]
  },
  {
   "cell_type": "code",
   "execution_count": null,
   "id": "7f1f3aaa",
   "metadata": {},
   "outputs": [],
   "source": []
  },
  {
   "cell_type": "code",
   "execution_count": null,
   "id": "8e2b508c",
   "metadata": {},
   "outputs": [],
   "source": []
  },
  {
   "cell_type": "code",
   "execution_count": null,
   "id": "5742c345",
   "metadata": {},
   "outputs": [],
   "source": []
  },
  {
   "cell_type": "code",
   "execution_count": null,
   "id": "d70adfdd",
   "metadata": {},
   "outputs": [],
   "source": []
  },
  {
   "cell_type": "code",
   "execution_count": null,
   "id": "f904451c",
   "metadata": {},
   "outputs": [],
   "source": []
  },
  {
   "cell_type": "code",
   "execution_count": null,
   "id": "7d5295dc",
   "metadata": {},
   "outputs": [],
   "source": []
  }
 ],
 "metadata": {
  "kernelspec": {
   "display_name": "Python 3 (unsupervised)",
   "language": "python",
   "name": "unsupervised"
  },
  "language_info": {
   "codemirror_mode": {
    "name": "ipython",
    "version": 3
   },
   "file_extension": ".py",
   "mimetype": "text/x-python",
   "name": "python",
   "nbconvert_exporter": "python",
   "pygments_lexer": "ipython3",
   "version": "3.8.12"
  }
 },
 "nbformat": 4,
 "nbformat_minor": 5
}

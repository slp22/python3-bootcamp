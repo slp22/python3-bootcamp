{
 "cells": [
  {
   "cell_type": "markdown",
   "id": "50ff5ff3",
   "metadata": {},
   "source": [
    "# Code Exercises"
   ]
  },
  {
   "cell_type": "markdown",
   "id": "23180832",
   "metadata": {},
   "source": [
    "### Functions #8: *args\n",
    "Define a function called myfunc that takes in an arbitrary number of arguments, and returns the sum of those arguments."
   ]
  },
  {
   "cell_type": "code",
   "execution_count": null,
   "id": "a4fca1b9",
   "metadata": {},
   "outputs": [],
   "source": [
    "def myfunc(*args):\n",
    "    return sum(args)"
   ]
  },
  {
   "cell_type": "code",
   "execution_count": null,
   "id": "11ace911",
   "metadata": {},
   "outputs": [],
   "source": [
    "myfunc(1,2,3)"
   ]
  },
  {
   "cell_type": "markdown",
   "id": "ed652199",
   "metadata": {},
   "source": [
    "### Functions #9: pick evens\n",
    "Define a function called myfunc that takes in an arbitrary number of arguments, and returns a list containing only those arguments that are even."
   ]
  },
  {
   "cell_type": "code",
   "execution_count": null,
   "id": "0e400355",
   "metadata": {},
   "outputs": [],
   "source": [
    "def myfunc(*args):\n",
    "    evens = []\n",
    "    for a in args:\n",
    "        if a %2 == 0:\n",
    "            evens.append(a)\n",
    "    return evens"
   ]
  },
  {
   "cell_type": "code",
   "execution_count": null,
   "id": "292b54d7",
   "metadata": {},
   "outputs": [],
   "source": [
    "myfunc(1,2,3,4)"
   ]
  },
  {
   "cell_type": "markdown",
   "id": "45528a3e",
   "metadata": {},
   "source": [
    "### Functions #10: skyline\n",
    "Define a function called myfunc that takes in a string, and returns a matching string where every even letter is uppercase, and every odd letter is lowercase. Assume that the incoming string only contains letters, and don't worry about numbers, spaces or punctuation. The output string can start with either an uppercase or lowercase letter, so long as letters alternate throughout the string."
   ]
  },
  {
   "cell_type": "code",
   "execution_count": null,
   "id": "28aa8b4f",
   "metadata": {},
   "outputs": [],
   "source": [
    "def myfunc(my_string):\n",
    "    matching_string = ''\n",
    "    for i in my_string:\n",
    "        if len(my_string) % 2 ==0:\n",
    "            matching_string + a.upper()\n",
    "        else:\n",
    "             pass\n",
    "    return matching_string\n",
    "    "
   ]
  },
  {
   "cell_type": "code",
   "execution_count": null,
   "id": "e6c76c20",
   "metadata": {},
   "outputs": [],
   "source": [
    "def myfunc(a_string):\n",
    "    b_string = '123'\n",
    "    for i in a_string:\n",
    "        if index\n",
    "    \n",
    "    \n",
    "    return b_string + 'hello'"
   ]
  },
  {
   "cell_type": "code",
   "execution_count": null,
   "id": "96474f10",
   "metadata": {},
   "outputs": [],
   "source": [
    "my_string = 'abcde'\n",
    "myfunc('abcde')"
   ]
  },
  {
   "cell_type": "markdown",
   "id": "3a196baa",
   "metadata": {},
   "source": [
    "# [03-Methods and Functions/03-Function Practice Exercises.ipynb](https://github.com/slp22/Complete-Python-3-Bootcamp/blob/master/03-Methods%20and%20Functions/03-Function%20Practice%20Exercises.ipynb)"
   ]
  },
  {
   "cell_type": "markdown",
   "id": "3b03a830",
   "metadata": {},
   "source": [
    "### Warm Up"
   ]
  },
  {
   "cell_type": "code",
   "execution_count": null,
   "id": "82631224",
   "metadata": {},
   "outputs": [],
   "source": [
    "# lesser of two evens\n",
    "# returns the lesser of two given numbers if both numbers are even\n",
    "# returns the greater if one or both numbers are odd\n",
    "\n",
    "def lesser_of_two_evens(a,b):\n",
    "    # if one odd, return greater num\n",
    "    if a%2==0 and b%2==0:\n",
    "        return min(a,b)\n",
    "    else:\n",
    "        return max(a,b)        \n",
    "    # if both nums are even, return lesser num\n"
   ]
  },
  {
   "cell_type": "code",
   "execution_count": null,
   "id": "224e6a16",
   "metadata": {},
   "outputs": [],
   "source": [
    "lesser_of_two_evens(2,4)"
   ]
  },
  {
   "cell_type": "code",
   "execution_count": null,
   "id": "bea1a560",
   "metadata": {},
   "outputs": [],
   "source": [
    "lesser_of_two_evens(2,5)"
   ]
  },
  {
   "cell_type": "code",
   "execution_count": 1,
   "id": "f454b99f",
   "metadata": {},
   "outputs": [],
   "source": [
    "# animal cracker\n",
    "# two-word string and returns True if both words begin with same letter\n",
    "\n",
    "def animal_crackers(text):\n",
    "    text_list = text.lower().split() \n",
    "    return text_list[0][0] == text_list[1][0] "
   ]
  },
  {
   "cell_type": "code",
   "execution_count": 2,
   "id": "388dbe26",
   "metadata": {},
   "outputs": [
    {
     "data": {
      "text/plain": [
       "True"
      ]
     },
     "execution_count": 2,
     "metadata": {},
     "output_type": "execute_result"
    }
   ],
   "source": [
    "animal_crackers('Levelheaded Llama')\n"
   ]
  },
  {
   "cell_type": "code",
   "execution_count": 3,
   "id": "af981ef7",
   "metadata": {},
   "outputs": [
    {
     "data": {
      "text/plain": [
       "False"
      ]
     },
     "execution_count": 3,
     "metadata": {},
     "output_type": "execute_result"
    }
   ],
   "source": [
    "animal_crackers('Crazy Kangaroo')\n"
   ]
  },
  {
   "cell_type": "code",
   "execution_count": null,
   "id": "60f8d615",
   "metadata": {},
   "outputs": [],
   "source": [
    "# makes twenty\n",
    "# true if the sum of the integers is 20 or \n",
    "# true if one of the integers is 20. \n",
    "# If not, return False\n",
    "\n",
    "def makes_twenty(n1, n2):\n",
    "    return (n1+n2) == 20 or n1 == 20 or n2 == 20"
   ]
  },
  {
   "cell_type": "code",
   "execution_count": null,
   "id": "23c1507b",
   "metadata": {},
   "outputs": [],
   "source": [
    "makes_twenty(20,10)"
   ]
  },
  {
   "cell_type": "code",
   "execution_count": null,
   "id": "d8e0e367",
   "metadata": {},
   "outputs": [],
   "source": [
    "makes_twenty(2,3)"
   ]
  },
  {
   "cell_type": "markdown",
   "id": "379309ae",
   "metadata": {},
   "source": [
    "### Level One"
   ]
  },
  {
   "cell_type": "code",
   "execution_count": null,
   "id": "ce876a6f",
   "metadata": {},
   "outputs": [],
   "source": [
    "# old macdonald\n",
    "# Write a function that capitalizes the first and fourth letters of a name\n",
    "\n",
    "def old_macdonald(name):\n",
    "    if len(name) > 3:\n",
    "        return name[:3].capitalize() + name[3:].capitalize()\n",
    "    else:\n",
    "        return 'Name too short.'"
   ]
  },
  {
   "cell_type": "code",
   "execution_count": null,
   "id": "42c274d7",
   "metadata": {},
   "outputs": [],
   "source": [
    "old_macdonald('macdonald')"
   ]
  },
  {
   "cell_type": "code",
   "execution_count": null,
   "id": "12432b72",
   "metadata": {},
   "outputs": [],
   "source": [
    "# master yoda\n",
    "# return sentence in reverse\n",
    "\n",
    "def master_yoda(text):\n",
    "    return ' '.join(text.split()[::-1])"
   ]
  },
  {
   "cell_type": "code",
   "execution_count": null,
   "id": "0aabd01f",
   "metadata": {},
   "outputs": [],
   "source": [
    "master_yoda('I am home')"
   ]
  },
  {
   "cell_type": "code",
   "execution_count": null,
   "id": "444935bb",
   "metadata": {},
   "outputs": [],
   "source": [
    "master_yoda('We are ready')"
   ]
  },
  {
   "cell_type": "code",
   "execution_count": null,
   "id": "4e2dd588",
   "metadata": {},
   "outputs": [],
   "source": [
    "# almost there\n",
    "# return True if n is within 10 of either 100 or 200\n",
    "\n",
    "def almost_there(n):\n",
    "    return ((abs(100-n) <= 100) or (abs(200-n) <= 10))"
   ]
  },
  {
   "cell_type": "code",
   "execution_count": null,
   "id": "43c3c3bd",
   "metadata": {},
   "outputs": [],
   "source": [
    "almost_there(104)"
   ]
  },
  {
   "cell_type": "code",
   "execution_count": null,
   "id": "38f06d57",
   "metadata": {},
   "outputs": [],
   "source": [
    "almost_there(150)"
   ]
  },
  {
   "cell_type": "code",
   "execution_count": null,
   "id": "74f8581b",
   "metadata": {},
   "outputs": [],
   "source": [
    "almost_there(209)"
   ]
  },
  {
   "cell_type": "markdown",
   "id": "128a0f35",
   "metadata": {},
   "source": [
    "### Level Two"
   ]
  },
  {
   "cell_type": "code",
   "execution_count": null,
   "id": "23266fff",
   "metadata": {},
   "outputs": [],
   "source": [
    "# find 33\n",
    "# True if array has a 3 next to a 3 somewhere\n",
    "\n",
    "# def has_33(nums):\n",
    "#     return nums[0] == nums[1] or nums[1] == nums[2]\n",
    "\n",
    "def has_33(nums):\n",
    "    for i in range(0, len(nums)-1):\n",
    "        if nums[i:i+2] == [3,3]:\n",
    "            return True\n",
    "    return False"
   ]
  },
  {
   "cell_type": "code",
   "execution_count": null,
   "id": "dd095575",
   "metadata": {},
   "outputs": [],
   "source": [
    "has_33([1, 3, 3])"
   ]
  },
  {
   "cell_type": "code",
   "execution_count": null,
   "id": "1b3a56fe",
   "metadata": {},
   "outputs": [],
   "source": [
    "has_33([1, 3, 1, 3])"
   ]
  },
  {
   "cell_type": "code",
   "execution_count": null,
   "id": "d5d5c3d9",
   "metadata": {},
   "outputs": [],
   "source": [
    "has_33([3, 1, 3])"
   ]
  },
  {
   "cell_type": "code",
   "execution_count": null,
   "id": "d677bfcb",
   "metadata": {},
   "outputs": [],
   "source": [
    "# paper doll\n",
    "# return string where for every character in the orignial there are three characters\n",
    "\n",
    "def paper_doll(text):\n",
    "    new_text = ''\n",
    "    for i in text:\n",
    "        new_text += i*3\n",
    "    return new_text"
   ]
  },
  {
   "cell_type": "code",
   "execution_count": null,
   "id": "4bf42e45",
   "metadata": {},
   "outputs": [],
   "source": [
    "paper_doll('Hello')"
   ]
  },
  {
   "cell_type": "code",
   "execution_count": null,
   "id": "3a1d6014",
   "metadata": {},
   "outputs": [],
   "source": [
    "paper_doll('Mississippi')"
   ]
  },
  {
   "cell_type": "code",
   "execution_count": null,
   "id": "2f4e4f48",
   "metadata": {},
   "outputs": [],
   "source": [
    "# blackjack\n",
    "# three integers between 1 and 11, \n",
    "# if their sum is less than or equal to 21, return their sum. \n",
    "# If their sum exceeds 21 and there's an eleven, reduce the total sum by 10. \n",
    "# Finally, if the sum (even after adjustment) exceeds 21, return 'BUST'\n",
    "\n",
    "# def blackjack(a,b,c):\n",
    "#     total = a+b+c\n",
    "#     adj_total = total - 10\n",
    "#     if c==11 or b==11 or a==11:\n",
    "#         total = adj_total\n",
    "#         if total <= 21:\n",
    "#             return total\n",
    "#     elif total <= 21:\n",
    "#         return total\n",
    "#     else:\n",
    "#         return 'BUST'\n",
    "\n",
    "def blackjack(a,b,c):\n",
    "    if sum((a,b,c)) <= 21:\n",
    "        return sum((a,b,c))\n",
    "    elif sum((a,b,c)) <= 31 and 11 in (a,b,c):\n",
    "        return sum((a,b,c)) - 10\n",
    "    else:\n",
    "        return 'BUST'\n"
   ]
  },
  {
   "cell_type": "code",
   "execution_count": null,
   "id": "7e1c0f4d",
   "metadata": {},
   "outputs": [],
   "source": [
    "blackjack(5,6,7)"
   ]
  },
  {
   "cell_type": "code",
   "execution_count": null,
   "id": "f4c94a94",
   "metadata": {},
   "outputs": [],
   "source": [
    "blackjack(9,9,11)"
   ]
  },
  {
   "cell_type": "code",
   "execution_count": null,
   "id": "d7904034",
   "metadata": {},
   "outputs": [],
   "source": [
    "blackjack(9,9,9)"
   ]
  },
  {
   "cell_type": "code",
   "execution_count": null,
   "id": "643eb391",
   "metadata": {},
   "outputs": [],
   "source": [
    "# summer of '69\n",
    "# return sum of the numbers in the array\n",
    "# except ignore sections of numbers starting with a 6 and extending to the next 9 \n",
    "# (every 6 will be followed by at least one 9). \n",
    "# Return 0 for no numbers.\n",
    "\n",
    "# def summer_69(arr):\n",
    "# #     print(arr)\n",
    "#     if 6 in arr:\n",
    "# #         print('len of array is ', len(arr))\n",
    "#         start = arr.index(6)\n",
    "#         stop = arr.index(9) + 1\n",
    "# #         print('pop range of indicies :', start,',', stop)\n",
    "#         front_arr = arr[:start]\n",
    "# #         print('front_arr is ',front_arr)\n",
    "#         back_arr = arr[stop:]\n",
    "# #         print('back_arr is ', back_arr)\n",
    "#         new_arr = front_arr + back_arr\n",
    "#         print('new_arr', new_arr) \n",
    "#         return sum(new_arr)\n",
    "#         if new_arr == 0:\n",
    "#             return 0\n",
    "#     else:\n",
    "#         return sum(arr)\n",
    "\n",
    "def summer_69(arr):\n",
    "    total = 0\n",
    "    add = True\n",
    "    for num in arr:\n",
    "        while add:\n",
    "            if num != 6:\n",
    "                total += num\n",
    "                break\n",
    "            else:\n",
    "                add = False\n",
    "        while not add:\n",
    "            if num != 9:\n",
    "                break\n",
    "            else:\n",
    "                add = True\n",
    "                break\n",
    "    return total"
   ]
  },
  {
   "cell_type": "code",
   "execution_count": null,
   "id": "ff0c1d69",
   "metadata": {},
   "outputs": [],
   "source": [
    "summer_69([6, 7, 8, 9])"
   ]
  },
  {
   "cell_type": "code",
   "execution_count": null,
   "id": "a2b25cb9",
   "metadata": {},
   "outputs": [],
   "source": [
    "summer_69([1, 3, 5])"
   ]
  },
  {
   "cell_type": "code",
   "execution_count": null,
   "id": "bad5eb69",
   "metadata": {},
   "outputs": [],
   "source": [
    "summer_69([4, 5, 6, 7, 8, 9])"
   ]
  },
  {
   "cell_type": "code",
   "execution_count": null,
   "id": "1def11cd",
   "metadata": {},
   "outputs": [],
   "source": [
    "summer_69([2, 1, 6, 9, 11])"
   ]
  },
  {
   "cell_type": "markdown",
   "id": "52c71802",
   "metadata": {},
   "source": [
    "### Challenge"
   ]
  },
  {
   "cell_type": "code",
   "execution_count": null,
   "id": "f82408dd",
   "metadata": {},
   "outputs": [],
   "source": [
    "# ❗️\n",
    "# spy game \n",
    "# function that takes in a list of integers and \n",
    "# returns True if it contains 007 in order\n",
    "# spy_game([1,2,4,0,0,7,5]) --> True\n",
    "# spy_game([1,0,2,4,0,5,7]) --> True\n",
    "# spy_game([1,7,2,0,4,5,0]) --> False\n",
    "# anwer\n",
    "def spy_game(nums):\n",
    "    code = [0,0,7,'x']\n",
    "    for n in nums:\n",
    "        if n == code[0]:\n",
    "            code.pop(0) #code.remove(n) also works\n",
    "    return len(code) == 1\n"
   ]
  },
  {
   "cell_type": "code",
   "execution_count": null,
   "id": "ac788df3",
   "metadata": {},
   "outputs": [],
   "source": [
    "spy_game([1,2,4,0,0,7,5])"
   ]
  },
  {
   "cell_type": "code",
   "execution_count": null,
   "id": "00e1cef3",
   "metadata": {},
   "outputs": [],
   "source": [
    "spy_game([1,0,2,4,0,5,7])"
   ]
  },
  {
   "cell_type": "code",
   "execution_count": null,
   "id": "1211e41e",
   "metadata": {},
   "outputs": [],
   "source": [
    "spy_game([1,7,2,0,4,5,0])"
   ]
  },
  {
   "cell_type": "code",
   "execution_count": 3,
   "id": "c3cd9459",
   "metadata": {},
   "outputs": [],
   "source": [
    "# count primes\n",
    "# function that returns the number of prime numbers that exist up to and including a given number\n",
    "# count_primes(100) --> 25\n",
    "\n",
    "# def count_primes(sum):\n",
    "#     nums = list(range(sum))\n",
    "#     primes = []\n",
    "#     for i in nums:\n",
    "#         if i%2 != 0 and i%3 != 0 and i%3 != 0 and i%5 != 0:\n",
    "#             primes.append(i)\n",
    "#     primes.remove(1)\n",
    "#     return len(primes), primes\n",
    "\n",
    "def count_primes(num):\n",
    "    primes = [2]\n",
    "    x = 3\n",
    "    if num < 2: #for the case of num = 0 or 1\n",
    "        return 0\n",
    "    while x <= num:\n",
    "        for y in range(3,x,2): #test all odd factors up to x-1\n",
    "            if x%y == 0:\n",
    "                x += 2\n",
    "                break\n",
    "        else:\n",
    "            primes.append(x)\n",
    "            x += 2\n",
    "    print(primes)\n",
    "    return len(primes)\n",
    "\n",
    "        "
   ]
  },
  {
   "cell_type": "code",
   "execution_count": 4,
   "id": "6dbc0994",
   "metadata": {},
   "outputs": [
    {
     "name": "stdout",
     "output_type": "stream",
     "text": [
      "[2, 3, 5, 7, 11, 13, 17, 19, 23, 29, 31, 37, 41, 43, 47, 53, 59, 61, 67, 71, 73, 79, 83, 89, 97]\n"
     ]
    },
    {
     "data": {
      "text/plain": [
       "25"
      ]
     },
     "execution_count": 4,
     "metadata": {},
     "output_type": "execute_result"
    }
   ],
   "source": [
    "count_primes(100)"
   ]
  },
  {
   "cell_type": "code",
   "execution_count": null,
   "id": "89ba968b",
   "metadata": {},
   "outputs": [],
   "source": [
    "# print big\n",
    "# function that takes in a single letter, and \n",
    "# returns a 5x5 representation of that letter\n",
    "# print_big('a')\n",
    "\n",
    "# out:   *  \n",
    "#       * *\n",
    "#      *****\n",
    "#      *   *\n",
    "#      *   *\n",
    "# HINT: Consider making a dictionary of possible patterns, and mapping the alphabet to specific 5-line combinations of patterns.\n",
    "# For purposes of this exercise, it's ok if your dictionary stops at \"E\"."
   ]
  },
  {
   "cell_type": "code",
   "execution_count": null,
   "id": "4d808b68",
   "metadata": {},
   "outputs": [],
   "source": [
    "def print_big(letter):\n",
    "    pass"
   ]
  },
  {
   "cell_type": "code",
   "execution_count": null,
   "id": "1eae27ca",
   "metadata": {},
   "outputs": [],
   "source": [
    "print_big('a')"
   ]
  },
  {
   "cell_type": "code",
   "execution_count": null,
   "id": "b1acd8d5",
   "metadata": {},
   "outputs": [],
   "source": []
  },
  {
   "cell_type": "markdown",
   "id": "a401ba33",
   "metadata": {},
   "source": [
    "# InterviewBit"
   ]
  },
  {
   "cell_type": "code",
   "execution_count": 8,
   "id": "70af9ae1",
   "metadata": {},
   "outputs": [
    {
     "name": "stdout",
     "output_type": "stream",
     "text": [
      "True\n",
      "True\n",
      "True\n",
      "True\n",
      "False\n"
     ]
    }
   ],
   "source": [
    "# https://www.interviewbit.com/problems/string-validators/\n",
    "\n",
    "S = 'uuhwei12#' \n",
    "# res = any(chr.isdigit() for chr in test_str)\n",
    "alphanum = (any(s.isalnum() for s in S))\n",
    "alpha = any(s.isalpha() for s in S)\n",
    "digit = any(s.isdigit() for s in S)\n",
    "lower = any(s.islower() for s in S)\n",
    "upper = any(s.isupper() for s in S)\n",
    "print(alphanum) \n",
    "print(alpha)\n",
    "print(digit)\n",
    "print(lower)\n",
    "print(upper)\n"
   ]
  },
  {
   "cell_type": "code",
   "execution_count": 17,
   "id": "5fe1b9d1",
   "metadata": {},
   "outputs": [],
   "source": [
    "# https://www.interviewbit.com/problems/lists/\n",
    "\n",
    "def func():\n",
    "    names = []\n",
    "    names.append('Robin')\n",
    "    names.append('Aman')\n",
    "    names.append('Rahul')\n",
    "\n",
    "    \n",
    "#     print(names)\n",
    "    return names"
   ]
  },
  {
   "cell_type": "code",
   "execution_count": 18,
   "id": "9ae11ed2",
   "metadata": {},
   "outputs": [
    {
     "data": {
      "text/plain": [
       "['Robin', 'Aman', 'Rahul']"
      ]
     },
     "execution_count": 18,
     "metadata": {},
     "output_type": "execute_result"
    }
   ],
   "source": [
    "func()"
   ]
  },
  {
   "cell_type": "code",
   "execution_count": null,
   "id": "60f00971",
   "metadata": {},
   "outputs": [],
   "source": []
  }
 ],
 "metadata": {
  "kernelspec": {
   "display_name": "Python 3 (unsupervised)",
   "language": "python",
   "name": "unsupervised"
  },
  "language_info": {
   "codemirror_mode": {
    "name": "ipython",
    "version": 3
   },
   "file_extension": ".py",
   "mimetype": "text/x-python",
   "name": "python",
   "nbconvert_exporter": "python",
   "pygments_lexer": "ipython3",
   "version": "3.8.12"
  }
 },
 "nbformat": 4,
 "nbformat_minor": 5
}

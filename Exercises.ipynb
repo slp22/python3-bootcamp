{
 "cells": [
  {
   "cell_type": "markdown",
   "id": "50ff5ff3",
   "metadata": {},
   "source": [
    "# Code Exercises"
   ]
  },
  {
   "cell_type": "markdown",
   "id": "23180832",
   "metadata": {},
   "source": [
    "### Functions #8: *args\n",
    "Define a function called myfunc that takes in an arbitrary number of arguments, and returns the sum of those arguments."
   ]
  },
  {
   "cell_type": "code",
   "execution_count": 111,
   "id": "a4fca1b9",
   "metadata": {},
   "outputs": [],
   "source": [
    "def myfunc(*args):\n",
    "    return sum(args)"
   ]
  },
  {
   "cell_type": "code",
   "execution_count": 112,
   "id": "11ace911",
   "metadata": {},
   "outputs": [
    {
     "data": {
      "text/plain": [
       "6"
      ]
     },
     "execution_count": 112,
     "metadata": {},
     "output_type": "execute_result"
    }
   ],
   "source": [
    "myfunc(1,2,3)"
   ]
  },
  {
   "cell_type": "markdown",
   "id": "ed652199",
   "metadata": {},
   "source": [
    "### Functions #9: pick evens\n",
    "Define a function called myfunc that takes in an arbitrary number of arguments, and returns a list containing only those arguments that are even."
   ]
  },
  {
   "cell_type": "code",
   "execution_count": 113,
   "id": "0e400355",
   "metadata": {},
   "outputs": [],
   "source": [
    "def myfunc(*args):\n",
    "    evens = []\n",
    "    for a in args:\n",
    "        if a %2 == 0:\n",
    "            evens.append(a)\n",
    "    return evens"
   ]
  },
  {
   "cell_type": "code",
   "execution_count": 114,
   "id": "292b54d7",
   "metadata": {},
   "outputs": [
    {
     "data": {
      "text/plain": [
       "[2, 4]"
      ]
     },
     "execution_count": 114,
     "metadata": {},
     "output_type": "execute_result"
    }
   ],
   "source": [
    "myfunc(1,2,3,4)"
   ]
  },
  {
   "cell_type": "markdown",
   "id": "45528a3e",
   "metadata": {},
   "source": [
    "### Functions #10: skyline ⚠️\n",
    "Define a function called myfunc that takes in a string, and returns a matching string where every even letter is uppercase, and every odd letter is lowercase. Assume that the incoming string only contains letters, and don't worry about numbers, spaces or punctuation. The output string can start with either an uppercase or lowercase letter, so long as letters alternate throughout the string."
   ]
  },
  {
   "cell_type": "code",
   "execution_count": 115,
   "id": "28aa8b4f",
   "metadata": {},
   "outputs": [],
   "source": [
    "def myfunc(my_string):\n",
    "    matching_string = ''\n",
    "    for i in my_string:\n",
    "        if len(my_string) % 2 ==0:\n",
    "            matching_string + a.upper()\n",
    "        else:\n",
    "             pass\n",
    "    return matching_string\n",
    "    "
   ]
  },
  {
   "cell_type": "code",
   "execution_count": 118,
   "id": "e6c76c20",
   "metadata": {},
   "outputs": [],
   "source": [
    "# def myfunc(a_string):\n",
    "#     b_string = '123'\n",
    "#     for i in a_string:\n",
    "#         if index\n",
    "    \n",
    "#     return b_string + 'hello'"
   ]
  },
  {
   "cell_type": "code",
   "execution_count": 119,
   "id": "96474f10",
   "metadata": {},
   "outputs": [
    {
     "data": {
      "text/plain": [
       "''"
      ]
     },
     "execution_count": 119,
     "metadata": {},
     "output_type": "execute_result"
    }
   ],
   "source": [
    "my_string = 'abcde'\n",
    "myfunc('abcde')"
   ]
  },
  {
   "cell_type": "markdown",
   "id": "3a196baa",
   "metadata": {},
   "source": [
    "# [03-Methods and Functions/03-Function Practice Exercises.ipynb](https://github.com/slp22/Complete-Python-3-Bootcamp/blob/master/03-Methods%20and%20Functions/03-Function%20Practice%20Exercises.ipynb)"
   ]
  },
  {
   "cell_type": "markdown",
   "id": "3b03a830",
   "metadata": {},
   "source": [
    "### Warm Up"
   ]
  },
  {
   "cell_type": "code",
   "execution_count": 120,
   "id": "82631224",
   "metadata": {},
   "outputs": [],
   "source": [
    "# lesser of two evens\n",
    "# returns the lesser of two given numbers if both numbers are even\n",
    "# returns the greater if one or both numbers are odd\n",
    "\n",
    "def lesser_of_two_evens(a,b):\n",
    "    # if one odd, return greater num\n",
    "    if a%2==0 and b%2==0:\n",
    "        return min(a,b)\n",
    "    else:\n",
    "        return max(a,b)        \n",
    "    # if both nums are even, return lesser num\n"
   ]
  },
  {
   "cell_type": "code",
   "execution_count": 121,
   "id": "224e6a16",
   "metadata": {},
   "outputs": [
    {
     "data": {
      "text/plain": [
       "2"
      ]
     },
     "execution_count": 121,
     "metadata": {},
     "output_type": "execute_result"
    }
   ],
   "source": [
    "lesser_of_two_evens(2,4)"
   ]
  },
  {
   "cell_type": "code",
   "execution_count": 122,
   "id": "bea1a560",
   "metadata": {},
   "outputs": [
    {
     "data": {
      "text/plain": [
       "5"
      ]
     },
     "execution_count": 122,
     "metadata": {},
     "output_type": "execute_result"
    }
   ],
   "source": [
    "lesser_of_two_evens(2,5)"
   ]
  },
  {
   "cell_type": "code",
   "execution_count": 123,
   "id": "f454b99f",
   "metadata": {},
   "outputs": [],
   "source": [
    "# animal cracker\n",
    "# two-word string and returns True if both words begin with same letter\n",
    "\n",
    "def animal_crackers(text):\n",
    "    text_list = text.lower().split() \n",
    "    return text_list[0][0] == text_list[1][0] "
   ]
  },
  {
   "cell_type": "code",
   "execution_count": 124,
   "id": "388dbe26",
   "metadata": {},
   "outputs": [
    {
     "data": {
      "text/plain": [
       "True"
      ]
     },
     "execution_count": 124,
     "metadata": {},
     "output_type": "execute_result"
    }
   ],
   "source": [
    "animal_crackers('Levelheaded Llama')\n"
   ]
  },
  {
   "cell_type": "code",
   "execution_count": 125,
   "id": "af981ef7",
   "metadata": {},
   "outputs": [
    {
     "data": {
      "text/plain": [
       "False"
      ]
     },
     "execution_count": 125,
     "metadata": {},
     "output_type": "execute_result"
    }
   ],
   "source": [
    "animal_crackers('Crazy Kangaroo')\n"
   ]
  },
  {
   "cell_type": "code",
   "execution_count": 126,
   "id": "60f8d615",
   "metadata": {},
   "outputs": [],
   "source": [
    "# makes twenty\n",
    "# true if the sum of the integers is 20 or \n",
    "# true if one of the integers is 20. \n",
    "# If not, return False\n",
    "\n",
    "def makes_twenty(n1, n2):\n",
    "    return (n1+n2) == 20 or n1 == 20 or n2 == 20"
   ]
  },
  {
   "cell_type": "code",
   "execution_count": 127,
   "id": "23c1507b",
   "metadata": {},
   "outputs": [
    {
     "data": {
      "text/plain": [
       "True"
      ]
     },
     "execution_count": 127,
     "metadata": {},
     "output_type": "execute_result"
    }
   ],
   "source": [
    "makes_twenty(20,10)"
   ]
  },
  {
   "cell_type": "code",
   "execution_count": 128,
   "id": "d8e0e367",
   "metadata": {},
   "outputs": [
    {
     "data": {
      "text/plain": [
       "False"
      ]
     },
     "execution_count": 128,
     "metadata": {},
     "output_type": "execute_result"
    }
   ],
   "source": [
    "makes_twenty(2,3)"
   ]
  },
  {
   "cell_type": "markdown",
   "id": "379309ae",
   "metadata": {},
   "source": [
    "### Level One"
   ]
  },
  {
   "cell_type": "code",
   "execution_count": 129,
   "id": "ce876a6f",
   "metadata": {},
   "outputs": [],
   "source": [
    "# old macdonald\n",
    "# Write a function that capitalizes the first and fourth letters of a name\n",
    "\n",
    "def old_macdonald(name):\n",
    "    if len(name) > 3:\n",
    "        return name[:3].capitalize() + name[3:].capitalize()\n",
    "    else:\n",
    "        return 'Name too short.'"
   ]
  },
  {
   "cell_type": "code",
   "execution_count": 130,
   "id": "42c274d7",
   "metadata": {},
   "outputs": [
    {
     "data": {
      "text/plain": [
       "'MacDonald'"
      ]
     },
     "execution_count": 130,
     "metadata": {},
     "output_type": "execute_result"
    }
   ],
   "source": [
    "old_macdonald('macdonald')"
   ]
  },
  {
   "cell_type": "code",
   "execution_count": 131,
   "id": "12432b72",
   "metadata": {},
   "outputs": [],
   "source": [
    "# master yoda\n",
    "# return sentence in reverse\n",
    "\n",
    "def master_yoda(text):\n",
    "    return ' '.join(text.split()[::-1])"
   ]
  },
  {
   "cell_type": "code",
   "execution_count": 132,
   "id": "0aabd01f",
   "metadata": {},
   "outputs": [
    {
     "data": {
      "text/plain": [
       "'home am I'"
      ]
     },
     "execution_count": 132,
     "metadata": {},
     "output_type": "execute_result"
    }
   ],
   "source": [
    "master_yoda('I am home')"
   ]
  },
  {
   "cell_type": "code",
   "execution_count": 133,
   "id": "444935bb",
   "metadata": {},
   "outputs": [
    {
     "data": {
      "text/plain": [
       "'ready are We'"
      ]
     },
     "execution_count": 133,
     "metadata": {},
     "output_type": "execute_result"
    }
   ],
   "source": [
    "master_yoda('We are ready')"
   ]
  },
  {
   "cell_type": "code",
   "execution_count": 134,
   "id": "4e2dd588",
   "metadata": {},
   "outputs": [],
   "source": [
    "# almost there\n",
    "# return True if n is within 10 of either 100 or 200\n",
    "\n",
    "def almost_there(n):\n",
    "    return ((abs(100-n) <= 100) or (abs(200-n) <= 10))"
   ]
  },
  {
   "cell_type": "code",
   "execution_count": 135,
   "id": "43c3c3bd",
   "metadata": {},
   "outputs": [
    {
     "data": {
      "text/plain": [
       "True"
      ]
     },
     "execution_count": 135,
     "metadata": {},
     "output_type": "execute_result"
    }
   ],
   "source": [
    "almost_there(104)"
   ]
  },
  {
   "cell_type": "code",
   "execution_count": 136,
   "id": "38f06d57",
   "metadata": {},
   "outputs": [
    {
     "data": {
      "text/plain": [
       "True"
      ]
     },
     "execution_count": 136,
     "metadata": {},
     "output_type": "execute_result"
    }
   ],
   "source": [
    "almost_there(150)"
   ]
  },
  {
   "cell_type": "code",
   "execution_count": 137,
   "id": "74f8581b",
   "metadata": {},
   "outputs": [
    {
     "data": {
      "text/plain": [
       "True"
      ]
     },
     "execution_count": 137,
     "metadata": {},
     "output_type": "execute_result"
    }
   ],
   "source": [
    "almost_there(209)"
   ]
  },
  {
   "cell_type": "markdown",
   "id": "128a0f35",
   "metadata": {},
   "source": [
    "### Level Two"
   ]
  },
  {
   "cell_type": "code",
   "execution_count": 138,
   "id": "23266fff",
   "metadata": {},
   "outputs": [],
   "source": [
    "# find 33\n",
    "# True if array has a 3 next to a 3 somewhere\n",
    "\n",
    "# def has_33(nums):\n",
    "#     return nums[0] == nums[1] or nums[1] == nums[2]\n",
    "\n",
    "def has_33(nums):\n",
    "    for i in range(0, len(nums)-1):\n",
    "        if nums[i:i+2] == [3,3]:\n",
    "            return True\n",
    "    return False"
   ]
  },
  {
   "cell_type": "code",
   "execution_count": 139,
   "id": "dd095575",
   "metadata": {},
   "outputs": [
    {
     "data": {
      "text/plain": [
       "True"
      ]
     },
     "execution_count": 139,
     "metadata": {},
     "output_type": "execute_result"
    }
   ],
   "source": [
    "has_33([1, 3, 3])"
   ]
  },
  {
   "cell_type": "code",
   "execution_count": 140,
   "id": "1b3a56fe",
   "metadata": {},
   "outputs": [
    {
     "data": {
      "text/plain": [
       "False"
      ]
     },
     "execution_count": 140,
     "metadata": {},
     "output_type": "execute_result"
    }
   ],
   "source": [
    "has_33([1, 3, 1, 3])"
   ]
  },
  {
   "cell_type": "code",
   "execution_count": 141,
   "id": "d5d5c3d9",
   "metadata": {},
   "outputs": [
    {
     "data": {
      "text/plain": [
       "False"
      ]
     },
     "execution_count": 141,
     "metadata": {},
     "output_type": "execute_result"
    }
   ],
   "source": [
    "has_33([3, 1, 3])"
   ]
  },
  {
   "cell_type": "code",
   "execution_count": 142,
   "id": "d677bfcb",
   "metadata": {},
   "outputs": [],
   "source": [
    "# paper doll\n",
    "# return string where for every character in the orignial there are three characters\n",
    "\n",
    "def paper_doll(text):\n",
    "    new_text = ''\n",
    "    for i in text:\n",
    "        new_text += i*3\n",
    "    return new_text"
   ]
  },
  {
   "cell_type": "code",
   "execution_count": 143,
   "id": "4bf42e45",
   "metadata": {},
   "outputs": [
    {
     "data": {
      "text/plain": [
       "'HHHeeellllllooo'"
      ]
     },
     "execution_count": 143,
     "metadata": {},
     "output_type": "execute_result"
    }
   ],
   "source": [
    "paper_doll('Hello')"
   ]
  },
  {
   "cell_type": "code",
   "execution_count": 144,
   "id": "3a1d6014",
   "metadata": {},
   "outputs": [
    {
     "data": {
      "text/plain": [
       "'MMMiiissssssiiissssssiiippppppiii'"
      ]
     },
     "execution_count": 144,
     "metadata": {},
     "output_type": "execute_result"
    }
   ],
   "source": [
    "paper_doll('Mississippi')"
   ]
  },
  {
   "cell_type": "code",
   "execution_count": 145,
   "id": "2f4e4f48",
   "metadata": {},
   "outputs": [],
   "source": [
    "# blackjack\n",
    "# three integers between 1 and 11, \n",
    "# if their sum is less than or equal to 21, return their sum. \n",
    "# If their sum exceeds 21 and there's an eleven, reduce the total sum by 10. \n",
    "# Finally, if the sum (even after adjustment) exceeds 21, return 'BUST'\n",
    "\n",
    "# def blackjack(a,b,c):\n",
    "#     total = a+b+c\n",
    "#     adj_total = total - 10\n",
    "#     if c==11 or b==11 or a==11:\n",
    "#         total = adj_total\n",
    "#         if total <= 21:\n",
    "#             return total\n",
    "#     elif total <= 21:\n",
    "#         return total\n",
    "#     else:\n",
    "#         return 'BUST'\n",
    "\n",
    "def blackjack(a,b,c):\n",
    "    if sum((a,b,c)) <= 21:\n",
    "        return sum((a,b,c))\n",
    "    elif sum((a,b,c)) <= 31 and 11 in (a,b,c):\n",
    "        return sum((a,b,c)) - 10\n",
    "    else:\n",
    "        return 'BUST'\n"
   ]
  },
  {
   "cell_type": "code",
   "execution_count": 146,
   "id": "7e1c0f4d",
   "metadata": {},
   "outputs": [
    {
     "data": {
      "text/plain": [
       "18"
      ]
     },
     "execution_count": 146,
     "metadata": {},
     "output_type": "execute_result"
    }
   ],
   "source": [
    "blackjack(5,6,7)"
   ]
  },
  {
   "cell_type": "code",
   "execution_count": 147,
   "id": "f4c94a94",
   "metadata": {},
   "outputs": [
    {
     "data": {
      "text/plain": [
       "19"
      ]
     },
     "execution_count": 147,
     "metadata": {},
     "output_type": "execute_result"
    }
   ],
   "source": [
    "blackjack(9,9,11)"
   ]
  },
  {
   "cell_type": "code",
   "execution_count": 148,
   "id": "d7904034",
   "metadata": {},
   "outputs": [
    {
     "data": {
      "text/plain": [
       "'BUST'"
      ]
     },
     "execution_count": 148,
     "metadata": {},
     "output_type": "execute_result"
    }
   ],
   "source": [
    "blackjack(9,9,9)"
   ]
  },
  {
   "cell_type": "code",
   "execution_count": 149,
   "id": "643eb391",
   "metadata": {},
   "outputs": [],
   "source": [
    "# summer of '69\n",
    "# return sum of the numbers in the array\n",
    "# except ignore sections of numbers starting with a 6 and extending to the next 9 \n",
    "# (every 6 will be followed by at least one 9). \n",
    "# Return 0 for no numbers.\n",
    "\n",
    "# def summer_69(arr):\n",
    "# #     print(arr)\n",
    "#     if 6 in arr:\n",
    "# #         print('len of array is ', len(arr))\n",
    "#         start = arr.index(6)\n",
    "#         stop = arr.index(9) + 1\n",
    "# #         print('pop range of indicies :', start,',', stop)\n",
    "#         front_arr = arr[:start]\n",
    "# #         print('front_arr is ',front_arr)\n",
    "#         back_arr = arr[stop:]\n",
    "# #         print('back_arr is ', back_arr)\n",
    "#         new_arr = front_arr + back_arr\n",
    "#         print('new_arr', new_arr) \n",
    "#         return sum(new_arr)\n",
    "#         if new_arr == 0:\n",
    "#             return 0\n",
    "#     else:\n",
    "#         return sum(arr)\n",
    "\n",
    "def summer_69(arr):\n",
    "    total = 0\n",
    "    add = True\n",
    "    for num in arr:\n",
    "        while add:\n",
    "            if num != 6:\n",
    "                total += num\n",
    "                break\n",
    "            else:\n",
    "                add = False\n",
    "        while not add:\n",
    "            if num != 9:\n",
    "                break\n",
    "            else:\n",
    "                add = True\n",
    "                break\n",
    "    return total"
   ]
  },
  {
   "cell_type": "code",
   "execution_count": 150,
   "id": "ff0c1d69",
   "metadata": {},
   "outputs": [
    {
     "data": {
      "text/plain": [
       "0"
      ]
     },
     "execution_count": 150,
     "metadata": {},
     "output_type": "execute_result"
    }
   ],
   "source": [
    "summer_69([6, 7, 8, 9])"
   ]
  },
  {
   "cell_type": "code",
   "execution_count": 151,
   "id": "a2b25cb9",
   "metadata": {},
   "outputs": [
    {
     "data": {
      "text/plain": [
       "9"
      ]
     },
     "execution_count": 151,
     "metadata": {},
     "output_type": "execute_result"
    }
   ],
   "source": [
    "summer_69([1, 3, 5])"
   ]
  },
  {
   "cell_type": "code",
   "execution_count": 152,
   "id": "bad5eb69",
   "metadata": {},
   "outputs": [
    {
     "data": {
      "text/plain": [
       "9"
      ]
     },
     "execution_count": 152,
     "metadata": {},
     "output_type": "execute_result"
    }
   ],
   "source": [
    "summer_69([4, 5, 6, 7, 8, 9])"
   ]
  },
  {
   "cell_type": "code",
   "execution_count": 153,
   "id": "1def11cd",
   "metadata": {},
   "outputs": [
    {
     "data": {
      "text/plain": [
       "14"
      ]
     },
     "execution_count": 153,
     "metadata": {},
     "output_type": "execute_result"
    }
   ],
   "source": [
    "summer_69([2, 1, 6, 9, 11])"
   ]
  },
  {
   "cell_type": "markdown",
   "id": "52c71802",
   "metadata": {},
   "source": [
    "### Challenge"
   ]
  },
  {
   "cell_type": "code",
   "execution_count": 154,
   "id": "f82408dd",
   "metadata": {},
   "outputs": [],
   "source": [
    "# ❗️\n",
    "# spy game \n",
    "# function that takes in a list of integers and \n",
    "# returns True if it contains 007 in order\n",
    "# spy_game([1,2,4,0,0,7,5]) --> True\n",
    "# spy_game([1,0,2,4,0,5,7]) --> True\n",
    "# spy_game([1,7,2,0,4,5,0]) --> False\n",
    "# anwer\n",
    "def spy_game(nums):\n",
    "    code = [0,0,7,'x']\n",
    "    for n in nums:\n",
    "        if n == code[0]:\n",
    "            code.pop(0) #code.remove(n) also works\n",
    "    return len(code) == 1\n"
   ]
  },
  {
   "cell_type": "code",
   "execution_count": 155,
   "id": "ac788df3",
   "metadata": {},
   "outputs": [
    {
     "data": {
      "text/plain": [
       "True"
      ]
     },
     "execution_count": 155,
     "metadata": {},
     "output_type": "execute_result"
    }
   ],
   "source": [
    "spy_game([1,2,4,0,0,7,5])"
   ]
  },
  {
   "cell_type": "code",
   "execution_count": 156,
   "id": "00e1cef3",
   "metadata": {},
   "outputs": [
    {
     "data": {
      "text/plain": [
       "True"
      ]
     },
     "execution_count": 156,
     "metadata": {},
     "output_type": "execute_result"
    }
   ],
   "source": [
    "spy_game([1,0,2,4,0,5,7])"
   ]
  },
  {
   "cell_type": "code",
   "execution_count": 157,
   "id": "1211e41e",
   "metadata": {},
   "outputs": [
    {
     "data": {
      "text/plain": [
       "False"
      ]
     },
     "execution_count": 157,
     "metadata": {},
     "output_type": "execute_result"
    }
   ],
   "source": [
    "spy_game([1,7,2,0,4,5,0])"
   ]
  },
  {
   "cell_type": "code",
   "execution_count": 158,
   "id": "c3cd9459",
   "metadata": {},
   "outputs": [],
   "source": [
    "# count primes\n",
    "# function that returns the number of prime numbers that exist up to and including a given number\n",
    "# count_primes(100) --> 25\n",
    "\n",
    "# def count_primes(sum):\n",
    "#     nums = list(range(sum))\n",
    "#     primes = []\n",
    "#     for i in nums:\n",
    "#         if i%2 != 0 and i%3 != 0 and i%3 != 0 and i%5 != 0:\n",
    "#             primes.append(i)\n",
    "#     primes.remove(1)\n",
    "#     return len(primes), primes\n",
    "\n",
    "def count_primes(num):\n",
    "    primes = [2]\n",
    "    x = 3\n",
    "    if num < 2: #for the case of num = 0 or 1\n",
    "        return 0\n",
    "    while x <= num:\n",
    "        for y in range(3,x,2): #test all odd factors up to x-1\n",
    "            if x%y == 0:\n",
    "                x += 2\n",
    "                break\n",
    "        else:\n",
    "            primes.append(x)\n",
    "            x += 2\n",
    "    print(primes)\n",
    "    return len(primes)\n",
    "\n",
    "        "
   ]
  },
  {
   "cell_type": "code",
   "execution_count": 159,
   "id": "6dbc0994",
   "metadata": {},
   "outputs": [
    {
     "name": "stdout",
     "output_type": "stream",
     "text": [
      "[2, 3, 5, 7, 11, 13, 17, 19, 23, 29, 31, 37, 41, 43, 47, 53, 59, 61, 67, 71, 73, 79, 83, 89, 97]\n"
     ]
    },
    {
     "data": {
      "text/plain": [
       "25"
      ]
     },
     "execution_count": 159,
     "metadata": {},
     "output_type": "execute_result"
    }
   ],
   "source": [
    "count_primes(100)"
   ]
  },
  {
   "cell_type": "code",
   "execution_count": 160,
   "id": "89ba968b",
   "metadata": {},
   "outputs": [],
   "source": [
    "# print big\n",
    "# function that takes in a single letter, and \n",
    "# returns a 5x5 representation of that letter\n",
    "# print_big('a')\n",
    "\n",
    "# out:   *  \n",
    "#       * *\n",
    "#      *****\n",
    "#      *   *\n",
    "#      *   *\n",
    "# HINT: Consider making a dictionary of possible patterns, and mapping the alphabet to specific 5-line combinations of patterns.\n",
    "# For purposes of this exercise, it's ok if your dictionary stops at \"E\"."
   ]
  },
  {
   "cell_type": "code",
   "execution_count": 161,
   "id": "4d808b68",
   "metadata": {},
   "outputs": [],
   "source": [
    "def print_big(letter):\n",
    "    pass"
   ]
  },
  {
   "cell_type": "code",
   "execution_count": 162,
   "id": "1eae27ca",
   "metadata": {},
   "outputs": [],
   "source": [
    "print_big('a')"
   ]
  },
  {
   "cell_type": "markdown",
   "id": "af27e5ab",
   "metadata": {},
   "source": [
    "# [InterviewBit](https://www.interviewbit.com/courses/fast-track-python/)"
   ]
  },
  {
   "cell_type": "markdown",
   "id": "6fc73000",
   "metadata": {},
   "source": [
    "## Strings"
   ]
  },
  {
   "cell_type": "code",
   "execution_count": 8,
   "id": "95049d94",
   "metadata": {},
   "outputs": [
    {
     "name": "stdout",
     "output_type": "stream",
     "text": [
      "True\n",
      "True\n",
      "True\n",
      "True\n",
      "False\n"
     ]
    }
   ],
   "source": [
    "# https://www.interviewbit.com/problems/string-validators/\n",
    "\n",
    "S = 'uuhwei12#' \n",
    "# res = any(chr.isdigit() for chr in test_str)\n",
    "alphanum = (any(s.isalnum() for s in S))\n",
    "alpha = any(s.isalpha() for s in S)\n",
    "digit = any(s.isdigit() for s in S)\n",
    "lower = any(s.islower() for s in S)\n",
    "upper = any(s.isupper() for s in S)\n",
    "print(alphanum) \n",
    "print(alpha)\n",
    "print(digit)\n",
    "print(lower)\n",
    "print(upper)\n"
   ]
  },
  {
   "cell_type": "markdown",
   "id": "ee2a7a3b",
   "metadata": {},
   "source": [
    "## Containers & Classes"
   ]
  },
  {
   "cell_type": "code",
   "execution_count": 17,
   "id": "c05f60dd",
   "metadata": {},
   "outputs": [],
   "source": [
    "# https://www.interviewbit.com/problems/lists/\n",
    "\n",
    "def func():\n",
    "    names = []\n",
    "    names.append('Robin')\n",
    "    names.append('Aman')\n",
    "    names.append('Rahul')\n",
    "\n",
    "    \n",
    "#     print(names)\n",
    "    return names"
   ]
  },
  {
   "cell_type": "code",
   "execution_count": 18,
   "id": "c28f0ed4",
   "metadata": {},
   "outputs": [
    {
     "data": {
      "text/plain": [
       "['Robin', 'Aman', 'Rahul']"
      ]
     },
     "execution_count": 18,
     "metadata": {},
     "output_type": "execute_result"
    }
   ],
   "source": [
    "func()"
   ]
  },
  {
   "cell_type": "code",
   "execution_count": 25,
   "id": "f26d634a",
   "metadata": {},
   "outputs": [],
   "source": [
    "# https://www.interviewbit.com/problems/tuples/\n",
    "\n",
    "def func():\n",
    "    tuple1 = tuple((\"one\", \"two\", \"three\"))\n",
    "    tuple2 = tuple((\"1\", \"2\", \"3\"))\n",
    "    add = ('number', )\n",
    "    tuple1 = add + tuple1[1:]\n",
    "    tuple2 = add + tuple2[1:]\n",
    "    \n",
    "    # change value at index 0 of both tuple to string \"number\"\n",
    "    # Your code goes here\n",
    "    \n",
    "    \n",
    "    print(tuple1)\n",
    "    print(tuple2)\n",
    "    \n",
    "    return 0"
   ]
  },
  {
   "cell_type": "code",
   "execution_count": 26,
   "id": "1e3294f2",
   "metadata": {},
   "outputs": [
    {
     "name": "stdout",
     "output_type": "stream",
     "text": [
      "('number', 'two', 'three')\n",
      "('number', '2', '3')\n"
     ]
    },
    {
     "data": {
      "text/plain": [
       "0"
      ]
     },
     "execution_count": 26,
     "metadata": {},
     "output_type": "execute_result"
    }
   ],
   "source": [
    "func()"
   ]
  },
  {
   "cell_type": "code",
   "execution_count": 36,
   "id": "3bfae18a",
   "metadata": {},
   "outputs": [],
   "source": [
    "# https://www.interviewbit.com/problems/dictionary/\n",
    "\n",
    "def func():\n",
    "    my_dict = {\n",
    "        \"Monday\": 1,\n",
    "        \"Tuesday\": 2,\n",
    "        \"Wednesday\": 3,\n",
    "        \"Thursday\": 4,\n",
    "        \"Friday\": 5,\n",
    "        \"Saturday\": 6,\n",
    "        \"Sunday\": 0\n",
    "    }\n",
    "\n",
    "    # update value for key \"Sunday\" to 7\n",
    "    my_dict[\"Sunday\"] = 7\n",
    "    \n",
    "    # adding another item with key \"Default\" having value 0\n",
    "    \n",
    "    my_dict[\"Default\"] = 0\n",
    "    \n",
    "    for i in sorted(my_dict):\n",
    "        print (\"(\\'\" + i + \"\\',\", str(my_dict[i]) + \")\")\n",
    "\n",
    "#     return my_dict"
   ]
  },
  {
   "cell_type": "code",
   "execution_count": 37,
   "id": "cc87d142",
   "metadata": {},
   "outputs": [
    {
     "name": "stdout",
     "output_type": "stream",
     "text": [
      "('Default', 0)\n",
      "('Friday', 5)\n",
      "('Monday', 1)\n",
      "('Saturday', 6)\n",
      "('Sunday', 7)\n",
      "('Thursday', 4)\n",
      "('Tuesday', 2)\n",
      "('Wednesday', 3)\n"
     ]
    }
   ],
   "source": [
    "func()"
   ]
  },
  {
   "cell_type": "code",
   "execution_count": 58,
   "id": "2dbb21d4",
   "metadata": {},
   "outputs": [],
   "source": [
    "# https://www.interviewbit.com/problems/sets/\n",
    "\n",
    "def func():\n",
    "    my_set = set([1, 3, 2, 4, 1, 3, 3, 0])\n",
    "    \n",
    "    # add 10, 12, 13, 14, 15, 16, 17, 18, 19, 20, 21, 22, 23 to my_set\n",
    "    my_set.update([10, 12, 13, 14, 15, 16, 17, 18, 19, 20, 21, 22, 23])\n",
    "    \n",
    "    # delete 2 and 3 from my_set\n",
    "    my_set.discard(2)\n",
    "    my_set.discard(3)\n",
    "    \n",
    "    li = list(my_set)\n",
    "    li.sort()\n",
    "\n",
    "    print(li)\n",
    "    return 0"
   ]
  },
  {
   "cell_type": "code",
   "execution_count": 59,
   "id": "fb4c4b95",
   "metadata": {},
   "outputs": [
    {
     "name": "stdout",
     "output_type": "stream",
     "text": [
      "[0, 1, 2, 4, 10, 12, 13, 14, 15, 16, 17, 18, 19, 20, 21, 22, 23]\n"
     ]
    },
    {
     "data": {
      "text/plain": [
       "0"
      ]
     },
     "execution_count": 59,
     "metadata": {},
     "output_type": "execute_result"
    }
   ],
   "source": [
    "func()"
   ]
  },
  {
   "cell_type": "code",
   "execution_count": 132,
   "id": "d4b68d50",
   "metadata": {},
   "outputs": [],
   "source": [
    "# https://www.interviewbit.com/problems/set-operations/\n",
    "\n",
    "def func():\n",
    "    # Below are the three sets \n",
    "    \n",
    "    X = set([1, 3, 7, 5, 6, 10, 20, 21, 22, 23, 55, 51, 2, 19, 9, 17, 27, 26, 25, 35]) #football\n",
    "    Y = set([2, 10, 13, 18, 17, 22, 28, 27, 5, 49, 46, 43, 3]) # cricket\n",
    "    Z = set([21, 1, 32, 25, 12, 11, 8, 10, 26, 16, 31, 20, 30, 14]) # basketball\n",
    "    \n",
    "    # 'set1' contains the student who loves to play all three sports\n",
    "    # union\n",
    "#     set1 = football.union(cricket, basketball)\n",
    "    set1 = X.intersection(Y, Z) #{10}\n",
    "\n",
    "    \n",
    "#     printset(set1)\n",
    "    \n",
    "#     # 'set2' contains the student who loves to play both Football and Cricket, but don't play Basketball\n",
    "#     # (X+Y)-Z\n",
    "#     set2 =  football.intersection(cricket)\n",
    "    set2 = X.intersection(Y).difference(Z) #{2, 3, 5, 17, 22, 27}\n",
    "    \n",
    "#     printset(set2)\n",
    "    \n",
    "#     # 'set3' contains the student who loves to play Cricket, but don't loves any other sport\n",
    "#     # Y - (X+Z)\n",
    "#     set3 = cricket.difference(football, basketball)\n",
    "    set3 = Y.difference(X, Z) #{13, 18, 28, 43, 46, 49}\n",
    "    \n",
    "#     printset(set3)\n",
    "    return set1, set2, set3\n"
   ]
  },
  {
   "cell_type": "code",
   "execution_count": 133,
   "id": "178cbb0c",
   "metadata": {},
   "outputs": [
    {
     "data": {
      "text/plain": [
       "({10}, {2, 3, 5, 17, 22, 27}, {13, 18, 28, 43, 46, 49})"
      ]
     },
     "execution_count": 133,
     "metadata": {},
     "output_type": "execute_result"
    }
   ],
   "source": [
    "func()"
   ]
  },
  {
   "cell_type": "code",
   "execution_count": 37,
   "id": "46ace5af",
   "metadata": {},
   "outputs": [],
   "source": [
    "# https://www.interviewbit.com/problems/nested-list/\n",
    "\n",
    "def func():\n",
    "    my_list = [['a', 'b'], ['cc', 'dd', ['eee', 'fff']], ['g', 'h']]\n",
    "    \n",
    "    # insert a new list [1, 2, 3] at the end of my_list\n",
    "    # Your code goes here\n",
    "    new_list = [1,2,3]\n",
    "    my_list.append(new_list)\n",
    "    print(my_list)\n",
    "    \n",
    "    # Delete 'eee' from the list\n",
    "    # Your code goes here\n",
    "    my_list[1][2].pop(0)\n",
    "    \n",
    "    print(my_list)\n",
    "    return 0\n",
    "\n"
   ]
  },
  {
   "cell_type": "markdown",
   "id": "93231dc8",
   "metadata": {},
   "source": [
    "- To **add** new values to the end of the nested list, use `append()` method.\n",
    "- When you want to **insert** an item at a specific position in a nested list, use `insert()` method.\n",
    "- **Merge** one list into another by using `extend()` method.\n",
    "- If you know the **index** of the item you want, you can use `pop()` method. It modifies the list and returns the removed item.\n",
    "- If you’re not sure where the item is in the list, use `remove()` method to delete it by value.\n",
    "\n"
   ]
  },
  {
   "cell_type": "code",
   "execution_count": 38,
   "id": "186e359b",
   "metadata": {},
   "outputs": [
    {
     "name": "stdout",
     "output_type": "stream",
     "text": [
      "[['a', 'b'], ['cc', 'dd', ['eee', 'fff']], ['g', 'h']]\n",
      "[['a', 'b'], ['cc', 'dd', ['fff']], ['g', 'h']]\n"
     ]
    },
    {
     "data": {
      "text/plain": [
       "0"
      ]
     },
     "execution_count": 38,
     "metadata": {},
     "output_type": "execute_result"
    }
   ],
   "source": [
    "func()"
   ]
  },
  {
   "cell_type": "code",
   "execution_count": 81,
   "id": "4e03ca01",
   "metadata": {},
   "outputs": [],
   "source": [
    "# https://www.interviewbit.com/problems/list-comprehensions/\n",
    "\n",
    "def func():\n",
    "    str_list = ['given', 'intern', 'InterviewBit', 'network', 'local', 'multiple', \n",
    "                'define', 'nodes', 'algorithm', 'allows', 'community', 'phase', 'single']\n",
    "#     my_list = [str_list[i] for i in range(len(str_list)) if (len(str_list[i]) % 2 != 0)]\n",
    "    my_list = [s for s in str_list if len(s) %2 !=0]\n",
    "    \n",
    "    print(my_list)\n",
    "    return 0"
   ]
  },
  {
   "cell_type": "markdown",
   "id": "da9e63d3",
   "metadata": {},
   "source": [
    "- `letter_S = [l for l in S]`\n",
    "- `my_list = [x for x in range(1, 10) if x%2 == 1]`"
   ]
  },
  {
   "cell_type": "code",
   "execution_count": 82,
   "id": "179eb59a",
   "metadata": {},
   "outputs": [
    {
     "name": "stdout",
     "output_type": "stream",
     "text": [
      "['given', 'network', 'local', 'nodes', 'algorithm', 'community', 'phase']\n"
     ]
    },
    {
     "data": {
      "text/plain": [
       "0"
      ]
     },
     "execution_count": 82,
     "metadata": {},
     "output_type": "execute_result"
    }
   ],
   "source": [
    "func()"
   ]
  },
  {
   "cell_type": "code",
   "execution_count": 78,
   "id": "f2afa253",
   "metadata": {},
   "outputs": [],
   "source": [
    "str_list = ['given', 'intern', 'InterviewBit', 'network', 'local', 'multiple', 'define', 'nodes', 'algorithm', 'allows', 'community', 'phase', 'single']\n",
    "my_list = []"
   ]
  },
  {
   "cell_type": "code",
   "execution_count": 79,
   "id": "6ac1c0fb",
   "metadata": {},
   "outputs": [
    {
     "name": "stdout",
     "output_type": "stream",
     "text": [
      "['given', 'network', 'local', 'nodes', 'algorithm', 'community', 'phase']\n"
     ]
    }
   ],
   "source": [
    "# for s in str_list:\n",
    "#     if len(s) % 2 !=0:\n",
    "#         my_list.append(s)\n",
    "# print(my_list)\n",
    "\n",
    "\n",
    "my_list = [s for s in str_list if len(s) %2 !=0]\n",
    "my_list"
   ]
  },
  {
   "cell_type": "code",
   "execution_count": 80,
   "id": "8b183df4",
   "metadata": {},
   "outputs": [
    {
     "data": {
      "text/plain": [
       "['given', 'network', 'local', 'nodes', 'algorithm', 'community', 'phase']"
      ]
     },
     "execution_count": 80,
     "metadata": {},
     "output_type": "execute_result"
    }
   ],
   "source": [
    "my_list"
   ]
  },
  {
   "cell_type": "code",
   "execution_count": 76,
   "id": "cd0fc665",
   "metadata": {},
   "outputs": [],
   "source": [
    "# # for i in range(len(str_list)):\n",
    "# #     if (len(str_list[i]) % 2 != 0):\n",
    "# #         my_list.append(str_list[i])\n",
    "# # print(my_list)\n",
    "\n",
    "# my_list = [str_list[i] for i in range(len(str_list)) if (len(str_list[i]) % 2 != 0)]\n",
    "# print(my_list)"
   ]
  },
  {
   "cell_type": "code",
   "execution_count": 163,
   "id": "5a97aa9e",
   "metadata": {},
   "outputs": [
    {
     "name": "stdout",
     "output_type": "stream",
     "text": [
      "intern\n",
      "InterviewBit\n",
      "multiple\n",
      "define\n",
      "allows\n",
      "single\n"
     ]
    }
   ],
   "source": [
    "# even_string_using_iterators = []\n",
    "# for label in str_list:\n",
    "#     if len(label) % 2 == 0:\n",
    "#         even_string_using_iterators.append(label)\n",
    "\n",
    "# print(even_string_using_iterators)\n",
    "##########################################################\n",
    "\n",
    "# even_string_using_for_loop = []\n",
    "# for i in range(0, len(str_list)):\n",
    "#     string = str_list[i]\n",
    "#     string_len = len(string)\n",
    "#     is_even = string_len % 2 == 0\n",
    "#     if is_even:\n",
    "#         even_string_using_for_loop.append(string)\n",
    "# print(even_string_using_for_loop)\n",
    "##########################################################\n",
    "\n",
    "small_list = ['intern', 'InterviewBit', 'multiple', 'define', 'allows', 'single']\n",
    "for i in [0,1,2,3,4,5]:\n",
    "    print(small_list[i])"
   ]
  },
  {
   "cell_type": "code",
   "execution_count": 84,
   "id": "a60778f2",
   "metadata": {},
   "outputs": [
    {
     "name": "stdout",
     "output_type": "stream",
     "text": [
      "Robin CSE\n",
      "Rahul ECE\n"
     ]
    }
   ],
   "source": [
    "# https://www.interviewbit.com/problems/classes-and-objects/\n",
    "\n",
    "class Student:\n",
    "    def __init__(self, name, branch):\n",
    "        self.name = name\n",
    "        self.branch = branch\n",
    "    def printfunction(self):\n",
    "        print(self.name + \" \" + self.branch)\n",
    "\n",
    "def main():\n",
    "    #Your code goes here\n",
    "    stud1 = Student('Robin', 'CSE')\n",
    "    stud2 = Student('Rahul', 'ECE')\n",
    "    stud1.printfunction()\n",
    "    stud2.printfunction()\n",
    "    return 0\n",
    "\n",
    "if __name__ == '__main__':\n",
    "    main()"
   ]
  },
  {
   "cell_type": "code",
   "execution_count": 99,
   "id": "3b6d36df",
   "metadata": {},
   "outputs": [],
   "source": [
    "# https://www.interviewbit.com/problems/numpy-arrays/\n",
    "\n",
    "import numpy as np\n",
    "def func():\n",
    "    arr = [1, 3, 2, 2, 5, 3, 8, 2]\n",
    "    \n",
    "    # Convert the above array into ndarray\n",
    "    arr = np.array(arr)\n",
    "    \n",
    "    print(type(arr))\n",
    "    \n",
    "    # Use where to find all the indexes of 2\n",
    "    x = np.where(arr == 2) \n",
    "    \n",
    "    print(x)\n",
    "    return 0"
   ]
  },
  {
   "cell_type": "markdown",
   "id": "4ff573e1",
   "metadata": {},
   "source": [
    "You can search an array for a certain value, and return the indexes that get a match. To search an array, use the `where()` method.\n",
    "\n",
    "`my_arr = np.array([1, 2, 3, 4, 5, 4, 4])`\n",
    "\n",
    "`x = np.where(my_arr == 4)`\n",
    "print(x) # Finds all the indexes of 4"
   ]
  },
  {
   "cell_type": "code",
   "execution_count": 100,
   "id": "26b09603",
   "metadata": {},
   "outputs": [
    {
     "name": "stdout",
     "output_type": "stream",
     "text": [
      "<class 'numpy.ndarray'>\n",
      "(array([2, 3, 7]),)\n"
     ]
    },
    {
     "data": {
      "text/plain": [
       "0"
      ]
     },
     "execution_count": 100,
     "metadata": {},
     "output_type": "execute_result"
    }
   ],
   "source": [
    "func()"
   ]
  },
  {
   "cell_type": "markdown",
   "id": "750b2103",
   "metadata": {},
   "source": [
    "# Itertools & Collections (Level 5)"
   ]
  },
  {
   "cell_type": "code",
   "execution_count": null,
   "id": "c6ab053c",
   "metadata": {},
   "outputs": [],
   "source": [
    "# https://www.interviewbit.com/problems/itertools-infinite-iterators/\n",
    "\n",
    "import itertools\n",
    "\n",
    "def func():\n",
    "    # print 1000 space separated integers starting from 1000 with common difference 500\n",
    "    # 1000 1500 2000 2500 3000........\n",
    "    # There should be exactly one space after every integer\n",
    "    for i in itertools.count(1000,500):\n",
    "        if i >= 100:\n",
    "            break\n",
    "        else:\n",
    "            print(i,end=\" \")\n",
    "    \n",
    "    # print all uppercase alphabets 15 times, printing from A-Z then repeating again\n",
    "    # A B C D E F G H I J K L M N O P Q R S T U V W X Y Z A B C D........\n",
    "    # There should be exactly one space after every character\n",
    "    count=0\n",
    "    for i in itertools.cycle('ABCDEFGHIJKLMNOPQRSTUVQXYZ'):\n",
    "        if count >= 15:\n",
    "            break\n",
    "        else:\n",
    "            print(i, end=\" \")\n",
    "            count += 1\n",
    "    \n",
    "    # print list of integers containing 1000 4's\n",
    "    print(list(itertools.repeat(4,1000)))\n",
    "\n",
    "    return 0\n",
    "\n",
    "# if __name__ == '__main__':\n",
    "#     main()"
   ]
  },
  {
   "cell_type": "code",
   "execution_count": null,
   "id": "9c35be43",
   "metadata": {},
   "outputs": [],
   "source": [
    "func()"
   ]
  },
  {
   "cell_type": "markdown",
   "id": "c9548fd2",
   "metadata": {},
   "source": [
    "### infinite itertors\n",
    "- count(start, step)\n",
    "```\n",
    "   for i in itertools.count(5,5):\n",
    "       if i == 35:\n",
    "           break\n",
    "        else:\n",
    "            print(i, end =\" \")\n",
    "        prints 5 10 15 20 25 30\n",
    "```\n",
    "- cycle(iterable)\n",
    "```\n",
    "    count = 0\n",
    "    for i in itertools.cycle('AB'):\n",
    "        if count > 7:\n",
    "            break\n",
    "        else:\n",
    "            print(i, end = \" \")\n",
    "            count += 1\n",
    "        prints A B A B A B A B\n",
    "```\n",
    "- repeat(val, num)\n",
    "```\n",
    "    print(\"Printing the numbers repeatedly:\")\n",
    "     print(list(itertools.repeat(25, 4)))\n",
    "        prints Printing the numbers repeatedly:\n",
    "        [25, 25, 25, 25]\n",
    "```"
   ]
  },
  {
   "cell_type": "code",
   "execution_count": 3,
   "id": "9dc7c780",
   "metadata": {},
   "outputs": [
    {
     "name": "stdout",
     "output_type": "stream",
     "text": [
      "5 10 15 20 25 30 "
     ]
    }
   ],
   "source": [
    "import itertools\n",
    "\n",
    "for i in itertools.count(5,5):\n",
    "    if i == 35:\n",
    "        break\n",
    "    else:\n",
    "        print(i, end=\" \")"
   ]
  },
  {
   "cell_type": "code",
   "execution_count": 5,
   "id": "09fe8ff3",
   "metadata": {},
   "outputs": [
    {
     "name": "stdout",
     "output_type": "stream",
     "text": [
      "1 3 5 7 9 "
     ]
    }
   ],
   "source": [
    "for i in itertools.count(1, 2):  \n",
    "    if i >= 10:  \n",
    "        break\n",
    "    else:  \n",
    "        print(i, end =\" \")"
   ]
  },
  {
   "cell_type": "code",
   "execution_count": null,
   "id": "3b170128",
   "metadata": {},
   "outputs": [],
   "source": []
  }
 ],
 "metadata": {
  "kernelspec": {
   "display_name": "Python 3 (unsupervised)",
   "language": "python",
   "name": "unsupervised"
  },
  "language_info": {
   "codemirror_mode": {
    "name": "ipython",
    "version": 3
   },
   "file_extension": ".py",
   "mimetype": "text/x-python",
   "name": "python",
   "nbconvert_exporter": "python",
   "pygments_lexer": "ipython3",
   "version": "3.8.12"
  }
 },
 "nbformat": 4,
 "nbformat_minor": 5
}

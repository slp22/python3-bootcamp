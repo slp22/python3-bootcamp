{
 "cells": [
  {
   "cell_type": "code",
   "execution_count": 68,
   "id": "210273b9",
   "metadata": {},
   "outputs": [
    {
     "data": {
      "text/plain": [
       "80"
      ]
     },
     "execution_count": 68,
     "metadata": {},
     "output_type": "execute_result"
    }
   ],
   "source": [
    "# https://exercism.org/tracks/python/exercises/currency-exchange \n",
    "\n",
    "def exchangeable_value(budget, exchange_rate, spread, denomination):\n",
    "    return int(((budget//(exchange_rate+(exchange_rate*(spread/100))))//denomination)*denomination)\n",
    "\n",
    "budget=127.25    \n",
    "exchange_rate=1.20        \n",
    "spread=10         \n",
    "denomination=20        \n",
    "# output # 80  \n",
    "\n",
    "exchangeable_value(budget, exchange_rate, spread, denomination)"
   ]
  },
  {
   "cell_type": "code",
   "execution_count": 158,
   "id": "801d35c9",
   "metadata": {},
   "outputs": [
    {
     "data": {
      "text/plain": [
       "'DANGER'"
      ]
     },
     "execution_count": 158,
     "metadata": {},
     "output_type": "execute_result"
    }
   ],
   "source": [
    "# https://exercism.org/tracks/python/exercises/meltdown-mitigation/edit\n",
    "\n",
    "def is_criticality_balanced(temperature, neutrons_emitted):\n",
    "    return temperature < 800 and neutrons_emitted > 500 and temperature * neutrons_emitted < 500000    \n",
    "is_criticality_balanced(750, 600) # True\n",
    "\n",
    "def reactor_efficiency(voltage, current, theoretical_max_power):\n",
    "    generated_power = voltage * current\n",
    "    efficiency = (generated_power / theoretical_max_power)*100\n",
    "    \n",
    "    if efficiency < 30:\n",
    "        return 'black' \n",
    "    if 30 <= efficiency < 60:        \n",
    "        return 'red'\n",
    "    if 60 <= efficiency < 80:\n",
    "        return 'orange'\n",
    "    if efficiency >= 80:\n",
    "        return 'green'\n",
    "reactor_efficiency(10, 600, 10000) #orange\n",
    "\n",
    "def fail_safe(temperature, neutrons_produced_per_second, threshold):\n",
    "    temp_x_neu = temperature * neutrons_produced_per_second\n",
    "    lower= temp_x_neu - (.1 * threshold)\n",
    "    upper= threshold + (.1 * threshold)\n",
    "    \n",
    "    if temp_x_neu < .90 * threshold:\n",
    "        return 'LOW'\n",
    "    if lower > temp_x_neu < upper:\n",
    "        return 'NORMAL'\n",
    "    else:\n",
    "        return 'DANGER'\n",
    "fail_safe(10, 1101, 10000) #The function returned NORMAL, but the test expected DANGER as the return value\n"
   ]
  },
  {
   "cell_type": "code",
   "execution_count": null,
   "id": "9cd4ab15",
   "metadata": {},
   "outputs": [],
   "source": [
    "# https://exercism.org/tracks/python/exercises"
   ]
  },
  {
   "cell_type": "code",
   "execution_count": null,
   "id": "68dd70a4",
   "metadata": {},
   "outputs": [],
   "source": []
  },
  {
   "cell_type": "code",
   "execution_count": null,
   "id": "796fd4a8",
   "metadata": {},
   "outputs": [],
   "source": []
  },
  {
   "cell_type": "code",
   "execution_count": null,
   "id": "9c1fc8ae",
   "metadata": {},
   "outputs": [],
   "source": []
  }
 ],
 "metadata": {
  "kernelspec": {
   "display_name": "Python 3 (ipykernel)",
   "language": "python",
   "name": "python3"
  },
  "language_info": {
   "codemirror_mode": {
    "name": "ipython",
    "version": 3
   },
   "file_extension": ".py",
   "mimetype": "text/x-python",
   "name": "python",
   "nbconvert_exporter": "python",
   "pygments_lexer": "ipython3",
   "version": "3.10.9"
  }
 },
 "nbformat": 4,
 "nbformat_minor": 5
}

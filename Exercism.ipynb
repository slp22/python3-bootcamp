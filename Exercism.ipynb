{
 "cells": [
  {
   "cell_type": "code",
   "execution_count": 68,
   "id": "210273b9",
   "metadata": {},
   "outputs": [
    {
     "data": {
      "text/plain": [
       "80"
      ]
     },
     "execution_count": 68,
     "metadata": {},
     "output_type": "execute_result"
    }
   ],
   "source": [
    "# https://exercism.org/tracks/python/exercises/currency-exchange \n",
    "\n",
    "def exchangeable_value(budget, exchange_rate, spread, denomination):\n",
    "    return int(((budget//(exchange_rate+(exchange_rate*(spread/100))))//denomination)*denomination)\n",
    "\n",
    "budget=127.25    \n",
    "exchange_rate=1.20        \n",
    "spread=10         \n",
    "denomination=20        \n",
    "# output # 80  \n",
    "\n",
    "exchangeable_value(budget, exchange_rate, spread, denomination)"
   ]
  },
  {
   "cell_type": "code",
   "execution_count": 158,
   "id": "801d35c9",
   "metadata": {},
   "outputs": [
    {
     "data": {
      "text/plain": [
       "'DANGER'"
      ]
     },
     "execution_count": 158,
     "metadata": {},
     "output_type": "execute_result"
    }
   ],
   "source": [
    "# https://exercism.org/tracks/python/exercises/meltdown-mitigation/edit\n",
    "\n",
    "def is_criticality_balanced(temperature, neutrons_emitted):\n",
    "    return temperature < 800 and neutrons_emitted > 500 and temperature * neutrons_emitted < 500000    \n",
    "is_criticality_balanced(750, 600) # True\n",
    "\n",
    "def reactor_efficiency(voltage, current, theoretical_max_power):\n",
    "    generated_power = voltage * current\n",
    "    efficiency = (generated_power / theoretical_max_power)*100\n",
    "    \n",
    "    if efficiency < 30:\n",
    "        return 'black' \n",
    "    if 30 <= efficiency < 60:        \n",
    "        return 'red'\n",
    "    if 60 <= efficiency < 80:\n",
    "        return 'orange'\n",
    "    if efficiency >= 80:\n",
    "        return 'green'\n",
    "reactor_efficiency(10, 600, 10000) #orange\n",
    "\n",
    "def fail_safe(temperature, neutrons_produced_per_second, threshold):\n",
    "    temp_x_neu = temperature * neutrons_produced_per_second\n",
    "    lower= temp_x_neu - (.1 * threshold)\n",
    "    upper= threshold + (.1 * threshold)\n",
    "    \n",
    "    if temp_x_neu < .90 * threshold:\n",
    "        return 'LOW'\n",
    "    if lower > temp_x_neu < upper:\n",
    "        return 'NORMAL'\n",
    "    else:\n",
    "        return 'DANGER'\n",
    "fail_safe(10, 1101, 10000) #The function returned NORMAL, but the test expected DANGER as the return value\n"
   ]
  },
  {
   "cell_type": "code",
   "execution_count": 38,
   "id": "68dd70a4",
   "metadata": {},
   "outputs": [
    {
     "data": {
      "text/plain": [
       "True"
      ]
     },
     "execution_count": 38,
     "metadata": {},
     "output_type": "execute_result"
    }
   ],
   "source": [
    "# https://exercism.org/tracks/python/exercises/black-jack\n",
    "\n",
    "def value_of_card(card):\n",
    "    face_cards = ['J', 'Q', 'K']\n",
    "    num_cards= ['2', '3', '4', '5', '6','7','8', '9', '10' ]\n",
    "    if card in face_cards :\n",
    "        return 10\n",
    "    if card == 'A':\n",
    "        return 1\n",
    "    if card in num_cards:\n",
    "        return int(card)  \n",
    "# value_of_card('9')\n",
    "\n",
    "def higher_card(card_one, card_two):\n",
    "    one = value_of_card(card_one)\n",
    "    two = value_of_card(card_two)\n",
    "\n",
    "    if one > two:\n",
    "        return card_one\n",
    "    if two > one:\n",
    "        return card_two\n",
    "    if one == two:\n",
    "        return (card_one, card_two)\n",
    "# higher_card('K', '2')\n",
    "\n",
    "def value_of_ace(card_one, card_two):\n",
    "    one = value_of_card(card_one)\n",
    "    two = value_of_card(card_two)\n",
    "  \n",
    "    card_sum = one + two\n",
    "    wiggle_room = 21 - card_sum\n",
    "  \n",
    "    if card_one == 'A' or card_two == 'A':\n",
    "        return 1\n",
    "    elif wiggle_room <= 10:\n",
    "        return 1\n",
    "    elif wiggle_room > 10:\n",
    "        return 11\n",
    "\n",
    "# value_of_ace('6', 'A') #1\n",
    "# value_of_ace('7', '3') #11\n",
    "# value_of_ace('2', 'A') #1\n",
    "\n",
    "def is_blackjack(card_one, card_two):\n",
    "    counter = 0\n",
    "    \n",
    "    if card_one == 'A':\n",
    "        counter = 11\n",
    "        two = value_of_card(card_two)\n",
    "        counter += two\n",
    "    if card_two == 'A':\n",
    "        counter = 11\n",
    "        one = value_of_card(card_one)\n",
    "        counter += one    \n",
    "    else:\n",
    "        one = value_of_card(card_one)\n",
    "        two = value_of_card(card_two)\n",
    "    return counter == 21\n",
    "\n",
    "# is_blackjack('A', 'K') #True\n",
    "# is_blackjack('10', '9') #False\n",
    "\n",
    "def can_split_pairs(card_one, card_two):\n",
    "    return value_of_card(card_one) == value_of_card(card_two)\n",
    "\n",
    "# can_split_pairs('Q', 'K') #True\n",
    "# can_split_pairs('10', 'A') #False\n",
    "\n",
    "def can_double_down(card_one, card_two):\n",
    "    return 9 <= value_of_card(card_one) + value_of_card(card_two) <=11\n",
    "\n",
    "# can_double_down('A', '9') #True\n",
    "# can_double_down('10', '2') #False\n"
   ]
  },
  {
   "cell_type": "markdown",
   "id": "cbf36a81",
   "metadata": {},
   "source": [
    "Line 8, 28, 49 [R1710 inconsistent-return-statements] : [\"Either all return statements in a function should return an expression\", \"or none of them should.\"] was reported by Pylint."
   ]
  }
 ],
 "metadata": {
  "kernelspec": {
   "display_name": "Python 3 (ipykernel)",
   "language": "python",
   "name": "python3"
  },
  "language_info": {
   "codemirror_mode": {
    "name": "ipython",
    "version": 3
   },
   "file_extension": ".py",
   "mimetype": "text/x-python",
   "name": "python",
   "nbconvert_exporter": "python",
   "pygments_lexer": "ipython3",
   "version": "3.10.9"
  }
 },
 "nbformat": 4,
 "nbformat_minor": 5
}

{
 "cells": [
  {
   "cell_type": "code",
   "execution_count": 68,
   "id": "210273b9",
   "metadata": {},
   "outputs": [
    {
     "data": {
      "text/plain": [
       "80"
      ]
     },
     "execution_count": 68,
     "metadata": {},
     "output_type": "execute_result"
    }
   ],
   "source": [
    "# https://exercism.org/tracks/python/exercises/currency-exchange \n",
    "\n",
    "def exchangeable_value(budget, exchange_rate, spread, denomination):\n",
    "    return int(((budget//(exchange_rate+(exchange_rate*(spread/100))))//denomination)*denomination)\n",
    "\n",
    "budget=127.25    \n",
    "exchange_rate=1.20        \n",
    "spread=10         \n",
    "denomination=20        \n",
    "# output # 80  \n",
    "\n",
    "exchangeable_value(budget, exchange_rate, spread, denomination)"
   ]
  },
  {
   "cell_type": "code",
   "execution_count": 158,
   "id": "801d35c9",
   "metadata": {},
   "outputs": [
    {
     "data": {
      "text/plain": [
       "'DANGER'"
      ]
     },
     "execution_count": 158,
     "metadata": {},
     "output_type": "execute_result"
    }
   ],
   "source": [
    "# https://exercism.org/tracks/python/exercises/meltdown-mitigation/edit\n",
    "\n",
    "def is_criticality_balanced(temperature, neutrons_emitted):\n",
    "    return temperature < 800 and neutrons_emitted > 500 and temperature * neutrons_emitted < 500000    \n",
    "is_criticality_balanced(750, 600) # True\n",
    "\n",
    "def reactor_efficiency(voltage, current, theoretical_max_power):\n",
    "    generated_power = voltage * current\n",
    "    efficiency = (generated_power / theoretical_max_power)*100\n",
    "    \n",
    "    if efficiency < 30:\n",
    "        return 'black' \n",
    "    if 30 <= efficiency < 60:        \n",
    "        return 'red'\n",
    "    if 60 <= efficiency < 80:\n",
    "        return 'orange'\n",
    "    if efficiency >= 80:\n",
    "        return 'green'\n",
    "reactor_efficiency(10, 600, 10000) #orange\n",
    "\n",
    "def fail_safe(temperature, neutrons_produced_per_second, threshold):\n",
    "    temp_x_neu = temperature * neutrons_produced_per_second\n",
    "    lower= temp_x_neu - (.1 * threshold)\n",
    "    upper= threshold + (.1 * threshold)\n",
    "    \n",
    "    if temp_x_neu < .90 * threshold:\n",
    "        return 'LOW'\n",
    "    if lower > temp_x_neu < upper:\n",
    "        return 'NORMAL'\n",
    "    else:\n",
    "        return 'DANGER'\n",
    "fail_safe(10, 1101, 10000) #The function returned NORMAL, but the test expected DANGER as the return value\n"
   ]
  },
  {
   "cell_type": "code",
   "execution_count": 25,
   "id": "68dd70a4",
   "metadata": {},
   "outputs": [
    {
     "name": "stdout",
     "output_type": "stream",
     "text": [
      "1 None\n",
      "2 2\n"
     ]
    },
    {
     "ename": "TypeError",
     "evalue": "'>' not supported between instances of 'NoneType' and 'int'",
     "output_type": "error",
     "traceback": [
      "\u001b[0;31m---------------------------------------------------------------------------\u001b[0m",
      "\u001b[0;31mTypeError\u001b[0m                                 Traceback (most recent call last)",
      "Cell \u001b[0;32mIn[25], line 44\u001b[0m\n\u001b[1;32m     42\u001b[0m     \u001b[38;5;28;01melif\u001b[39;00m one \u001b[38;5;241m==\u001b[39m two:\n\u001b[1;32m     43\u001b[0m         \u001b[38;5;28;01mreturn\u001b[39;00m (card_one, card_two)\n\u001b[0;32m---> 44\u001b[0m \u001b[43mhigher_card\u001b[49m\u001b[43m(\u001b[49m\u001b[38;5;124;43m'\u001b[39;49m\u001b[38;5;124;43m1\u001b[39;49m\u001b[38;5;124;43m'\u001b[39;49m\u001b[43m,\u001b[49m\u001b[43m \u001b[49m\u001b[38;5;124;43m'\u001b[39;49m\u001b[38;5;124;43m2\u001b[39;49m\u001b[38;5;124;43m'\u001b[39;49m\u001b[43m)\u001b[49m\n",
      "Cell \u001b[0;32mIn[25], line 36\u001b[0m, in \u001b[0;36mhigher_card\u001b[0;34m(card_one, card_two)\u001b[0m\n\u001b[1;32m     34\u001b[0m \u001b[38;5;28mprint\u001b[39m(card_one, one)\n\u001b[1;32m     35\u001b[0m \u001b[38;5;28mprint\u001b[39m(card_two, two)\n\u001b[0;32m---> 36\u001b[0m \u001b[38;5;28;01mif\u001b[39;00m \u001b[43mone\u001b[49m\u001b[43m \u001b[49m\u001b[38;5;241;43m>\u001b[39;49m\u001b[43m \u001b[49m\u001b[43mtwo\u001b[49m:\n\u001b[1;32m     37\u001b[0m     \u001b[38;5;28;01mreturn\u001b[39;00m card_one\n\u001b[1;32m     38\u001b[0m     \u001b[38;5;28mprint\u001b[39m(card_one)\n",
      "\u001b[0;31mTypeError\u001b[0m: '>' not supported between instances of 'NoneType' and 'int'"
     ]
    }
   ],
   "source": [
    "# https://exercism.org/tracks/python/exercises/black-jack\n",
    "\n",
    "\"\"\"Functions to help play and score a game of blackjack.\n",
    "\n",
    "How to play blackjack:    https://bicyclecards.com/how-to-play/blackjack/\n",
    "\"Standard\" playing cards: https://en.wikipedia.org/wiki/Standard_52-card_deck\n",
    "\"\"\"\n",
    "\n",
    "\n",
    "def value_of_card(card):\n",
    "    face_cards = ['J', 'Q', 'K']\n",
    "    num_cards= ['2', '3', '4', '5', '6','7','8', '9', '10' ]\n",
    "    if card in face_cards :\n",
    "        return 10\n",
    "    if card == 'A':\n",
    "        return 1\n",
    "    if card in num_cards:\n",
    "        return int(card)\n",
    "    \n",
    "# value_of_card('9')\n",
    "\n",
    "def higher_card(card_one, card_two):\n",
    "    \"\"\"Determine which card has a higher value in the hand.\n",
    "\n",
    "    :param card_one, card_two: str - cards dealt in hand.  See below for values.\n",
    "    :return: str or tuple - resulting Tuple contains both cards if they are of equal value.\n",
    "\n",
    "    1.  'J', 'Q', or 'K' (otherwise known as \"face cards\") = 10\n",
    "    2.  'A' (ace card) = 1\n",
    "    3.  '2' - '10' = numerical value.\n",
    "    \"\"\"\n",
    "    one = value_of_card(card_one)\n",
    "    two = value_of_card(card_two)\n",
    "    print(card_one, one)\n",
    "    print(card_two, two)\n",
    "    if one > two:\n",
    "        return card_one\n",
    "        print(card_one)\n",
    "    elif two > one:\n",
    "        return card_two\n",
    "        print(card_two)\n",
    "    elif one == two:\n",
    "        return (card_one, card_two)\n",
    "higher_card('1', '2')\n",
    "\n",
    "\n",
    "# def value_of_ace(card_one, card_two):\n",
    "#     \"\"\"Calculate the most advantageous value for the ace card.\n",
    "\n",
    "#     :param card_one, card_two: str - card dealt. See below for values.\n",
    "#     :return: int - either 1 or 11 value of the upcoming ace card.\n",
    "\n",
    "#     1.  'J', 'Q', or 'K' (otherwise known as \"face cards\") = 10\n",
    "#     2.  'A' (ace card) = 11 (if already in hand)\n",
    "#     3.  '2' - '10' = numerical value.\n",
    "#     \"\"\"\n",
    "\n",
    "#     pass\n",
    "\n",
    "\n",
    "# def is_blackjack(card_one, card_two):\n",
    "#     \"\"\"Determine if the hand is a 'natural' or 'blackjack'.\n",
    "\n",
    "#     :param card_one, card_two: str - card dealt. See below for values.\n",
    "#     :return: bool - is the hand is a blackjack (two cards worth 21).\n",
    "\n",
    "#     1.  'J', 'Q', or 'K' (otherwise known as \"face cards\") = 10\n",
    "#     2.  'A' (ace card) = 11 (if already in hand)\n",
    "#     3.  '2' - '10' = numerical value.\n",
    "#     \"\"\"\n",
    "\n",
    "#     pass\n",
    "\n",
    "\n",
    "# def can_split_pairs(card_one, card_two):\n",
    "#     \"\"\"Determine if a player can split their hand into two hands.\n",
    "\n",
    "#     :param card_one, card_two: str - cards dealt.\n",
    "#     :return: bool - can the hand be split into two pairs? (i.e. cards are of the same value).\n",
    "#     \"\"\"\n",
    "\n",
    "#     pass\n",
    "\n",
    "\n",
    "# def can_double_down(card_one, card_two):\n",
    "#     \"\"\"Determine if a blackjack player can place a double down bet.\n",
    "\n",
    "#     :param card_one, card_two: str - first and second cards in hand.\n",
    "#     :return: bool - can the hand can be doubled down? (i.e. totals 9, 10 or 11 points).\n",
    "#     \"\"\"\n",
    "\n",
    "#     pass\n"
   ]
  },
  {
   "cell_type": "code",
   "execution_count": null,
   "id": "796fd4a8",
   "metadata": {},
   "outputs": [],
   "source": []
  },
  {
   "cell_type": "code",
   "execution_count": null,
   "id": "9c1fc8ae",
   "metadata": {},
   "outputs": [],
   "source": []
  }
 ],
 "metadata": {
  "kernelspec": {
   "display_name": "Python 3 (ipykernel)",
   "language": "python",
   "name": "python3"
  },
  "language_info": {
   "codemirror_mode": {
    "name": "ipython",
    "version": 3
   },
   "file_extension": ".py",
   "mimetype": "text/x-python",
   "name": "python",
   "nbconvert_exporter": "python",
   "pygments_lexer": "ipython3",
   "version": "3.10.9"
  }
 },
 "nbformat": 4,
 "nbformat_minor": 5
}
